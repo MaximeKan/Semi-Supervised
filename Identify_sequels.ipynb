{
  "nbformat": 4,
  "nbformat_minor": 0,
  "metadata": {
    "colab": {
      "name": "Identify_sequels.ipynb",
      "version": "0.3.2",
      "provenance": []
    },
    "kernelspec": {
      "name": "python3",
      "display_name": "Python 3"
    }
  },
  "cells": [
    {
      "cell_type": "code",
      "metadata": {
        "id": "UKTOXPP3T_Px",
        "colab_type": "code",
        "colab": {}
      },
      "source": [
        "%%capture\n",
        "!pip install wikipedia -q\n",
        "import wikipedia\n",
        "import requests\n",
        "import pandas as pd\n",
        "import numpy as np\n",
        "import matplotlib.pyplot as plt"
      ],
      "execution_count": 0,
      "outputs": []
    },
    {
      "cell_type": "code",
      "metadata": {
        "id": "cLs6oQw5jRhe",
        "colab_type": "code",
        "colab": {}
      },
      "source": [
        "S = requests.Session()\n",
        "\n",
        "URL = \"https://en.wikipedia.org/w/api.php\"\n",
        "\n",
        "PARAMS = {\n",
        "    \"action\": \"query\",\n",
        "    \"format\": \"json\",\n",
        "    \"titles\": \"List_of_film_sequels_by_box-office_improvement\",\n",
        "    \"prop\": \"links\",\n",
        "    \"pllimit\": 500\n",
        "}\n",
        "\n",
        "R = S.get(url=URL, params=PARAMS)\n",
        "DATA = R.json()\n",
        "\n",
        "PAGES = DATA[\"query\"][\"pages\"]\n",
        "\n",
        "sequels = []\n",
        "for k, v in PAGES.items():\n",
        "    for l in v[\"links\"]:\n",
        "        sequels.append(l[\"title\"])"
      ],
      "execution_count": 0,
      "outputs": []
    },
    {
      "cell_type": "code",
      "metadata": {
        "id": "1Y3ZWOVv_HGm",
        "colab_type": "code",
        "colab": {}
      },
      "source": [
        "first_movie_list = []\n",
        "sequel_movie_list = []\n",
        "for sequel in sequels:\n",
        "    page = wikipedia.page(sequel)\n",
        "    summary = page.summary\n",
        "    for first_movie in sequels:\n",
        "        if first_movie in summary and first_movie != sequel:\n",
        "            first_movie_list.append(first_movie)\n",
        "            sequel_movie_list.append(sequel)"
      ],
      "execution_count": 0,
      "outputs": []
    },
    {
      "cell_type": "code",
      "metadata": {
        "id": "UINR93CRCFu1",
        "colab_type": "code",
        "colab": {}
      },
      "source": [
        "%%capture\n",
        "! wget \"https://datasets.imdbws.com/title.principals.tsv.gz\"\n",
        "! wget \"https://datasets.imdbws.com/title.basics.tsv.gz\"\n",
        "! wget \"https://datasets.imdbws.com/name.basics.tsv.gz\"\n",
        "\n",
        "! gunzip title.principals.tsv.gz\n",
        "! gunzip title.basics.tsv.gz\n",
        "! gunzip name.basics.tsv.gz"
      ],
      "execution_count": 0,
      "outputs": []
    },
    {
      "cell_type": "code",
      "metadata": {
        "id": "PDVb4cXuln8V",
        "colab_type": "code",
        "colab": {}
      },
      "source": [
        "cast = pd.read_csv('title.principals.tsv', sep='\\t', na_values = \"\\\\N\", keep_default_na = False, \n",
        "                   usecols = ['tconst','ordering','nconst','category'],\n",
        "                   dtype = {'tconst': str, 'ordering': str, 'nconst': str, 'category': str})\n",
        "titles = pd.read_csv('title.basics.tsv', sep='\\t', na_values = \"\\\\N\", keep_default_na = False,\n",
        "                     usecols = ['tconst','primaryTitle','startYear','titleType','genres'],\n",
        "                    dtype = {'tconst': str, 'primaryTitle': str, 'startYear': 'Int64','titleType':str, 'genres': str})\n",
        "names = pd.read_csv('name.basics.tsv', sep='\\t', na_values = \"\\\\N\", keep_default_na = False,\n",
        "                    usecols = ['nconst','primaryName'], \n",
        "                    dtype = {'nconst': str, 'primaryName': str})"
      ],
      "execution_count": 0,
      "outputs": []
    },
    {
      "cell_type": "code",
      "metadata": {
        "id": "4aD7MGfGncWQ",
        "colab_type": "code",
        "colab": {}
      },
      "source": [
        "def remove_film_year(sequel):\n",
        "  if \"(\" in sequel:\n",
        "    i = sequel.index(\"(\")\n",
        "    return sequel[0:i-1]\n",
        "  return sequel"
      ],
      "execution_count": 0,
      "outputs": []
    },
    {
      "cell_type": "code",
      "metadata": {
        "id": "2a2zMvM9tZhM",
        "colab_type": "code",
        "colab": {}
      },
      "source": [
        "first_movie_list = [remove_film_year(first_movie) for first_movie in first_movie_list]\n",
        "sequel_movie_list = [remove_film_year(sequel) for sequel in sequel_movie_list]"
      ],
      "execution_count": 0,
      "outputs": []
    },
    {
      "cell_type": "code",
      "metadata": {
        "id": "mNJ3kBovLtNR",
        "colab_type": "code",
        "colab": {
          "base_uri": "https://localhost:8080/",
          "height": 204
        },
        "outputId": "660f19cc-b478-4f2e-9a51-11af6c1b661b"
      },
      "source": [
        "sequel_pairs = pd.DataFrame({\"first_movie\" : first_movie_list, \"sequel\" : sequel_movie_list})\n",
        "sequel_pairs.head()"
      ],
      "execution_count": 9,
      "outputs": [
        {
          "output_type": "execute_result",
          "data": {
            "text/html": [
              "<div>\n",
              "<style scoped>\n",
              "    .dataframe tbody tr th:only-of-type {\n",
              "        vertical-align: middle;\n",
              "    }\n",
              "\n",
              "    .dataframe tbody tr th {\n",
              "        vertical-align: top;\n",
              "    }\n",
              "\n",
              "    .dataframe thead th {\n",
              "        text-align: right;\n",
              "    }\n",
              "</style>\n",
              "<table border=\"1\" class=\"dataframe\">\n",
              "  <thead>\n",
              "    <tr style=\"text-align: right;\">\n",
              "      <th></th>\n",
              "      <th>first_movie</th>\n",
              "      <th>sequel</th>\n",
              "    </tr>\n",
              "  </thead>\n",
              "  <tbody>\n",
              "    <tr>\n",
              "      <th>0</th>\n",
              "      <td>22 Jump Street</td>\n",
              "      <td>21 Jump Street</td>\n",
              "    </tr>\n",
              "    <tr>\n",
              "      <th>1</th>\n",
              "      <td>For a Few Dollars More</td>\n",
              "      <td>A Fistful of Dollars</td>\n",
              "    </tr>\n",
              "    <tr>\n",
              "      <th>2</th>\n",
              "      <td>A Nightmare on Elm Street 2: Freddy's Revenge</td>\n",
              "      <td>A Nightmare on Elm Street</td>\n",
              "    </tr>\n",
              "    <tr>\n",
              "      <th>3</th>\n",
              "      <td>A Nightmare on Elm Street</td>\n",
              "      <td>A Nightmare on Elm Street 2: Freddy's Revenge</td>\n",
              "    </tr>\n",
              "    <tr>\n",
              "      <th>4</th>\n",
              "      <td>A Nightmare on Elm Street 3: Dream Warriors</td>\n",
              "      <td>A Nightmare on Elm Street 2: Freddy's Revenge</td>\n",
              "    </tr>\n",
              "  </tbody>\n",
              "</table>\n",
              "</div>"
            ],
            "text/plain": [
              "                                     first_movie                                         sequel\n",
              "0                                 22 Jump Street                                 21 Jump Street\n",
              "1                         For a Few Dollars More                           A Fistful of Dollars\n",
              "2  A Nightmare on Elm Street 2: Freddy's Revenge                      A Nightmare on Elm Street\n",
              "3                      A Nightmare on Elm Street  A Nightmare on Elm Street 2: Freddy's Revenge\n",
              "4    A Nightmare on Elm Street 3: Dream Warriors  A Nightmare on Elm Street 2: Freddy's Revenge"
            ]
          },
          "metadata": {
            "tags": []
          },
          "execution_count": 9
        }
      ]
    },
    {
      "cell_type": "code",
      "metadata": {
        "id": "pFKRL9oKXfuR",
        "colab_type": "code",
        "colab": {}
      },
      "source": [
        "titles = titles[titles.titleType == 'movie']"
      ],
      "execution_count": 0,
      "outputs": []
    },
    {
      "cell_type": "code",
      "metadata": {
        "id": "C4QHHcJPtkyo",
        "colab_type": "code",
        "colab": {}
      },
      "source": [
        "def prepare_data(first_movie_list, sequel_movie_list):\n",
        "  movie_titles = titles[titles.primaryTitle.isin(first_movie_list + sequel_movie_list)].copy()\n",
        "  movie_titles.drop_duplicates(subset = 'primaryTitle', keep = False, inplace = True)\n",
        "  movie_titles = pd.merge(movie_titles, cast, on = 'tconst')\n",
        "  movie_titles = pd.merge(movie_titles, names, on = 'nconst')\n",
        "  movie_titles = movie_titles.drop(columns = ['titleType','tconst','nconst'])\n",
        "  \n",
        "  movie_information = movie_titles[movie_titles.category.isin(['actor','actress','director'])].copy()\n",
        "  movie_information.replace(['actor','actress','director'], ['act','act','dir'], inplace = True)\n",
        "  movie_information['role'] = movie_information.category + movie_information.ordering\n",
        "  movie_summary = pd.pivot_table(movie_information, columns = 'role', values = 'primaryName', index = ['primaryTitle','startYear','genres'], aggfunc = 'first') #add genres back\n",
        "  movie_summary = movie_summary[['act1','act2','act3','act4','dir5']].reset_index()\n",
        "  \n",
        "  first_movie_titles = movie_summary[movie_summary.primaryTitle.isin(first_movie_list)]\n",
        "  first_movie_titles = first_movie_titles.add_prefix('fm_')\n",
        "  sequel_movie_titles = movie_summary[movie_summary.primaryTitle.isin(sequel_movie_list)]\n",
        "  sequel_movie_titles = sequel_movie_titles.add_prefix('s_')\n",
        "  \n",
        "  sequel_pairs = pd.DataFrame({\"first_movie\" : first_movie_list, \"sequel\" : sequel_movie_list})\n",
        "  \n",
        "  sequel_table = pd.merge(pd.merge(first_movie_titles, sequel_pairs, left_on = 'fm_primaryTitle', right_on = 'first_movie', how = 'inner'),\n",
        "                        sequel_movie_titles, left_on = 'sequel', right_on = 's_primaryTitle', how = 'inner')\n",
        "  sequel_table = sequel_table[sequel_table.fm_startYear <= sequel_table.s_startYear].copy()\n",
        "  sequel_table.drop(columns = ['first_movie','sequel'], inplace = True)\n",
        "\n",
        "  return sequel_table"
      ],
      "execution_count": 0,
      "outputs": []
    },
    {
      "cell_type": "code",
      "metadata": {
        "id": "1Fd0Ez4eUZFb",
        "colab_type": "code",
        "colab": {}
      },
      "source": [
        "sequel_table = prepare_data(first_movie_list, sequel_movie_list)"
      ],
      "execution_count": 0,
      "outputs": []
    },
    {
      "cell_type": "code",
      "metadata": {
        "id": "4ocGJ6BOV2Sy",
        "colab_type": "code",
        "colab": {
          "base_uri": "https://localhost:8080/",
          "height": 377
        },
        "outputId": "ed2784cf-c41b-4709-fb92-bcef066a8a09"
      },
      "source": [
        "sequel_table.head()"
      ],
      "execution_count": 127,
      "outputs": [
        {
          "output_type": "execute_result",
          "data": {
            "text/html": [
              "<div>\n",
              "<style scoped>\n",
              "    .dataframe tbody tr th:only-of-type {\n",
              "        vertical-align: middle;\n",
              "    }\n",
              "\n",
              "    .dataframe tbody tr th {\n",
              "        vertical-align: top;\n",
              "    }\n",
              "\n",
              "    .dataframe thead th {\n",
              "        text-align: right;\n",
              "    }\n",
              "</style>\n",
              "<table border=\"1\" class=\"dataframe\">\n",
              "  <thead>\n",
              "    <tr style=\"text-align: right;\">\n",
              "      <th></th>\n",
              "      <th>fm_primaryTitle</th>\n",
              "      <th>fm_startYear</th>\n",
              "      <th>fm_genres</th>\n",
              "      <th>fm_act1</th>\n",
              "      <th>fm_act2</th>\n",
              "      <th>fm_act3</th>\n",
              "      <th>fm_act4</th>\n",
              "      <th>fm_dir5</th>\n",
              "      <th>s_primaryTitle</th>\n",
              "      <th>s_startYear</th>\n",
              "      <th>s_genres</th>\n",
              "      <th>s_act1</th>\n",
              "      <th>s_act2</th>\n",
              "      <th>s_act3</th>\n",
              "      <th>s_act4</th>\n",
              "      <th>s_dir5</th>\n",
              "    </tr>\n",
              "  </thead>\n",
              "  <tbody>\n",
              "    <tr>\n",
              "      <th>1</th>\n",
              "      <td>A Fistful of Dollars</td>\n",
              "      <td>1964</td>\n",
              "      <td>Drama,Western</td>\n",
              "      <td>Clint Eastwood</td>\n",
              "      <td>Gian Maria Volontè</td>\n",
              "      <td>Marianne Koch</td>\n",
              "      <td>Wolfgang Lukschy</td>\n",
              "      <td>Sergio Leone</td>\n",
              "      <td>For a Few Dollars More</td>\n",
              "      <td>1965</td>\n",
              "      <td>Western</td>\n",
              "      <td>Clint Eastwood</td>\n",
              "      <td>Lee Van Cleef</td>\n",
              "      <td>Gian Maria Volontè</td>\n",
              "      <td>Mario Brega</td>\n",
              "      <td>Sergio Leone</td>\n",
              "    </tr>\n",
              "    <tr>\n",
              "      <th>3</th>\n",
              "      <td>A Nightmare on Elm Street 3: Dream Warriors</td>\n",
              "      <td>1987</td>\n",
              "      <td>Fantasy,Horror</td>\n",
              "      <td>Heather Langenkamp</td>\n",
              "      <td>Robert Englund</td>\n",
              "      <td>Craig Wasson</td>\n",
              "      <td>Patricia Arquette</td>\n",
              "      <td>Chuck Russell</td>\n",
              "      <td>A Nightmare on Elm Street 4: The Dream Master</td>\n",
              "      <td>1988</td>\n",
              "      <td>Horror</td>\n",
              "      <td>Robert Englund</td>\n",
              "      <td>Rodney Eastman</td>\n",
              "      <td>John Beckman</td>\n",
              "      <td>Kisha Brackel</td>\n",
              "      <td>Renny Harlin</td>\n",
              "    </tr>\n",
              "    <tr>\n",
              "      <th>5</th>\n",
              "      <td>Ace Ventura: Pet Detective</td>\n",
              "      <td>1994</td>\n",
              "      <td>Comedy</td>\n",
              "      <td>Jim Carrey</td>\n",
              "      <td>Courteney Cox</td>\n",
              "      <td>Sean Young</td>\n",
              "      <td>Tone Loc</td>\n",
              "      <td>Tom Shadyac</td>\n",
              "      <td>Ace Ventura: When Nature Calls</td>\n",
              "      <td>1995</td>\n",
              "      <td>Adventure,Comedy,Crime</td>\n",
              "      <td>Jim Carrey</td>\n",
              "      <td>Ian McNeice</td>\n",
              "      <td>Simon Callow</td>\n",
              "      <td>Maynard Eziashi</td>\n",
              "      <td>Steve Oedekerk</td>\n",
              "    </tr>\n",
              "    <tr>\n",
              "      <th>7</th>\n",
              "      <td>Alvin and the Chipmunks</td>\n",
              "      <td>2007</td>\n",
              "      <td>Animation,Comedy,Family</td>\n",
              "      <td>Jason Lee</td>\n",
              "      <td>Ross Bagdasarian Jr.</td>\n",
              "      <td>Janice Karman</td>\n",
              "      <td>David Cross</td>\n",
              "      <td>Tim Hill</td>\n",
              "      <td>Alvin and the Chipmunks: The Squeakquel</td>\n",
              "      <td>2009</td>\n",
              "      <td>Animation,Comedy,Family</td>\n",
              "      <td>Jason Lee</td>\n",
              "      <td>Zachary Levi</td>\n",
              "      <td>David Cross</td>\n",
              "      <td>Justin Long</td>\n",
              "      <td>Betty Thomas</td>\n",
              "    </tr>\n",
              "    <tr>\n",
              "      <th>9</th>\n",
              "      <td>Anchorman: The Legend of Ron Burgundy</td>\n",
              "      <td>2004</td>\n",
              "      <td>Comedy</td>\n",
              "      <td>Will Ferrell</td>\n",
              "      <td>Christina Applegate</td>\n",
              "      <td>Steve Carell</td>\n",
              "      <td>Paul Rudd</td>\n",
              "      <td>Adam McKay</td>\n",
              "      <td>Anchorman 2: The Legend Continues</td>\n",
              "      <td>2013</td>\n",
              "      <td>Comedy</td>\n",
              "      <td>Will Ferrell</td>\n",
              "      <td>Christina Applegate</td>\n",
              "      <td>Paul Rudd</td>\n",
              "      <td>Steve Carell</td>\n",
              "      <td>Adam McKay</td>\n",
              "    </tr>\n",
              "  </tbody>\n",
              "</table>\n",
              "</div>"
            ],
            "text/plain": [
              "                               fm_primaryTitle  ...          s_dir5\n",
              "1                         A Fistful of Dollars  ...    Sergio Leone\n",
              "3  A Nightmare on Elm Street 3: Dream Warriors  ...    Renny Harlin\n",
              "5                   Ace Ventura: Pet Detective  ...  Steve Oedekerk\n",
              "7                      Alvin and the Chipmunks  ...    Betty Thomas\n",
              "9        Anchorman: The Legend of Ron Burgundy  ...      Adam McKay\n",
              "\n",
              "[5 rows x 16 columns]"
            ]
          },
          "metadata": {
            "tags": []
          },
          "execution_count": 127
        }
      ]
    },
    {
      "cell_type": "code",
      "metadata": {
        "id": "QNOifYKVKQTa",
        "colab_type": "code",
        "colab": {}
      },
      "source": [
        "non_sequel_movies = ['The Searchers','Chisum','She Wore a Yellow Ribbon','There Will Be Blood','Phantom Thread','Little Big Man',\n",
        "                     'Bonnie and Clyde','Out of Africa','Silkwood','Florence Foster Jenkins','The Shawshank Redemption',\n",
        "                     'Escape from Alcatraz','Little Big Horn','American Beauty','An American in Paris']"
      ],
      "execution_count": 0,
      "outputs": []
    },
    {
      "cell_type": "code",
      "metadata": {
        "id": "gfsXu77iOgmp",
        "colab_type": "code",
        "colab": {}
      },
      "source": [
        "ns_first_movie_list = []\n",
        "ns_sequel_movie_list = []\n",
        "for first_movie in non_sequel_movies:\n",
        "  for sequel_movie in non_sequel_movies:\n",
        "    if first_movie != sequel_movie:\n",
        "      ns_first_movie_list.append(first_movie)\n",
        "      ns_sequel_movie_list.append(sequel_movie)"
      ],
      "execution_count": 0,
      "outputs": []
    },
    {
      "cell_type": "code",
      "metadata": {
        "id": "LLUvbEbPJ-78",
        "colab_type": "code",
        "colab": {}
      },
      "source": [
        "non_sequel_table = prepare_data(ns_first_movie_list, ns_sequel_movie_list)"
      ],
      "execution_count": 0,
      "outputs": []
    },
    {
      "cell_type": "code",
      "metadata": {
        "id": "079VhRMlWVFT",
        "colab_type": "code",
        "colab": {
          "base_uri": "https://localhost:8080/",
          "height": 360
        },
        "outputId": "443f590a-efc7-462c-f991-9e9bc2b6fcd5"
      },
      "source": [
        "non_sequel_table.head()"
      ],
      "execution_count": 131,
      "outputs": [
        {
          "output_type": "execute_result",
          "data": {
            "text/html": [
              "<div>\n",
              "<style scoped>\n",
              "    .dataframe tbody tr th:only-of-type {\n",
              "        vertical-align: middle;\n",
              "    }\n",
              "\n",
              "    .dataframe tbody tr th {\n",
              "        vertical-align: top;\n",
              "    }\n",
              "\n",
              "    .dataframe thead th {\n",
              "        text-align: right;\n",
              "    }\n",
              "</style>\n",
              "<table border=\"1\" class=\"dataframe\">\n",
              "  <thead>\n",
              "    <tr style=\"text-align: right;\">\n",
              "      <th></th>\n",
              "      <th>fm_primaryTitle</th>\n",
              "      <th>fm_startYear</th>\n",
              "      <th>fm_genres</th>\n",
              "      <th>fm_act1</th>\n",
              "      <th>fm_act2</th>\n",
              "      <th>fm_act3</th>\n",
              "      <th>fm_act4</th>\n",
              "      <th>fm_dir5</th>\n",
              "      <th>s_primaryTitle</th>\n",
              "      <th>s_startYear</th>\n",
              "      <th>s_genres</th>\n",
              "      <th>s_act1</th>\n",
              "      <th>s_act2</th>\n",
              "      <th>s_act3</th>\n",
              "      <th>s_act4</th>\n",
              "      <th>s_dir5</th>\n",
              "    </tr>\n",
              "  </thead>\n",
              "  <tbody>\n",
              "    <tr>\n",
              "      <th>1</th>\n",
              "      <td>An American in Paris</td>\n",
              "      <td>1951</td>\n",
              "      <td>Drama,Musical,Romance</td>\n",
              "      <td>Gene Kelly</td>\n",
              "      <td>Leslie Caron</td>\n",
              "      <td>Oscar Levant</td>\n",
              "      <td>Georges Guétary</td>\n",
              "      <td>Vincente Minnelli</td>\n",
              "      <td>The Searchers</td>\n",
              "      <td>1956</td>\n",
              "      <td>Adventure,Drama,Western</td>\n",
              "      <td>John Wayne</td>\n",
              "      <td>Jeffrey Hunter</td>\n",
              "      <td>Vera Miles</td>\n",
              "      <td>Ward Bond</td>\n",
              "      <td>John Ford</td>\n",
              "    </tr>\n",
              "    <tr>\n",
              "      <th>6</th>\n",
              "      <td>Little Big Horn</td>\n",
              "      <td>1951</td>\n",
              "      <td>Western</td>\n",
              "      <td>Lloyd Bridges</td>\n",
              "      <td>John Ireland</td>\n",
              "      <td>Marie Windsor</td>\n",
              "      <td>Reed Hadley</td>\n",
              "      <td>Charles Marquis Warren</td>\n",
              "      <td>The Searchers</td>\n",
              "      <td>1956</td>\n",
              "      <td>Adventure,Drama,Western</td>\n",
              "      <td>John Wayne</td>\n",
              "      <td>Jeffrey Hunter</td>\n",
              "      <td>Vera Miles</td>\n",
              "      <td>Ward Bond</td>\n",
              "      <td>John Ford</td>\n",
              "    </tr>\n",
              "    <tr>\n",
              "      <th>10</th>\n",
              "      <td>She Wore a Yellow Ribbon</td>\n",
              "      <td>1949</td>\n",
              "      <td>Western</td>\n",
              "      <td>John Wayne</td>\n",
              "      <td>Joanne Dru</td>\n",
              "      <td>John Agar</td>\n",
              "      <td>Ben Johnson</td>\n",
              "      <td>John Ford</td>\n",
              "      <td>The Searchers</td>\n",
              "      <td>1956</td>\n",
              "      <td>Adventure,Drama,Western</td>\n",
              "      <td>John Wayne</td>\n",
              "      <td>Jeffrey Hunter</td>\n",
              "      <td>Vera Miles</td>\n",
              "      <td>Ward Bond</td>\n",
              "      <td>John Ford</td>\n",
              "    </tr>\n",
              "    <tr>\n",
              "      <th>15</th>\n",
              "      <td>An American in Paris</td>\n",
              "      <td>1951</td>\n",
              "      <td>Drama,Musical,Romance</td>\n",
              "      <td>Gene Kelly</td>\n",
              "      <td>Leslie Caron</td>\n",
              "      <td>Oscar Levant</td>\n",
              "      <td>Georges Guétary</td>\n",
              "      <td>Vincente Minnelli</td>\n",
              "      <td>Chisum</td>\n",
              "      <td>1970</td>\n",
              "      <td>Biography,Western</td>\n",
              "      <td>John Wayne</td>\n",
              "      <td>Forrest Tucker</td>\n",
              "      <td>Christopher George</td>\n",
              "      <td>Ben Johnson</td>\n",
              "      <td>Andrew V. McLaglen</td>\n",
              "    </tr>\n",
              "    <tr>\n",
              "      <th>16</th>\n",
              "      <td>Bonnie and Clyde</td>\n",
              "      <td>1967</td>\n",
              "      <td>Action,Biography,Crime</td>\n",
              "      <td>Warren Beatty</td>\n",
              "      <td>Faye Dunaway</td>\n",
              "      <td>Michael J. Pollard</td>\n",
              "      <td>Gene Hackman</td>\n",
              "      <td>Arthur Penn</td>\n",
              "      <td>Chisum</td>\n",
              "      <td>1970</td>\n",
              "      <td>Biography,Western</td>\n",
              "      <td>John Wayne</td>\n",
              "      <td>Forrest Tucker</td>\n",
              "      <td>Christopher George</td>\n",
              "      <td>Ben Johnson</td>\n",
              "      <td>Andrew V. McLaglen</td>\n",
              "    </tr>\n",
              "  </tbody>\n",
              "</table>\n",
              "</div>"
            ],
            "text/plain": [
              "             fm_primaryTitle  fm_startYear  ...       s_act4              s_dir5\n",
              "1       An American in Paris          1951  ...    Ward Bond           John Ford\n",
              "6            Little Big Horn          1951  ...    Ward Bond           John Ford\n",
              "10  She Wore a Yellow Ribbon          1949  ...    Ward Bond           John Ford\n",
              "15      An American in Paris          1951  ...  Ben Johnson  Andrew V. McLaglen\n",
              "16          Bonnie and Clyde          1967  ...  Ben Johnson  Andrew V. McLaglen\n",
              "\n",
              "[5 rows x 16 columns]"
            ]
          },
          "metadata": {
            "tags": []
          },
          "execution_count": 131
        }
      ]
    },
    {
      "cell_type": "code",
      "metadata": {
        "id": "keh8WL0Sx0E9",
        "colab_type": "code",
        "colab": {}
      },
      "source": [
        "def get_plot(movie_table):\n",
        "  plot_list = {}\n",
        "  movie_list = np.array(pd.concat([movie_table.fm_primaryTitle, movie_table.s_primaryTitle]))\n",
        "  year_list = np.array(pd.concat([movie_table.fm_startYear, movie_table.s_startYear]))\n",
        "  for movie, year in zip(movie_list, year_list):\n",
        "    if movie not in plot_list:\n",
        "      movie_y_f, movie_f = movie + ' (' + str(year) + ' film)', movie + ' (film)'\n",
        "      search1 = wikipedia.search(movie_y_f)[0]\n",
        "      search2 = wikipedia.search(movie_f)[0]\n",
        "      if search1 == movie_y_f:\n",
        "        search = movie_y_f\n",
        "      elif search2 == movie_f:\n",
        "        search = movie_f\n",
        "      else:\n",
        "        search = movie\n",
        "      page = wikipedia.page(search)\n",
        "      if not page:\n",
        "        print('movie not found: %s' %movie)\n",
        "      plot = page.section(\"Plot\")\n",
        "      if not plot:\n",
        "        plot = page.section(\"Synopsis\")\n",
        "      if not plot:\n",
        "        plot = page.section(\"Plot summary\")\n",
        "      if not plot:\n",
        "        plot = page.section(\"Summary\")\n",
        "      if plot:\n",
        "        plot_list[movie] = plot\n",
        "      else:\n",
        "        print('plot not found: %s' %movie)\n",
        "      \n",
        "  return plot_list"
      ],
      "execution_count": 0,
      "outputs": []
    },
    {
      "cell_type": "code",
      "metadata": {
        "id": "qsP9mQ-xXwsO",
        "colab_type": "code",
        "colab": {}
      },
      "source": [
        "non_sequel_plot_list = get_plot(non_sequel_table)"
      ],
      "execution_count": 0,
      "outputs": []
    },
    {
      "cell_type": "code",
      "metadata": {
        "id": "uuBvCZYGAJvJ",
        "colab_type": "code",
        "colab": {
          "base_uri": "https://localhost:8080/",
          "height": 292
        },
        "outputId": "9e286c80-bcbc-49cc-8e18-32c5dd9f940c"
      },
      "source": [
        "non_sequel_plot_list"
      ],
      "execution_count": 134,
      "outputs": [
        {
          "output_type": "execute_result",
          "data": {
            "text/plain": [
              "{'American Beauty': \"Lester Burnham is a middle-aged magazine executive who despises his job and is unhappily married to Carolyn, a neurotic and ambitious real estate broker. Their sixteen-year-old daughter, Jane, abhors her parents and has low self-esteem. The Burnhams' new neighbors are retired US Marine colonel Frank Fitts and his near-catatonic wife, Barbara. The Fitts' teenage son, Ricky, obsessively films his surroundings with a camcorder, collecting hundreds of recordings on video tapes in his bedroom, while using his part-time job as a waiter to serve as a front for his secret marijuana dealings. Frank is a strict disciplinarian who has previously forced Ricky into a military academy and a psychiatric hospital. Jim Olmeyer and Jim Berkley, a gay couple who live nearby, welcome the family to the neighborhood; Frank later reveals his homophobia when angrily discussing the incident with Ricky.\\nLester becomes infatuated with Jane's vain cheerleader friend, Angela Hayes, after seeing her perform a half-time dance routine at a high school basketball game. He starts having sexual fantasies about Angela, in which red rose petals are a recurring motif. Carolyn begins an affair with a married business rival, Buddy Kane. When Brad informs Lester that he is to be laid off, the latter blackmails him and quits his job, taking employment at a local fast food center. He buys his dream car and starts working out after he overhears Angela tell Jane that she would find him sexually attractive if he improved his physique. He begins smoking marijuana supplied by Ricky, and flirts with Angela whenever she visits Jane. The girls' friendship wanes after Jane starts a relationship with Ricky; they bond over what Ricky considers the most beautiful imagery he has ever filmed: a plastic bag blowing in the wind.\\nLester discovers Carolyn's infidelity, but reacts indifferently. Buddy ends the affair, fearing an expensive divorce. Frank Fitts becomes suspicious of Lester and Ricky's friendship and later finds his son's footage of a nude Lester lifting weights, which Ricky captured by chance. After watching Ricky and Lester through Lester's garage window, Frank mistakenly concludes they are sexually involved. He later confronts and beats Ricky for their supposed affair, and accuses him of being gay. Ricky falsely admits the charge and goads his father into expelling him from their home. Carolyn is shown sitting in her car, where she takes a handgun from the glove box. Ricky goes to Jane, finding her arguing with Angela about her flirtation with Lester. Ricky persuades Jane to flee with him to New York City and tells Angela she is boring, ugly and ordinary.\\nFrank confronts Lester and attempts to kiss him, but Lester rebuffs the colonel, who flees. Lester finds a distraught Angela sitting alone in the dark. She asks him to tell her she is beautiful; he does, and the pair kiss. However, moments before they are about to have sex, Angela admits she is a virgin and Lester decides not to go through with the act. Instead, they talk, and bond over their shared frustrations. Angela goes to the bathroom and Lester smiles at a family photograph in his kitchen. An unseen figure points a gun at the back of Lester's head; a gunshot sounds and blood sprays onto the wall in front of him. Ricky and Jane find Lester's body, while Carolyn is seen crying in the closet. A bloodied Frank returns home, where a gun is missing from his collection. Lester's closing narration describes meaningful experiences during his life; he says that, despite his death, he is happy because there is so much beauty in the world.\",\n",
              " 'An American in Paris': 'American World War II veteran Jerry Mulligan (Gene Kelly) is an exuberant expatriate in Paris trying to make a reputation as a painter. His friend and neighbor, Adam Cook (Oscar Levant), is a struggling concert pianist and longtime associate of a French singer, Henri Baurel (Georges Guétary). At the ground-floor bar, Henri tells Adam about his cultured girlfriend, Lise Bouvier (Leslie Caron).  Jerry joins them later, before going out to sell his art.\\nA lonely society woman and heiress, Milo Roberts (Nina Foch), finds Jerry displaying his paintings in Montmartre and takes an interest in him and his art.  She brings him to her apartment to pay for his works, and invites him to a dinner party she is throwing later that night. After singing with French children on the way home (\"I Got Rhythm\"), Jerry goes up to Milo\\'s apartment.  He quickly finds out the \"party\" is actually a one-on-one date, and tells Milo he has no interest in being a paid escort.  When he attempts to leave after giving her money back, she insists she is only interested in his art.\\nThey go to a crowded bar, and Milo offers to sponsor an art show for Jerry as a friendly gesture.  Some of Milo\\'s friends arrive, and while sitting with them, Jerry sees Lise seated with friends at the next table, and is instantly smitten. He ignores Milo and her acquaintances, and instead pretends to know Lise already and dances with her.  She is standoffish and gives Jerry a wrong phone number, but is innocently corrected by someone at her table.  Milo is upset by Jerry\\'s behaviour and suddenly decides to go home. On their way home she tells Jerry he was very rude cavorting with a girl he does not know while in her presence; tired of Milo, Jerry gets out of the car and bids her farewell.\\nThe next day, Jerry calls Lise at her work, but she tells him to never call her again. Jerry and Milo meet at a cafe, and she informs him a collector is interested in his paintings and she arranged a showing later that day.  Before going to the showing, he goes to the parfumerie where Lise works and she consents to a late dinner with him,. She does not want to be seen eating with him in public, but they share a romantic song and dance on the banks of the Seine River in the shadows of Notre Dame. However, she quickly rushes off to meet Henri after his performance (\"I\\'ll Build a Stairway to Paradise\"), where Henri tells her he has been asked to go on a tour of America and asks her to marry him.\\nLater, Adam humorously daydreams he is performing Gershwin\\'s Concerto in F for Piano and Orchestra for a gala audience in a concert hall. As the scene progresses, Adam is also revealed to be the conductor, other members of the orchestra, and even an enthusiastic audience member applauding himself at the end.\\nMilo gets Jerry an art studio and tells him she has planned an exhibition of his work in three months.  He initially refuses the studio because he does not have the money for it, but eventually accepts it under the condition he pay Milo back when his art proceeds allow him.  Roughly a month later and after much courting, Lise abruptly runs off when she and Jerry arrive by taxi at his apartment.  When Jerry complains to Adam, Adam is shocked to realize both Henri and Jerry are involved with the same woman. Henri and Jerry discuss the woman they each love (\"\\'S Wonderful\"), unaware she is the same woman.\\nThat night, Jerry and Lise reunite in the same place on the banks of the Seine close to Notre Dame. She informs him she is marrying Henri the next day and going to America. Lise feels a sense of duty to Henri, to whom she feels indebted for keeping her safe during World War II. She and Jerry proclaim their love for each other.\\nFeeling slighted, Jerry invites Milo to the art students\\' masked ball and kisses her. At the raucous party, with everyone in black-and-white costumes, they meet Henri and Lise, and Jerry finally tells Milo about his feelings for Lise. Henri overhears Jerry and Lise saying goodbye to each other, and realizes the truth. As Henri and Lise drive away, Jerry daydreams about being with Lise all over Paris to the tune of the George Gershwin composition An American in Paris. His reverie is broken by a car horn, the sound of Henri bringing Lise back to him. They embrace as the Gershwin composition (and the film) ends.',\n",
              " 'Bonnie and Clyde': 'In the middle of the Great Depression, Clyde Barrow and Bonnie Parker of Texas meet when Clyde tries to steal the car belonging to Bonnie\\'s mother. Bonnie, who is bored by her job as a waitress, is intrigued by Clyde, and decides to take up with him and become his partner in crime. They pull off some holdups, but their amateur efforts, while exciting, are not very lucrative.\\nThe duo\\'s crime spree shifts into high gear once they hook up with a dim-witted gas station attendant, C.W. Moss. Clyde\\'s older brother Buck and his wife, Blanche, a preacher\\'s daughter, also join them. The women dislike each other on first sight, and their feud escalates. Blanche has nothing but disdain for Bonnie, Clyde and C.W., while Bonnie sees Blanche\\'s flighty presence as a constant danger to the gang\\'s survival. \\nBonnie and Clyde turn from pulling small-time heists to robbing banks. Their exploits also become more violent. When C.W. botches parking for a bank robbery, Clyde shoots the bank manager in the face after he jumps onto the slow-moving car\\'s running board. The gang is pursued by law enforcement, including Texas Ranger Frank Hamer, whom they capture and humiliate before setting him free. A raid later catches the outlaws off guard, mortally wounding Buck with a shot to his head and injuring Blanche. Bonnie, Clyde and C.W. barely escape alive. With Blanche sightless and in police custody, Hamer tricks her into revealing C.W.\\'s name, who was up until then still only an \"unidentified suspect.\"\\nHamer locates Bonnie, Clyde and C.W. hiding at the house of C.W.\\'s father Ivan, who thinks the couple—and an ornate tattoo—have corrupted his son. The elder Moss strikes a bargain with Hamer: in exchange for leniency for the boy, he helps set a trap for the outlaws. When Bonnie and Clyde stop on the side of the road to help Mr. Moss fix a flat tire, the police in the bushes open fire and riddle them with bullets. Hamer and his posse come out of hiding and are shown looking pensively at the couple\\'s bodies as a nearby flock of swallows fly away.',\n",
              " 'Chisum': 'John Chisum, a virtuous, patriarchal land baron, locks horns with greedy Lawrence Murphy, who will stop at nothing to get control of the trade and even the law in Lincoln County, New Mexico Territory.\\nChisum is an aging rancher with an eventful past and a paternalistic nature towards his companions and community. Murphy, a malevolent land developer, plans to take control of the county for his own personal gain.\\nThe story begins with Murphy\\'s men tipping off Mexican rustlers who plan to steal Chisum\\'s horses. Chisum and his sidekick James Pepper stop the bandits with help from a newcomer to the area, William H. Bonney, also known as \"Billy the Kid\". A notorious killer, Billy has been given a chance to reform by Chisum\\'s philanthropic British neighbor, rancher Henry Tunstall. Billy also falls for Chisum\\'s newly arrived niece, Sallie.\\nMurphy is buying up all the stores in town and using his monopoly to push up the prices. He appoints his own county sheriff and deputies. He also brings in a lawyer, Alexander McSween, whose principles lead him to switch sides and seek work with Chisum and Tunstall. The two ranchers set up their own bank and general store in town under McSween\\'s control.\\nChisum\\'s land and cattle remain targets. Murphy\\'s men attempt to steal Chisum\\'s cattle before he can sell them to the United States Army. Chisum\\'s ranch hands are warned by Pat Garrett, a passing buffalo hunter. Garrett agrees to help Chisum and soon befriends Bonney. Together they foil an attack by Murphy\\'s men on the wagons bringing in provisions for the new store.\\nFed up with Murphy\\'s underhanded activities, rancher Henry Tunstall rides off to Santa Fe to seek the intervention of Territorial Gov. Sam Axtell. On the way, he is intercepted by Murphy\\'s deputies, who falsely accuse him of cattle rustling and shoot him dead. Chisum and Garrett hunt down the deputies and bring them back to town for trial. Bonney, seeking revenge for the murder of his mentor and skeptical that the men will truly face justice in town, overpowers Garrett by surprise and shoots dead both deputies. Before corrupt Sheriff Brady can organize a posse, Billy rides into town and kills him, too.\\nMurphy appoints bounty hunter Dan Nodeen as the new sheriff, giving him orders to hunt down Bonney. Nodeen has a score to settle, as a previous encounter with Bonney has left him with a permanent limp.\\nBilly\\'s plans for revenge are only just beginning. He breaks into McSween\\'s store looking for dynamite to rob Murphy\\'s bank. He is spotted by Nodeen, who surrounds the store with Murphys\\'s men. McSween\\'s wife is allowed to leave.  McSween later comes out unarmed but Nodeen shoots him in cold blood.\\nChisum is alerted by McSween\\'s wife Sue, and rides into town with his ranch hands. The main street is blocked, so Chisum stampedes his cattle through the barricades. He tracks down Murphy and takes him on in a fist fight which ends with both men falling from a balcony. Murphy ends up impaled on steer horns. With his paymaster dead, Nodeen flees, with Billy in pursuit.\\nThe film ends with Garrett taking over as sheriff and it is implied that is settling down with Sallie. It is learned that famous U.S. Army General Lew Wallace has become governor of the territory. With law and order restored, Chisum can resume his iconic vigil over the Pecos valley.',\n",
              " 'Escape from Alcatraz': \"In early 1960, Frank Morris (Clint Eastwood), a prisoner with an exceptional I.Q. who has absconded from other facilities, arrives at the maximum security prison on Alcatraz Island. Soon after arriving, he is summoned to the office of the warden (Patrick McGoohan), who curtly informs him that Alcatraz is unique within the U.S. prison system for its exceedingly high level of security and that no inmate has ever successfully escaped. During the conversation, the warden fails to notice Morris steal one of the nail clippers on the desk. \\nOver the next several days, Morris makes acquaintances with a few inmates, including the eccentric Litmus (Frank Ronzio) who is fond of desserts, English (Paul Benjamin), a black inmate serving two life sentences for killing two white men in self-defense and the elderly Doc (Roberts Blossom) who paints portraits and once grew chrysanthemums at Alcatraz. Morris also makes an enemy of a rapist called Wolf (Bruce M. Fischer), who tries to harass him in the showers and later attacks him in the prison yard with a knife; both men are imprisoned in isolation in the hole. Morris is released while Wolf stays. When the warden discovers that Doc has painted an ungainly caricature of him, as well as other policemen on the island itself, he permanently removes Doc's painting privileges; in response, a depressed Doc hacks off his own fingers with a hatchet from the prison workshop and is led away. Later, Morris encounters bank robber brothers John and Clarence Anglin (Fred Ward and Jack Thibeau), who are his old friends from another prison sentence, and he makes the acquaintance of prisoner Charley Butts (Larry Hankin). Morris notices that the concrete around the grille in his cell is weak and can be chipped away, which evolves into an escape plan. Over the next few months Morris, the Anglins and Butts dig through the walls of their cells with spoons (which have been soldered into makeshift shovels), make papier-mâché dummies to act as decoys, and construct a raft out of raincoats. \\nLater, during mealtime, Morris places a chrysanthemum at the table in honor of Doc, but the warden stops by and crushes it. A provoked Litmus suffers a fatal heart attack. Later, the warden requests a shakedown of Morris's cell and finds nothing unusual. However, he issues orders for Morris to be relocated to a different cell as soon as possible. Wolf has been released from solitary confinement and prepares to attack Morris again, but English is able to intercept him, with English implying that his gang will rape Wolf. That night, the inmates decide to leave. Morris, the Anglins and Butts plan to meet in the passageway and escape. Butts loses his nerve and fails to rendezvous with them. He later changes his mind but is too late and returns to his cell where he sulks over his missed opportunity. Carrying the flotation gear, Morris and the Anglins access the roof and avoid the searchlights. From there, they scramble down the side of the building into the prison yard, climb over a barbed-wire fence and make their way to the shoreline of the island where they inflate the raft. The three men depart from Alcatraz, partially submerged in the water, clinging to the raft and using their legs as the primary propelling force. \\nThe following morning, the escape is discovered and a massive manhunt ensues. Shreds of raincoat material, including personal effects of the men are found floating in the bay. While searching on Angel Island, the warden stubbornly insists that the men's personal effects were important, and the men would have drowned before leaving them behind. However, another guard has his doubts, suggesting that the convicts' got rid of them under the pretense that they drowned. The Warden is informed by his aide that he has been summoned to go to Washington to face his superiors, with the prospect of being to accept early retirement for having failed to prevent the breakout. On a rock, the Warden finds a chrysanthemum and is told that none grow on Angel Island.\",\n",
              " 'Florence Foster Jenkins': \"In 1944, Florence Foster Jenkins is a New York City socialite heiress who founded the Verdi Club to celebrate her love of music. St. Clair Bayfield, a British Shakespearean actor, is her husband and manager. Florence lives in a grand hotel suite, while Bayfield lives in an apartment with his mistress, Kathleen Weatherley. Florence suffers from long-term syphilis, contracted from her first husband.\\nFlorence decides to resume singing lessons after she sees Lily Pons in concert with Bayfield. She hires pianist Cosmé McMoon, who is shocked by her terrible singing, but Bayfield and vocal coach Carlo Edwards, the assistant conductor at the Metropolitan Opera, pretend she is wonderful. Bayfield warns McMoon of dire consequences if he criticizes her.\\nBayfield arranges a small recital, handpicking the attendees. Loyal Verdi Club members watch respectfully, but others barely contain their laughter. Encouraged by her good reviews, she arranges to make a recording at Melotone as a Christmas gift for members of the Verdi Club. Florence gives McMoon a copy and recalls that Bayfield was an unsuccessful actor and that she hid negative reviews from him. She also informs McMoon of her history as a piano player and teacher, having once played for the President as a child. McMoon realizes that Florence is not as musically inept as he had thought.\\nFlorence and McMoon write and perform original songs together. One song is broadcast on the radio, to the horror of Bayfield and Kathleen, though many listeners find it comedic and enjoy it. Florence informs Bayfield that she has booked Carnegie Hall for a performance and will give away a thousand tickets to soldiers. Bayfield fails to dissuade her. He gets into a fight with a group of men laughing at Florence and McMoon's song at a bar. Kathleen, resenting the lack of attention, leaves him.\\nMcMoon confides to Bayfield that he fears that the recital will humiliate him and ruin his career. Bayfield replies that he gave up his acting career to support his wife and urges McMoon do the same for his friend. McMoon agrees, excited to at least play at Carnegie Hall.\\nThe concert is packed and attended by celebrities such as Cole Porter and Tallulah Bankhead. McMoon arrives late which unnerves Florence, but Bayfield and McMoon encourage her to go on - Florence then writes McMoon into her will backstage before the two go out onto the stage. When Florence begins singing, the soldiers laugh and jeer. Her supporters and friends, however, scold them and cheer for her to keep singing. She continues her performance. However, New York Post columnist Earl Wilson tells Bayfield he will write a damning review, and refuses his bribes.\\nBayfield, with McMoon's help, buys every copy of the New York Post in the neighborhood and throws them away. Despite their best efforts Florence hears about the review, retrieves a copy of the review from a trash can, and is so upset she collapses and becomes severely ill. As she is dying in bed, Florence imagines herself singing beautiful opera, and takes a bow with McMoon and Bayfield to a standing ovation. She tells Bayfield that though people may say she could not sing, no one can say she did not sing.\",\n",
              " 'Little Big Horn': 'Captain Phillip Donlin (Lloyd Bridges) and his small troop must rush to reach Little Big Horn in order to warn General Custer of the Sioux attack that awaits him. As they race against time, and Donlin pushes them hard through an arduous and dangerous journey, the Sioux start taking out the soldiers one at a time. Meanwhile, Donlin also clashes with Lt. John Haywood (John Ireland), who Donlin knows is having an affair with his wife, Celie (Marie Windsor).',\n",
              " 'Little Big Man': 'In 1970, 121 year-old Jack Crabb, the oldest man in the world, is residing in a hospice and recounts his life story to a curious historian. Among other things, Crabb claims to have been a captive of the Cheyenne, a gunslinger, an associate of Wild Bill Hickok, a scout for General George Armstrong Custer, and the sole white survivor of the Battle of the Little Bighorn.',\n",
              " 'Out of Africa': \"Karen Blixen recalls her life in Africa where in 1913 she, as an unmarried wealthy Danish woman, is spurned by her Swedish nobleman lover and accepts a marriage proposal from his brother Baron Bror Blixen, who moves to the vicinity of Nairobi, British East Africa.\\nUsing her funds, he is to set up a cattle ranch, with her joining him a few months later, at which time they will complete this marriage of convenience. En route to Nairobi, her train is hailed by a big-game hunter by the name of Denys Finch Hatton who knows her fiancé and entrusts his haul of ivory to her.\\nShe is greeted at the train station by Farah, the Somali headman hired by Bror, who is nowhere to be found. She is taken to the recently founded Muthaiga Club. She enters the men-only bar to ask for her husband and, because of her gender, is asked to leave. Karen and Bror marry before the day is out, with her becoming Baroness Blixen.\\nShe then learns that Bror has changed their agreed-upon plan, and has spent her money on establishing a coffee farm. She quickly learns that the farm is at too high an elevation to offer much of a chance of success. She needs Bror's help in building and managing this farm, but his interest is more in guiding game hunting safaris than in farming and he refuses.\\nKaren comes to love Africa and the African people, and is taken in by the breathtaking view of the nearby Ngong Hills and the Great Rift Valley beyond. Meanwhile, she looks after the Kikuyu people who are squatting on her land. Among other things, she establishes a school, looks after their medical needs, and arbitrates their disputes. She also tries to establish a formal European homelife on par with the other upper class colonists in the area. Meanwhile, she becomes friends with a young woman, Felicity, whose character is based on that of a young Beryl Markham. Eventually, Karen develops feelings for Bror, who doesn't return them and who engages in numerous affairs.\\nAs the First World War reaches East Africa, the colonists form a militia led by the colonial patriarch Lord Delamere, which includes Denys and Bror among their number. A military expedition sets out in search of the forces from the neighboring German colony of German East Africa. Responding to the militia's need for supplies, Karen leads a difficult expedition to find them and returns safely.\\nShortly after the end of the war, Denys acquires a Gypsy Moth biplane and often takes Karen flying. In the evenings during his visits she makes up exotic and imaginative stories to entertain him.\\nKaren discovers that Bror has given her syphilis. As she is unable to receive proper treatment in Nairobi, she returns to Denmark for treatment and recuperation and Bror agrees to manage the farm while she is away. When she returns, now unable to bear children, Bror resumes his safari work and they begin to live separately.\\nThe relationship between Karen and Denys develops, and he comes to live with her. Karen and Bror get a divorce on the grounds of Bror's infidelity. When Karen learns that Denys has takes one of her female acquaintances on a private safari, Karen comes to realize that Denys does not share her desire for a monogamous, domestic relationship. He assures her that when he is with her he wants to be with her, and states that a marriage is immaterial to their relationship. Eventually, this drives them apart and, refusing to be tied down, he moves out.\\nThe farm eventually yields a good harvest, but a fire destroys much of the farm and factory, forcing her to sell out. She prepares for her departure from Kenya to Denmark by appealing to the incoming governor to provide land for her Kĩkũyũ workers to allow them to stay together, and by selling most of her remaining possessions at a rummage sale. Farah expresses his desire to accompany her, but she declines, telling him that he would not be happy there.\\nDenys visits the now-empty house and Karen comments that the house should have been so all along and, as with her other efforts, the returning of things to their natural state is as it should be. Denys says that he was just getting used to her things.\\nAs he is about to depart for a safari scouting trip in his airplane, they agree that the following Friday he will return and fly her to Mombasa; with Karen then continuing on to Denmark. Friday comes and Denys does not appear. Bror then arrives to tell her that Denys' biplane has crashed and burned in Tsavo.\\nDuring Denys' funeral Karen recites a poem by A. E. Housman about a lauded athlete dying young who, as with Denys, is not fated to decline into old age. Later, as she is about to depart, she goes to the Muthaiga Club to complete arrangements for forwarding any mail. The members, who have come to admire her, invite her into the men-only bar for a toast. At the train station, she says goodbye to Farah, then turns back to ask him to say her name so she can hear his voice one last time.\\nKaren would later become a published author under the pen name Isak Dinesen. Among her work is the memoir about her experiences in Africa, Out of Africa, the first line from which is used to introduce this film. She was never to return to Africa.\",\n",
              " 'Phantom Thread': \"In 1950s London, well-known fashion designer Reynolds Woodcock (Daniel Day-Lewis) creates dresses for members of high society. His charisma is matched by his obsessive and controlling personality. Cyril (Lesley Manville), his sister, manages the day-to-day operations of his fashion house and has significant influence over his life. The superstitious Reynolds is haunted by the death of their mother, and often stitches hidden messages into the linings of the dresses he makes. \\nAfter designing a new gown for a revered client, Countess Henrietta Harding (Gina McKee), Reynolds visits a restaurant in the countryside and becomes interested in a foreign waitress, Alma Elson (Vicky Krieps). He asks her to have dinner with him, and she accepts. Their relationship develops, and she moves in with him, becoming his model, muse and lover. Cyril initially distrusts Alma but comes to respect her willfulness and determination.\\nAt first, Alma enjoys being a part of Reynolds' work, but he proves aloof, hard to please and overly finicky. They begin to bicker. When Alma tries to show her love for Reynolds by preparing a romantic dinner for two, he lashes out, saying he will not tolerate deviations from the routines he has worked hard to perfect. Alma “retaliates” by poisoning Reynolds' tea with wild mushrooms gathered outside his country house. As he readies a wedding gown for a Belgian princess, Reynolds collapses, damaging the dress and forcing his staff to work all night to repair it. He becomes gravely ill and has hallucinations of his mother. Alma nurses him back to health. He asks her to marry him; she accepts.\\nAfter a brief honeymoon, Reynolds and Alma soon start bickering again. Cyril reveals to Reynolds that the Countess is now a client at a rival fashion house, and hints that his classical designs have begun appearing out-of-date. As Reynolds feels his work is suffering, he concludes it may be time to break up with Alma, who overhears the conversation. Back at the country house, Alma responds by making Reynolds a poisoned omelette. As he chews his first bite, she informs him that she wants him weak and vulnerable with only her to take care of him. Reynolds swallows the omelette and tells her to kiss him before he becomes sick, implying that he has figured out—and is turned on by—her ruse. As Reynolds lies ill, Alma imagines their future with children, a rich social life, and her running the dressmaking business as a partner. She acknowledges that while there may be challenges ahead, their love and their new arrangement can overcome them.\",\n",
              " 'She Wore a Yellow Ribbon': 'On the verge of his retirement at Fort Starke, a one-troop cavalry post, aging US Cavalry Captain Nathan Cutting Brittles (John Wayne) is given one last mission: to take his troop and deal with a breakout from the reservation by the Cheyenne and Arapaho following the defeat of George Armstrong Custer at the Battle of the Little Big Horn.\\nBrittles\\' task is complicated by being forced at the same time to deliver his commanding officer\\'s wife and niece, Abby Allshard (Mildred Natwick) and Olivia Dandridge (Joanne Dru), to an eastbound stage and by the need to avoid a new Indian war. His troop officers, 1st Lt. Flint Cohill (John Agar) and 2nd Lt. Ross Pennell (Harry Carey, Jr.), meanwhile vie for the affections of Miss Dandridge while uneasily anticipating the retirement of their captain and mentor.\\nAssisting him with his mission is Capt. Brittles\\' chief scout, Sgt. Tyree (Ben Johnson), a one-time Confederate captain of cavalry; his first sergeant, Quincannon (Victor McLaglen); and Maj. Allshard (George O\\'Brien), Brittles\\' long-time friend and commanding officer.\\nAfter apparently failing in both missions, Brittles returns with the troop to Fort Starke to retire. His lieutenants continue the mission in the field, joined by Brittles after \"quitting the post and the Army\". Unwilling to see more lives needlessly taken, Brittles takes it upon himself to try to make peace with his old friend Chief Pony That Walks (Chief John Big Tree). When that too fails, he devises a risky stratagem to avoid a bloody war by stampeding the Indians\\' horses out of their camp, forcing the renegades to return to their reservation.\\nThe film ends with Brittles being recalled to duty as Chief of Scouts with the rank of Lt. Colonel (a U.S. War Department order endorsed, he is pleased to see, by Gens. Phil Sheridan and William Tecumseh Sherman, and by President Ulysses S. Grant).  Miss Dandridge and Lt. Cohill become engaged. The film ends with the troop of cavalry trotting down the road on patrol.',\n",
              " 'Silkwood': \"Karen Silkwood, a worker at the Kerr-McGee Cimarron Fuel Fabrication Site (near Crescent, Oklahoma), shares a ramshackle house with two co-workers, her boyfriend Drew Stephens and her lesbian friend Dolly Pelliker. She makes plutonium fuel rods for nuclear reactors, where she deals with the threat of exposure to radiation. She has become a union activist, concerned that corporate practices may adversely affect the health of workers. She is also engaged in a conflict with her former common-law husband in an effort to have more time with their three children.\\nBecause the plant has fallen behind on a major contract—ostensibly to provide fuel rods for a breeder reactor at the Hanford Site—employees are required to work long hours of overtime. She believes that managers are falsifying safety reports and cutting corners wherever possible, risking the welfare of the personnel. Karen approaches the union with her concerns and becomes active in lobbying for safeguards. She travels to Washington, D.C. to testify before the Atomic Energy Commission. She interacts with union officials who appear to be more interested in the publicity she is generating than her welfare and that of her co-workers.\\nWhen Silkwood and other workers become contaminated by radiation, plant officials try to blame her for the incident. When she discovers that negatives of photographs of faulty fuel rods have been retouched and records of inadequate safety measures have been altered, she decides to conduct an investigation of her own. Complications arise in her personal life when Angela, a funeral parlor beautician, joins the household as Dolly's lover. Unable to deal with Silkwood's obsession with gathering evidence and her potential infidelities, Drew moves out.\\nOnce she feels she has gathered sufficient documentation, Silkwood contacts a reporter from The New York Times and arranges a nighttime meeting. In the film's final moments, the scene fades out as Silkwood, on her way to the meeting, sees approaching headlights in her rear-view mirror, which draw up so close that they blind her and make her unable to watch the road ahead. The scene fades in on the aftermath of her fatal one-car crash.\",\n",
              " 'The Searchers': 'In 1868, Ethan Edwards returns after an eight-year absence to the home of his brother Aaron in the wilderness of West Texas. Ethan fought in the Civil War on the side of the Confederacy, and in the three years since that war ended, he apparently fought in the Mexican revolutionary war, as well. He has a large quantity of gold coins of uncertain origin in his possession, and a medal from the Mexican campaign that he gives to his eight-year-old niece, Debbie. As a former Confederate soldier, he is asked to take an oath of allegiance to the Texas Rangers; he refuses. As Rev. Captain Samuel Clayton remarks, Ethan \"fits a lot of descriptions\".\\nShortly after Ethan\\'s arrival, cattle belonging to his neighbor Lars Jorgensen are stolen, and when Captain Clayton leads Ethan and a group of Rangers to recover them, they discover that the theft was a Comanche ploy to draw the men away from their families. When they return, they find the Edwards homestead in flames. Aaron, his wife Martha, and their son Ben are dead, and Debbie and her older sister Lucy have been abducted.\\nAfter a brief funeral, the men set out in pursuit. They come upon a burial ground of Comanches who were killed during the raid. Ethan mutilates one of the bodies. When they find the Comanche camp, Ethan recommends a frontal attack, but Clayton insists on a stealth approach to avoid killing the hostages. The camp is deserted, and further along the trail, the men ride into an ambush. Although they fend off the attack, the Rangers are left with too few men to fight the Indians effectively. They return home, leaving Ethan to continue his search for the girls with only Lucy\\'s fiancé, Brad Jorgensen and Debbie\\'s adopted brother, Martin Pawley. Ethan finds Lucy brutally murdered and presumably raped in a canyon near the Comanche camp. In a blind rage, Brad rides directly into the Indian camp and is killed.\\n\\nWhen winter arrives, Ethan and Martin lose the trail and return to the Jorgensen ranch. Martin is enthusiastically welcomed by the Jorgensens\\' daughter Laurie, and Ethan finds a letter waiting for him from a trader named Futterman, who claims to have information about Debbie. Ethan, who would rather travel alone, leaves without Martin the next morning, but Laurie provides Martin with a horse to catch up. At Futterman\\'s trading post, Ethan and Martin learn that Debbie has been taken by Scar, the chief of the Nawyecka band of Comanches. A year or more later, Laurie receives a letter from Martin describing the ongoing search. In reading the letter aloud, Laurie narrates the next few scenes, in which Ethan kills Futterman for trying to steal his money, Martin accidentally buys a Comanche wife, and the two men find a portion of Scar\\'s band killed by soldiers.\\n\\nThe search leads Ethan and Martin to a military fort, and then to New Mexico, where a Mexican man leads them to Scar. They find Debbie after five years, now an adolescent, living as one of Scar\\'s wives. She tells the men that she has become a Comanche, and wishes to remain with them. Ethan would rather see her dead than living as an Indian, and tries to shoot her, but Martin shields her with his body and a Comanche wounds Ethan with an arrow as they escape. Although Martin tends to Ethan\\'s wound, he is furious with him for attempting to kill Debbie, and wishes him dead. \"That\\'ll be the day,\" Ethan replies, as they return home.\\nMeanwhile, Charlie McCorry has been courting Laurie in Martin\\'s absence. Ethan and Martin arrive home just as Charlie and Laurie\\'s wedding is about to begin. After a fistfight between Martin and Charlie, a nervous \"Yankee\" soldier, Lt. Greenhill, arrives with news that Ethan\\'s half-crazy friend Mose Harper has located Scar. Clayton leads his men to the Comanche camp, this time for a direct attack, but Martin is allowed to sneak in ahead of the assault to find Debbie, who welcomes him. Martin kills Scar during the battle, and Ethan scalps him. Ethan then locates Debbie, and pursues her on horseback. Martin fears that he will shoot her as he has promised, but instead he sweeps her up onto his saddle. \"Let’s go home,\" he says. Debbie is brought to the Jorgensen ranch, and Martin reunites with Laurie. In an iconic closing scene, Ethan departs the homestead as he arrived—alone—clutching his arm, the cabin door slowly shutting on his receding image.',\n",
              " 'The Shawshank Redemption': 'In 1947 Portland, Maine, banker Andy Dufresne is convicted of murdering his wife and her lover and is sentenced to two consecutive life sentences at the Shawshank State Penitentiary. He is befriended by Ellis \"Red\" Redding, an inmate and prison contraband smuggler serving a life sentence. Red procures a rock hammer and a large poster of Rita Hayworth for Andy. Assigned to work in the prison laundry, Andy is frequently sexually assaulted by \"the Sisters\" and their leader, Bogs.\\nIn 1949, Andy overhears the captain of the guards, Byron Hadley, complaining about being taxed on an inheritance and offers to help him shelter the money legally. After an assault by the Sisters nearly kills Andy, Hadley beats and cripples Bogs, who is subsequently transferred to another prison. Andy is not attacked again. Warden Samuel Norton meets Andy and reassigns him to the prison library to assist elderly inmate Brooks Hatlen. Andy begins managing financial matters for other prison staff, guards from other prisons, and the warden himself. He also begins writing weekly letters to the state legislature requesting funds to improve the prison\\'s decaying library.\\nBrooks is paroled in 1954 after serving 50 years, but he cannot adjust to the outside world and eventually hangs himself. The legislature sends a library donation that includes a recording of The Marriage of Figaro; Andy plays an excerpt over the public address system and is punished with solitary confinement. After his release from solitary, Andy explains that hope is what gets him through his time, a concept that Red dismisses. In 1963, Norton begins exploiting prison labor for public works, profiting by undercutting skilled labor costs and receiving bribes. Andy launders the money using the alias \"Randall Stephens\".\\nTommy Williams is incarcerated for burglary in 1965. Andy and Red befriend him, and Andy helps him pass his GED exam. A year later, Tommy reveals to Red and Andy that his cellmate at another prison had claimed responsibility for the murders for which Andy was convicted. Andy approaches Norton with this information but Norton refuses to listen, and when Andy mentions the money laundering, Norton sends him back to solitary confinement. Norton has Hadley murder Tommy under the guise of an escape attempt. Andy attempts to discontinue the laundering but relents after Norton threatens to destroy the library, remove Andy\\'s protection from the guards, and move him to worse conditions. Andy is released from solitary confinement after two months, and he tells a skeptical Red that he dreams of living in Zihuatanejo, a Mexican coastal town. Andy also tells him of a specific hayfield near Buxton, asking Red—once he is released—to retrieve a package that Andy buried there. Red worries about Andy\\'s well-being, especially when he learns Andy asked a fellow inmate for six feet (1.8 meters) of rope.\\nAt the next day\\'s roll call, the guards find Andy\\'s cell empty. An irate Norton throws a rock at a poster of Raquel Welch hanging on the cell wall, revealing a tunnel that Andy dug with his rock hammer over the previous 19 years. The previous night, Andy used the rope to escape through the tunnel and prison sewage pipe, taking Norton\\'s suit, shoes, and ledger, containing proof of the money laundering. While guards search for him, Andy poses as Randall Stephens, withdraws the laundered money from several banks, and mails the ledger and other evidence of the corruption and murders at Shawshank to a local newspaper. State police arrive at Shawshank and take Hadley into custody, while Norton commits suicide to avoid arrest.\\nAfter serving 40 years, Red is finally paroled. He struggles to adapt to life outside prison and fears that he never will. Remembering his promise to Andy, he visits Buxton and finds a cache containing money and a letter asking him to come to Zihuatanejo. Red violates his parole by traveling to Fort Hancock, Texas, and crossing the border into Mexico, admitting that he finally feels hope. He finds Andy on a beach in Zihuatanejo, and the two reunited friends happily embrace.',\n",
              " 'There Will Be Blood': 'In 1898, Daniel Plainview, a silver prospector in New Mexico, mines a potentially precious ore vein from a pit mine hole. After dynamiting the lode, he falls down the shaft and breaks his leg. With the silver sample, he climbs out of the mine, drags himself to an assay office, and receives a silver and gold certificate claim. In 1902, he discovers oil near Los Angeles and establishes a drilling company. After the death of a worker in an accident, Daniel adopts the man\\'s orphaned son. He refers to the child, H. W., as his business partner, because he allows Daniel to present himself to potential investors as a family man.\\nIn 1911, Daniel is visited by a young man calling himself Paul Sunday, who tells him of an oil deposit under his family\\'s property in Little Boston, California. Daniel attempts to buy the farm at a bargain price. However, Paul\\'s twin brother Eli Sunday, requests $10,000 for the church, of which he is pastor. An agreement is made for $5,000 after the well begins producing, and Daniel acquires all the available surrounding land, except for one holdout: William Bandy. Oil production begins, but after an accident kills a worker and a gas blowout deafens H. W., Eli blames the disasters on the well not being properly blessed. When Eli asks about the $5,000 that Daniel still owes, Daniel replies by beating and humiliating him. At the dinner table, Eli furiously berates and physically attacks his father for trusting Daniel.\\nA man arrives at Daniel\\'s doorstep claiming to be his half-brother, Henry. Daniel hires Henry and the two grow close. A suspicious H. W. sets fire to their house, intending to kill Henry. Angry, Daniel sends him away to a school for the deaf in San Francisco. A representative from Standard Oil offers to buy out Daniel\\'s local interests, but Daniel strikes a deal with Union Oil and constructs a pipeline to the California coast, though the Bandy ranch remains an impediment.\\nWhile reminiscing about his childhood, Daniel becomes suspicious about Henry\\'s story and one night quizzes him about it at gunpoint. \"Henry\" confesses that he was a friend of the real Henry, who died from tuberculosis, and that he learned the details of Henry\\'s life by reading his personal journal. In a fit of rage, Daniel murders the impostor and buries his body. The next morning, Daniel is awakened by Bandy, who knows of the previous night\\'s events and wants Daniel to repent. At the church, as part of Daniel\\'s baptism, Eli humiliates him, strikes him, and makes him confess to having abandoned his son, before announcing to the congregation that Daniel will be making a large donation to the church. With the pipeline underway, Daniel arranges for the still angry H. W. to return, while Eli leaves town for missionary work.\\nIn 1927, H. W. marries Mary, Eli and Paul\\'s sister. Daniel, now extremely wealthy but suffering from alcoholism, lives as a recluse in a huge mansion. Through a sign language interpreter, H. W. asks Daniel to dissolve their partnership so that H. W. can take Mary and move to Mexico to establish his own oil company. Furious, Daniel reacts brutally, mocks H. W.\\'s deafness, and reveals H. W.\\'s true origins as an orphan. H. W. thanks God he has \"none of Daniel in him\" and leaves.\\nThat evening, Eli visits Daniel, who is hung over, in Daniel\\'s private bowling alley in the basement. Eli, now a radio preacher, offers to sell Daniel drilling rights on the land of William Bandy, who has recently died. Daniel agrees on the condition that Eli denounce his faith and his own credibility by calling himself a false prophet and stating that God is a superstition. Eli initially refuses, claiming it to be a lie, but swallows his pride and reluctantly does so. However, Daniel then reveals that the property is now worthless because he has already drained its oil by \"capture\" from surrounding wells. Shaken, Eli confesses to being in dire financial straits and to having strayed morally. Daniel taunts him, reveals that Paul recently opened a small oil business of his own, chases Eli around the bowling alley, and beats him to death with a bowling pin. When his butler enters the room, an exhausted Daniel simply exclaims: \"I\\'m finished!\"'}"
            ]
          },
          "metadata": {
            "tags": []
          },
          "execution_count": 134
        }
      ]
    },
    {
      "cell_type": "code",
      "metadata": {
        "id": "fPKBt4TPIIQJ",
        "colab_type": "code",
        "colab": {}
      },
      "source": [
        "sequel_plot_list = get_plot(sequel_table)"
      ],
      "execution_count": 0,
      "outputs": []
    },
    {
      "cell_type": "code",
      "metadata": {
        "id": "WFxrE6IIlLo-",
        "colab_type": "code",
        "colab": {}
      },
      "source": [
        "documents = list(sequel_plot_list.values()) + list(non_sequel_plot_list.values())\n",
        "doc_titles = list(sequel_plot_list.keys()) + list(non_sequel_plot_list.keys())"
      ],
      "execution_count": 0,
      "outputs": []
    },
    {
      "cell_type": "code",
      "metadata": {
        "id": "QmKrAdQq-_Ab",
        "colab_type": "code",
        "colab": {
          "base_uri": "https://localhost:8080/",
          "height": 51
        },
        "outputId": "688c8dd2-71a0-4b49-fa52-2614722eb19b"
      },
      "source": [
        "import string\n",
        "import nltk\n",
        "nltk.download('stopwords')\n",
        "from nltk.corpus import stopwords"
      ],
      "execution_count": 47,
      "outputs": [
        {
          "output_type": "stream",
          "text": [
            "[nltk_data] Downloading package stopwords to /root/nltk_data...\n",
            "[nltk_data]   Unzipping corpora/stopwords.zip.\n"
          ],
          "name": "stdout"
        }
      ]
    },
    {
      "cell_type": "code",
      "metadata": {
        "id": "MdFWlL43AN6y",
        "colab_type": "code",
        "colab": {}
      },
      "source": [
        "stopwords_set = set(stopwords.words('english'))"
      ],
      "execution_count": 0,
      "outputs": []
    },
    {
      "cell_type": "code",
      "metadata": {
        "id": "gVrA1VSO-ido",
        "colab_type": "code",
        "colab": {}
      },
      "source": [
        "def clean_text(document):\n",
        "  document_lower = document.lower() # set everything to lower case\n",
        "  document_no_punctuation = document_lower.translate(str.maketrans('', '', string.punctuation)) # strip all punctuation\n",
        "  words = document_no_punctuation.split()\n",
        "  words_no_stopwords = [word for word in words if word not in stopwords_set]\n",
        "  return words_no_stopwords[0:100]"
      ],
      "execution_count": 0,
      "outputs": []
    },
    {
      "cell_type": "code",
      "metadata": {
        "id": "93CbE04hzC4I",
        "colab_type": "code",
        "colab": {}
      },
      "source": [
        "documents_text = [clean_text(document) for document in documents]"
      ],
      "execution_count": 0,
      "outputs": []
    },
    {
      "cell_type": "code",
      "metadata": {
        "id": "UoIUkdDYlZAE",
        "colab_type": "code",
        "colab": {}
      },
      "source": [
        "from gensim.models.doc2vec import Doc2Vec, TaggedDocument"
      ],
      "execution_count": 0,
      "outputs": []
    },
    {
      "cell_type": "code",
      "metadata": {
        "id": "Nc2WHS46lcE_",
        "colab_type": "code",
        "colab": {}
      },
      "source": [
        "documents_tagged = [TaggedDocument(doc, [doc_titles[i]]) for i, doc in enumerate(documents_text)]\n",
        "model = Doc2Vec(documents_tagged, vector_size=100, window=2, min_count=1, workers=4)"
      ],
      "execution_count": 0,
      "outputs": []
    },
    {
      "cell_type": "code",
      "metadata": {
        "id": "hdQ81zFokodj",
        "colab_type": "code",
        "colab": {
          "base_uri": "https://localhost:8080/",
          "height": 1000
        },
        "outputId": "b962f89a-e0c2-4ebf-cc93-9ee6ce4c9cb8"
      },
      "source": [
        "max_epochs = 100\n",
        "vec_size = 100\n",
        "alpha = 0.025\n",
        "\n",
        "model = Doc2Vec(size=vec_size,\n",
        "                alpha=alpha, \n",
        "                min_alpha=0.00025,\n",
        "                min_count=1,\n",
        "                dm =1)\n",
        "  \n",
        "model.build_vocab(documents_tagged)\n",
        "\n",
        "for epoch in range(max_epochs):\n",
        "    print('iteration {0}'.format(epoch))\n",
        "    model.train(documents_tagged,\n",
        "                total_examples=model.corpus_count,\n",
        "                epochs=model.iter)\n",
        "    # decrease the learning rate\n",
        "    model.alpha -= 0.0002\n",
        "    # fix the learning rate, no decay\n",
        "    model.min_alpha = model.alpha"
      ],
      "execution_count": 104,
      "outputs": [
        {
          "output_type": "stream",
          "text": [
            "/usr/local/lib/python3.6/dist-packages/gensim/models/doc2vec.py:570: UserWarning: The parameter `size` is deprecated, will be removed in 4.0.0, use `vector_size` instead.\n",
            "  warnings.warn(\"The parameter `size` is deprecated, will be removed in 4.0.0, use `vector_size` instead.\")\n",
            "/usr/local/lib/python3.6/dist-packages/ipykernel_launcher.py:17: DeprecationWarning: Call to deprecated `iter` (Attribute will be removed in 4.0.0, use self.epochs instead).\n"
          ],
          "name": "stderr"
        },
        {
          "output_type": "stream",
          "text": [
            "iteration 0\n",
            "iteration 1\n",
            "iteration 2\n",
            "iteration 3\n",
            "iteration 4\n",
            "iteration 5\n",
            "iteration 6\n",
            "iteration 7\n",
            "iteration 8\n",
            "iteration 9\n",
            "iteration 10\n",
            "iteration 11\n",
            "iteration 12\n",
            "iteration 13\n",
            "iteration 14\n",
            "iteration 15\n",
            "iteration 16\n",
            "iteration 17\n",
            "iteration 18\n",
            "iteration 19\n",
            "iteration 20\n",
            "iteration 21\n",
            "iteration 22\n",
            "iteration 23\n",
            "iteration 24\n",
            "iteration 25\n",
            "iteration 26\n",
            "iteration 27\n",
            "iteration 28\n",
            "iteration 29\n",
            "iteration 30\n",
            "iteration 31\n",
            "iteration 32\n",
            "iteration 33\n",
            "iteration 34\n",
            "iteration 35\n",
            "iteration 36\n",
            "iteration 37\n",
            "iteration 38\n",
            "iteration 39\n",
            "iteration 40\n",
            "iteration 41\n",
            "iteration 42\n",
            "iteration 43\n",
            "iteration 44\n",
            "iteration 45\n",
            "iteration 46\n",
            "iteration 47\n",
            "iteration 48\n",
            "iteration 49\n",
            "iteration 50\n",
            "iteration 51\n",
            "iteration 52\n",
            "iteration 53\n",
            "iteration 54\n",
            "iteration 55\n",
            "iteration 56\n",
            "iteration 57\n",
            "iteration 58\n",
            "iteration 59\n",
            "iteration 60\n",
            "iteration 61\n",
            "iteration 62\n",
            "iteration 63\n",
            "iteration 64\n",
            "iteration 65\n",
            "iteration 66\n",
            "iteration 67\n",
            "iteration 68\n",
            "iteration 69\n",
            "iteration 70\n",
            "iteration 71\n",
            "iteration 72\n",
            "iteration 73\n",
            "iteration 74\n",
            "iteration 75\n",
            "iteration 76\n",
            "iteration 77\n",
            "iteration 78\n",
            "iteration 79\n",
            "iteration 80\n",
            "iteration 81\n",
            "iteration 82\n",
            "iteration 83\n",
            "iteration 84\n",
            "iteration 85\n",
            "iteration 86\n",
            "iteration 87\n",
            "iteration 88\n",
            "iteration 89\n",
            "iteration 90\n",
            "iteration 91\n",
            "iteration 92\n",
            "iteration 93\n",
            "iteration 94\n",
            "iteration 95\n",
            "iteration 96\n",
            "iteration 97\n",
            "iteration 98\n",
            "iteration 99\n"
          ],
          "name": "stdout"
        }
      ]
    },
    {
      "cell_type": "code",
      "metadata": {
        "id": "OnSJxB1TlfDY",
        "colab_type": "code",
        "colab": {
          "base_uri": "https://localhost:8080/",
          "height": 374
        },
        "outputId": "5dda0140-df4f-4304-a552-65402287ad0b"
      },
      "source": [
        "model.docvecs[0]"
      ],
      "execution_count": 105,
      "outputs": [
        {
          "output_type": "execute_result",
          "data": {
            "text/plain": [
              "array([ 0.3804458 ,  3.691443  , -1.954659  , -0.6016292 ,  1.9102367 ,\n",
              "       -1.0174367 , -2.2215443 , -2.168076  ,  2.8967307 , -1.053612  ,\n",
              "       -0.22260585, -0.72344714,  0.986865  ,  3.0682468 , -2.9749432 ,\n",
              "        0.06206861, -4.0364714 ,  1.9659051 ,  5.499632  , -0.48202178,\n",
              "        3.675675  ,  0.40855452, -4.282472  ,  1.7784104 , -0.84649026,\n",
              "       -2.3853812 ,  1.3036832 ,  1.5193775 , -1.5720742 ,  1.7434992 ,\n",
              "       -0.77530384, -2.8826067 ,  1.5125058 , -0.3398718 , -1.2742558 ,\n",
              "       -1.7283915 , -0.77502555,  2.7208173 ,  0.17053077, -2.7088947 ,\n",
              "        5.568589  ,  1.7030735 ,  0.8085599 , -2.9064994 ,  3.079656  ,\n",
              "        4.700389  ,  0.7404981 , -1.9263504 ,  0.23175745, -1.6121739 ,\n",
              "       -1.9777411 , -2.3657954 , -2.0585055 ,  0.7524896 , -1.3533297 ,\n",
              "        0.712349  ,  3.853114  ,  0.13830939, -4.4413548 ,  3.0549693 ,\n",
              "       -0.6353029 ,  1.1829141 ,  3.9013078 ,  5.6095    ,  1.6636267 ,\n",
              "       -4.0986805 , -0.07022345,  4.008235  , -2.0157113 ,  5.3634205 ,\n",
              "       -0.81150246,  1.0941173 , -4.1318254 ,  2.1419342 ,  2.1355653 ,\n",
              "       -1.5648417 ,  8.2905445 ,  0.03539795,  3.1866367 , -5.2318873 ,\n",
              "       -3.5661216 , -5.4255676 ,  4.2209973 ,  3.9989946 , -0.8101326 ,\n",
              "        3.378684  , -1.1071078 , -4.0510607 , -0.17472938,  1.6535255 ,\n",
              "        2.283789  , -0.60704756, -3.5480304 , -0.22794293,  0.26801506,\n",
              "        6.8122015 ,  0.75547624, -0.7880234 , -2.3449335 ,  2.5335076 ],\n",
              "      dtype=float32)"
            ]
          },
          "metadata": {
            "tags": []
          },
          "execution_count": 105
        }
      ]
    },
    {
      "cell_type": "code",
      "metadata": {
        "id": "-0EaypX3zuX0",
        "colab_type": "code",
        "colab": {
          "base_uri": "https://localhost:8080/",
          "height": 241
        },
        "outputId": "35bef86b-d01b-40af-9d13-e26672a65009"
      },
      "source": [
        "model.docvecs.most_similar([model.docvecs[2]])"
      ],
      "execution_count": 107,
      "outputs": [
        {
          "output_type": "stream",
          "text": [
            "/usr/local/lib/python3.6/dist-packages/gensim/matutils.py:737: FutureWarning: Conversion of the second argument of issubdtype from `int` to `np.signedinteger` is deprecated. In future, it will be treated as `np.int64 == np.dtype(int).type`.\n",
            "  if np.issubdtype(vec.dtype, np.int):\n"
          ],
          "name": "stderr"
        },
        {
          "output_type": "execute_result",
          "data": {
            "text/plain": [
              "[('Ace Ventura: Pet Detective', 1.0000001192092896),\n",
              " ('Ace Ventura: When Nature Calls', 0.6049174070358276),\n",
              " ('An American in Paris', 0.5183841586112976),\n",
              " ('Toy Story 2', 0.5153937339782715),\n",
              " ('Iron Man 3', 0.5052570104598999),\n",
              " ('Blade Runner', 0.47711917757987976),\n",
              " ('Alvin and the Chipmunks', 0.47579318284988403),\n",
              " (\"Madagascar 3: Europe's Most Wanted\", 0.4736562967300415),\n",
              " ('Avengers: Infinity War', 0.46840426325798035),\n",
              " ('Rocky III', 0.46799221634864807)]"
            ]
          },
          "metadata": {
            "tags": []
          },
          "execution_count": 107
        }
      ]
    },
    {
      "cell_type": "code",
      "metadata": {
        "id": "WmVZ0L7Bulrv",
        "colab_type": "code",
        "colab": {
          "base_uri": "https://localhost:8080/",
          "height": 156
        },
        "outputId": "6391280a-79d8-460a-92ab-516cc3c8108c"
      },
      "source": [
        "model.docvecs.most_similar([model.docvecs['Magnum Force']], topn = 5)"
      ],
      "execution_count": 117,
      "outputs": [
        {
          "output_type": "stream",
          "text": [
            "/usr/local/lib/python3.6/dist-packages/gensim/matutils.py:737: FutureWarning: Conversion of the second argument of issubdtype from `int` to `np.signedinteger` is deprecated. In future, it will be treated as `np.int64 == np.dtype(int).type`.\n",
            "  if np.issubdtype(vec.dtype, np.int):\n"
          ],
          "name": "stderr"
        },
        {
          "output_type": "execute_result",
          "data": {
            "text/plain": [
              "[('Magnum Force', 0.9999999403953552),\n",
              " ('Dirty Harry', 0.5580133199691772),\n",
              " ('John Wick', 0.5205960273742676),\n",
              " ('The Matrix', 0.48892438411712646),\n",
              " ('The Transporter', 0.4875659644603729)]"
            ]
          },
          "metadata": {
            "tags": []
          },
          "execution_count": 117
        }
      ]
    },
    {
      "cell_type": "code",
      "metadata": {
        "id": "pvmgh2nu64CZ",
        "colab_type": "code",
        "colab": {
          "base_uri": "https://localhost:8080/",
          "height": 275
        },
        "outputId": "3b3aca18-ae69-4ea3-ed27-3fa0696fe8a7"
      },
      "source": [
        "model.most_similar('revolver')"
      ],
      "execution_count": 168,
      "outputs": [
        {
          "output_type": "stream",
          "text": [
            "/usr/local/lib/python3.6/dist-packages/ipykernel_launcher.py:1: DeprecationWarning: Call to deprecated `most_similar` (Method will be removed in 4.0.0, use self.wv.most_similar() instead).\n",
            "  \"\"\"Entry point for launching an IPython kernel.\n",
            "/usr/local/lib/python3.6/dist-packages/gensim/matutils.py:737: FutureWarning: Conversion of the second argument of issubdtype from `int` to `np.signedinteger` is deprecated. In future, it will be treated as `np.int64 == np.dtype(int).type`.\n",
            "  if np.issubdtype(vec.dtype, np.int):\n"
          ],
          "name": "stderr"
        },
        {
          "output_type": "execute_result",
          "data": {
            "text/plain": [
              "[('colt', 0.9125268459320068),\n",
              " ('38', 0.8047251105308533),\n",
              " ('detective', 0.7897595167160034),\n",
              " ('special', 0.7544097900390625),\n",
              " ('labatouche', 0.7451115250587463),\n",
              " ('commissioner', 0.7410504817962646),\n",
              " ('head—from', 0.7282149791717529),\n",
              " ('department', 0.707581639289856),\n",
              " ('tactics', 0.6921036243438721),\n",
              " ('spencer', 0.6731761693954468)]"
            ]
          },
          "metadata": {
            "tags": []
          },
          "execution_count": 168
        }
      ]
    },
    {
      "cell_type": "code",
      "metadata": {
        "id": "f5XJDVvzPs3Q",
        "colab_type": "code",
        "colab": {}
      },
      "source": [
        "from sklearn.metrics.pairwise import cosine_similarity"
      ],
      "execution_count": 0,
      "outputs": []
    },
    {
      "cell_type": "code",
      "metadata": {
        "id": "rJ--SlyFQMPw",
        "colab_type": "code",
        "colab": {
          "base_uri": "https://localhost:8080/",
          "height": 34
        },
        "outputId": "b4d28dbb-cf35-40ce-e6ce-9e2a25118e75"
      },
      "source": [
        "cosine_similarity([model.docvecs['Dirty Harry']],[model.docvecs['Magnum Force']])"
      ],
      "execution_count": 181,
      "outputs": [
        {
          "output_type": "execute_result",
          "data": {
            "text/plain": [
              "array([[0.5580134]], dtype=float32)"
            ]
          },
          "metadata": {
            "tags": []
          },
          "execution_count": 181
        }
      ]
    },
    {
      "cell_type": "code",
      "metadata": {
        "id": "zDhf92HZQR3L",
        "colab_type": "code",
        "colab": {}
      },
      "source": [
        ""
      ],
      "execution_count": 0,
      "outputs": []
    },
    {
      "cell_type": "code",
      "metadata": {
        "id": "t4FNJsDQZQ1A",
        "colab_type": "code",
        "colab": {}
      },
      "source": [
        ""
      ],
      "execution_count": 0,
      "outputs": []
    }
  ]
}