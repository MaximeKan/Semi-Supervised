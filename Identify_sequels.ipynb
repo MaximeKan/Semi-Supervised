{
  "nbformat": 4,
  "nbformat_minor": 0,
  "metadata": {
    "colab": {
      "name": "Identify_sequels.ipynb",
      "version": "0.3.2",
      "provenance": []
    },
    "kernelspec": {
      "name": "python3",
      "display_name": "Python 3"
    }
  },
  "cells": [
    {
      "cell_type": "code",
      "metadata": {
        "id": "UKTOXPP3T_Px",
        "colab_type": "code",
        "colab": {}
      },
      "source": [
        "%%capture\n",
        "!pip install wikipedia -q\n",
        "import wikipedia\n",
        "import requests\n",
        "import pandas as pd\n",
        "import numpy as np\n",
        "import matplotlib.pyplot as plt"
      ],
      "execution_count": 0,
      "outputs": []
    },
    {
      "cell_type": "code",
      "metadata": {
        "id": "cLs6oQw5jRhe",
        "colab_type": "code",
        "colab": {}
      },
      "source": [
        "S = requests.Session()\n",
        "\n",
        "URL = \"https://en.wikipedia.org/w/api.php\"\n",
        "\n",
        "PARAMS = {\n",
        "    \"action\": \"query\",\n",
        "    \"format\": \"json\",\n",
        "    \"titles\": \"List_of_film_sequels_by_box-office_improvement\",\n",
        "    \"prop\": \"links\",\n",
        "    \"pllimit\": 500\n",
        "}\n",
        "\n",
        "R = S.get(url=URL, params=PARAMS)\n",
        "DATA = R.json()\n",
        "\n",
        "PAGES = DATA[\"query\"][\"pages\"]\n",
        "\n",
        "sequels = []\n",
        "for k, v in PAGES.items():\n",
        "    for l in v[\"links\"]:\n",
        "        sequels.append(l[\"title\"])"
      ],
      "execution_count": 0,
      "outputs": []
    },
    {
      "cell_type": "code",
      "metadata": {
        "id": "1Y3ZWOVv_HGm",
        "colab_type": "code",
        "colab": {}
      },
      "source": [
        "first_movie_list = []\n",
        "sequel_movie_list = []\n",
        "for sequel in sequels:\n",
        "    page = wikipedia.page(sequel)\n",
        "    summary = page.summary\n",
        "    for first_movie in sequels:\n",
        "        if first_movie in summary and first_movie != sequel:\n",
        "            first_movie_list.append(first_movie)\n",
        "            sequel_movie_list.append(sequel)"
      ],
      "execution_count": 0,
      "outputs": []
    },
    {
      "cell_type": "code",
      "metadata": {
        "id": "UINR93CRCFu1",
        "colab_type": "code",
        "colab": {}
      },
      "source": [
        "%%capture\n",
        "! wget \"https://datasets.imdbws.com/title.principals.tsv.gz\"\n",
        "! wget \"https://datasets.imdbws.com/title.basics.tsv.gz\"\n",
        "! wget \"https://datasets.imdbws.com/name.basics.tsv.gz\"\n",
        "\n",
        "! gunzip title.principals.tsv.gz\n",
        "! gunzip title.basics.tsv.gz\n",
        "! gunzip name.basics.tsv.gz"
      ],
      "execution_count": 0,
      "outputs": []
    },
    {
      "cell_type": "code",
      "metadata": {
        "id": "PDVb4cXuln8V",
        "colab_type": "code",
        "colab": {}
      },
      "source": [
        "cast = pd.read_csv('title.principals.tsv', sep='\\t', na_values = \"\\\\N\", keep_default_na = False, \n",
        "                   usecols = ['tconst','ordering','nconst','category'],\n",
        "                   dtype = {'tconst': str, 'ordering': str, 'nconst': str, 'category': str})\n",
        "titles = pd.read_csv('title.basics.tsv', sep='\\t', na_values = \"\\\\N\", keep_default_na = False,\n",
        "                     usecols = ['tconst','primaryTitle','startYear','titleType','genres'],\n",
        "                    dtype = {'tconst': str, 'primaryTitle': str, 'startYear': 'Int64','titleType':str, 'genres': str})\n",
        "names = pd.read_csv('name.basics.tsv', sep='\\t', na_values = \"\\\\N\", keep_default_na = False,\n",
        "                    usecols = ['nconst','primaryName'], \n",
        "                    dtype = {'nconst': str, 'primaryName': str})"
      ],
      "execution_count": 0,
      "outputs": []
    },
    {
      "cell_type": "code",
      "metadata": {
        "id": "4aD7MGfGncWQ",
        "colab_type": "code",
        "colab": {}
      },
      "source": [
        "def remove_film_year(sequel):\n",
        "  if \"(\" in sequel:\n",
        "    i = sequel.index(\"(\")\n",
        "    return sequel[0:i-1]\n",
        "  return sequel"
      ],
      "execution_count": 0,
      "outputs": []
    },
    {
      "cell_type": "code",
      "metadata": {
        "id": "2a2zMvM9tZhM",
        "colab_type": "code",
        "colab": {}
      },
      "source": [
        "first_movie_list = [remove_film_year(first_movie) for first_movie in first_movie_list]\n",
        "sequel_movie_list = [remove_film_year(sequel) for sequel in sequel_movie_list]"
      ],
      "execution_count": 0,
      "outputs": []
    },
    {
      "cell_type": "code",
      "metadata": {
        "id": "mNJ3kBovLtNR",
        "colab_type": "code",
        "colab": {
          "base_uri": "https://localhost:8080/",
          "height": 204
        },
        "outputId": "bc07e35d-b64d-464d-d92b-1571d5fc9bab"
      },
      "source": [
        "sequel_pairs = pd.DataFrame({\"first_movie\" : first_movie_list, \"sequel\" : sequel_movie_list})\n",
        "sequel_pairs.head()"
      ],
      "execution_count": 9,
      "outputs": [
        {
          "output_type": "execute_result",
          "data": {
            "text/html": [
              "<div>\n",
              "<style scoped>\n",
              "    .dataframe tbody tr th:only-of-type {\n",
              "        vertical-align: middle;\n",
              "    }\n",
              "\n",
              "    .dataframe tbody tr th {\n",
              "        vertical-align: top;\n",
              "    }\n",
              "\n",
              "    .dataframe thead th {\n",
              "        text-align: right;\n",
              "    }\n",
              "</style>\n",
              "<table border=\"1\" class=\"dataframe\">\n",
              "  <thead>\n",
              "    <tr style=\"text-align: right;\">\n",
              "      <th></th>\n",
              "      <th>first_movie</th>\n",
              "      <th>sequel</th>\n",
              "    </tr>\n",
              "  </thead>\n",
              "  <tbody>\n",
              "    <tr>\n",
              "      <th>0</th>\n",
              "      <td>22 Jump Street</td>\n",
              "      <td>21 Jump Street</td>\n",
              "    </tr>\n",
              "    <tr>\n",
              "      <th>1</th>\n",
              "      <td>For a Few Dollars More</td>\n",
              "      <td>A Fistful of Dollars</td>\n",
              "    </tr>\n",
              "    <tr>\n",
              "      <th>2</th>\n",
              "      <td>A Nightmare on Elm Street 2: Freddy's Revenge</td>\n",
              "      <td>A Nightmare on Elm Street</td>\n",
              "    </tr>\n",
              "    <tr>\n",
              "      <th>3</th>\n",
              "      <td>A Nightmare on Elm Street</td>\n",
              "      <td>A Nightmare on Elm Street 2: Freddy's Revenge</td>\n",
              "    </tr>\n",
              "    <tr>\n",
              "      <th>4</th>\n",
              "      <td>A Nightmare on Elm Street 3: Dream Warriors</td>\n",
              "      <td>A Nightmare on Elm Street 2: Freddy's Revenge</td>\n",
              "    </tr>\n",
              "  </tbody>\n",
              "</table>\n",
              "</div>"
            ],
            "text/plain": [
              "                                     first_movie                                         sequel\n",
              "0                                 22 Jump Street                                 21 Jump Street\n",
              "1                         For a Few Dollars More                           A Fistful of Dollars\n",
              "2  A Nightmare on Elm Street 2: Freddy's Revenge                      A Nightmare on Elm Street\n",
              "3                      A Nightmare on Elm Street  A Nightmare on Elm Street 2: Freddy's Revenge\n",
              "4    A Nightmare on Elm Street 3: Dream Warriors  A Nightmare on Elm Street 2: Freddy's Revenge"
            ]
          },
          "metadata": {
            "tags": []
          },
          "execution_count": 9
        }
      ]
    },
    {
      "cell_type": "code",
      "metadata": {
        "id": "pFKRL9oKXfuR",
        "colab_type": "code",
        "colab": {}
      },
      "source": [
        "titles = titles[titles.titleType == 'movie']"
      ],
      "execution_count": 0,
      "outputs": []
    },
    {
      "cell_type": "code",
      "metadata": {
        "id": "C4QHHcJPtkyo",
        "colab_type": "code",
        "colab": {}
      },
      "source": [
        "def prepare_data(first_movie_list, sequel_movie_list):\n",
        "  movie_titles = titles[titles.primaryTitle.isin(first_movie_list + sequel_movie_list)]\n",
        "  movie_titles = pd.merge(movie_titles, cast, on = 'tconst')\n",
        "  movie_titles = pd.merge(movie_titles, names, on = 'nconst')\n",
        "  movie_titles = movie_titles.drop(columns = ['titleType','tconst','nconst'])\n",
        "  \n",
        "  movie_information = movie_titles[movie_titles.category.isin(['actor','actress','director'])].copy()\n",
        "  movie_information.replace(['actor','actress','director'], ['act','act','dir'], inplace = True)\n",
        "  movie_information['role'] = movie_information.category + movie_information.ordering\n",
        "  movie_information.head()\n",
        "  movie_summary = pd.pivot_table(movie_information, columns = 'role', values = 'primaryName', index = ['primaryTitle','startYear','genres'], aggfunc = 'first')\n",
        "  movie_summary = movie_summary[['act1','act2','act3','act4','dir5']].reset_index()\n",
        "  \n",
        "  first_movie_titles = movie_summary[movie_summary.primaryTitle.isin(first_movie_list)]\n",
        "  first_movie_titles.columns = 'fm_' + first_movie_titles.columns\n",
        "  sequel_movie_titles = movie_summary[movie_summary.primaryTitle.isin(sequel_movie_list)]\n",
        "  sequel_movie_titles.columns = 's_' + sequel_movie_titles.columns\n",
        "  \n",
        "  sequel_pairs = pd.DataFrame({\"first_movie\" : first_movie_list, \"sequel\" : sequel_movie_list})\n",
        "  \n",
        "  sequel_table = pd.merge(pd.merge(first_movie_titles, sequel_pairs, left_on = 'fm_primaryTitle', right_on = 'first_movie', how = 'inner'),\n",
        "                        sequel_movie_titles, left_on = 'sequel', right_on = 's_primaryTitle', how = 'inner')\n",
        "  sequel_table = sequel_table[sequel_table.fm_startYear <= sequel_table.s_startYear].copy()\n",
        "  sequel_table.drop(columns = ['first_movie','sequel'], inplace = True)\n",
        "\n",
        "  return sequel_table"
      ],
      "execution_count": 0,
      "outputs": []
    },
    {
      "cell_type": "code",
      "metadata": {
        "id": "1Fd0Ez4eUZFb",
        "colab_type": "code",
        "colab": {}
      },
      "source": [
        "sequel_table = prepare_data(first_movie_list, sequel_movie_list)"
      ],
      "execution_count": 0,
      "outputs": []
    },
    {
      "cell_type": "code",
      "metadata": {
        "id": "4ocGJ6BOV2Sy",
        "colab_type": "code",
        "colab": {
          "base_uri": "https://localhost:8080/",
          "height": 394
        },
        "outputId": "27aab23a-2009-412b-ad78-2c94f67fbd13"
      },
      "source": [
        "sequel_table.head()"
      ],
      "execution_count": 13,
      "outputs": [
        {
          "output_type": "execute_result",
          "data": {
            "text/html": [
              "<div>\n",
              "<style scoped>\n",
              "    .dataframe tbody tr th:only-of-type {\n",
              "        vertical-align: middle;\n",
              "    }\n",
              "\n",
              "    .dataframe tbody tr th {\n",
              "        vertical-align: top;\n",
              "    }\n",
              "\n",
              "    .dataframe thead th {\n",
              "        text-align: right;\n",
              "    }\n",
              "</style>\n",
              "<table border=\"1\" class=\"dataframe\">\n",
              "  <thead>\n",
              "    <tr style=\"text-align: right;\">\n",
              "      <th></th>\n",
              "      <th>fm_primaryTitle</th>\n",
              "      <th>fm_startYear</th>\n",
              "      <th>fm_genres</th>\n",
              "      <th>fm_act1</th>\n",
              "      <th>fm_act2</th>\n",
              "      <th>fm_act3</th>\n",
              "      <th>fm_act4</th>\n",
              "      <th>fm_dir5</th>\n",
              "      <th>s_primaryTitle</th>\n",
              "      <th>s_startYear</th>\n",
              "      <th>s_genres</th>\n",
              "      <th>s_act1</th>\n",
              "      <th>s_act2</th>\n",
              "      <th>s_act3</th>\n",
              "      <th>s_act4</th>\n",
              "      <th>s_dir5</th>\n",
              "    </tr>\n",
              "  </thead>\n",
              "  <tbody>\n",
              "    <tr>\n",
              "      <th>1</th>\n",
              "      <td>A Fistful of Dollars</td>\n",
              "      <td>1964</td>\n",
              "      <td>Drama,Western</td>\n",
              "      <td>Clint Eastwood</td>\n",
              "      <td>Gian Maria Volontè</td>\n",
              "      <td>Marianne Koch</td>\n",
              "      <td>Wolfgang Lukschy</td>\n",
              "      <td>Sergio Leone</td>\n",
              "      <td>For a Few Dollars More</td>\n",
              "      <td>1965</td>\n",
              "      <td>Western</td>\n",
              "      <td>Clint Eastwood</td>\n",
              "      <td>Lee Van Cleef</td>\n",
              "      <td>Gian Maria Volontè</td>\n",
              "      <td>Mario Brega</td>\n",
              "      <td>Sergio Leone</td>\n",
              "    </tr>\n",
              "    <tr>\n",
              "      <th>2</th>\n",
              "      <td>A Nightmare on Elm Street</td>\n",
              "      <td>1984</td>\n",
              "      <td>Horror</td>\n",
              "      <td>Heather Langenkamp</td>\n",
              "      <td>Johnny Depp</td>\n",
              "      <td>Robert Englund</td>\n",
              "      <td>John Saxon</td>\n",
              "      <td>Wes Craven</td>\n",
              "      <td>A Nightmare on Elm Street 2: Freddy's Revenge</td>\n",
              "      <td>1985</td>\n",
              "      <td>Horror</td>\n",
              "      <td>Robert Englund</td>\n",
              "      <td>Mark Patton</td>\n",
              "      <td>Kim Myers</td>\n",
              "      <td>Robert Rusler</td>\n",
              "      <td>Jack Sholder</td>\n",
              "    </tr>\n",
              "    <tr>\n",
              "      <th>5</th>\n",
              "      <td>A Nightmare on Elm Street</td>\n",
              "      <td>1984</td>\n",
              "      <td>Horror</td>\n",
              "      <td>Heather Langenkamp</td>\n",
              "      <td>Johnny Depp</td>\n",
              "      <td>Robert Englund</td>\n",
              "      <td>John Saxon</td>\n",
              "      <td>Wes Craven</td>\n",
              "      <td>A Nightmare on Elm Street 3: Dream Warriors</td>\n",
              "      <td>1987</td>\n",
              "      <td>Fantasy,Horror</td>\n",
              "      <td>Heather Langenkamp</td>\n",
              "      <td>Robert Englund</td>\n",
              "      <td>Craig Wasson</td>\n",
              "      <td>Patricia Arquette</td>\n",
              "      <td>Chuck Russell</td>\n",
              "    </tr>\n",
              "    <tr>\n",
              "      <th>8</th>\n",
              "      <td>A Nightmare on Elm Street</td>\n",
              "      <td>1984</td>\n",
              "      <td>Horror</td>\n",
              "      <td>Heather Langenkamp</td>\n",
              "      <td>Johnny Depp</td>\n",
              "      <td>Robert Englund</td>\n",
              "      <td>John Saxon</td>\n",
              "      <td>Wes Craven</td>\n",
              "      <td>A Nightmare on Elm Street 4: The Dream Master</td>\n",
              "      <td>1988</td>\n",
              "      <td>Horror</td>\n",
              "      <td>Robert Englund</td>\n",
              "      <td>Rodney Eastman</td>\n",
              "      <td>John Beckman</td>\n",
              "      <td>Kisha Brackel</td>\n",
              "      <td>Renny Harlin</td>\n",
              "    </tr>\n",
              "    <tr>\n",
              "      <th>10</th>\n",
              "      <td>A Nightmare on Elm Street 3: Dream Warriors</td>\n",
              "      <td>1987</td>\n",
              "      <td>Fantasy,Horror</td>\n",
              "      <td>Heather Langenkamp</td>\n",
              "      <td>Robert Englund</td>\n",
              "      <td>Craig Wasson</td>\n",
              "      <td>Patricia Arquette</td>\n",
              "      <td>Chuck Russell</td>\n",
              "      <td>A Nightmare on Elm Street 4: The Dream Master</td>\n",
              "      <td>1988</td>\n",
              "      <td>Horror</td>\n",
              "      <td>Robert Englund</td>\n",
              "      <td>Rodney Eastman</td>\n",
              "      <td>John Beckman</td>\n",
              "      <td>Kisha Brackel</td>\n",
              "      <td>Renny Harlin</td>\n",
              "    </tr>\n",
              "  </tbody>\n",
              "</table>\n",
              "</div>"
            ],
            "text/plain": [
              "                                fm_primaryTitle  ...         s_dir5\n",
              "1                          A Fistful of Dollars  ...   Sergio Leone\n",
              "2                     A Nightmare on Elm Street  ...   Jack Sholder\n",
              "5                     A Nightmare on Elm Street  ...  Chuck Russell\n",
              "8                     A Nightmare on Elm Street  ...   Renny Harlin\n",
              "10  A Nightmare on Elm Street 3: Dream Warriors  ...   Renny Harlin\n",
              "\n",
              "[5 rows x 16 columns]"
            ]
          },
          "metadata": {
            "tags": []
          },
          "execution_count": 13
        }
      ]
    },
    {
      "cell_type": "code",
      "metadata": {
        "id": "QNOifYKVKQTa",
        "colab_type": "code",
        "colab": {}
      },
      "source": [
        "non_sequel_movies = ['The Searchers','Chisum','She Wore a Yellow Ribbon','There Will Be Blood','Phantom Thread','Little Big Man',\n",
        "                     'Bonnie and Clyde','Out of Africa','Silkwood','Florence Foster Jenkins','The Shawshank Redemption',\n",
        "                     'Escape from Alcatraz','Little Big Horn','American Beauty','An American in Paris']"
      ],
      "execution_count": 0,
      "outputs": []
    },
    {
      "cell_type": "code",
      "metadata": {
        "id": "gfsXu77iOgmp",
        "colab_type": "code",
        "colab": {}
      },
      "source": [
        "ns_first_movie_list = []\n",
        "ns_sequel_movie_list = []\n",
        "for first_movie in non_sequel_movies:\n",
        "  for sequel_movie in non_sequel_movies:\n",
        "    if first_movie != sequel_movie:\n",
        "      ns_first_movie_list.append(first_movie)\n",
        "      ns_sequel_movie_list.append(sequel_movie)"
      ],
      "execution_count": 0,
      "outputs": []
    },
    {
      "cell_type": "code",
      "metadata": {
        "id": "LLUvbEbPJ-78",
        "colab_type": "code",
        "colab": {}
      },
      "source": [
        "non_sequel_table = prepare_data(ns_first_movie_list, ns_sequel_movie_list)"
      ],
      "execution_count": 0,
      "outputs": []
    },
    {
      "cell_type": "code",
      "metadata": {
        "id": "079VhRMlWVFT",
        "colab_type": "code",
        "colab": {
          "base_uri": "https://localhost:8080/",
          "height": 360
        },
        "outputId": "b046322f-12be-46b2-9786-2a8c625bff0b"
      },
      "source": [
        "non_sequel_table.head()"
      ],
      "execution_count": 17,
      "outputs": [
        {
          "output_type": "execute_result",
          "data": {
            "text/html": [
              "<div>\n",
              "<style scoped>\n",
              "    .dataframe tbody tr th:only-of-type {\n",
              "        vertical-align: middle;\n",
              "    }\n",
              "\n",
              "    .dataframe tbody tr th {\n",
              "        vertical-align: top;\n",
              "    }\n",
              "\n",
              "    .dataframe thead th {\n",
              "        text-align: right;\n",
              "    }\n",
              "</style>\n",
              "<table border=\"1\" class=\"dataframe\">\n",
              "  <thead>\n",
              "    <tr style=\"text-align: right;\">\n",
              "      <th></th>\n",
              "      <th>fm_primaryTitle</th>\n",
              "      <th>fm_startYear</th>\n",
              "      <th>fm_genres</th>\n",
              "      <th>fm_act1</th>\n",
              "      <th>fm_act2</th>\n",
              "      <th>fm_act3</th>\n",
              "      <th>fm_act4</th>\n",
              "      <th>fm_dir5</th>\n",
              "      <th>s_primaryTitle</th>\n",
              "      <th>s_startYear</th>\n",
              "      <th>s_genres</th>\n",
              "      <th>s_act1</th>\n",
              "      <th>s_act2</th>\n",
              "      <th>s_act3</th>\n",
              "      <th>s_act4</th>\n",
              "      <th>s_dir5</th>\n",
              "    </tr>\n",
              "  </thead>\n",
              "  <tbody>\n",
              "    <tr>\n",
              "      <th>1</th>\n",
              "      <td>An American in Paris</td>\n",
              "      <td>1951</td>\n",
              "      <td>Drama,Musical,Romance</td>\n",
              "      <td>Gene Kelly</td>\n",
              "      <td>Leslie Caron</td>\n",
              "      <td>Oscar Levant</td>\n",
              "      <td>Georges Guétary</td>\n",
              "      <td>Vincente Minnelli</td>\n",
              "      <td>The Searchers</td>\n",
              "      <td>1956</td>\n",
              "      <td>Adventure,Drama,Western</td>\n",
              "      <td>John Wayne</td>\n",
              "      <td>Jeffrey Hunter</td>\n",
              "      <td>Vera Miles</td>\n",
              "      <td>Ward Bond</td>\n",
              "      <td>John Ford</td>\n",
              "    </tr>\n",
              "    <tr>\n",
              "      <th>6</th>\n",
              "      <td>Little Big Horn</td>\n",
              "      <td>1951</td>\n",
              "      <td>Western</td>\n",
              "      <td>Lloyd Bridges</td>\n",
              "      <td>John Ireland</td>\n",
              "      <td>Marie Windsor</td>\n",
              "      <td>Reed Hadley</td>\n",
              "      <td>Charles Marquis Warren</td>\n",
              "      <td>The Searchers</td>\n",
              "      <td>1956</td>\n",
              "      <td>Adventure,Drama,Western</td>\n",
              "      <td>John Wayne</td>\n",
              "      <td>Jeffrey Hunter</td>\n",
              "      <td>Vera Miles</td>\n",
              "      <td>Ward Bond</td>\n",
              "      <td>John Ford</td>\n",
              "    </tr>\n",
              "    <tr>\n",
              "      <th>10</th>\n",
              "      <td>She Wore a Yellow Ribbon</td>\n",
              "      <td>1949</td>\n",
              "      <td>Western</td>\n",
              "      <td>John Wayne</td>\n",
              "      <td>Joanne Dru</td>\n",
              "      <td>John Agar</td>\n",
              "      <td>Ben Johnson</td>\n",
              "      <td>John Ford</td>\n",
              "      <td>The Searchers</td>\n",
              "      <td>1956</td>\n",
              "      <td>Adventure,Drama,Western</td>\n",
              "      <td>John Wayne</td>\n",
              "      <td>Jeffrey Hunter</td>\n",
              "      <td>Vera Miles</td>\n",
              "      <td>Ward Bond</td>\n",
              "      <td>John Ford</td>\n",
              "    </tr>\n",
              "    <tr>\n",
              "      <th>15</th>\n",
              "      <td>An American in Paris</td>\n",
              "      <td>1951</td>\n",
              "      <td>Drama,Musical,Romance</td>\n",
              "      <td>Gene Kelly</td>\n",
              "      <td>Leslie Caron</td>\n",
              "      <td>Oscar Levant</td>\n",
              "      <td>Georges Guétary</td>\n",
              "      <td>Vincente Minnelli</td>\n",
              "      <td>Chisum</td>\n",
              "      <td>1970</td>\n",
              "      <td>Biography,Western</td>\n",
              "      <td>John Wayne</td>\n",
              "      <td>Forrest Tucker</td>\n",
              "      <td>Christopher George</td>\n",
              "      <td>Ben Johnson</td>\n",
              "      <td>Andrew V. McLaglen</td>\n",
              "    </tr>\n",
              "    <tr>\n",
              "      <th>16</th>\n",
              "      <td>Bonnie and Clyde</td>\n",
              "      <td>1967</td>\n",
              "      <td>Action,Biography,Crime</td>\n",
              "      <td>Warren Beatty</td>\n",
              "      <td>Faye Dunaway</td>\n",
              "      <td>Michael J. Pollard</td>\n",
              "      <td>Gene Hackman</td>\n",
              "      <td>Arthur Penn</td>\n",
              "      <td>Chisum</td>\n",
              "      <td>1970</td>\n",
              "      <td>Biography,Western</td>\n",
              "      <td>John Wayne</td>\n",
              "      <td>Forrest Tucker</td>\n",
              "      <td>Christopher George</td>\n",
              "      <td>Ben Johnson</td>\n",
              "      <td>Andrew V. McLaglen</td>\n",
              "    </tr>\n",
              "  </tbody>\n",
              "</table>\n",
              "</div>"
            ],
            "text/plain": [
              "             fm_primaryTitle  fm_startYear  ...       s_act4              s_dir5\n",
              "1       An American in Paris          1951  ...    Ward Bond           John Ford\n",
              "6            Little Big Horn          1951  ...    Ward Bond           John Ford\n",
              "10  She Wore a Yellow Ribbon          1949  ...    Ward Bond           John Ford\n",
              "15      An American in Paris          1951  ...  Ben Johnson  Andrew V. McLaglen\n",
              "16          Bonnie and Clyde          1967  ...  Ben Johnson  Andrew V. McLaglen\n",
              "\n",
              "[5 rows x 16 columns]"
            ]
          },
          "metadata": {
            "tags": []
          },
          "execution_count": 17
        }
      ]
    },
    {
      "cell_type": "code",
      "metadata": {
        "id": "keh8WL0Sx0E9",
        "colab_type": "code",
        "colab": {}
      },
      "source": [
        "def get_plot(movie_list):\n",
        "  plot_list = []\n",
        "  for movie in movie_list:\n",
        "    search = wikipedia.search(movie)\n",
        "    if movie + ' (film)' in search:\n",
        "      search_movie = movie + ' (film)'\n",
        "    elif movie in search:\n",
        "      search_movie = movie\n",
        "    else:\n",
        "      print(movie)\n",
        "    page = wikipedia.page(search_movie)\n",
        "    plot = page.section(\"Plot\")\n",
        "    if not plot:\n",
        "      plot = page.section(\"Synopsis\")\n",
        "    if plot:\n",
        "      plot_list.append(plot)\n",
        "    else:\n",
        "      print(movie)\n",
        "  return plot_list\n",
        "      \n"
      ],
      "execution_count": 0,
      "outputs": []
    },
    {
      "cell_type": "code",
      "metadata": {
        "id": "qsP9mQ-xXwsO",
        "colab_type": "code",
        "colab": {
          "base_uri": "https://localhost:8080/",
          "height": 34
        },
        "outputId": "778a831a-4ca1-4d01-93c0-eab298076fdc"
      },
      "source": [
        "non_sequel_plot_list = get_plot(non_sequel_movies)"
      ],
      "execution_count": 56,
      "outputs": [
        {
          "output_type": "stream",
          "text": [
            "American Beauty\n"
          ],
          "name": "stdout"
        }
      ]
    },
    {
      "cell_type": "code",
      "metadata": {
        "id": "ghcF2Yc3tkl0",
        "colab_type": "code",
        "colab": {
          "base_uri": "https://localhost:8080/",
          "height": 170
        },
        "outputId": "cdce52fe-17cb-4430-d925-88aff92e31de"
      },
      "source": [
        "l = get_plot(np.unique(pd.concat([sequel_table.fm_primaryTitle,sequel_table.s_primaryTitle])))"
      ],
      "execution_count": 57,
      "outputs": [
        {
          "output_type": "stream",
          "text": [
            "Bad Boys\n",
            "Friday\n",
            "Hellboy\n",
            "Ice Age\n",
            "Jackass Number Two\n",
            "Jackass: The Movie\n",
            "Rush Hour\n",
            "The Enforcer\n",
            "The Mummy\n"
          ],
          "name": "stdout"
        }
      ]
    },
    {
      "cell_type": "code",
      "metadata": {
        "id": "jPOXg8r3wU9a",
        "colab_type": "code",
        "colab": {
          "base_uri": "https://localhost:8080/",
          "height": 34
        },
        "outputId": "db3642fe-0f84-4077-8bab-4578498c225c"
      },
      "source": [
        "movie = 'Die Hard (film)'\n",
        "wikipedia.page(movie)"
      ],
      "execution_count": 52,
      "outputs": [
        {
          "output_type": "execute_result",
          "data": {
            "text/plain": [
              "<WikipediaPage 'Die Hard (film series)'>"
            ]
          },
          "metadata": {
            "tags": []
          },
          "execution_count": 52
        }
      ]
    },
    {
      "cell_type": "code",
      "metadata": {
        "id": "U1Nlkb45xxRG",
        "colab_type": "code",
        "colab": {
          "base_uri": "https://localhost:8080/",
          "height": 187
        },
        "outputId": "7c49c457-4b96-4192-b4f5-0d4a4069dfe7"
      },
      "source": [
        "wikipedia.search(movie)"
      ],
      "execution_count": 54,
      "outputs": [
        {
          "output_type": "execute_result",
          "data": {
            "text/plain": [
              "['Die Hard (film series)',\n",
              " 'Die Hard',\n",
              " 'Live Free or Die Hard',\n",
              " 'Die Hard with a Vengeance',\n",
              " 'A Good Day to Die Hard',\n",
              " 'Die Hard 2',\n",
              " 'Die hard',\n",
              " 'Die Hard Trilogy',\n",
              " 'List of Die Hard characters',\n",
              " 'To Die Is Hard']"
            ]
          },
          "metadata": {
            "tags": []
          },
          "execution_count": 54
        }
      ]
    },
    {
      "cell_type": "code",
      "metadata": {
        "id": "TfDdXAzjyYyn",
        "colab_type": "code",
        "colab": {
          "base_uri": "https://localhost:8080/",
          "height": 54
        },
        "outputId": "508a73ae-2284-4b02-f273-737d3fea5912"
      },
      "source": [
        "wikipedia.page(\"Amadeus film 1984\").summary"
      ],
      "execution_count": 62,
      "outputs": [
        {
          "output_type": "execute_result",
          "data": {
            "text/plain": [
              "\"Amadeus is a 1984 American period drama film directed by Miloš Forman and adapted by Peter Shaffer from his stage play Amadeus. The story is set in Vienna, Austria during the latter half of the 18th century, and is a fictionalized biography of Wolfgang Amadeus Mozart. Mozart's music is heard extensively in the soundtrack of the film. The film follows a fictional rivalry between Mozart and Italian composer Antonio Salieri at the court of Emperor Joseph II.\\nAmadeus is considered one of the best films of all time. It was nominated for 53 awards and received 40, which included eight Academy Awards, four BAFTA Awards, four Golden Globe Awards, and a Directors Guild of America award. As of 2019, it is the most recent film to have more than one nomination in the Academy Award for Best Actor category. In 1998, the American Film Institute ranked it 53rd on its 100 Years... 100 Movies list.\""
            ]
          },
          "metadata": {
            "tags": []
          },
          "execution_count": 62
        }
      ]
    },
    {
      "cell_type": "code",
      "metadata": {
        "id": "uuBvCZYGAJvJ",
        "colab_type": "code",
        "colab": {}
      },
      "source": [
        ""
      ],
      "execution_count": 0,
      "outputs": []
    }
  ]
}