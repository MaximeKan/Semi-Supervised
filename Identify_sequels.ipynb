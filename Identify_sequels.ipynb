{
  "nbformat": 4,
  "nbformat_minor": 0,
  "metadata": {
    "colab": {
      "name": "Identify_sequels.ipynb",
      "version": "0.3.2",
      "provenance": []
    },
    "kernelspec": {
      "name": "python3",
      "display_name": "Python 3"
    }
  },
  "cells": [
    {
      "cell_type": "code",
      "metadata": {
        "id": "UKTOXPP3T_Px",
        "colab_type": "code",
        "colab": {}
      },
      "source": [
        "%%capture\n",
        "!pip install wikipedia -q\n",
        "import wikipedia\n",
        "import requests\n",
        "import pandas as pd\n",
        "import numpy as np\n",
        "import matplotlib.pyplot as plt"
      ],
      "execution_count": 0,
      "outputs": []
    },
    {
      "cell_type": "code",
      "metadata": {
        "id": "pDnB9ksS7cVA",
        "colab_type": "code",
        "colab": {}
      },
      "source": [
        "%matplotlib inline"
      ],
      "execution_count": 0,
      "outputs": []
    },
    {
      "cell_type": "code",
      "metadata": {
        "id": "cLs6oQw5jRhe",
        "colab_type": "code",
        "colab": {}
      },
      "source": [
        "S = requests.Session()\n",
        "\n",
        "URL = \"https://en.wikipedia.org/w/api.php\"\n",
        "\n",
        "PARAMS = {\n",
        "    \"action\": \"query\",\n",
        "    \"format\": \"json\",\n",
        "    \"titles\": \"List_of_film_sequels_by_box-office_improvement\",\n",
        "    \"prop\": \"links\",\n",
        "    \"pllimit\": 500\n",
        "}\n",
        "\n",
        "R = S.get(url=URL, params=PARAMS)\n",
        "DATA = R.json()\n",
        "\n",
        "PAGES = DATA[\"query\"][\"pages\"]\n",
        "\n",
        "sequels = []\n",
        "for k, v in PAGES.items():\n",
        "    for l in v[\"links\"]:\n",
        "        sequels.append(l[\"title\"])"
      ],
      "execution_count": 0,
      "outputs": []
    },
    {
      "cell_type": "code",
      "metadata": {
        "id": "1Y3ZWOVv_HGm",
        "colab_type": "code",
        "colab": {}
      },
      "source": [
        "first_movie_list = []\n",
        "sequel_movie_list = []\n",
        "for sequel in sequels:\n",
        "    page = wikipedia.page(sequel)\n",
        "    summary = page.summary\n",
        "    for first_movie in sequels:\n",
        "        if first_movie in summary and first_movie != sequel:\n",
        "            first_movie_list.append(first_movie)\n",
        "            sequel_movie_list.append(sequel)"
      ],
      "execution_count": 0,
      "outputs": []
    },
    {
      "cell_type": "code",
      "metadata": {
        "id": "UINR93CRCFu1",
        "colab_type": "code",
        "colab": {}
      },
      "source": [
        "%%capture\n",
        "! wget \"https://datasets.imdbws.com/title.principals.tsv.gz\"\n",
        "! wget \"https://datasets.imdbws.com/title.basics.tsv.gz\"\n",
        "! wget \"https://datasets.imdbws.com/name.basics.tsv.gz\"\n",
        "\n",
        "! gunzip title.principals.tsv.gz\n",
        "! gunzip title.basics.tsv.gz\n",
        "! gunzip name.basics.tsv.gz"
      ],
      "execution_count": 0,
      "outputs": []
    },
    {
      "cell_type": "code",
      "metadata": {
        "id": "PDVb4cXuln8V",
        "colab_type": "code",
        "colab": {}
      },
      "source": [
        "cast = pd.read_csv('title.principals.tsv', sep='\\t', na_values = \"\\\\N\", keep_default_na = False, \n",
        "                   usecols = ['tconst','ordering','nconst','category'],\n",
        "                   dtype = {'tconst': str, 'ordering': str, 'nconst': str, 'category': str})\n",
        "titles = pd.read_csv('title.basics.tsv', sep='\\t', na_values = \"\\\\N\", keep_default_na = False,\n",
        "                     usecols = ['tconst','primaryTitle','startYear','titleType','genres'],\n",
        "                    dtype = {'tconst': str, 'primaryTitle': str, 'startYear': 'Int64','titleType':str, 'genres': str})\n",
        "names = pd.read_csv('name.basics.tsv', sep='\\t', na_values = \"\\\\N\", keep_default_na = False,\n",
        "                    usecols = ['nconst','primaryName'], \n",
        "                    dtype = {'nconst': str, 'primaryName': str})"
      ],
      "execution_count": 0,
      "outputs": []
    },
    {
      "cell_type": "code",
      "metadata": {
        "id": "4aD7MGfGncWQ",
        "colab_type": "code",
        "colab": {}
      },
      "source": [
        "def remove_film_year(sequel):\n",
        "    if \"(\" in sequel:\n",
        "        i = sequel.index(\"(\")\n",
        "        return sequel[0:i-1]\n",
        "    return sequel"
      ],
      "execution_count": 0,
      "outputs": []
    },
    {
      "cell_type": "code",
      "metadata": {
        "id": "2a2zMvM9tZhM",
        "colab_type": "code",
        "colab": {}
      },
      "source": [
        "first_movie_list = [remove_film_year(first_movie) for first_movie in first_movie_list]\n",
        "sequel_movie_list = [remove_film_year(sequel) for sequel in sequel_movie_list]"
      ],
      "execution_count": 0,
      "outputs": []
    },
    {
      "cell_type": "code",
      "metadata": {
        "id": "mNJ3kBovLtNR",
        "colab_type": "code",
        "colab": {
          "base_uri": "https://localhost:8080/",
          "height": 204
        },
        "outputId": "b797abbf-10a8-4b05-87cb-7756fa430c06"
      },
      "source": [
        "sequel_pairs = pd.DataFrame({\"first_movie\" : first_movie_list, \"sequel\" : sequel_movie_list})\n",
        "sequel_pairs.head()"
      ],
      "execution_count": 9,
      "outputs": [
        {
          "output_type": "execute_result",
          "data": {
            "text/html": [
              "<div>\n",
              "<style scoped>\n",
              "    .dataframe tbody tr th:only-of-type {\n",
              "        vertical-align: middle;\n",
              "    }\n",
              "\n",
              "    .dataframe tbody tr th {\n",
              "        vertical-align: top;\n",
              "    }\n",
              "\n",
              "    .dataframe thead th {\n",
              "        text-align: right;\n",
              "    }\n",
              "</style>\n",
              "<table border=\"1\" class=\"dataframe\">\n",
              "  <thead>\n",
              "    <tr style=\"text-align: right;\">\n",
              "      <th></th>\n",
              "      <th>first_movie</th>\n",
              "      <th>sequel</th>\n",
              "    </tr>\n",
              "  </thead>\n",
              "  <tbody>\n",
              "    <tr>\n",
              "      <th>0</th>\n",
              "      <td>22 Jump Street</td>\n",
              "      <td>21 Jump Street</td>\n",
              "    </tr>\n",
              "    <tr>\n",
              "      <th>1</th>\n",
              "      <td>For a Few Dollars More</td>\n",
              "      <td>A Fistful of Dollars</td>\n",
              "    </tr>\n",
              "    <tr>\n",
              "      <th>2</th>\n",
              "      <td>A Nightmare on Elm Street 2: Freddy's Revenge</td>\n",
              "      <td>A Nightmare on Elm Street</td>\n",
              "    </tr>\n",
              "    <tr>\n",
              "      <th>3</th>\n",
              "      <td>A Nightmare on Elm Street</td>\n",
              "      <td>A Nightmare on Elm Street 2: Freddy's Revenge</td>\n",
              "    </tr>\n",
              "    <tr>\n",
              "      <th>4</th>\n",
              "      <td>A Nightmare on Elm Street 3: Dream Warriors</td>\n",
              "      <td>A Nightmare on Elm Street 2: Freddy's Revenge</td>\n",
              "    </tr>\n",
              "  </tbody>\n",
              "</table>\n",
              "</div>"
            ],
            "text/plain": [
              "                                     first_movie                                         sequel\n",
              "0                                 22 Jump Street                                 21 Jump Street\n",
              "1                         For a Few Dollars More                           A Fistful of Dollars\n",
              "2  A Nightmare on Elm Street 2: Freddy's Revenge                      A Nightmare on Elm Street\n",
              "3                      A Nightmare on Elm Street  A Nightmare on Elm Street 2: Freddy's Revenge\n",
              "4    A Nightmare on Elm Street 3: Dream Warriors  A Nightmare on Elm Street 2: Freddy's Revenge"
            ]
          },
          "metadata": {
            "tags": []
          },
          "execution_count": 9
        }
      ]
    },
    {
      "cell_type": "code",
      "metadata": {
        "id": "pFKRL9oKXfuR",
        "colab_type": "code",
        "colab": {}
      },
      "source": [
        "titles = titles[titles.titleType == 'movie']\n",
        "cast = cast[cast.category.isin(['director','actor','actress'])]"
      ],
      "execution_count": 0,
      "outputs": []
    },
    {
      "cell_type": "code",
      "metadata": {
        "id": "C4QHHcJPtkyo",
        "colab_type": "code",
        "colab": {}
      },
      "source": [
        "def prepare_data(first_movie_list, sequel_movie_list):\n",
        "    movie_titles = titles[titles.primaryTitle.isin(first_movie_list + sequel_movie_list)].copy()\n",
        "    movie_titles.drop_duplicates(subset = 'primaryTitle', keep = False, inplace = True)\n",
        "    movie_titles = pd.merge(movie_titles, cast, on = 'tconst')\n",
        "    movie_titles = pd.merge(movie_titles, names, on = 'nconst')\n",
        "    movie_titles = movie_titles.drop(columns = ['titleType','tconst','nconst'])\n",
        "\n",
        "    movie_information = movie_titles.replace(['actor','actress','director'], ['act','act','dir'])\n",
        "    movie_information['role'] = movie_information.category + movie_information.ordering\n",
        "    movie_summary = pd.pivot_table(movie_information, columns = 'role', values = 'primaryName', index = ['primaryTitle','startYear','genres'], aggfunc = 'first') #add genres back\n",
        "    movie_summary = movie_summary[['act1','act2','act3','act4','dir5']].reset_index()\n",
        "\n",
        "    first_movie_titles = movie_summary[movie_summary.primaryTitle.isin(first_movie_list)]\n",
        "    first_movie_titles = first_movie_titles.add_prefix('fm_')\n",
        "    sequel_movie_titles = movie_summary[movie_summary.primaryTitle.isin(sequel_movie_list)]\n",
        "    sequel_movie_titles = sequel_movie_titles.add_prefix('s_')\n",
        "\n",
        "    sequel_pairs = pd.DataFrame({\"first_movie\" : first_movie_list, \"sequel\" : sequel_movie_list})\n",
        "\n",
        "    sequel_table = pd.merge(pd.merge(first_movie_titles, sequel_pairs, left_on = 'fm_primaryTitle', right_on = 'first_movie', how = 'inner'),\n",
        "                        sequel_movie_titles, left_on = 'sequel', right_on = 's_primaryTitle', how = 'inner')\n",
        "    sequel_table = sequel_table[sequel_table.fm_startYear <= sequel_table.s_startYear].copy()\n",
        "    sequel_table.drop(columns = ['first_movie','sequel'], inplace = True)\n",
        "\n",
        "    return sequel_table"
      ],
      "execution_count": 0,
      "outputs": []
    },
    {
      "cell_type": "code",
      "metadata": {
        "id": "1Fd0Ez4eUZFb",
        "colab_type": "code",
        "colab": {}
      },
      "source": [
        "sequel_table = prepare_data(first_movie_list, sequel_movie_list)"
      ],
      "execution_count": 0,
      "outputs": []
    },
    {
      "cell_type": "code",
      "metadata": {
        "id": "4ocGJ6BOV2Sy",
        "colab_type": "code",
        "colab": {
          "base_uri": "https://localhost:8080/",
          "height": 377
        },
        "outputId": "a2c160d2-5de9-4447-f9af-41113ba75b39"
      },
      "source": [
        "sequel_table.head()"
      ],
      "execution_count": 13,
      "outputs": [
        {
          "output_type": "execute_result",
          "data": {
            "text/html": [
              "<div>\n",
              "<style scoped>\n",
              "    .dataframe tbody tr th:only-of-type {\n",
              "        vertical-align: middle;\n",
              "    }\n",
              "\n",
              "    .dataframe tbody tr th {\n",
              "        vertical-align: top;\n",
              "    }\n",
              "\n",
              "    .dataframe thead th {\n",
              "        text-align: right;\n",
              "    }\n",
              "</style>\n",
              "<table border=\"1\" class=\"dataframe\">\n",
              "  <thead>\n",
              "    <tr style=\"text-align: right;\">\n",
              "      <th></th>\n",
              "      <th>fm_primaryTitle</th>\n",
              "      <th>fm_startYear</th>\n",
              "      <th>fm_genres</th>\n",
              "      <th>fm_act1</th>\n",
              "      <th>fm_act2</th>\n",
              "      <th>fm_act3</th>\n",
              "      <th>fm_act4</th>\n",
              "      <th>fm_dir5</th>\n",
              "      <th>s_primaryTitle</th>\n",
              "      <th>s_startYear</th>\n",
              "      <th>s_genres</th>\n",
              "      <th>s_act1</th>\n",
              "      <th>s_act2</th>\n",
              "      <th>s_act3</th>\n",
              "      <th>s_act4</th>\n",
              "      <th>s_dir5</th>\n",
              "    </tr>\n",
              "  </thead>\n",
              "  <tbody>\n",
              "    <tr>\n",
              "      <th>1</th>\n",
              "      <td>A Fistful of Dollars</td>\n",
              "      <td>1964</td>\n",
              "      <td>Drama,Western</td>\n",
              "      <td>Clint Eastwood</td>\n",
              "      <td>Gian Maria Volontè</td>\n",
              "      <td>Marianne Koch</td>\n",
              "      <td>Wolfgang Lukschy</td>\n",
              "      <td>Sergio Leone</td>\n",
              "      <td>For a Few Dollars More</td>\n",
              "      <td>1965</td>\n",
              "      <td>Western</td>\n",
              "      <td>Clint Eastwood</td>\n",
              "      <td>Lee Van Cleef</td>\n",
              "      <td>Gian Maria Volontè</td>\n",
              "      <td>Mario Brega</td>\n",
              "      <td>Sergio Leone</td>\n",
              "    </tr>\n",
              "    <tr>\n",
              "      <th>3</th>\n",
              "      <td>A Nightmare on Elm Street 3: Dream Warriors</td>\n",
              "      <td>1987</td>\n",
              "      <td>Fantasy,Horror</td>\n",
              "      <td>Heather Langenkamp</td>\n",
              "      <td>Robert Englund</td>\n",
              "      <td>Craig Wasson</td>\n",
              "      <td>Patricia Arquette</td>\n",
              "      <td>Chuck Russell</td>\n",
              "      <td>A Nightmare on Elm Street 4: The Dream Master</td>\n",
              "      <td>1988</td>\n",
              "      <td>Horror</td>\n",
              "      <td>Robert Englund</td>\n",
              "      <td>Rodney Eastman</td>\n",
              "      <td>John Beckman</td>\n",
              "      <td>Kisha Brackel</td>\n",
              "      <td>Renny Harlin</td>\n",
              "    </tr>\n",
              "    <tr>\n",
              "      <th>5</th>\n",
              "      <td>Ace Ventura: Pet Detective</td>\n",
              "      <td>1994</td>\n",
              "      <td>Comedy</td>\n",
              "      <td>Jim Carrey</td>\n",
              "      <td>Courteney Cox</td>\n",
              "      <td>Sean Young</td>\n",
              "      <td>Tone Loc</td>\n",
              "      <td>Tom Shadyac</td>\n",
              "      <td>Ace Ventura: When Nature Calls</td>\n",
              "      <td>1995</td>\n",
              "      <td>Adventure,Comedy,Crime</td>\n",
              "      <td>Jim Carrey</td>\n",
              "      <td>Ian McNeice</td>\n",
              "      <td>Simon Callow</td>\n",
              "      <td>Maynard Eziashi</td>\n",
              "      <td>Steve Oedekerk</td>\n",
              "    </tr>\n",
              "    <tr>\n",
              "      <th>7</th>\n",
              "      <td>Alvin and the Chipmunks</td>\n",
              "      <td>2007</td>\n",
              "      <td>Animation,Comedy,Family</td>\n",
              "      <td>Jason Lee</td>\n",
              "      <td>Ross Bagdasarian Jr.</td>\n",
              "      <td>Janice Karman</td>\n",
              "      <td>David Cross</td>\n",
              "      <td>Tim Hill</td>\n",
              "      <td>Alvin and the Chipmunks: The Squeakquel</td>\n",
              "      <td>2009</td>\n",
              "      <td>Animation,Comedy,Family</td>\n",
              "      <td>Jason Lee</td>\n",
              "      <td>Zachary Levi</td>\n",
              "      <td>David Cross</td>\n",
              "      <td>Justin Long</td>\n",
              "      <td>Betty Thomas</td>\n",
              "    </tr>\n",
              "    <tr>\n",
              "      <th>9</th>\n",
              "      <td>Anchorman: The Legend of Ron Burgundy</td>\n",
              "      <td>2004</td>\n",
              "      <td>Comedy</td>\n",
              "      <td>Will Ferrell</td>\n",
              "      <td>Christina Applegate</td>\n",
              "      <td>Steve Carell</td>\n",
              "      <td>Paul Rudd</td>\n",
              "      <td>Adam McKay</td>\n",
              "      <td>Anchorman 2: The Legend Continues</td>\n",
              "      <td>2013</td>\n",
              "      <td>Comedy</td>\n",
              "      <td>Will Ferrell</td>\n",
              "      <td>Christina Applegate</td>\n",
              "      <td>Paul Rudd</td>\n",
              "      <td>Steve Carell</td>\n",
              "      <td>Adam McKay</td>\n",
              "    </tr>\n",
              "  </tbody>\n",
              "</table>\n",
              "</div>"
            ],
            "text/plain": [
              "                               fm_primaryTitle  ...          s_dir5\n",
              "1                         A Fistful of Dollars  ...    Sergio Leone\n",
              "3  A Nightmare on Elm Street 3: Dream Warriors  ...    Renny Harlin\n",
              "5                   Ace Ventura: Pet Detective  ...  Steve Oedekerk\n",
              "7                      Alvin and the Chipmunks  ...    Betty Thomas\n",
              "9        Anchorman: The Legend of Ron Burgundy  ...      Adam McKay\n",
              "\n",
              "[5 rows x 16 columns]"
            ]
          },
          "metadata": {
            "tags": []
          },
          "execution_count": 13
        }
      ]
    },
    {
      "cell_type": "code",
      "metadata": {
        "id": "QNOifYKVKQTa",
        "colab_type": "code",
        "colab": {}
      },
      "source": [
        "non_sequel_movies = ['The Searchers','Chisum','She Wore a Yellow Ribbon','There Will Be Blood','Phantom Thread','Little Big Man',\n",
        "                     'Bonnie and Clyde','Out of Africa','Silkwood','Florence Foster Jenkins','The Shawshank Redemption',\n",
        "                     'Escape from Alcatraz','Little Big Horn','American Beauty','An American in Paris']"
      ],
      "execution_count": 0,
      "outputs": []
    },
    {
      "cell_type": "code",
      "metadata": {
        "id": "gfsXu77iOgmp",
        "colab_type": "code",
        "colab": {}
      },
      "source": [
        "ns_first_movie_list = []\n",
        "ns_sequel_movie_list = []\n",
        "for first_movie in non_sequel_movies:\n",
        "    for sequel_movie in non_sequel_movies:\n",
        "        if first_movie != sequel_movie:\n",
        "            ns_first_movie_list.append(first_movie)\n",
        "            ns_sequel_movie_list.append(sequel_movie)"
      ],
      "execution_count": 0,
      "outputs": []
    },
    {
      "cell_type": "code",
      "metadata": {
        "id": "LLUvbEbPJ-78",
        "colab_type": "code",
        "colab": {}
      },
      "source": [
        "non_sequel_table = prepare_data(ns_first_movie_list, ns_sequel_movie_list)"
      ],
      "execution_count": 0,
      "outputs": []
    },
    {
      "cell_type": "code",
      "metadata": {
        "id": "079VhRMlWVFT",
        "colab_type": "code",
        "colab": {
          "base_uri": "https://localhost:8080/",
          "height": 360
        },
        "outputId": "7ead44fb-93ad-42a1-f4e2-bc2e0770bae8"
      },
      "source": [
        "non_sequel_table.head()"
      ],
      "execution_count": 17,
      "outputs": [
        {
          "output_type": "execute_result",
          "data": {
            "text/html": [
              "<div>\n",
              "<style scoped>\n",
              "    .dataframe tbody tr th:only-of-type {\n",
              "        vertical-align: middle;\n",
              "    }\n",
              "\n",
              "    .dataframe tbody tr th {\n",
              "        vertical-align: top;\n",
              "    }\n",
              "\n",
              "    .dataframe thead th {\n",
              "        text-align: right;\n",
              "    }\n",
              "</style>\n",
              "<table border=\"1\" class=\"dataframe\">\n",
              "  <thead>\n",
              "    <tr style=\"text-align: right;\">\n",
              "      <th></th>\n",
              "      <th>fm_primaryTitle</th>\n",
              "      <th>fm_startYear</th>\n",
              "      <th>fm_genres</th>\n",
              "      <th>fm_act1</th>\n",
              "      <th>fm_act2</th>\n",
              "      <th>fm_act3</th>\n",
              "      <th>fm_act4</th>\n",
              "      <th>fm_dir5</th>\n",
              "      <th>s_primaryTitle</th>\n",
              "      <th>s_startYear</th>\n",
              "      <th>s_genres</th>\n",
              "      <th>s_act1</th>\n",
              "      <th>s_act2</th>\n",
              "      <th>s_act3</th>\n",
              "      <th>s_act4</th>\n",
              "      <th>s_dir5</th>\n",
              "    </tr>\n",
              "  </thead>\n",
              "  <tbody>\n",
              "    <tr>\n",
              "      <th>1</th>\n",
              "      <td>An American in Paris</td>\n",
              "      <td>1951</td>\n",
              "      <td>Drama,Musical,Romance</td>\n",
              "      <td>Gene Kelly</td>\n",
              "      <td>Leslie Caron</td>\n",
              "      <td>Oscar Levant</td>\n",
              "      <td>Georges Guétary</td>\n",
              "      <td>Vincente Minnelli</td>\n",
              "      <td>The Searchers</td>\n",
              "      <td>1956</td>\n",
              "      <td>Adventure,Drama,Western</td>\n",
              "      <td>John Wayne</td>\n",
              "      <td>Jeffrey Hunter</td>\n",
              "      <td>Vera Miles</td>\n",
              "      <td>Ward Bond</td>\n",
              "      <td>John Ford</td>\n",
              "    </tr>\n",
              "    <tr>\n",
              "      <th>6</th>\n",
              "      <td>Little Big Horn</td>\n",
              "      <td>1951</td>\n",
              "      <td>Western</td>\n",
              "      <td>Lloyd Bridges</td>\n",
              "      <td>John Ireland</td>\n",
              "      <td>Marie Windsor</td>\n",
              "      <td>Reed Hadley</td>\n",
              "      <td>Charles Marquis Warren</td>\n",
              "      <td>The Searchers</td>\n",
              "      <td>1956</td>\n",
              "      <td>Adventure,Drama,Western</td>\n",
              "      <td>John Wayne</td>\n",
              "      <td>Jeffrey Hunter</td>\n",
              "      <td>Vera Miles</td>\n",
              "      <td>Ward Bond</td>\n",
              "      <td>John Ford</td>\n",
              "    </tr>\n",
              "    <tr>\n",
              "      <th>10</th>\n",
              "      <td>She Wore a Yellow Ribbon</td>\n",
              "      <td>1949</td>\n",
              "      <td>Western</td>\n",
              "      <td>John Wayne</td>\n",
              "      <td>Joanne Dru</td>\n",
              "      <td>John Agar</td>\n",
              "      <td>Ben Johnson</td>\n",
              "      <td>John Ford</td>\n",
              "      <td>The Searchers</td>\n",
              "      <td>1956</td>\n",
              "      <td>Adventure,Drama,Western</td>\n",
              "      <td>John Wayne</td>\n",
              "      <td>Jeffrey Hunter</td>\n",
              "      <td>Vera Miles</td>\n",
              "      <td>Ward Bond</td>\n",
              "      <td>John Ford</td>\n",
              "    </tr>\n",
              "    <tr>\n",
              "      <th>15</th>\n",
              "      <td>An American in Paris</td>\n",
              "      <td>1951</td>\n",
              "      <td>Drama,Musical,Romance</td>\n",
              "      <td>Gene Kelly</td>\n",
              "      <td>Leslie Caron</td>\n",
              "      <td>Oscar Levant</td>\n",
              "      <td>Georges Guétary</td>\n",
              "      <td>Vincente Minnelli</td>\n",
              "      <td>Chisum</td>\n",
              "      <td>1970</td>\n",
              "      <td>Biography,Western</td>\n",
              "      <td>John Wayne</td>\n",
              "      <td>Forrest Tucker</td>\n",
              "      <td>Christopher George</td>\n",
              "      <td>Ben Johnson</td>\n",
              "      <td>Andrew V. McLaglen</td>\n",
              "    </tr>\n",
              "    <tr>\n",
              "      <th>16</th>\n",
              "      <td>Bonnie and Clyde</td>\n",
              "      <td>1967</td>\n",
              "      <td>Action,Biography,Crime</td>\n",
              "      <td>Warren Beatty</td>\n",
              "      <td>Faye Dunaway</td>\n",
              "      <td>Michael J. Pollard</td>\n",
              "      <td>Gene Hackman</td>\n",
              "      <td>Arthur Penn</td>\n",
              "      <td>Chisum</td>\n",
              "      <td>1970</td>\n",
              "      <td>Biography,Western</td>\n",
              "      <td>John Wayne</td>\n",
              "      <td>Forrest Tucker</td>\n",
              "      <td>Christopher George</td>\n",
              "      <td>Ben Johnson</td>\n",
              "      <td>Andrew V. McLaglen</td>\n",
              "    </tr>\n",
              "  </tbody>\n",
              "</table>\n",
              "</div>"
            ],
            "text/plain": [
              "             fm_primaryTitle  fm_startYear  ...       s_act4              s_dir5\n",
              "1       An American in Paris          1951  ...    Ward Bond           John Ford\n",
              "6            Little Big Horn          1951  ...    Ward Bond           John Ford\n",
              "10  She Wore a Yellow Ribbon          1949  ...    Ward Bond           John Ford\n",
              "15      An American in Paris          1951  ...  Ben Johnson  Andrew V. McLaglen\n",
              "16          Bonnie and Clyde          1967  ...  Ben Johnson  Andrew V. McLaglen\n",
              "\n",
              "[5 rows x 16 columns]"
            ]
          },
          "metadata": {
            "tags": []
          },
          "execution_count": 17
        }
      ]
    },
    {
      "cell_type": "code",
      "metadata": {
        "id": "YoVq5KdBtHBy",
        "colab_type": "code",
        "colab": {}
      },
      "source": [
        "actors_for_unsupervised = ['Al Pacino','Jack Nicholson','Jennifer Lawrence','Jodie Foster']\n",
        "directors_for_unsupervised = ['Alfred Hitchcock','Steven Spielberg','George Lucas','David Lean']\n",
        "names_for_unsupervised = actors_for_unsupervised + directors_for_unsupervised"
      ],
      "execution_count": 0,
      "outputs": []
    },
    {
      "cell_type": "code",
      "metadata": {
        "id": "ZVl8yBe-t8GQ",
        "colab_type": "code",
        "colab": {}
      },
      "source": [
        "cast_movies = pd.merge(names[names.primaryName.isin(names_for_unsupervised)],cast, on = 'nconst', how = 'inner')"
      ],
      "execution_count": 0,
      "outputs": []
    },
    {
      "cell_type": "code",
      "metadata": {
        "id": "OnUTb7hivzsJ",
        "colab_type": "code",
        "colab": {
          "base_uri": "https://localhost:8080/",
          "height": 204
        },
        "outputId": "234c54db-fa72-4c77-cf52-e7bff40682c2"
      },
      "source": [
        "cast_titles = pd.merge(cast_movies, titles, on = 'tconst', how = 'inner')\n",
        "cast_titles.head()"
      ],
      "execution_count": 20,
      "outputs": [
        {
          "output_type": "execute_result",
          "data": {
            "text/html": [
              "<div>\n",
              "<style scoped>\n",
              "    .dataframe tbody tr th:only-of-type {\n",
              "        vertical-align: middle;\n",
              "    }\n",
              "\n",
              "    .dataframe tbody tr th {\n",
              "        vertical-align: top;\n",
              "    }\n",
              "\n",
              "    .dataframe thead th {\n",
              "        text-align: right;\n",
              "    }\n",
              "</style>\n",
              "<table border=\"1\" class=\"dataframe\">\n",
              "  <thead>\n",
              "    <tr style=\"text-align: right;\">\n",
              "      <th></th>\n",
              "      <th>nconst</th>\n",
              "      <th>primaryName</th>\n",
              "      <th>tconst</th>\n",
              "      <th>ordering</th>\n",
              "      <th>category</th>\n",
              "      <th>titleType</th>\n",
              "      <th>primaryTitle</th>\n",
              "      <th>startYear</th>\n",
              "      <th>genres</th>\n",
              "    </tr>\n",
              "  </thead>\n",
              "  <tbody>\n",
              "    <tr>\n",
              "      <th>0</th>\n",
              "      <td>nm0000033</td>\n",
              "      <td>Alfred Hitchcock</td>\n",
              "      <td>tt0013444</td>\n",
              "      <td>3</td>\n",
              "      <td>director</td>\n",
              "      <td>movie</td>\n",
              "      <td>Number 13</td>\n",
              "      <td>1922</td>\n",
              "      <td>Comedy</td>\n",
              "    </tr>\n",
              "    <tr>\n",
              "      <th>1</th>\n",
              "      <td>nm0000033</td>\n",
              "      <td>Alfred Hitchcock</td>\n",
              "      <td>tt0016127</td>\n",
              "      <td>5</td>\n",
              "      <td>director</td>\n",
              "      <td>movie</td>\n",
              "      <td>The Mountain Eagle</td>\n",
              "      <td>1926</td>\n",
              "      <td>Romance,Thriller</td>\n",
              "    </tr>\n",
              "    <tr>\n",
              "      <th>2</th>\n",
              "      <td>nm0000033</td>\n",
              "      <td>Alfred Hitchcock</td>\n",
              "      <td>tt0016230</td>\n",
              "      <td>5</td>\n",
              "      <td>director</td>\n",
              "      <td>movie</td>\n",
              "      <td>The Pleasure Garden</td>\n",
              "      <td>1925</td>\n",
              "      <td>Drama,Romance</td>\n",
              "    </tr>\n",
              "    <tr>\n",
              "      <th>3</th>\n",
              "      <td>nm0000033</td>\n",
              "      <td>Alfred Hitchcock</td>\n",
              "      <td>tt0017075</td>\n",
              "      <td>5</td>\n",
              "      <td>director</td>\n",
              "      <td>movie</td>\n",
              "      <td>The Lodger: A Story of the London Fog</td>\n",
              "      <td>1927</td>\n",
              "      <td>Crime,Drama,Mystery</td>\n",
              "    </tr>\n",
              "    <tr>\n",
              "      <th>4</th>\n",
              "      <td>nm0000033</td>\n",
              "      <td>Alfred Hitchcock</td>\n",
              "      <td>tt0017825</td>\n",
              "      <td>5</td>\n",
              "      <td>director</td>\n",
              "      <td>movie</td>\n",
              "      <td>When Boys Leave Home</td>\n",
              "      <td>1927</td>\n",
              "      <td>Adventure,Drama,Thriller</td>\n",
              "    </tr>\n",
              "  </tbody>\n",
              "</table>\n",
              "</div>"
            ],
            "text/plain": [
              "      nconst       primaryName  ... startYear                    genres\n",
              "0  nm0000033  Alfred Hitchcock  ...      1922                    Comedy\n",
              "1  nm0000033  Alfred Hitchcock  ...      1926          Romance,Thriller\n",
              "2  nm0000033  Alfred Hitchcock  ...      1925             Drama,Romance\n",
              "3  nm0000033  Alfred Hitchcock  ...      1927       Crime,Drama,Mystery\n",
              "4  nm0000033  Alfred Hitchcock  ...      1927  Adventure,Drama,Thriller\n",
              "\n",
              "[5 rows x 9 columns]"
            ]
          },
          "metadata": {
            "tags": []
          },
          "execution_count": 20
        }
      ]
    },
    {
      "cell_type": "code",
      "metadata": {
        "id": "jmtu07RyxII6",
        "colab_type": "code",
        "colab": {}
      },
      "source": [
        "unlabeled_first_movie_list = []\n",
        "unlabeled_sequel_movie_list = []\n",
        "\n",
        "for name in names_for_unsupervised:\n",
        "    name_movies = cast_titles[cast_titles.primaryName == name].primaryTitle.unique()\n",
        "    for first_movie in name_movies:\n",
        "        for sequel_movie in name_movies:\n",
        "            if first_movie != sequel_movie:\n",
        "                unlabeled_first_movie_list.append(first_movie)\n",
        "                unlabeled_sequel_movie_list.append(sequel_movie)"
      ],
      "execution_count": 0,
      "outputs": []
    },
    {
      "cell_type": "code",
      "metadata": {
        "id": "cXOTfPzNFIiW",
        "colab_type": "code",
        "colab": {}
      },
      "source": [
        "unlabeled_table = prepare_data(unlabeled_first_movie_list, unlabeled_sequel_movie_list)"
      ],
      "execution_count": 0,
      "outputs": []
    },
    {
      "cell_type": "code",
      "metadata": {
        "id": "mHOfNIEgGzab",
        "colab_type": "code",
        "colab": {
          "base_uri": "https://localhost:8080/",
          "height": 360
        },
        "outputId": "73fdf3bb-5a81-4f6d-a421-46e6647f0ccb"
      },
      "source": [
        "unlabeled_table.head()"
      ],
      "execution_count": 23,
      "outputs": [
        {
          "output_type": "execute_result",
          "data": {
            "text/html": [
              "<div>\n",
              "<style scoped>\n",
              "    .dataframe tbody tr th:only-of-type {\n",
              "        vertical-align: middle;\n",
              "    }\n",
              "\n",
              "    .dataframe tbody tr th {\n",
              "        vertical-align: top;\n",
              "    }\n",
              "\n",
              "    .dataframe thead th {\n",
              "        text-align: right;\n",
              "    }\n",
              "</style>\n",
              "<table border=\"1\" class=\"dataframe\">\n",
              "  <thead>\n",
              "    <tr style=\"text-align: right;\">\n",
              "      <th></th>\n",
              "      <th>fm_primaryTitle</th>\n",
              "      <th>fm_startYear</th>\n",
              "      <th>fm_genres</th>\n",
              "      <th>fm_act1</th>\n",
              "      <th>fm_act2</th>\n",
              "      <th>fm_act3</th>\n",
              "      <th>fm_act4</th>\n",
              "      <th>fm_dir5</th>\n",
              "      <th>s_primaryTitle</th>\n",
              "      <th>s_startYear</th>\n",
              "      <th>s_genres</th>\n",
              "      <th>s_act1</th>\n",
              "      <th>s_act2</th>\n",
              "      <th>s_act3</th>\n",
              "      <th>s_act4</th>\n",
              "      <th>s_dir5</th>\n",
              "    </tr>\n",
              "  </thead>\n",
              "  <tbody>\n",
              "    <tr>\n",
              "      <th>45</th>\n",
              "      <td>The Panic in Needle Park</td>\n",
              "      <td>1971</td>\n",
              "      <td>Drama</td>\n",
              "      <td>Al Pacino</td>\n",
              "      <td>Kitty Winn</td>\n",
              "      <td>Alan Vint</td>\n",
              "      <td>Richard Bright</td>\n",
              "      <td>Jerry Schatzberg</td>\n",
              "      <td>Serpico</td>\n",
              "      <td>1973</td>\n",
              "      <td>Biography,Crime,Drama</td>\n",
              "      <td>Al Pacino</td>\n",
              "      <td>John Randolph</td>\n",
              "      <td>Jack Kehoe</td>\n",
              "      <td>Biff McGuire</td>\n",
              "      <td>Sidney Lumet</td>\n",
              "    </tr>\n",
              "    <tr>\n",
              "      <th>63</th>\n",
              "      <td>Serpico</td>\n",
              "      <td>1973</td>\n",
              "      <td>Biography,Crime,Drama</td>\n",
              "      <td>Al Pacino</td>\n",
              "      <td>John Randolph</td>\n",
              "      <td>Jack Kehoe</td>\n",
              "      <td>Biff McGuire</td>\n",
              "      <td>Sidney Lumet</td>\n",
              "      <td>The Godfather: Part II</td>\n",
              "      <td>1974</td>\n",
              "      <td>Crime,Drama</td>\n",
              "      <td>Al Pacino</td>\n",
              "      <td>Robert De Niro</td>\n",
              "      <td>Robert Duvall</td>\n",
              "      <td>Diane Keaton</td>\n",
              "      <td>Francis Ford Coppola</td>\n",
              "    </tr>\n",
              "    <tr>\n",
              "      <th>69</th>\n",
              "      <td>The Panic in Needle Park</td>\n",
              "      <td>1971</td>\n",
              "      <td>Drama</td>\n",
              "      <td>Al Pacino</td>\n",
              "      <td>Kitty Winn</td>\n",
              "      <td>Alan Vint</td>\n",
              "      <td>Richard Bright</td>\n",
              "      <td>Jerry Schatzberg</td>\n",
              "      <td>The Godfather: Part II</td>\n",
              "      <td>1974</td>\n",
              "      <td>Crime,Drama</td>\n",
              "      <td>Al Pacino</td>\n",
              "      <td>Robert De Niro</td>\n",
              "      <td>Robert Duvall</td>\n",
              "      <td>Diane Keaton</td>\n",
              "      <td>Francis Ford Coppola</td>\n",
              "    </tr>\n",
              "    <tr>\n",
              "      <th>86</th>\n",
              "      <td>Serpico</td>\n",
              "      <td>1973</td>\n",
              "      <td>Biography,Crime,Drama</td>\n",
              "      <td>Al Pacino</td>\n",
              "      <td>John Randolph</td>\n",
              "      <td>Jack Kehoe</td>\n",
              "      <td>Biff McGuire</td>\n",
              "      <td>Sidney Lumet</td>\n",
              "      <td>Dog Day Afternoon</td>\n",
              "      <td>1975</td>\n",
              "      <td>Biography,Crime,Drama</td>\n",
              "      <td>Al Pacino</td>\n",
              "      <td>John Cazale</td>\n",
              "      <td>Penelope Allen</td>\n",
              "      <td>Sully Boyar</td>\n",
              "      <td>Sidney Lumet</td>\n",
              "    </tr>\n",
              "    <tr>\n",
              "      <th>89</th>\n",
              "      <td>The Godfather: Part II</td>\n",
              "      <td>1974</td>\n",
              "      <td>Crime,Drama</td>\n",
              "      <td>Al Pacino</td>\n",
              "      <td>Robert De Niro</td>\n",
              "      <td>Robert Duvall</td>\n",
              "      <td>Diane Keaton</td>\n",
              "      <td>Francis Ford Coppola</td>\n",
              "      <td>Dog Day Afternoon</td>\n",
              "      <td>1975</td>\n",
              "      <td>Biography,Crime,Drama</td>\n",
              "      <td>Al Pacino</td>\n",
              "      <td>John Cazale</td>\n",
              "      <td>Penelope Allen</td>\n",
              "      <td>Sully Boyar</td>\n",
              "      <td>Sidney Lumet</td>\n",
              "    </tr>\n",
              "  </tbody>\n",
              "</table>\n",
              "</div>"
            ],
            "text/plain": [
              "             fm_primaryTitle  fm_startYear  ...        s_act4                s_dir5\n",
              "45  The Panic in Needle Park          1971  ...  Biff McGuire          Sidney Lumet\n",
              "63                   Serpico          1973  ...  Diane Keaton  Francis Ford Coppola\n",
              "69  The Panic in Needle Park          1971  ...  Diane Keaton  Francis Ford Coppola\n",
              "86                   Serpico          1973  ...   Sully Boyar          Sidney Lumet\n",
              "89    The Godfather: Part II          1974  ...   Sully Boyar          Sidney Lumet\n",
              "\n",
              "[5 rows x 16 columns]"
            ]
          },
          "metadata": {
            "tags": []
          },
          "execution_count": 23
        }
      ]
    },
    {
      "cell_type": "code",
      "metadata": {
        "id": "beVrA_euHWoz",
        "colab_type": "code",
        "colab": {
          "base_uri": "https://localhost:8080/",
          "height": 377
        },
        "outputId": "5bd41ed7-d55a-447f-d2e6-949a9b35c410"
      },
      "source": [
        "sequel_table['sequel'] = 1\n",
        "non_sequel_table['sequel'] = 0\n",
        "unlabeled_table['sequel'] = -1\n",
        "movie_pairs = pd.concat([sequel_table,non_sequel_table,unlabeled_table], axis = 0)\n",
        "movie_pairs.head()"
      ],
      "execution_count": 24,
      "outputs": [
        {
          "output_type": "execute_result",
          "data": {
            "text/html": [
              "<div>\n",
              "<style scoped>\n",
              "    .dataframe tbody tr th:only-of-type {\n",
              "        vertical-align: middle;\n",
              "    }\n",
              "\n",
              "    .dataframe tbody tr th {\n",
              "        vertical-align: top;\n",
              "    }\n",
              "\n",
              "    .dataframe thead th {\n",
              "        text-align: right;\n",
              "    }\n",
              "</style>\n",
              "<table border=\"1\" class=\"dataframe\">\n",
              "  <thead>\n",
              "    <tr style=\"text-align: right;\">\n",
              "      <th></th>\n",
              "      <th>fm_primaryTitle</th>\n",
              "      <th>fm_startYear</th>\n",
              "      <th>fm_genres</th>\n",
              "      <th>fm_act1</th>\n",
              "      <th>fm_act2</th>\n",
              "      <th>fm_act3</th>\n",
              "      <th>fm_act4</th>\n",
              "      <th>fm_dir5</th>\n",
              "      <th>s_primaryTitle</th>\n",
              "      <th>s_startYear</th>\n",
              "      <th>s_genres</th>\n",
              "      <th>s_act1</th>\n",
              "      <th>s_act2</th>\n",
              "      <th>s_act3</th>\n",
              "      <th>s_act4</th>\n",
              "      <th>s_dir5</th>\n",
              "      <th>sequel</th>\n",
              "    </tr>\n",
              "  </thead>\n",
              "  <tbody>\n",
              "    <tr>\n",
              "      <th>1</th>\n",
              "      <td>A Fistful of Dollars</td>\n",
              "      <td>1964</td>\n",
              "      <td>Drama,Western</td>\n",
              "      <td>Clint Eastwood</td>\n",
              "      <td>Gian Maria Volontè</td>\n",
              "      <td>Marianne Koch</td>\n",
              "      <td>Wolfgang Lukschy</td>\n",
              "      <td>Sergio Leone</td>\n",
              "      <td>For a Few Dollars More</td>\n",
              "      <td>1965</td>\n",
              "      <td>Western</td>\n",
              "      <td>Clint Eastwood</td>\n",
              "      <td>Lee Van Cleef</td>\n",
              "      <td>Gian Maria Volontè</td>\n",
              "      <td>Mario Brega</td>\n",
              "      <td>Sergio Leone</td>\n",
              "      <td>1</td>\n",
              "    </tr>\n",
              "    <tr>\n",
              "      <th>3</th>\n",
              "      <td>A Nightmare on Elm Street 3: Dream Warriors</td>\n",
              "      <td>1987</td>\n",
              "      <td>Fantasy,Horror</td>\n",
              "      <td>Heather Langenkamp</td>\n",
              "      <td>Robert Englund</td>\n",
              "      <td>Craig Wasson</td>\n",
              "      <td>Patricia Arquette</td>\n",
              "      <td>Chuck Russell</td>\n",
              "      <td>A Nightmare on Elm Street 4: The Dream Master</td>\n",
              "      <td>1988</td>\n",
              "      <td>Horror</td>\n",
              "      <td>Robert Englund</td>\n",
              "      <td>Rodney Eastman</td>\n",
              "      <td>John Beckman</td>\n",
              "      <td>Kisha Brackel</td>\n",
              "      <td>Renny Harlin</td>\n",
              "      <td>1</td>\n",
              "    </tr>\n",
              "    <tr>\n",
              "      <th>5</th>\n",
              "      <td>Ace Ventura: Pet Detective</td>\n",
              "      <td>1994</td>\n",
              "      <td>Comedy</td>\n",
              "      <td>Jim Carrey</td>\n",
              "      <td>Courteney Cox</td>\n",
              "      <td>Sean Young</td>\n",
              "      <td>Tone Loc</td>\n",
              "      <td>Tom Shadyac</td>\n",
              "      <td>Ace Ventura: When Nature Calls</td>\n",
              "      <td>1995</td>\n",
              "      <td>Adventure,Comedy,Crime</td>\n",
              "      <td>Jim Carrey</td>\n",
              "      <td>Ian McNeice</td>\n",
              "      <td>Simon Callow</td>\n",
              "      <td>Maynard Eziashi</td>\n",
              "      <td>Steve Oedekerk</td>\n",
              "      <td>1</td>\n",
              "    </tr>\n",
              "    <tr>\n",
              "      <th>7</th>\n",
              "      <td>Alvin and the Chipmunks</td>\n",
              "      <td>2007</td>\n",
              "      <td>Animation,Comedy,Family</td>\n",
              "      <td>Jason Lee</td>\n",
              "      <td>Ross Bagdasarian Jr.</td>\n",
              "      <td>Janice Karman</td>\n",
              "      <td>David Cross</td>\n",
              "      <td>Tim Hill</td>\n",
              "      <td>Alvin and the Chipmunks: The Squeakquel</td>\n",
              "      <td>2009</td>\n",
              "      <td>Animation,Comedy,Family</td>\n",
              "      <td>Jason Lee</td>\n",
              "      <td>Zachary Levi</td>\n",
              "      <td>David Cross</td>\n",
              "      <td>Justin Long</td>\n",
              "      <td>Betty Thomas</td>\n",
              "      <td>1</td>\n",
              "    </tr>\n",
              "    <tr>\n",
              "      <th>9</th>\n",
              "      <td>Anchorman: The Legend of Ron Burgundy</td>\n",
              "      <td>2004</td>\n",
              "      <td>Comedy</td>\n",
              "      <td>Will Ferrell</td>\n",
              "      <td>Christina Applegate</td>\n",
              "      <td>Steve Carell</td>\n",
              "      <td>Paul Rudd</td>\n",
              "      <td>Adam McKay</td>\n",
              "      <td>Anchorman 2: The Legend Continues</td>\n",
              "      <td>2013</td>\n",
              "      <td>Comedy</td>\n",
              "      <td>Will Ferrell</td>\n",
              "      <td>Christina Applegate</td>\n",
              "      <td>Paul Rudd</td>\n",
              "      <td>Steve Carell</td>\n",
              "      <td>Adam McKay</td>\n",
              "      <td>1</td>\n",
              "    </tr>\n",
              "  </tbody>\n",
              "</table>\n",
              "</div>"
            ],
            "text/plain": [
              "                               fm_primaryTitle  ...  sequel\n",
              "1                         A Fistful of Dollars  ...       1\n",
              "3  A Nightmare on Elm Street 3: Dream Warriors  ...       1\n",
              "5                   Ace Ventura: Pet Detective  ...       1\n",
              "7                      Alvin and the Chipmunks  ...       1\n",
              "9        Anchorman: The Legend of Ron Burgundy  ...       1\n",
              "\n",
              "[5 rows x 17 columns]"
            ]
          },
          "metadata": {
            "tags": []
          },
          "execution_count": 24
        }
      ]
    },
    {
      "cell_type": "code",
      "metadata": {
        "id": "ECy9xKL9Iylg",
        "colab_type": "code",
        "colab": {
          "base_uri": "https://localhost:8080/",
          "height": 281
        },
        "outputId": "31d82b1a-f5bf-4a3d-de2f-2e904a813146"
      },
      "source": [
        "movie_pairs.sequel.value_counts().plot(kind='bar')\n",
        "plt.title('Label counts in the data')\n",
        "plt.grid()"
      ],
      "execution_count": 25,
      "outputs": [
        {
          "output_type": "display_data",
          "data": {
            "image/png": "[encoded data removed]",
            "text/plain": [
              "<Figure size 432x288 with 1 Axes>"
            ]
          },
          "metadata": {
            "tags": []
          }
        }
      ]
    },
    {
      "cell_type": "code",
      "metadata": {
        "id": "xGdQZcewzG3h",
        "colab_type": "code",
        "colab": {}
      },
      "source": [
        "def get_plot(movie_table):\n",
        "    plot_list = {}\n",
        "    plot_not_found = []\n",
        "    movie_list = np.array(pd.concat([movie_table.fm_primaryTitle, movie_table.s_primaryTitle]))\n",
        "    year_list = np.array(pd.concat([movie_table.fm_startYear, movie_table.s_startYear]))\n",
        "    for movie, year in zip(movie_list, year_list):\n",
        "        if movie not in plot_list and movie not in plot_not_found:\n",
        "            print(movie)\n",
        "            movie_y_f, movie_f = movie + ' (' + str(year) + ' film)', movie + ' (film)'\n",
        "            search1 = wikipedia.search(movie_y_f)[0]\n",
        "            search2 = wikipedia.search(movie_f)[0]\n",
        "            if search1 == movie_y_f:\n",
        "                search = movie_y_f\n",
        "            elif search2 == movie_f:\n",
        "                search = movie_f\n",
        "            else:\n",
        "                search = movie\n",
        "            try:\n",
        "                page = wikipedia.page(search)\n",
        "                plot = page.section(\"Plot\")\n",
        "                if not plot:\n",
        "                    plot = page.section(\"Synopsis\")\n",
        "                if not plot:\n",
        "                    plot = page.section(\"Plot summary\")\n",
        "                if not plot:\n",
        "                    plot = page.section(\"Summary\")\n",
        "                if plot:\n",
        "                    plot_list[movie] = plot\n",
        "                else:\n",
        "                    plot_not_found.append(movie)\n",
        "                    print('plot not found: %s' %movie)\n",
        "            except:\n",
        "                print('movie not found: %s' %movie)\n",
        "                plot_not_found.append(movie)\n",
        "                pass\n",
        "\n",
        "    return plot_list"
      ],
      "execution_count": 0,
      "outputs": []
    },
    {
      "cell_type": "code",
      "metadata": {
        "id": "qsP9mQ-xXwsO",
        "colab_type": "code",
        "colab": {
          "base_uri": "https://localhost:8080/",
          "height": 289
        },
        "outputId": "979de6f1-4742-425e-c430-31767289ed34"
      },
      "source": [
        "movie_plots = get_plot(movie_pairs)"
      ],
      "execution_count": 27,
      "outputs": [
        {
          "output_type": "stream",
          "text": [
            "plot not found: The Local Stigmatic\n",
            "plot not found: Twilight Zone: The Movie\n",
            "plot not found: A Beautiful Planet\n",
            "plot not found: Mob Girl\n",
            "plot not found: Untitled Lila Neugebauer Project\n",
            "plot not found: Back Door to Hell\n",
            "plot not found: The Shooting\n",
            "plot not found: Hoffa\n",
            "plot not found: The Crossing Guard\n",
            "plot not found: The Sound Barrier\n",
            "plot not found: Doctor Zhivago\n",
            "plot not found: Stop Calling Me Baby!\n",
            "plot not found: When Boys Leave Home\n",
            "plot not found: East of Shanghai\n",
            "plot not found: Strauss' Great Waltz\n",
            "movie not found: Untitled Indiana Jones Project\n"
          ],
          "name": "stdout"
        }
      ]
    },
    {
      "cell_type": "code",
      "metadata": {
        "id": "WFxrE6IIlLo-",
        "colab_type": "code",
        "colab": {}
      },
      "source": [
        "documents = list(movie_plots.values())\n",
        "doc_titles = list(movie_plots.keys())"
      ],
      "execution_count": 0,
      "outputs": []
    },
    {
      "cell_type": "code",
      "metadata": {
        "id": "WT5_p1E_MTL7",
        "colab_type": "code",
        "colab": {}
      },
      "source": [
        "movie_pairs = movie_pairs[(movie_pairs.fm_primaryTitle.isin(doc_titles)) & (movie_pairs.s_primaryTitle.isin(doc_titles))].copy()"
      ],
      "execution_count": 0,
      "outputs": []
    },
    {
      "cell_type": "code",
      "metadata": {
        "id": "QmKrAdQq-_Ab",
        "colab_type": "code",
        "colab": {
          "base_uri": "https://localhost:8080/",
          "height": 51
        },
        "outputId": "12526909-443d-44b8-d3bd-5b4e4fc49bb0"
      },
      "source": [
        "import string\n",
        "import nltk\n",
        "nltk.download('stopwords')\n",
        "from nltk.corpus import stopwords"
      ],
      "execution_count": 30,
      "outputs": [
        {
          "output_type": "stream",
          "text": [
            "[nltk_data] Downloading package stopwords to /root/nltk_data...\n",
            "[nltk_data]   Unzipping corpora/stopwords.zip.\n"
          ],
          "name": "stdout"
        }
      ]
    },
    {
      "cell_type": "code",
      "metadata": {
        "id": "MdFWlL43AN6y",
        "colab_type": "code",
        "colab": {}
      },
      "source": [
        "stopwords_set = set(stopwords.words('english'))"
      ],
      "execution_count": 0,
      "outputs": []
    },
    {
      "cell_type": "code",
      "metadata": {
        "id": "gVrA1VSO-ido",
        "colab_type": "code",
        "colab": {}
      },
      "source": [
        "def clean_text(document):\n",
        "    document_lower = document.lower() # set everything to lower case\n",
        "    document_no_punctuation = document_lower.translate(str.maketrans('', '', string.punctuation)) # strip all punctuation\n",
        "    words = document_no_punctuation.split()\n",
        "    words_no_stopwords = [word for word in words if word not in stopwords_set]\n",
        "    return words_no_stopwords[0:100]"
      ],
      "execution_count": 0,
      "outputs": []
    },
    {
      "cell_type": "code",
      "metadata": {
        "id": "93CbE04hzC4I",
        "colab_type": "code",
        "colab": {}
      },
      "source": [
        "documents_text = [clean_text(document) for document in documents]"
      ],
      "execution_count": 0,
      "outputs": []
    },
    {
      "cell_type": "code",
      "metadata": {
        "id": "UoIUkdDYlZAE",
        "colab_type": "code",
        "colab": {}
      },
      "source": [
        "from gensim.models.doc2vec import Doc2Vec, TaggedDocument"
      ],
      "execution_count": 0,
      "outputs": []
    },
    {
      "cell_type": "code",
      "metadata": {
        "id": "Nc2WHS46lcE_",
        "colab_type": "code",
        "colab": {}
      },
      "source": [
        "documents_tagged = [TaggedDocument(doc, [doc_titles[i]]) for i, doc in enumerate(documents_text)]\n",
        "model = Doc2Vec(documents_tagged, vector_size=100, window=2, min_count=1, workers=4)"
      ],
      "execution_count": 0,
      "outputs": []
    },
    {
      "cell_type": "code",
      "metadata": {
        "id": "hdQ81zFokodj",
        "colab_type": "code",
        "colab": {
          "base_uri": "https://localhost:8080/",
          "height": 105
        },
        "outputId": "311614d5-9eb5-4228-dec8-4d688f019011"
      },
      "source": [
        "max_epochs = 100\n",
        "vec_size = 100\n",
        "alpha = 0.025\n",
        "\n",
        "model = Doc2Vec(size=vec_size,\n",
        "                alpha=alpha, \n",
        "                min_alpha=0.00025,\n",
        "                min_count=3,\n",
        "                dm =1)\n",
        "  \n",
        "model.build_vocab(documents_tagged)\n",
        "\n",
        "for epoch in range(max_epochs):\n",
        "    model.train(documents_tagged,\n",
        "                total_examples=model.corpus_count,\n",
        "                epochs=model.iter)\n",
        "    # decrease the learning rate\n",
        "    model.alpha -= 0.0005\n",
        "    # fix the learning rate, no decay\n",
        "    model.min_alpha = model.alpha"
      ],
      "execution_count": 36,
      "outputs": [
        {
          "output_type": "stream",
          "text": [
            "/usr/local/lib/python3.6/dist-packages/gensim/models/doc2vec.py:570: UserWarning: The parameter `size` is deprecated, will be removed in 4.0.0, use `vector_size` instead.\n",
            "  warnings.warn(\"The parameter `size` is deprecated, will be removed in 4.0.0, use `vector_size` instead.\")\n",
            "/usr/local/lib/python3.6/dist-packages/ipykernel_launcher.py:16: DeprecationWarning: Call to deprecated `iter` (Attribute will be removed in 4.0.0, use self.epochs instead).\n",
            "  app.launch_new_instance()\n"
          ],
          "name": "stderr"
        }
      ]
    },
    {
      "cell_type": "code",
      "metadata": {
        "id": "OnSJxB1TlfDY",
        "colab_type": "code",
        "colab": {
          "base_uri": "https://localhost:8080/",
          "height": 374
        },
        "outputId": "d064290b-7ac1-4da7-c9a7-d2f5b26897a1"
      },
      "source": [
        "model.docvecs[0]"
      ],
      "execution_count": 37,
      "outputs": [
        {
          "output_type": "execute_result",
          "data": {
            "text/plain": [
              "array([ 0.4740729 ,  1.3376919 , -0.9496421 ,  2.0120447 , -4.171949  ,\n",
              "        2.0676048 ,  1.4656799 ,  0.24949203, -0.76451343, -0.37853682,\n",
              "        1.207166  ,  0.60135394, -1.1252767 ,  0.6682032 ,  0.04331613,\n",
              "       -0.78955394, -1.581354  , -0.13277546,  1.1283733 , -2.0657518 ,\n",
              "       -0.62698233,  0.8715595 , -0.5618106 ,  0.53813773,  0.03488428,\n",
              "       -0.47148055,  1.7524307 ,  2.7503078 , -0.8130861 , -1.0455829 ,\n",
              "       -1.9872499 , -2.4979742 ,  2.955289  , -0.91101533,  1.6844484 ,\n",
              "        2.883093  ,  3.8140662 , -0.17081074,  1.3257732 , -1.1686231 ,\n",
              "       -1.0670856 , -0.04205118, -0.46719912, -1.3715475 ,  0.7729771 ,\n",
              "        0.22055969,  2.1616201 ,  1.505376  ,  2.630173  , -1.2535435 ,\n",
              "        0.06701304, -0.3644526 ,  3.2536905 , -0.8829791 , -2.6619227 ,\n",
              "        1.3813065 ,  0.68047833,  0.00778604,  0.7619036 ,  1.8214031 ,\n",
              "        2.8421118 , -1.5289913 ,  1.0933673 ,  0.6740524 ,  2.0323238 ,\n",
              "        3.3178341 , -3.083191  , -0.28037643,  0.6821289 ,  0.7429468 ,\n",
              "        0.9551962 ,  1.1621375 ,  0.42749965,  0.59272254,  2.7974293 ,\n",
              "        0.7343626 , -1.8868679 ,  2.3256917 ,  1.3031275 ,  1.380363  ,\n",
              "        2.4791067 ,  2.1832774 , -0.556044  , -2.3918552 ,  2.2018845 ,\n",
              "        2.210557  , -1.3300998 ,  1.2308133 ,  0.7610102 ,  0.30355388,\n",
              "        0.5711613 ,  0.2692936 , -0.5721739 , -2.1252136 , -1.147134  ,\n",
              "        0.3850488 , -0.64595854,  2.396324  , -1.0905169 ,  0.36053383],\n",
              "      dtype=float32)"
            ]
          },
          "metadata": {
            "tags": []
          },
          "execution_count": 37
        }
      ]
    },
    {
      "cell_type": "code",
      "metadata": {
        "id": "-0EaypX3zuX0",
        "colab_type": "code",
        "colab": {
          "base_uri": "https://localhost:8080/",
          "height": 241
        },
        "outputId": "f344fcdc-85e2-437b-ae10-d7de1c641818"
      },
      "source": [
        "model.docvecs.most_similar([model.docvecs[2]])"
      ],
      "execution_count": 38,
      "outputs": [
        {
          "output_type": "stream",
          "text": [
            "/usr/local/lib/python3.6/dist-packages/gensim/matutils.py:737: FutureWarning: Conversion of the second argument of issubdtype from `int` to `np.signedinteger` is deprecated. In future, it will be treated as `np.int64 == np.dtype(int).type`.\n",
            "  if np.issubdtype(vec.dtype, np.int):\n"
          ],
          "name": "stderr"
        },
        {
          "output_type": "execute_result",
          "data": {
            "text/plain": [
              "[('Ace Ventura: Pet Detective', 1.0),\n",
              " ('Ace Ventura: When Nature Calls', 0.6782903075218201),\n",
              " ('Toy Story 2', 0.6393070220947266),\n",
              " ('Friday the 13th Part 2', 0.6384460926055908),\n",
              " ('Elstree Calling', 0.6212842464447021),\n",
              " ('Sanders of the River', 0.6130692362785339),\n",
              " ('Star Wars: Episode IV - A New Hope', 0.6054567098617554),\n",
              " ('The Adventures of Tintin', 0.6050996780395508),\n",
              " ('The Panic in Needle Park', 0.6030189394950867),\n",
              " ('Righteous Kill', 0.595268964767456)]"
            ]
          },
          "metadata": {
            "tags": []
          },
          "execution_count": 38
        }
      ]
    },
    {
      "cell_type": "code",
      "metadata": {
        "id": "TlFG1cDj3MIG",
        "colab_type": "code",
        "colab": {
          "base_uri": "https://localhost:8080/",
          "height": 156
        },
        "outputId": "83b42ef2-16aa-4714-8d8b-bd079b7f32dc"
      },
      "source": [
        "model.docvecs.most_similar([model.docvecs['Rear Window']], topn = 5)"
      ],
      "execution_count": 39,
      "outputs": [
        {
          "output_type": "stream",
          "text": [
            "/usr/local/lib/python3.6/dist-packages/gensim/matutils.py:737: FutureWarning: Conversion of the second argument of issubdtype from `int` to `np.signedinteger` is deprecated. In future, it will be treated as `np.int64 == np.dtype(int).type`.\n",
            "  if np.issubdtype(vec.dtype, np.int):\n"
          ],
          "name": "stderr"
        },
        {
          "output_type": "execute_result",
          "data": {
            "text/plain": [
              "[('Rear Window', 1.0),\n",
              " ('The Hunger Games', 0.6655808687210083),\n",
              " ('Chinese Coffee', 0.652470588684082),\n",
              " ('Elstree Calling', 0.6383891701698303),\n",
              " ('The Rebel Rousers', 0.635026216506958)]"
            ]
          },
          "metadata": {
            "tags": []
          },
          "execution_count": 39
        }
      ]
    },
    {
      "cell_type": "code",
      "metadata": {
        "id": "DmlZ_U8_zL_m",
        "colab_type": "code",
        "colab": {
          "base_uri": "https://localhost:8080/",
          "height": 156
        },
        "outputId": "d0f8a521-7f9f-4b7b-9e98-6483fddad4a4"
      },
      "source": [
        "model.docvecs.most_similar([model.docvecs['Blade Runner']], topn = 5)"
      ],
      "execution_count": 40,
      "outputs": [
        {
          "output_type": "stream",
          "text": [
            "/usr/local/lib/python3.6/dist-packages/gensim/matutils.py:737: FutureWarning: Conversion of the second argument of issubdtype from `int` to `np.signedinteger` is deprecated. In future, it will be treated as `np.int64 == np.dtype(int).type`.\n",
            "  if np.issubdtype(vec.dtype, np.int):\n"
          ],
          "name": "stderr"
        },
        {
          "output_type": "execute_result",
          "data": {
            "text/plain": [
              "[('Blade Runner', 1.0),\n",
              " ('Blade Runner 2049', 0.7424213886260986),\n",
              " ('The Rebel Rousers', 0.6206566095352173),\n",
              " ('Strangers on a Train', 0.6077362298965454),\n",
              " ('Lethal Weapon', 0.6071361899375916)]"
            ]
          },
          "metadata": {
            "tags": []
          },
          "execution_count": 40
        }
      ]
    },
    {
      "cell_type": "code",
      "metadata": {
        "id": "f5XJDVvzPs3Q",
        "colab_type": "code",
        "colab": {}
      },
      "source": [
        "from sklearn.metrics.pairwise import cosine_similarity"
      ],
      "execution_count": 0,
      "outputs": []
    },
    {
      "cell_type": "code",
      "metadata": {
        "id": "rJ--SlyFQMPw",
        "colab_type": "code",
        "colab": {
          "base_uri": "https://localhost:8080/",
          "height": 34
        },
        "outputId": "e87651b8-6bff-4f30-bd5e-03d401875e48"
      },
      "source": [
        "cosine_similarity([model.docvecs['Dirty Harry']],[model.docvecs['Magnum Force']])"
      ],
      "execution_count": 42,
      "outputs": [
        {
          "output_type": "execute_result",
          "data": {
            "text/plain": [
              "array([[0.60637236]], dtype=float32)"
            ]
          },
          "metadata": {
            "tags": []
          },
          "execution_count": 42
        }
      ]
    },
    {
      "cell_type": "code",
      "metadata": {
        "id": "t4FNJsDQZQ1A",
        "colab_type": "code",
        "colab": {
          "base_uri": "https://localhost:8080/",
          "height": 34
        },
        "outputId": "5f393217-17a9-4d5b-9a09-9528c7abf294"
      },
      "source": [
        "cosine_similarity(np.array([model.docvecs['Dirty Harry']]),np.array([model.docvecs['Magnum Force'], model.docvecs['Sudden Impact']]))"
      ],
      "execution_count": 43,
      "outputs": [
        {
          "output_type": "execute_result",
          "data": {
            "text/plain": [
              "array([[0.60637236, 0.53199565]], dtype=float32)"
            ]
          },
          "metadata": {
            "tags": []
          },
          "execution_count": 43
        }
      ]
    },
    {
      "cell_type": "code",
      "metadata": {
        "id": "Ds50kACQ48YA",
        "colab_type": "code",
        "colab": {}
      },
      "source": [
        "cosine_similarities = cosine_similarity(np.array([model.docvecs[doc_title] for doc_title in doc_titles]))"
      ],
      "execution_count": 0,
      "outputs": []
    },
    {
      "cell_type": "code",
      "metadata": {
        "id": "7rxEQMDL6Hi6",
        "colab_type": "code",
        "colab": {
          "base_uri": "https://localhost:8080/",
          "height": 238
        },
        "outputId": "dd33132a-ca4d-4117-d891-7d53cd790ac8"
      },
      "source": [
        "cosine_similarities"
      ],
      "execution_count": 45,
      "outputs": [
        {
          "output_type": "execute_result",
          "data": {
            "text/plain": [
              "array([[1.        , 0.32727054, 0.51027316, ..., 0.47434828, 0.4283869 ,\n",
              "        0.38900566],\n",
              "       [0.32727054, 1.0000005 , 0.42385632, ..., 0.4359924 , 0.40141702,\n",
              "        0.5323777 ],\n",
              "       [0.51027316, 0.42385632, 1.        , ..., 0.49438152, 0.47276455,\n",
              "        0.54022163],\n",
              "       ...,\n",
              "       [0.47434828, 0.4359924 , 0.49438152, ..., 1.0000001 , 0.457811  ,\n",
              "        0.4311222 ],\n",
              "       [0.4283869 , 0.40141702, 0.47276455, ..., 0.457811  , 1.0000002 ,\n",
              "        0.50931   ],\n",
              "       [0.38900566, 0.5323777 , 0.54022163, ..., 0.4311222 , 0.50931   ,\n",
              "        0.99999994]], dtype=float32)"
            ]
          },
          "metadata": {
            "tags": []
          },
          "execution_count": 45
        }
      ]
    },
    {
      "cell_type": "code",
      "metadata": {
        "id": "y7PtMFc2F4CM",
        "colab_type": "code",
        "colab": {
          "base_uri": "https://localhost:8080/",
          "height": 377
        },
        "outputId": "2ca29afe-45a7-40d9-f713-a0e65c6f3664"
      },
      "source": [
        "movie_pairs.head()"
      ],
      "execution_count": 46,
      "outputs": [
        {
          "output_type": "execute_result",
          "data": {
            "text/html": [
              "<div>\n",
              "<style scoped>\n",
              "    .dataframe tbody tr th:only-of-type {\n",
              "        vertical-align: middle;\n",
              "    }\n",
              "\n",
              "    .dataframe tbody tr th {\n",
              "        vertical-align: top;\n",
              "    }\n",
              "\n",
              "    .dataframe thead th {\n",
              "        text-align: right;\n",
              "    }\n",
              "</style>\n",
              "<table border=\"1\" class=\"dataframe\">\n",
              "  <thead>\n",
              "    <tr style=\"text-align: right;\">\n",
              "      <th></th>\n",
              "      <th>fm_primaryTitle</th>\n",
              "      <th>fm_startYear</th>\n",
              "      <th>fm_genres</th>\n",
              "      <th>fm_act1</th>\n",
              "      <th>fm_act2</th>\n",
              "      <th>fm_act3</th>\n",
              "      <th>fm_act4</th>\n",
              "      <th>fm_dir5</th>\n",
              "      <th>s_primaryTitle</th>\n",
              "      <th>s_startYear</th>\n",
              "      <th>s_genres</th>\n",
              "      <th>s_act1</th>\n",
              "      <th>s_act2</th>\n",
              "      <th>s_act3</th>\n",
              "      <th>s_act4</th>\n",
              "      <th>s_dir5</th>\n",
              "      <th>sequel</th>\n",
              "    </tr>\n",
              "  </thead>\n",
              "  <tbody>\n",
              "    <tr>\n",
              "      <th>1</th>\n",
              "      <td>A Fistful of Dollars</td>\n",
              "      <td>1964</td>\n",
              "      <td>Drama,Western</td>\n",
              "      <td>Clint Eastwood</td>\n",
              "      <td>Gian Maria Volontè</td>\n",
              "      <td>Marianne Koch</td>\n",
              "      <td>Wolfgang Lukschy</td>\n",
              "      <td>Sergio Leone</td>\n",
              "      <td>For a Few Dollars More</td>\n",
              "      <td>1965</td>\n",
              "      <td>Western</td>\n",
              "      <td>Clint Eastwood</td>\n",
              "      <td>Lee Van Cleef</td>\n",
              "      <td>Gian Maria Volontè</td>\n",
              "      <td>Mario Brega</td>\n",
              "      <td>Sergio Leone</td>\n",
              "      <td>1</td>\n",
              "    </tr>\n",
              "    <tr>\n",
              "      <th>3</th>\n",
              "      <td>A Nightmare on Elm Street 3: Dream Warriors</td>\n",
              "      <td>1987</td>\n",
              "      <td>Fantasy,Horror</td>\n",
              "      <td>Heather Langenkamp</td>\n",
              "      <td>Robert Englund</td>\n",
              "      <td>Craig Wasson</td>\n",
              "      <td>Patricia Arquette</td>\n",
              "      <td>Chuck Russell</td>\n",
              "      <td>A Nightmare on Elm Street 4: The Dream Master</td>\n",
              "      <td>1988</td>\n",
              "      <td>Horror</td>\n",
              "      <td>Robert Englund</td>\n",
              "      <td>Rodney Eastman</td>\n",
              "      <td>John Beckman</td>\n",
              "      <td>Kisha Brackel</td>\n",
              "      <td>Renny Harlin</td>\n",
              "      <td>1</td>\n",
              "    </tr>\n",
              "    <tr>\n",
              "      <th>5</th>\n",
              "      <td>Ace Ventura: Pet Detective</td>\n",
              "      <td>1994</td>\n",
              "      <td>Comedy</td>\n",
              "      <td>Jim Carrey</td>\n",
              "      <td>Courteney Cox</td>\n",
              "      <td>Sean Young</td>\n",
              "      <td>Tone Loc</td>\n",
              "      <td>Tom Shadyac</td>\n",
              "      <td>Ace Ventura: When Nature Calls</td>\n",
              "      <td>1995</td>\n",
              "      <td>Adventure,Comedy,Crime</td>\n",
              "      <td>Jim Carrey</td>\n",
              "      <td>Ian McNeice</td>\n",
              "      <td>Simon Callow</td>\n",
              "      <td>Maynard Eziashi</td>\n",
              "      <td>Steve Oedekerk</td>\n",
              "      <td>1</td>\n",
              "    </tr>\n",
              "    <tr>\n",
              "      <th>7</th>\n",
              "      <td>Alvin and the Chipmunks</td>\n",
              "      <td>2007</td>\n",
              "      <td>Animation,Comedy,Family</td>\n",
              "      <td>Jason Lee</td>\n",
              "      <td>Ross Bagdasarian Jr.</td>\n",
              "      <td>Janice Karman</td>\n",
              "      <td>David Cross</td>\n",
              "      <td>Tim Hill</td>\n",
              "      <td>Alvin and the Chipmunks: The Squeakquel</td>\n",
              "      <td>2009</td>\n",
              "      <td>Animation,Comedy,Family</td>\n",
              "      <td>Jason Lee</td>\n",
              "      <td>Zachary Levi</td>\n",
              "      <td>David Cross</td>\n",
              "      <td>Justin Long</td>\n",
              "      <td>Betty Thomas</td>\n",
              "      <td>1</td>\n",
              "    </tr>\n",
              "    <tr>\n",
              "      <th>9</th>\n",
              "      <td>Anchorman: The Legend of Ron Burgundy</td>\n",
              "      <td>2004</td>\n",
              "      <td>Comedy</td>\n",
              "      <td>Will Ferrell</td>\n",
              "      <td>Christina Applegate</td>\n",
              "      <td>Steve Carell</td>\n",
              "      <td>Paul Rudd</td>\n",
              "      <td>Adam McKay</td>\n",
              "      <td>Anchorman 2: The Legend Continues</td>\n",
              "      <td>2013</td>\n",
              "      <td>Comedy</td>\n",
              "      <td>Will Ferrell</td>\n",
              "      <td>Christina Applegate</td>\n",
              "      <td>Paul Rudd</td>\n",
              "      <td>Steve Carell</td>\n",
              "      <td>Adam McKay</td>\n",
              "      <td>1</td>\n",
              "    </tr>\n",
              "  </tbody>\n",
              "</table>\n",
              "</div>"
            ],
            "text/plain": [
              "                               fm_primaryTitle  ...  sequel\n",
              "1                         A Fistful of Dollars  ...       1\n",
              "3  A Nightmare on Elm Street 3: Dream Warriors  ...       1\n",
              "5                   Ace Ventura: Pet Detective  ...       1\n",
              "7                      Alvin and the Chipmunks  ...       1\n",
              "9        Anchorman: The Legend of Ron Burgundy  ...       1\n",
              "\n",
              "[5 rows x 17 columns]"
            ]
          },
          "metadata": {
            "tags": []
          },
          "execution_count": 46
        }
      ]
    },
    {
      "cell_type": "code",
      "metadata": {
        "id": "0FUHg5QQD_la",
        "colab_type": "code",
        "colab": {}
      },
      "source": [
        "title_to_index = {}\n",
        "for index, doc_title in enumerate(doc_titles):\n",
        "    title_to_index[doc_title] = index"
      ],
      "execution_count": 0,
      "outputs": []
    },
    {
      "cell_type": "code",
      "metadata": {
        "id": "ei8kgz8rFyLe",
        "colab_type": "code",
        "colab": {}
      },
      "source": [
        "fm_index = np.array(movie_pairs.fm_primaryTitle.map(title_to_index))\n",
        "s_index = np.array(movie_pairs.s_primaryTitle.map(title_to_index))\n",
        "\n",
        "\n",
        "movie_pairs['plot_cosine'] = cosine_similarities[fm_index,s_index]"
      ],
      "execution_count": 0,
      "outputs": []
    },
    {
      "cell_type": "code",
      "metadata": {
        "id": "tCZfm5EcL9IT",
        "colab_type": "code",
        "colab": {
          "base_uri": "https://localhost:8080/",
          "height": 377
        },
        "outputId": "26998caa-e5fb-42aa-bffe-7cde2ff5d634"
      },
      "source": [
        "movie_pairs.head()"
      ],
      "execution_count": 49,
      "outputs": [
        {
          "output_type": "execute_result",
          "data": {
            "text/html": [
              "<div>\n",
              "<style scoped>\n",
              "    .dataframe tbody tr th:only-of-type {\n",
              "        vertical-align: middle;\n",
              "    }\n",
              "\n",
              "    .dataframe tbody tr th {\n",
              "        vertical-align: top;\n",
              "    }\n",
              "\n",
              "    .dataframe thead th {\n",
              "        text-align: right;\n",
              "    }\n",
              "</style>\n",
              "<table border=\"1\" class=\"dataframe\">\n",
              "  <thead>\n",
              "    <tr style=\"text-align: right;\">\n",
              "      <th></th>\n",
              "      <th>fm_primaryTitle</th>\n",
              "      <th>fm_startYear</th>\n",
              "      <th>fm_genres</th>\n",
              "      <th>fm_act1</th>\n",
              "      <th>fm_act2</th>\n",
              "      <th>fm_act3</th>\n",
              "      <th>fm_act4</th>\n",
              "      <th>fm_dir5</th>\n",
              "      <th>s_primaryTitle</th>\n",
              "      <th>s_startYear</th>\n",
              "      <th>s_genres</th>\n",
              "      <th>s_act1</th>\n",
              "      <th>s_act2</th>\n",
              "      <th>s_act3</th>\n",
              "      <th>s_act4</th>\n",
              "      <th>s_dir5</th>\n",
              "      <th>sequel</th>\n",
              "      <th>plot_cosine</th>\n",
              "    </tr>\n",
              "  </thead>\n",
              "  <tbody>\n",
              "    <tr>\n",
              "      <th>1</th>\n",
              "      <td>A Fistful of Dollars</td>\n",
              "      <td>1964</td>\n",
              "      <td>Drama,Western</td>\n",
              "      <td>Clint Eastwood</td>\n",
              "      <td>Gian Maria Volontè</td>\n",
              "      <td>Marianne Koch</td>\n",
              "      <td>Wolfgang Lukschy</td>\n",
              "      <td>Sergio Leone</td>\n",
              "      <td>For a Few Dollars More</td>\n",
              "      <td>1965</td>\n",
              "      <td>Western</td>\n",
              "      <td>Clint Eastwood</td>\n",
              "      <td>Lee Van Cleef</td>\n",
              "      <td>Gian Maria Volontè</td>\n",
              "      <td>Mario Brega</td>\n",
              "      <td>Sergio Leone</td>\n",
              "      <td>1</td>\n",
              "      <td>0.496428</td>\n",
              "    </tr>\n",
              "    <tr>\n",
              "      <th>3</th>\n",
              "      <td>A Nightmare on Elm Street 3: Dream Warriors</td>\n",
              "      <td>1987</td>\n",
              "      <td>Fantasy,Horror</td>\n",
              "      <td>Heather Langenkamp</td>\n",
              "      <td>Robert Englund</td>\n",
              "      <td>Craig Wasson</td>\n",
              "      <td>Patricia Arquette</td>\n",
              "      <td>Chuck Russell</td>\n",
              "      <td>A Nightmare on Elm Street 4: The Dream Master</td>\n",
              "      <td>1988</td>\n",
              "      <td>Horror</td>\n",
              "      <td>Robert Englund</td>\n",
              "      <td>Rodney Eastman</td>\n",
              "      <td>John Beckman</td>\n",
              "      <td>Kisha Brackel</td>\n",
              "      <td>Renny Harlin</td>\n",
              "      <td>1</td>\n",
              "      <td>0.816285</td>\n",
              "    </tr>\n",
              "    <tr>\n",
              "      <th>5</th>\n",
              "      <td>Ace Ventura: Pet Detective</td>\n",
              "      <td>1994</td>\n",
              "      <td>Comedy</td>\n",
              "      <td>Jim Carrey</td>\n",
              "      <td>Courteney Cox</td>\n",
              "      <td>Sean Young</td>\n",
              "      <td>Tone Loc</td>\n",
              "      <td>Tom Shadyac</td>\n",
              "      <td>Ace Ventura: When Nature Calls</td>\n",
              "      <td>1995</td>\n",
              "      <td>Adventure,Comedy,Crime</td>\n",
              "      <td>Jim Carrey</td>\n",
              "      <td>Ian McNeice</td>\n",
              "      <td>Simon Callow</td>\n",
              "      <td>Maynard Eziashi</td>\n",
              "      <td>Steve Oedekerk</td>\n",
              "      <td>1</td>\n",
              "      <td>0.678290</td>\n",
              "    </tr>\n",
              "    <tr>\n",
              "      <th>7</th>\n",
              "      <td>Alvin and the Chipmunks</td>\n",
              "      <td>2007</td>\n",
              "      <td>Animation,Comedy,Family</td>\n",
              "      <td>Jason Lee</td>\n",
              "      <td>Ross Bagdasarian Jr.</td>\n",
              "      <td>Janice Karman</td>\n",
              "      <td>David Cross</td>\n",
              "      <td>Tim Hill</td>\n",
              "      <td>Alvin and the Chipmunks: The Squeakquel</td>\n",
              "      <td>2009</td>\n",
              "      <td>Animation,Comedy,Family</td>\n",
              "      <td>Jason Lee</td>\n",
              "      <td>Zachary Levi</td>\n",
              "      <td>David Cross</td>\n",
              "      <td>Justin Long</td>\n",
              "      <td>Betty Thomas</td>\n",
              "      <td>1</td>\n",
              "      <td>0.729046</td>\n",
              "    </tr>\n",
              "    <tr>\n",
              "      <th>9</th>\n",
              "      <td>Anchorman: The Legend of Ron Burgundy</td>\n",
              "      <td>2004</td>\n",
              "      <td>Comedy</td>\n",
              "      <td>Will Ferrell</td>\n",
              "      <td>Christina Applegate</td>\n",
              "      <td>Steve Carell</td>\n",
              "      <td>Paul Rudd</td>\n",
              "      <td>Adam McKay</td>\n",
              "      <td>Anchorman 2: The Legend Continues</td>\n",
              "      <td>2013</td>\n",
              "      <td>Comedy</td>\n",
              "      <td>Will Ferrell</td>\n",
              "      <td>Christina Applegate</td>\n",
              "      <td>Paul Rudd</td>\n",
              "      <td>Steve Carell</td>\n",
              "      <td>Adam McKay</td>\n",
              "      <td>1</td>\n",
              "      <td>0.786549</td>\n",
              "    </tr>\n",
              "  </tbody>\n",
              "</table>\n",
              "</div>"
            ],
            "text/plain": [
              "                               fm_primaryTitle  ...  plot_cosine\n",
              "1                         A Fistful of Dollars  ...     0.496428\n",
              "3  A Nightmare on Elm Street 3: Dream Warriors  ...     0.816285\n",
              "5                   Ace Ventura: Pet Detective  ...     0.678290\n",
              "7                      Alvin and the Chipmunks  ...     0.729046\n",
              "9        Anchorman: The Legend of Ron Burgundy  ...     0.786549\n",
              "\n",
              "[5 rows x 18 columns]"
            ]
          },
          "metadata": {
            "tags": []
          },
          "execution_count": 49
        }
      ]
    },
    {
      "cell_type": "code",
      "metadata": {
        "id": "3m78fKlLWd2s",
        "colab_type": "code",
        "colab": {}
      },
      "source": [
        "def sim_score(l1, l2):\n",
        "    differences = 0\n",
        "    if len(l2)>len(l1):\n",
        "        l1,l2 = l2,l1\n",
        "    for word in l1:\n",
        "        if word in l2:\n",
        "            l2.remove(word)\n",
        "        else:\n",
        "            differences += 1\n",
        "    return (len(l1) - differences)/len(l1)\n",
        "\n",
        "def sim_cast(x):\n",
        "    score = 0\n",
        "    dir1 = x.fm_dir5\n",
        "    dir2 = x.s_dir5\n",
        "    cast1 = [x.fm_act1, x.fm_act2, x.fm_act3, x.fm_act4]\n",
        "    cast2 = [x.s_act1, x.s_act2, x.s_act3, x.s_act4]\n",
        "    if dir1 == dir2:\n",
        "        score += 2\n",
        "    for i, actor in enumerate(cast1):\n",
        "        if actor in cast2:\n",
        "            score += 0.5\n",
        "        if actor == cast2[i]:\n",
        "            score += 0.5\n",
        "    return score"
      ],
      "execution_count": 0,
      "outputs": []
    },
    {
      "cell_type": "code",
      "metadata": {
        "id": "8pv3iNuTZyiy",
        "colab_type": "code",
        "colab": {}
      },
      "source": [
        "movie_pairs['title_sim_score'] = movie_pairs.apply(lambda x: sim_score(x.fm_primaryTitle.lower().split(), x.s_primaryTitle.lower().split()), axis = 1)\n",
        "movie_pairs['genre_sim_score'] = movie_pairs.apply(lambda x: sim_score(x.fm_genres.lower().split(','), x.s_genres.lower().split(',')), axis = 1)\n",
        "movie_pairs['cast_sim_score'] = movie_pairs.apply(lambda x: sim_cast(x), axis = 1)\n",
        "movie_pairs['year_diff'] = movie_pairs.s_startYear - movie_pairs.fm_startYear"
      ],
      "execution_count": 0,
      "outputs": []
    },
    {
      "cell_type": "code",
      "metadata": {
        "id": "eIj1LlXDaX9r",
        "colab_type": "code",
        "colab": {
          "base_uri": "https://localhost:8080/",
          "height": 377
        },
        "outputId": "babcdd6e-3a46-45d4-a82d-79cc45d19030"
      },
      "source": [
        "movie_pairs.head()"
      ],
      "execution_count": 52,
      "outputs": [
        {
          "output_type": "execute_result",
          "data": {
            "text/html": [
              "<div>\n",
              "<style scoped>\n",
              "    .dataframe tbody tr th:only-of-type {\n",
              "        vertical-align: middle;\n",
              "    }\n",
              "\n",
              "    .dataframe tbody tr th {\n",
              "        vertical-align: top;\n",
              "    }\n",
              "\n",
              "    .dataframe thead th {\n",
              "        text-align: right;\n",
              "    }\n",
              "</style>\n",
              "<table border=\"1\" class=\"dataframe\">\n",
              "  <thead>\n",
              "    <tr style=\"text-align: right;\">\n",
              "      <th></th>\n",
              "      <th>fm_primaryTitle</th>\n",
              "      <th>fm_startYear</th>\n",
              "      <th>fm_genres</th>\n",
              "      <th>fm_act1</th>\n",
              "      <th>fm_act2</th>\n",
              "      <th>fm_act3</th>\n",
              "      <th>fm_act4</th>\n",
              "      <th>fm_dir5</th>\n",
              "      <th>s_primaryTitle</th>\n",
              "      <th>s_startYear</th>\n",
              "      <th>s_genres</th>\n",
              "      <th>s_act1</th>\n",
              "      <th>s_act2</th>\n",
              "      <th>s_act3</th>\n",
              "      <th>s_act4</th>\n",
              "      <th>s_dir5</th>\n",
              "      <th>sequel</th>\n",
              "      <th>plot_cosine</th>\n",
              "      <th>title_sim_score</th>\n",
              "      <th>genre_sim_score</th>\n",
              "      <th>cast_sim_score</th>\n",
              "      <th>year_diff</th>\n",
              "    </tr>\n",
              "  </thead>\n",
              "  <tbody>\n",
              "    <tr>\n",
              "      <th>1</th>\n",
              "      <td>A Fistful of Dollars</td>\n",
              "      <td>1964</td>\n",
              "      <td>Drama,Western</td>\n",
              "      <td>Clint Eastwood</td>\n",
              "      <td>Gian Maria Volontè</td>\n",
              "      <td>Marianne Koch</td>\n",
              "      <td>Wolfgang Lukschy</td>\n",
              "      <td>Sergio Leone</td>\n",
              "      <td>For a Few Dollars More</td>\n",
              "      <td>1965</td>\n",
              "      <td>Western</td>\n",
              "      <td>Clint Eastwood</td>\n",
              "      <td>Lee Van Cleef</td>\n",
              "      <td>Gian Maria Volontè</td>\n",
              "      <td>Mario Brega</td>\n",
              "      <td>Sergio Leone</td>\n",
              "      <td>1</td>\n",
              "      <td>0.496428</td>\n",
              "      <td>0.400000</td>\n",
              "      <td>0.500000</td>\n",
              "      <td>3.5</td>\n",
              "      <td>1</td>\n",
              "    </tr>\n",
              "    <tr>\n",
              "      <th>3</th>\n",
              "      <td>A Nightmare on Elm Street 3: Dream Warriors</td>\n",
              "      <td>1987</td>\n",
              "      <td>Fantasy,Horror</td>\n",
              "      <td>Heather Langenkamp</td>\n",
              "      <td>Robert Englund</td>\n",
              "      <td>Craig Wasson</td>\n",
              "      <td>Patricia Arquette</td>\n",
              "      <td>Chuck Russell</td>\n",
              "      <td>A Nightmare on Elm Street 4: The Dream Master</td>\n",
              "      <td>1988</td>\n",
              "      <td>Horror</td>\n",
              "      <td>Robert Englund</td>\n",
              "      <td>Rodney Eastman</td>\n",
              "      <td>John Beckman</td>\n",
              "      <td>Kisha Brackel</td>\n",
              "      <td>Renny Harlin</td>\n",
              "      <td>1</td>\n",
              "      <td>0.816285</td>\n",
              "      <td>0.666667</td>\n",
              "      <td>0.500000</td>\n",
              "      <td>0.5</td>\n",
              "      <td>1</td>\n",
              "    </tr>\n",
              "    <tr>\n",
              "      <th>5</th>\n",
              "      <td>Ace Ventura: Pet Detective</td>\n",
              "      <td>1994</td>\n",
              "      <td>Comedy</td>\n",
              "      <td>Jim Carrey</td>\n",
              "      <td>Courteney Cox</td>\n",
              "      <td>Sean Young</td>\n",
              "      <td>Tone Loc</td>\n",
              "      <td>Tom Shadyac</td>\n",
              "      <td>Ace Ventura: When Nature Calls</td>\n",
              "      <td>1995</td>\n",
              "      <td>Adventure,Comedy,Crime</td>\n",
              "      <td>Jim Carrey</td>\n",
              "      <td>Ian McNeice</td>\n",
              "      <td>Simon Callow</td>\n",
              "      <td>Maynard Eziashi</td>\n",
              "      <td>Steve Oedekerk</td>\n",
              "      <td>1</td>\n",
              "      <td>0.678290</td>\n",
              "      <td>0.400000</td>\n",
              "      <td>0.333333</td>\n",
              "      <td>1.0</td>\n",
              "      <td>1</td>\n",
              "    </tr>\n",
              "    <tr>\n",
              "      <th>7</th>\n",
              "      <td>Alvin and the Chipmunks</td>\n",
              "      <td>2007</td>\n",
              "      <td>Animation,Comedy,Family</td>\n",
              "      <td>Jason Lee</td>\n",
              "      <td>Ross Bagdasarian Jr.</td>\n",
              "      <td>Janice Karman</td>\n",
              "      <td>David Cross</td>\n",
              "      <td>Tim Hill</td>\n",
              "      <td>Alvin and the Chipmunks: The Squeakquel</td>\n",
              "      <td>2009</td>\n",
              "      <td>Animation,Comedy,Family</td>\n",
              "      <td>Jason Lee</td>\n",
              "      <td>Zachary Levi</td>\n",
              "      <td>David Cross</td>\n",
              "      <td>Justin Long</td>\n",
              "      <td>Betty Thomas</td>\n",
              "      <td>1</td>\n",
              "      <td>0.729046</td>\n",
              "      <td>0.500000</td>\n",
              "      <td>1.000000</td>\n",
              "      <td>1.5</td>\n",
              "      <td>2</td>\n",
              "    </tr>\n",
              "    <tr>\n",
              "      <th>9</th>\n",
              "      <td>Anchorman: The Legend of Ron Burgundy</td>\n",
              "      <td>2004</td>\n",
              "      <td>Comedy</td>\n",
              "      <td>Will Ferrell</td>\n",
              "      <td>Christina Applegate</td>\n",
              "      <td>Steve Carell</td>\n",
              "      <td>Paul Rudd</td>\n",
              "      <td>Adam McKay</td>\n",
              "      <td>Anchorman 2: The Legend Continues</td>\n",
              "      <td>2013</td>\n",
              "      <td>Comedy</td>\n",
              "      <td>Will Ferrell</td>\n",
              "      <td>Christina Applegate</td>\n",
              "      <td>Paul Rudd</td>\n",
              "      <td>Steve Carell</td>\n",
              "      <td>Adam McKay</td>\n",
              "      <td>1</td>\n",
              "      <td>0.786549</td>\n",
              "      <td>0.333333</td>\n",
              "      <td>1.000000</td>\n",
              "      <td>5.0</td>\n",
              "      <td>9</td>\n",
              "    </tr>\n",
              "  </tbody>\n",
              "</table>\n",
              "</div>"
            ],
            "text/plain": [
              "                               fm_primaryTitle  ...  year_diff\n",
              "1                         A Fistful of Dollars  ...          1\n",
              "3  A Nightmare on Elm Street 3: Dream Warriors  ...          1\n",
              "5                   Ace Ventura: Pet Detective  ...          1\n",
              "7                      Alvin and the Chipmunks  ...          2\n",
              "9        Anchorman: The Legend of Ron Burgundy  ...          9\n",
              "\n",
              "[5 rows x 22 columns]"
            ]
          },
          "metadata": {
            "tags": []
          },
          "execution_count": 52
        }
      ]
    },
    {
      "cell_type": "code",
      "metadata": {
        "id": "Qi1YD2oXwT0z",
        "colab_type": "code",
        "colab": {}
      },
      "source": [
        "import seaborn as sns"
      ],
      "execution_count": 0,
      "outputs": []
    },
    {
      "cell_type": "code",
      "metadata": {
        "id": "02-6g1Bdxc9X",
        "colab_type": "code",
        "colab": {
          "base_uri": "https://localhost:8080/",
          "height": 902
        },
        "outputId": "e825cd05-93aa-400d-cb47-12a43fe1958f"
      },
      "source": [
        "supervised_movie_pairs = movie_pairs[movie_pairs.sequel>=0]\n",
        "model_features = ['title_sim_score','genre_sim_score','cast_sim_score','year_diff','plot_cosine']\n",
        "g = sns.PairGrid(supervised_movie_pairs, hue=\"sequel\", vars = model_features)\n",
        "g = g.map_diag(plt.hist, alpha = 0.6)\n",
        "g = g.map_offdiag(plt.scatter, alpha = 0.6)\n",
        "g = g.add_legend()\n",
        "g.fig.subplots_adjust(top=0.95)\n",
        "g.fig.suptitle('Distribution of the score variables for sequel and non-sequel movies', fontsize=16)\n",
        "plt.show()"
      ],
      "execution_count": 54,
      "outputs": [
        {
          "output_type": "display_data",
          "data": {
            "image/png": "[encoded data removed]",
            "text/plain": [
              "<Figure size 942.375x900 with 30 Axes>"
            ]
          },
          "metadata": {
            "tags": []
          }
        }
      ]
    },
    {
      "cell_type": "code",
      "metadata": {
        "colab_type": "code",
        "id": "0Ycn39D6A2ZX",
        "colab": {}
      },
      "source": [
        "from sklearn.ensemble import RandomForestClassifier\n",
        "from sklearn.model_selection import train_test_split\n",
        "from sklearn.metrics import confusion_matrix, roc_auc_score"
      ],
      "execution_count": 0,
      "outputs": []
    },
    {
      "cell_type": "code",
      "metadata": {
        "id": "LILFyy6EV-Mm",
        "colab_type": "code",
        "colab": {}
      },
      "source": [
        "def balanced_train_test_split(X, y, n_training):\n",
        "  \n",
        "    positive_X = X[y == 1]\n",
        "    negative_X = X[y == 0]\n",
        "    positive_y = y[y == 1]\n",
        "    negative_y = y[y == 0]\n",
        "\n",
        "    if n_training > min(len(positive_y), len(negative_y)):\n",
        "        raise ValueError('n_training larger than number of positives or negatives in the dataset')\n",
        "\n",
        "    positive_train_indices = np.random.choice(len(positive_y), n_training, replace = False)\n",
        "    negative_train_indices = np.random.choice(len(negative_y), n_training, replace = False)\n",
        "    positive_test_indices = np.array([i for i in range(len(positive_y)) if i not in positive_train_indices])\n",
        "    negative_test_indices = np.array([i for i in range(len(negative_y)) if i not in negative_train_indices])\n",
        "\n",
        "    X_train = pd.concat([positive_X.iloc[positive_train_indices], negative_X.iloc[negative_train_indices]], axis = 0)\n",
        "    X_test = pd.concat([positive_X.iloc[positive_test_indices], negative_X.iloc[negative_test_indices]], axis = 0)\n",
        "    y_train = pd.concat([positive_y.iloc[positive_train_indices], negative_y.iloc[negative_train_indices]], axis = 0)\n",
        "    y_test = pd.concat([positive_y.iloc[positive_test_indices], negative_y.iloc[negative_test_indices]], axis = 0)\n",
        "\n",
        "    return X_train, X_test, y_train, y_test"
      ],
      "execution_count": 0,
      "outputs": []
    },
    {
      "cell_type": "code",
      "metadata": {
        "id": "Pyu6kEpWisIC",
        "colab_type": "code",
        "colab": {}
      },
      "source": [
        "from sklearn.metrics.pairwise import check_pairwise_arrays, euclidean_distances\n",
        "from sklearn.semi_supervised import LabelPropagation, LabelSpreading\n",
        "\n",
        "\n",
        "def rbf_kernel_safe(X, Y=None, gamma=None): \n",
        "\n",
        "    X, Y = check_pairwise_arrays(X, Y) \n",
        "    if gamma is None: \n",
        "        gamma = 1.0 / X.shape[1] \n",
        "\n",
        "    K = euclidean_distances(X, Y, squared=True) \n",
        "    K *= -gamma \n",
        "    K -= K.max() # Change to the sklearn implementation\n",
        "    np.exp(K, K)\n",
        "    return K "
      ],
      "execution_count": 0,
      "outputs": []
    },
    {
      "cell_type": "code",
      "metadata": {
        "id": "UXfiB_FR7qJ9",
        "colab_type": "code",
        "colab": {}
      },
      "source": [
        "from sklearn.linear_model import LogisticRegression"
      ],
      "execution_count": 0,
      "outputs": []
    },
    {
      "cell_type": "code",
      "metadata": {
        "id": "q40FL7Lsx8dT",
        "colab_type": "code",
        "colab": {
          "base_uri": "https://localhost:8080/",
          "height": 969
        },
        "outputId": "e40bc08b-ebda-4738-ddd3-14db06653f89"
      },
      "source": [
        "n_training_list = np.arange(1,51)\n",
        "RFC_score_list = []\n",
        "LR_score_list = []\n",
        "LP_score_list = []\n",
        "LS_score_list = []\n",
        "LP_more_unlabeled_score_list = []\n",
        "LS_more_unlabeled_score_list = []\n",
        "\n",
        "for n_training in n_training_list:\n",
        "  \n",
        "    RFC_score = []\n",
        "    LR_score = []\n",
        "    LP_score = []\n",
        "    LS_score = []\n",
        "    LP_more_unlabeled_score = []\n",
        "    LS_more_unlabeled_score = []\n",
        "\n",
        "    for i in range(5):\n",
        "  \n",
        "        X_train, X_test, y_train, y_test = balanced_train_test_split(supervised_movie_pairs[model_features], supervised_movie_pairs.sequel, n_training = n_training)\n",
        "        RFC = RandomForestClassifier(n_estimators = 100)\n",
        "        LR = LogisticRegression(solver = 'liblinear')\n",
        "        LP = LabelPropagation(kernel = rbf_kernel_safe, tol = 0.01)\n",
        "        LS = LabelSpreading(kernel = rbf_kernel_safe, tol = 0.01)\n",
        "\n",
        "        RFC.fit(X_train, y_train)\n",
        "        RFC_score.append(RFC.score(X_test, y_test))\n",
        "\n",
        "        LR.fit(X_train, y_train)\n",
        "        LR_score.append(LR.score(X_test, y_test))\n",
        "\n",
        "        X = np.concatenate([X_train, X_test], axis = 0)\n",
        "        y_unlabel = np.array([-1 for i in range(len(y_test))])\n",
        "        y = np.concatenate([y_train, y_unlabel], axis = 0)\n",
        "\n",
        "        LP.fit(X, y)\n",
        "        LP_score.append(LP.score(X_test, y_test))\n",
        "\n",
        "        LS.fit(X, y)\n",
        "        LS_score.append(LS.score(X_test, y_test))\n",
        "\n",
        "        X_unlabeled = movie_pairs[model_features][movie_pairs.sequel == -1]\n",
        "        X = np.concatenate([X, X_unlabeled], axis = 0)\n",
        "        y_unlabeled = np.array([-1 for i in range(X_unlabeled.shape[0])])\n",
        "        y = np.concatenate([y, y_unlabeled], axis = 0)\n",
        "\n",
        "        LP.fit(X, y)\n",
        "        LP_more_unlabeled_score.append(LP.score(X_test, y_test))\n",
        "\n",
        "        LS.fit(X, y)\n",
        "        LS_more_unlabeled_score.append(LS.score(X_test, y_test))\n",
        "\n",
        "    RFC_score_list.append(np.mean(RFC_score))\n",
        "    LR_score_list.append(np.mean(LR_score))\n",
        "    LP_score_list.append(np.mean(LP_score))\n",
        "    LS_score_list.append(np.mean(LS_score))\n",
        "    LP_more_unlabeled_score_list.append(np.mean(LP_more_unlabeled_score))\n",
        "    LS_more_unlabeled_score_list.append(np.mean(LS_more_unlabeled_score))"
      ],
      "execution_count": 211,
      "outputs": [
        {
          "output_type": "stream",
          "text": [
            "/usr/local/lib/python3.6/dist-packages/sklearn/semi_supervised/label_propagation.py:288: ConvergenceWarning: max_iter=1000 was reached without convergence.\n",
            "  category=ConvergenceWarning\n",
            "/usr/local/lib/python3.6/dist-packages/sklearn/semi_supervised/label_propagation.py:277: RuntimeWarning: invalid value encountered in true_divide\n",
            "  self.label_distributions_ /= normalizer\n",
            "/usr/local/lib/python3.6/dist-packages/sklearn/semi_supervised/label_propagation.py:288: ConvergenceWarning: max_iter=1000 was reached without convergence.\n",
            "  category=ConvergenceWarning\n",
            "/usr/local/lib/python3.6/dist-packages/sklearn/semi_supervised/label_propagation.py:277: RuntimeWarning: invalid value encountered in true_divide\n",
            "  self.label_distributions_ /= normalizer\n",
            "/usr/local/lib/python3.6/dist-packages/sklearn/semi_supervised/label_propagation.py:288: ConvergenceWarning: max_iter=1000 was reached without convergence.\n",
            "  category=ConvergenceWarning\n",
            "/usr/local/lib/python3.6/dist-packages/sklearn/semi_supervised/label_propagation.py:288: ConvergenceWarning: max_iter=1000 was reached without convergence.\n",
            "  category=ConvergenceWarning\n",
            "/usr/local/lib/python3.6/dist-packages/sklearn/semi_supervised/label_propagation.py:288: ConvergenceWarning: max_iter=1000 was reached without convergence.\n",
            "  category=ConvergenceWarning\n",
            "/usr/local/lib/python3.6/dist-packages/sklearn/semi_supervised/label_propagation.py:288: ConvergenceWarning: max_iter=1000 was reached without convergence.\n",
            "  category=ConvergenceWarning\n",
            "/usr/local/lib/python3.6/dist-packages/sklearn/semi_supervised/label_propagation.py:288: ConvergenceWarning: max_iter=1000 was reached without convergence.\n",
            "  category=ConvergenceWarning\n",
            "/usr/local/lib/python3.6/dist-packages/sklearn/semi_supervised/label_propagation.py:288: ConvergenceWarning: max_iter=1000 was reached without convergence.\n",
            "  category=ConvergenceWarning\n",
            "/usr/local/lib/python3.6/dist-packages/sklearn/semi_supervised/label_propagation.py:288: ConvergenceWarning: max_iter=1000 was reached without convergence.\n",
            "  category=ConvergenceWarning\n",
            "/usr/local/lib/python3.6/dist-packages/sklearn/semi_supervised/label_propagation.py:288: ConvergenceWarning: max_iter=1000 was reached without convergence.\n",
            "  category=ConvergenceWarning\n",
            "/usr/local/lib/python3.6/dist-packages/sklearn/semi_supervised/label_propagation.py:288: ConvergenceWarning: max_iter=1000 was reached without convergence.\n",
            "  category=ConvergenceWarning\n",
            "/usr/local/lib/python3.6/dist-packages/sklearn/semi_supervised/label_propagation.py:288: ConvergenceWarning: max_iter=1000 was reached without convergence.\n",
            "  category=ConvergenceWarning\n",
            "/usr/local/lib/python3.6/dist-packages/sklearn/semi_supervised/label_propagation.py:288: ConvergenceWarning: max_iter=1000 was reached without convergence.\n",
            "  category=ConvergenceWarning\n",
            "/usr/local/lib/python3.6/dist-packages/sklearn/semi_supervised/label_propagation.py:288: ConvergenceWarning: max_iter=1000 was reached without convergence.\n",
            "  category=ConvergenceWarning\n",
            "/usr/local/lib/python3.6/dist-packages/sklearn/semi_supervised/label_propagation.py:288: ConvergenceWarning: max_iter=1000 was reached without convergence.\n",
            "  category=ConvergenceWarning\n",
            "/usr/local/lib/python3.6/dist-packages/sklearn/semi_supervised/label_propagation.py:288: ConvergenceWarning: max_iter=1000 was reached without convergence.\n",
            "  category=ConvergenceWarning\n",
            "/usr/local/lib/python3.6/dist-packages/sklearn/semi_supervised/label_propagation.py:288: ConvergenceWarning: max_iter=1000 was reached without convergence.\n",
            "  category=ConvergenceWarning\n",
            "/usr/local/lib/python3.6/dist-packages/sklearn/semi_supervised/label_propagation.py:288: ConvergenceWarning: max_iter=1000 was reached without convergence.\n",
            "  category=ConvergenceWarning\n",
            "/usr/local/lib/python3.6/dist-packages/sklearn/semi_supervised/label_propagation.py:288: ConvergenceWarning: max_iter=1000 was reached without convergence.\n",
            "  category=ConvergenceWarning\n",
            "/usr/local/lib/python3.6/dist-packages/sklearn/semi_supervised/label_propagation.py:288: ConvergenceWarning: max_iter=1000 was reached without convergence.\n",
            "  category=ConvergenceWarning\n",
            "/usr/local/lib/python3.6/dist-packages/sklearn/semi_supervised/label_propagation.py:288: ConvergenceWarning: max_iter=1000 was reached without convergence.\n",
            "  category=ConvergenceWarning\n",
            "/usr/local/lib/python3.6/dist-packages/sklearn/semi_supervised/label_propagation.py:288: ConvergenceWarning: max_iter=1000 was reached without convergence.\n",
            "  category=ConvergenceWarning\n",
            "/usr/local/lib/python3.6/dist-packages/sklearn/semi_supervised/label_propagation.py:288: ConvergenceWarning: max_iter=1000 was reached without convergence.\n",
            "  category=ConvergenceWarning\n",
            "/usr/local/lib/python3.6/dist-packages/sklearn/semi_supervised/label_propagation.py:288: ConvergenceWarning: max_iter=1000 was reached without convergence.\n",
            "  category=ConvergenceWarning\n",
            "/usr/local/lib/python3.6/dist-packages/sklearn/semi_supervised/label_propagation.py:288: ConvergenceWarning: max_iter=1000 was reached without convergence.\n",
            "  category=ConvergenceWarning\n",
            "/usr/local/lib/python3.6/dist-packages/sklearn/semi_supervised/label_propagation.py:288: ConvergenceWarning: max_iter=1000 was reached without convergence.\n",
            "  category=ConvergenceWarning\n"
          ],
          "name": "stderr"
        }
      ]
    },
    {
      "cell_type": "code",
      "metadata": {
        "id": "phn10FPr6Jvz",
        "colab_type": "code",
        "colab": {
          "base_uri": "https://localhost:8080/",
          "height": 286
        },
        "outputId": "57e3d066-b83c-4161-a84f-25e9520490ba"
      },
      "source": [
        "plt.plot(n_training_list, RFC_score_list)\n",
        "plt.plot(n_training_list, LR_score_list)\n",
        "plt.plot(n_training_list, LP_score_list)\n",
        "plt.plot(n_training_list, LS_score_list)\n",
        "plt.plot(n_training_list, LP_more_unlabeled_list)\n",
        "plt.plot(n_training_list, LS_more_unlabeled_list)"
      ],
      "execution_count": 212,
      "outputs": [
        {
          "output_type": "execute_result",
          "data": {
            "text/plain": [
              "[<matplotlib.lines.Line2D at 0x7fc49275f748>]"
            ]
          },
          "metadata": {
            "tags": []
          },
          "execution_count": 212
        },
        {
          "output_type": "display_data",
          "data": {
            "image/png": "[encoded data removed]",
            "text/plain": [
              "<Figure size 432x288 with 1 Axes>"
            ]
          },
          "metadata": {
            "tags": []
          }
        }
      ]
    },
    {
      "cell_type": "code",
      "metadata": {
        "id": "VzRAEsHL0Dap",
        "colab_type": "code",
        "colab": {
          "base_uri": "https://localhost:8080/",
          "height": 286
        },
        "outputId": "cbf0bd88-8f26-438f-8f42-837e0ada3c13"
      },
      "source": [
        "plt.plot(n_training_list, RFC_score_list)\n",
        "plt.plot(n_training_list, LR_score_list)\n",
        "plt.plot(n_training_list, LP_score_list)\n",
        "plt.plot(n_training_list, LS_score_list)\n",
        "#plt.plot(n_training_list, LP_more_unlabeled_list)\n",
        "#plt.plot(n_training_list, LS_more_unlabeled_list)"
      ],
      "execution_count": 213,
      "outputs": [
        {
          "output_type": "execute_result",
          "data": {
            "text/plain": [
              "[<matplotlib.lines.Line2D at 0x7fc4928e6320>]"
            ]
          },
          "metadata": {
            "tags": []
          },
          "execution_count": 213
        },
        {
          "output_type": "display_data",
          "data": {
            "image/png": "[encoded data removed]",
            "text/plain": [
              "<Figure size 432x288 with 1 Axes>"
            ]
          },
          "metadata": {
            "tags": []
          }
        }
      ]
    },
    {
      "cell_type": "code",
      "metadata": {
        "id": "8r56abt-hqLA",
        "colab_type": "code",
        "colab": {
          "base_uri": "https://localhost:8080/",
          "height": 377
        },
        "outputId": "7a925979-77ed-40c8-dd85-dfc3d035b681"
      },
      "source": [
        "supervised_movie_pairs.head()"
      ],
      "execution_count": 71,
      "outputs": [
        {
          "output_type": "execute_result",
          "data": {
            "text/html": [
              "<div>\n",
              "<style scoped>\n",
              "    .dataframe tbody tr th:only-of-type {\n",
              "        vertical-align: middle;\n",
              "    }\n",
              "\n",
              "    .dataframe tbody tr th {\n",
              "        vertical-align: top;\n",
              "    }\n",
              "\n",
              "    .dataframe thead th {\n",
              "        text-align: right;\n",
              "    }\n",
              "</style>\n",
              "<table border=\"1\" class=\"dataframe\">\n",
              "  <thead>\n",
              "    <tr style=\"text-align: right;\">\n",
              "      <th></th>\n",
              "      <th>fm_primaryTitle</th>\n",
              "      <th>fm_startYear</th>\n",
              "      <th>fm_genres</th>\n",
              "      <th>fm_act1</th>\n",
              "      <th>fm_act2</th>\n",
              "      <th>fm_act3</th>\n",
              "      <th>fm_act4</th>\n",
              "      <th>fm_dir5</th>\n",
              "      <th>s_primaryTitle</th>\n",
              "      <th>s_startYear</th>\n",
              "      <th>s_genres</th>\n",
              "      <th>s_act1</th>\n",
              "      <th>s_act2</th>\n",
              "      <th>s_act3</th>\n",
              "      <th>s_act4</th>\n",
              "      <th>s_dir5</th>\n",
              "      <th>sequel</th>\n",
              "      <th>plot_cosine</th>\n",
              "      <th>title_sim_score</th>\n",
              "      <th>genre_sim_score</th>\n",
              "      <th>cast_sim_score</th>\n",
              "      <th>year_diff</th>\n",
              "    </tr>\n",
              "  </thead>\n",
              "  <tbody>\n",
              "    <tr>\n",
              "      <th>1</th>\n",
              "      <td>A Fistful of Dollars</td>\n",
              "      <td>1964</td>\n",
              "      <td>Drama,Western</td>\n",
              "      <td>Clint Eastwood</td>\n",
              "      <td>Gian Maria Volontè</td>\n",
              "      <td>Marianne Koch</td>\n",
              "      <td>Wolfgang Lukschy</td>\n",
              "      <td>Sergio Leone</td>\n",
              "      <td>For a Few Dollars More</td>\n",
              "      <td>1965</td>\n",
              "      <td>Western</td>\n",
              "      <td>Clint Eastwood</td>\n",
              "      <td>Lee Van Cleef</td>\n",
              "      <td>Gian Maria Volontè</td>\n",
              "      <td>Mario Brega</td>\n",
              "      <td>Sergio Leone</td>\n",
              "      <td>1</td>\n",
              "      <td>0.496428</td>\n",
              "      <td>0.400000</td>\n",
              "      <td>0.500000</td>\n",
              "      <td>3.5</td>\n",
              "      <td>1</td>\n",
              "    </tr>\n",
              "    <tr>\n",
              "      <th>3</th>\n",
              "      <td>A Nightmare on Elm Street 3: Dream Warriors</td>\n",
              "      <td>1987</td>\n",
              "      <td>Fantasy,Horror</td>\n",
              "      <td>Heather Langenkamp</td>\n",
              "      <td>Robert Englund</td>\n",
              "      <td>Craig Wasson</td>\n",
              "      <td>Patricia Arquette</td>\n",
              "      <td>Chuck Russell</td>\n",
              "      <td>A Nightmare on Elm Street 4: The Dream Master</td>\n",
              "      <td>1988</td>\n",
              "      <td>Horror</td>\n",
              "      <td>Robert Englund</td>\n",
              "      <td>Rodney Eastman</td>\n",
              "      <td>John Beckman</td>\n",
              "      <td>Kisha Brackel</td>\n",
              "      <td>Renny Harlin</td>\n",
              "      <td>1</td>\n",
              "      <td>0.816285</td>\n",
              "      <td>0.666667</td>\n",
              "      <td>0.500000</td>\n",
              "      <td>0.5</td>\n",
              "      <td>1</td>\n",
              "    </tr>\n",
              "    <tr>\n",
              "      <th>5</th>\n",
              "      <td>Ace Ventura: Pet Detective</td>\n",
              "      <td>1994</td>\n",
              "      <td>Comedy</td>\n",
              "      <td>Jim Carrey</td>\n",
              "      <td>Courteney Cox</td>\n",
              "      <td>Sean Young</td>\n",
              "      <td>Tone Loc</td>\n",
              "      <td>Tom Shadyac</td>\n",
              "      <td>Ace Ventura: When Nature Calls</td>\n",
              "      <td>1995</td>\n",
              "      <td>Adventure,Comedy,Crime</td>\n",
              "      <td>Jim Carrey</td>\n",
              "      <td>Ian McNeice</td>\n",
              "      <td>Simon Callow</td>\n",
              "      <td>Maynard Eziashi</td>\n",
              "      <td>Steve Oedekerk</td>\n",
              "      <td>1</td>\n",
              "      <td>0.678290</td>\n",
              "      <td>0.400000</td>\n",
              "      <td>0.333333</td>\n",
              "      <td>1.0</td>\n",
              "      <td>1</td>\n",
              "    </tr>\n",
              "    <tr>\n",
              "      <th>7</th>\n",
              "      <td>Alvin and the Chipmunks</td>\n",
              "      <td>2007</td>\n",
              "      <td>Animation,Comedy,Family</td>\n",
              "      <td>Jason Lee</td>\n",
              "      <td>Ross Bagdasarian Jr.</td>\n",
              "      <td>Janice Karman</td>\n",
              "      <td>David Cross</td>\n",
              "      <td>Tim Hill</td>\n",
              "      <td>Alvin and the Chipmunks: The Squeakquel</td>\n",
              "      <td>2009</td>\n",
              "      <td>Animation,Comedy,Family</td>\n",
              "      <td>Jason Lee</td>\n",
              "      <td>Zachary Levi</td>\n",
              "      <td>David Cross</td>\n",
              "      <td>Justin Long</td>\n",
              "      <td>Betty Thomas</td>\n",
              "      <td>1</td>\n",
              "      <td>0.729046</td>\n",
              "      <td>0.500000</td>\n",
              "      <td>1.000000</td>\n",
              "      <td>1.5</td>\n",
              "      <td>2</td>\n",
              "    </tr>\n",
              "    <tr>\n",
              "      <th>9</th>\n",
              "      <td>Anchorman: The Legend of Ron Burgundy</td>\n",
              "      <td>2004</td>\n",
              "      <td>Comedy</td>\n",
              "      <td>Will Ferrell</td>\n",
              "      <td>Christina Applegate</td>\n",
              "      <td>Steve Carell</td>\n",
              "      <td>Paul Rudd</td>\n",
              "      <td>Adam McKay</td>\n",
              "      <td>Anchorman 2: The Legend Continues</td>\n",
              "      <td>2013</td>\n",
              "      <td>Comedy</td>\n",
              "      <td>Will Ferrell</td>\n",
              "      <td>Christina Applegate</td>\n",
              "      <td>Paul Rudd</td>\n",
              "      <td>Steve Carell</td>\n",
              "      <td>Adam McKay</td>\n",
              "      <td>1</td>\n",
              "      <td>0.786549</td>\n",
              "      <td>0.333333</td>\n",
              "      <td>1.000000</td>\n",
              "      <td>5.0</td>\n",
              "      <td>9</td>\n",
              "    </tr>\n",
              "  </tbody>\n",
              "</table>\n",
              "</div>"
            ],
            "text/plain": [
              "                               fm_primaryTitle  ...  year_diff\n",
              "1                         A Fistful of Dollars  ...          1\n",
              "3  A Nightmare on Elm Street 3: Dream Warriors  ...          1\n",
              "5                   Ace Ventura: Pet Detective  ...          1\n",
              "7                      Alvin and the Chipmunks  ...          2\n",
              "9        Anchorman: The Legend of Ron Burgundy  ...          9\n",
              "\n",
              "[5 rows x 22 columns]"
            ]
          },
          "metadata": {
            "tags": []
          },
          "execution_count": 71
        }
      ]
    },
    {
      "cell_type": "code",
      "metadata": {
        "id": "L-MwTvDYh6eu",
        "colab_type": "code",
        "colab": {}
      },
      "source": [
        ""
      ],
      "execution_count": 0,
      "outputs": []
    }
  ]
}