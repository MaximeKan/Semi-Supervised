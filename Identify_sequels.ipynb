{
  "nbformat": 4,
  "nbformat_minor": 0,
  "metadata": {
    "colab": {
      "name": "Identify_sequels.ipynb",
      "provenance": []
    },
    "kernelspec": {
      "name": "python3",
      "display_name": "Python 3"
    }
  },
  "cells": [
    {
      "cell_type": "markdown",
      "metadata": {
        "id": "XY-Q592TC6w9",
        "colab_type": "text"
      },
      "source": [
        "# Identifying movie sequels using Semi-supervised learning"
      ]
    },
    {
      "cell_type": "markdown",
      "metadata": {
        "id": "yZrB8cjXDF90",
        "colab_type": "text"
      },
      "source": [
        "A movie sequel is a follow-up to a movie that came out previously, usually taking some of the same characters and themes to further explore or develop earlier storylines. Moviegoers are getting more and more accustomed to sequels, as they are widely used by studios to generate more profit from one original idea. Nowadays, sequels constitute a significant share of the movie industry, while it was practically inexistent half a century ago.\n",
        "\n",
        "In this post, we want to identify if within a pair of movies, one is the sequel of the other. Intuitively, sequels would have similar metadata to the original movie, which should make it a sensible problem to tackle. \n",
        "\n",
        "Our first reflex would be to view this as a binary classification problem, where we would predict if a movie is the sequel of another or not. However, this requires having labels on what movies are sequels and more importantly, which are not. This is not a straightforward task. Several problems rapidly appear once you start thinking about it:\n",
        "\n",
        "- While it is possible to find lists of sequels online, they usually are of limited size. This will limit our dataset quite significantly.\n",
        "- There are obviously no lists of non-sequel movies available. The  majority of movies are not sequels, and the proportion of movie pairs with a sequel is virtually infinitesimal. One idea then would be to just randomly select pairs of movies and label them as non-sequels. While this would most likely be a fair assumption, this would build an awful dataset to learn from. If you are to draw two movies at random, they are most likely not going to share any attributes at all. A classifier trained on such data is likely to identify any movie pair as a sequel as soon as one actor is in common.\n",
        "- Hence, the non-sequel movie pairs we want in our labeled dataset should not only be random, but also contain pairs that bear similarities despite not being sequels.\n",
        "\n",
        "To overcome these challenges, we will collect the data in three independent steps:\n",
        "\n",
        "- We will collect the sequel movies from <a href = \"https://en.wikipedia.org/wiki/List_of_film_sequels_by_box-office_improvement\">this wikipedia article</a>, which lists some movies and their sequels\n",
        "- For the non-sequel movies, we will manually define a list of movies for which we know none was a sequel and add all the resulting pairs as non-sequels to the train set\n",
        "- Finally, we will collect unlabeled data for all movies made by a couple of actors\n",
        "\n",
        "Given that this data collection process is very limiting in terms of data volume, we are going to perform a comparison of supervised and semi-supervised algorithms to predict which movie pairs are sequels."
      ]
    },
    {
      "cell_type": "markdown",
      "metadata": {
        "id": "DJvQRsAFP-3i",
        "colab_type": "text"
      },
      "source": [
        "## 1. Load Data"
      ]
    },
    {
      "cell_type": "markdown",
      "metadata": {
        "id": "Hwbvhwh2QH1f",
        "colab_type": "text"
      },
      "source": [
        "As always, let us start with the packages we will need in this post."
      ]
    },
    {
      "cell_type": "code",
      "metadata": {
        "id": "UKTOXPP3T_Px",
        "colab_type": "code",
        "colab": {}
      },
      "source": [
        "%%capture\n",
        "!pip install wikipedia -q\n",
        "import wikipedia\n",
        "import requests\n",
        "import pandas as pd\n",
        "import numpy as np\n",
        "import matplotlib.pyplot as plt\n",
        "\n",
        "%matplotlib inline"
      ],
      "execution_count": 0,
      "outputs": []
    },
    {
      "cell_type": "markdown",
      "metadata": {
        "colab_type": "text",
        "id": "7CWsTFtUsx56"
      },
      "source": [
        "### Load IMDB Data\n",
        "\n",
        "To build features for each movie, we want to use the IMDB data available online. We will download three tables:\n",
        "- \"title.principals\" maps movie IDs to actor and director IDs\n",
        "- \"title.basics\" maps movie IDs to the title, year and genre\n",
        "- \"name.basics\" maps actor and director IDs to their name"
      ]
    },
    {
      "cell_type": "code",
      "metadata": {
        "colab_type": "code",
        "id": "9ssPYFvWsx59",
        "colab": {}
      },
      "source": [
        "%%capture\n",
        "! wget \"https://datasets.imdbws.com/title.principals.tsv.gz\"\n",
        "! wget \"https://datasets.imdbws.com/title.basics.tsv.gz\"\n",
        "! wget \"https://datasets.imdbws.com/name.basics.tsv.gz\"\n",
        "\n",
        "! gunzip title.principals.tsv.gz\n",
        "! gunzip title.basics.tsv.gz\n",
        "! gunzip name.basics.tsv.gz"
      ],
      "execution_count": 0,
      "outputs": []
    },
    {
      "cell_type": "code",
      "metadata": {
        "colab_type": "code",
        "id": "DMuFp_jEsx5_",
        "colab": {}
      },
      "source": [
        "cast = pd.read_csv('title.principals.tsv', sep='\\t', na_values = \"\\\\N\", keep_default_na = False, \n",
        "                   usecols = ['tconst','ordering','nconst','category'],\n",
        "                   dtype = {'tconst': str, 'ordering': str, 'nconst': str, 'category': str})\n",
        "titles = pd.read_csv('title.basics.tsv', sep='\\t', na_values = \"\\\\N\", keep_default_na = False,\n",
        "                     usecols = ['tconst','primaryTitle','startYear','titleType','genres'],\n",
        "                    dtype = {'tconst': str, 'primaryTitle': str, 'startYear': 'Int64','titleType':str, 'genres': str})\n",
        "names = pd.read_csv('name.basics.tsv', sep='\\t', na_values = \"\\\\N\", keep_default_na = False,\n",
        "                    usecols = ['nconst','primaryName'], \n",
        "                    dtype = {'nconst': str, 'primaryName': str})"
      ],
      "execution_count": 0,
      "outputs": []
    },
    {
      "cell_type": "code",
      "metadata": {
        "id": "3uaOoW_EudnI",
        "colab_type": "code",
        "colab": {}
      },
      "source": [
        "titles = titles[titles.titleType == 'movie'] #keep only movies\n",
        "cast = cast[cast.category.isin(['director','actor','actress'])] #only keep actors, actresses and directors"
      ],
      "execution_count": 0,
      "outputs": []
    },
    {
      "cell_type": "markdown",
      "metadata": {
        "id": "V5Hr4OkFW7Fh",
        "colab_type": "text"
      },
      "source": [
        "### Get the sequel movie pairs"
      ]
    },
    {
      "cell_type": "markdown",
      "metadata": {
        "id": "UJOrqFLmXJ-k",
        "colab_type": "text"
      },
      "source": [
        "In <a href = \"https://en.wikipedia.org/wiki/List_of_film_sequels_by_box-office_improvement\">this wikipedia page</a>, there is a list of movies and their sequels. All these movie titles can be found extracted as they are coded as links to the corresponding wikipedia page. The code below queries all links from the wikipedia page."
      ]
    },
    {
      "cell_type": "code",
      "metadata": {
        "id": "cLs6oQw5jRhe",
        "colab_type": "code",
        "colab": {}
      },
      "source": [
        "S = requests.Session()\n",
        "\n",
        "URL = \"https://en.wikipedia.org/w/api.php\"\n",
        "\n",
        "PARAMS = {\n",
        "    \"action\": \"query\",\n",
        "    \"format\": \"json\",\n",
        "    \"titles\": \"List_of_film_sequels_by_box-office_improvement\",\n",
        "    \"prop\": \"links\",\n",
        "    \"pllimit\": 500\n",
        "}\n",
        "\n",
        "R = S.get(url=URL, params=PARAMS)\n",
        "DATA = R.json()\n",
        "\n",
        "PAGES = DATA[\"query\"][\"pages\"]\n",
        "\n",
        "sequels = []\n",
        "for k, v in PAGES.items():\n",
        "    for l in v[\"links\"]:\n",
        "        sequels.append(l[\"title\"])\n",
        "\n",
        "print(sequels[:5])"
      ],
      "execution_count": 0,
      "outputs": []
    },
    {
      "cell_type": "markdown",
      "metadata": {
        "colab_type": "text",
        "id": "fhKVnuIzZiTF"
      },
      "source": [
        "We then go through this list to find which are sequels by checking if within the pair, one wikipedia article summary references the other. For instance, this is what can be found in the first sentences of the description of <a href = \"https://en.wikipedia.org/wiki/The_Godfather_Part_II\">The Godfather Part II on wikipedia</a>: \n",
        "\n",
        "> *The Godfather Part II* is a 1974 American crime film produced and directed by Francis Ford Coppola from a screenplay co-written with Mario Puzo, starring Al Pacino and Robert De Niro. Partially based on Puzo's 1969 novel *The Godfather*, the film is both sequel and prequel to *The Godfather*, presenting parallel dramas: one picks up the 1958 story of Michael Corleone (Pacino), the new Don of the Corleone crime family, protecting the family business in the aftermath of an attempt on his life; the prequel covers the journey of his father, Vito Corleone (De Niro), from his Sicilian childhood to the founding of his family enterprise in New York City.\n",
        "\n",
        "We can see in this example that *The Godfather Part II* references *The Godfather*, thus we can assume both movies are a sequel pair.\n",
        "\n",
        "The code below executes this logic."
      ]
    },
    {
      "cell_type": "code",
      "metadata": {
        "id": "1Y3ZWOVv_HGm",
        "colab_type": "code",
        "colab": {}
      },
      "source": [
        "first_movie_list = []\n",
        "sequel_movie_list = []\n",
        "for sequel in sequels: #looping through the link titles\n",
        "    page = wikipedia.page(sequel) #get the wikipedia page of this title\n",
        "    summary = page.summary #get the wikipedia summary of the page\n",
        "    for first_movie in sequels: #looping through the link titles\n",
        "        if first_movie in summary and first_movie != sequel: #if the first movie gets referenced, add both to list\n",
        "            first_movie_list.append(first_movie)\n",
        "            sequel_movie_list.append(sequel)"
      ],
      "execution_count": 0,
      "outputs": []
    },
    {
      "cell_type": "code",
      "metadata": {
        "id": "eTtt6tKAyiV1",
        "colab_type": "code",
        "colab": {}
      },
      "source": [
        "def remove_film_year(sequel):\n",
        "    if \"(\" in sequel:\n",
        "        i = sequel.index(\"(\")\n",
        "        return sequel[0:i-1]\n",
        "    return sequel\n",
        "\n",
        "first_movie_list = [remove_film_year(first_movie) for first_movie in first_movie_list]\n",
        "sequel_movie_list = [remove_film_year(sequel) for sequel in sequel_movie_list]"
      ],
      "execution_count": 0,
      "outputs": []
    },
    {
      "cell_type": "markdown",
      "metadata": {
        "id": "5YqCflEemjg1",
        "colab_type": "text"
      },
      "source": [
        "### Get the non-sequel movie pairs\n",
        "\n",
        "As outlined above, we want the non-sequel movie pairs to be not chosen at random to avoid them being too different. The list below is made of movies for which there were no sequels (to the best of our knowledge), and they were chosen so that some would have similarities:\n",
        "- *The Searchers* and *She Wore a Yellow Ribbon* are both westerns with John Wayne directed by John Ford, with 7 years difference\n",
        "- *There Will Be Blood* and *Phantom Thread* are both starring Daniel Day-Lewis and were directed by Paul Thomas Anderson, with 10 years difference\n",
        "- *Little Big Man* and *Bonnie and Clyde* both feature Faye Dunaway and were directed by Arthur Penn, with 3 years difference\n",
        "- *The Shawshank Redemption* and *Escape from Alcatraz* are both movies about escaping prison\n",
        "- *Little Big Horn* and *Little Big Man* obviously are very close in title and are both westerns\n",
        "- etc\n",
        "\n",
        "We compute all the pairs using these movies for the non-sequel movie pairs in our train data."
      ]
    },
    {
      "cell_type": "code",
      "metadata": {
        "id": "1d7-FhcMmaSU",
        "colab_type": "code",
        "colab": {}
      },
      "source": [
        "non_sequel_movies = ['The Searchers','Chisum','She Wore a Yellow Ribbon','There Will Be Blood','Phantom Thread','Little Big Man',\n",
        "                     'Bonnie and Clyde','Out of Africa','Silkwood','Florence Foster Jenkins','The Shawshank Redemption',\n",
        "                     'Escape from Alcatraz','Little Big Horn','American Beauty','An American in Paris']\n",
        "\n",
        "ns_first_movie_list = []\n",
        "ns_sequel_movie_list = []\n",
        "for first_movie in non_sequel_movies:\n",
        "    for sequel_movie in non_sequel_movies:\n",
        "        if first_movie != sequel_movie:\n",
        "            ns_first_movie_list.append(first_movie)\n",
        "            ns_sequel_movie_list.append(sequel_movie)"
      ],
      "execution_count": 0,
      "outputs": []
    },
    {
      "cell_type": "markdown",
      "metadata": {
        "id": "zAY_QiCtt9Wb",
        "colab_type": "text"
      },
      "source": [
        "### Get the unlabeled movie pairs\n",
        "\n",
        "The unlabeled movie pairs are the pairs for which we would like to get the labels, ie to determine whether these are sequels or not. For this, we select 4 directors, 2 actors and 2 actresses, for which we select all the respective pairwise combination of movies."
      ]
    },
    {
      "cell_type": "code",
      "metadata": {
        "colab_type": "code",
        "id": "wxPtv7aGuvbq",
        "colab": {}
      },
      "source": [
        "actors_for_unsupervised = ['Al Pacino','Jack Nicholson','Jennifer Lawrence','Jodie Foster']\n",
        "directors_for_unsupervised = ['Alfred Hitchcock','Steven Spielberg','George Lucas','David Lean']\n",
        "names_for_unsupervised = actors_for_unsupervised + directors_for_unsupervised"
      ],
      "execution_count": 0,
      "outputs": []
    },
    {
      "cell_type": "code",
      "metadata": {
        "colab_type": "code",
        "id": "8BibEguLuvbs",
        "colab": {}
      },
      "source": [
        "cast_movies = pd.merge(names[names.primaryName.isin(names_for_unsupervised)],cast, on = 'nconst', how = 'inner')\n",
        "cast_titles = pd.merge(cast_movies, titles, on = 'tconst', how = 'inner')"
      ],
      "execution_count": 0,
      "outputs": []
    },
    {
      "cell_type": "code",
      "metadata": {
        "colab_type": "code",
        "id": "Cs72WASouvby",
        "colab": {}
      },
      "source": [
        "unlabeled_first_movie_list = []\n",
        "unlabeled_sequel_movie_list = []\n",
        "\n",
        "for name in names_for_unsupervised:\n",
        "    name_movies = cast_titles[cast_titles.primaryName == name].primaryTitle.unique()\n",
        "    for first_movie in name_movies:\n",
        "        for sequel_movie in name_movies:\n",
        "            if first_movie != sequel_movie:\n",
        "                unlabeled_first_movie_list.append(first_movie)\n",
        "                unlabeled_sequel_movie_list.append(sequel_movie)"
      ],
      "execution_count": 0,
      "outputs": []
    },
    {
      "cell_type": "markdown",
      "metadata": {
        "id": "Cj8OS5xMjssj",
        "colab_type": "text"
      },
      "source": [
        "## 2. Data Preparation"
      ]
    },
    {
      "cell_type": "markdown",
      "metadata": {
        "id": "I06jKwRsIzbs",
        "colab_type": "text"
      },
      "source": [
        "Now that we have loaded the lists of movies we want to be considering as movie pairs for our project, we need to prepare the data. Our goal is to construct a dataframe where each row would represent a pair of movies with their corresponding information."
      ]
    },
    {
      "cell_type": "code",
      "metadata": {
        "id": "C4QHHcJPtkyo",
        "colab_type": "code",
        "colab": {}
      },
      "source": [
        "def prepare_data(first_movie_list, sequel_movie_list):\n",
        "    # Join movie lists to their IMDB data\n",
        "    movie_titles = titles[titles.primaryTitle.isin(first_movie_list + sequel_movie_list)].copy()\n",
        "    movie_titles.drop_duplicates(subset = 'primaryTitle', keep = False, inplace = True)\n",
        "    movie_titles = pd.merge(movie_titles, cast, on = 'tconst')\n",
        "    movie_titles = pd.merge(movie_titles, names, on = 'nconst')\n",
        "    movie_titles = movie_titles.drop(columns = ['titleType','tconst','nconst'])\n",
        "\n",
        "    # Pivot the table by pushing the cast and directors to columns\n",
        "    movie_information = movie_titles.replace(['actor','actress','director'], ['act','act','dir'])\n",
        "    movie_information['role'] = movie_information.category + movie_information.ordering\n",
        "    movie_summary = pd.pivot_table(movie_information, columns = 'role', values = 'primaryName', index = ['primaryTitle','startYear','genres'], aggfunc = 'first') #add genres back\n",
        "    movie_summary = movie_summary[['act1','act2','act3','act4','dir5']].reset_index()\n",
        "    \n",
        "    # Add prefixes to the columns to distinguish the first movies from the sequels\n",
        "    first_movie_titles = movie_summary[movie_summary.primaryTitle.isin(first_movie_list)]\n",
        "    first_movie_titles = first_movie_titles.add_prefix('fm_')\n",
        "    sequel_movie_titles = movie_summary[movie_summary.primaryTitle.isin(sequel_movie_list)]\n",
        "    sequel_movie_titles = sequel_movie_titles.add_prefix('s_')\n",
        "\n",
        "    sequel_pairs = pd.DataFrame({\"first_movie\" : first_movie_list, \"sequel\" : sequel_movie_list})\n",
        "\n",
        "    # Join the first movies with the sequels, check that the year of the sequel is after the year of the first movie\n",
        "    sequel_table = pd.merge(pd.merge(first_movie_titles, sequel_pairs, left_on = 'fm_primaryTitle', right_on = 'first_movie', how = 'inner'),\n",
        "                        sequel_movie_titles, left_on = 'sequel', right_on = 's_primaryTitle', how = 'inner')\n",
        "    sequel_table = sequel_table[sequel_table.fm_startYear <= sequel_table.s_startYear].copy()\n",
        "    sequel_table.drop(columns = ['first_movie','sequel'], inplace = True)\n",
        "\n",
        "    return sequel_table"
      ],
      "execution_count": 0,
      "outputs": []
    },
    {
      "cell_type": "markdown",
      "metadata": {
        "id": "e7izBepZLwDi",
        "colab_type": "text"
      },
      "source": [
        "Eventually, we can apply this function to each of our three data sets: the sequels, the non-sequels and the unlabeled movie pairs."
      ]
    },
    {
      "cell_type": "code",
      "metadata": {
        "id": "4ocGJ6BOV2Sy",
        "colab_type": "code",
        "outputId": "193bfd61-be6f-4d4a-b6a7-ddab03863fd9",
        "colab": {
          "base_uri": "https://localhost:8080/",
          "height": 377
        }
      },
      "source": [
        "sequel_table = prepare_data(first_movie_list, sequel_movie_list)\n",
        "sequel_table.head()"
      ],
      "execution_count": 0,
      "outputs": [
        {
          "output_type": "execute_result",
          "data": {
            "text/html": [
              "<div>\n",
              "<style scoped>\n",
              "    .dataframe tbody tr th:only-of-type {\n",
              "        vertical-align: middle;\n",
              "    }\n",
              "\n",
              "    .dataframe tbody tr th {\n",
              "        vertical-align: top;\n",
              "    }\n",
              "\n",
              "    .dataframe thead th {\n",
              "        text-align: right;\n",
              "    }\n",
              "</style>\n",
              "<table border=\"1\" class=\"dataframe\">\n",
              "  <thead>\n",
              "    <tr style=\"text-align: right;\">\n",
              "      <th></th>\n",
              "      <th>fm_primaryTitle</th>\n",
              "      <th>fm_startYear</th>\n",
              "      <th>fm_genres</th>\n",
              "      <th>fm_act1</th>\n",
              "      <th>fm_act2</th>\n",
              "      <th>fm_act3</th>\n",
              "      <th>fm_act4</th>\n",
              "      <th>fm_dir5</th>\n",
              "      <th>s_primaryTitle</th>\n",
              "      <th>s_startYear</th>\n",
              "      <th>s_genres</th>\n",
              "      <th>s_act1</th>\n",
              "      <th>s_act2</th>\n",
              "      <th>s_act3</th>\n",
              "      <th>s_act4</th>\n",
              "      <th>s_dir5</th>\n",
              "    </tr>\n",
              "  </thead>\n",
              "  <tbody>\n",
              "    <tr>\n",
              "      <th>1</th>\n",
              "      <td>A Fistful of Dollars</td>\n",
              "      <td>1964</td>\n",
              "      <td>Drama,Western</td>\n",
              "      <td>Clint Eastwood</td>\n",
              "      <td>Gian Maria Volontè</td>\n",
              "      <td>Marianne Koch</td>\n",
              "      <td>Wolfgang Lukschy</td>\n",
              "      <td>Sergio Leone</td>\n",
              "      <td>For a Few Dollars More</td>\n",
              "      <td>1965</td>\n",
              "      <td>Western</td>\n",
              "      <td>Clint Eastwood</td>\n",
              "      <td>Lee Van Cleef</td>\n",
              "      <td>Gian Maria Volontè</td>\n",
              "      <td>Mario Brega</td>\n",
              "      <td>Sergio Leone</td>\n",
              "    </tr>\n",
              "    <tr>\n",
              "      <th>2</th>\n",
              "      <td>Ace Ventura: Pet Detective</td>\n",
              "      <td>1994</td>\n",
              "      <td>Comedy</td>\n",
              "      <td>Jim Carrey</td>\n",
              "      <td>Courteney Cox</td>\n",
              "      <td>Sean Young</td>\n",
              "      <td>Tone Loc</td>\n",
              "      <td>Tom Shadyac</td>\n",
              "      <td>Ace Ventura: When Nature Calls</td>\n",
              "      <td>1995</td>\n",
              "      <td>Adventure,Comedy,Crime</td>\n",
              "      <td>Jim Carrey</td>\n",
              "      <td>Ian McNeice</td>\n",
              "      <td>Simon Callow</td>\n",
              "      <td>Maynard Eziashi</td>\n",
              "      <td>Steve Oedekerk</td>\n",
              "    </tr>\n",
              "    <tr>\n",
              "      <th>4</th>\n",
              "      <td>Alvin and the Chipmunks</td>\n",
              "      <td>2007</td>\n",
              "      <td>Animation,Comedy,Family</td>\n",
              "      <td>Jason Lee</td>\n",
              "      <td>Ross Bagdasarian Jr.</td>\n",
              "      <td>Janice Karman</td>\n",
              "      <td>David Cross</td>\n",
              "      <td>Tim Hill</td>\n",
              "      <td>Alvin and the Chipmunks: The Squeakquel</td>\n",
              "      <td>2009</td>\n",
              "      <td>Animation,Comedy,Family</td>\n",
              "      <td>Jason Lee</td>\n",
              "      <td>Zachary Levi</td>\n",
              "      <td>David Cross</td>\n",
              "      <td>Justin Long</td>\n",
              "      <td>Betty Thomas</td>\n",
              "    </tr>\n",
              "    <tr>\n",
              "      <th>6</th>\n",
              "      <td>Anchorman: The Legend of Ron Burgundy</td>\n",
              "      <td>2004</td>\n",
              "      <td>Comedy</td>\n",
              "      <td>Will Ferrell</td>\n",
              "      <td>Christina Applegate</td>\n",
              "      <td>Steve Carell</td>\n",
              "      <td>Paul Rudd</td>\n",
              "      <td>Adam McKay</td>\n",
              "      <td>Anchorman 2: The Legend Continues</td>\n",
              "      <td>2013</td>\n",
              "      <td>Comedy</td>\n",
              "      <td>Will Ferrell</td>\n",
              "      <td>Christina Applegate</td>\n",
              "      <td>Paul Rudd</td>\n",
              "      <td>Steve Carell</td>\n",
              "      <td>Adam McKay</td>\n",
              "    </tr>\n",
              "    <tr>\n",
              "      <th>11</th>\n",
              "      <td>Avengers: Age of Ultron</td>\n",
              "      <td>2015</td>\n",
              "      <td>Action,Adventure,Sci-Fi</td>\n",
              "      <td>Robert Downey Jr.</td>\n",
              "      <td>Chris Evans</td>\n",
              "      <td>Mark Ruffalo</td>\n",
              "      <td>Chris Hemsworth</td>\n",
              "      <td>Joss Whedon</td>\n",
              "      <td>Avengers: Endgame</td>\n",
              "      <td>2019</td>\n",
              "      <td>Action,Adventure,Drama</td>\n",
              "      <td>Robert Downey Jr.</td>\n",
              "      <td>Chris Evans</td>\n",
              "      <td>Mark Ruffalo</td>\n",
              "      <td>Chris Hemsworth</td>\n",
              "      <td>Anthony Russo</td>\n",
              "    </tr>\n",
              "  </tbody>\n",
              "</table>\n",
              "</div>"
            ],
            "text/plain": [
              "                          fm_primaryTitle  ...          s_dir5\n",
              "1                    A Fistful of Dollars  ...    Sergio Leone\n",
              "2              Ace Ventura: Pet Detective  ...  Steve Oedekerk\n",
              "4                 Alvin and the Chipmunks  ...    Betty Thomas\n",
              "6   Anchorman: The Legend of Ron Burgundy  ...      Adam McKay\n",
              "11                Avengers: Age of Ultron  ...   Anthony Russo\n",
              "\n",
              "[5 rows x 16 columns]"
            ]
          },
          "metadata": {
            "tags": []
          },
          "execution_count": 13
        }
      ]
    },
    {
      "cell_type": "code",
      "metadata": {
        "id": "079VhRMlWVFT",
        "colab_type": "code",
        "outputId": "2e713bf7-3d9f-4e63-9d10-52b9bef99618",
        "colab": {
          "base_uri": "https://localhost:8080/",
          "height": 360
        }
      },
      "source": [
        "non_sequel_table = prepare_data(ns_first_movie_list, ns_sequel_movie_list)\n",
        "non_sequel_table.head()"
      ],
      "execution_count": 0,
      "outputs": [
        {
          "output_type": "execute_result",
          "data": {
            "text/html": [
              "<div>\n",
              "<style scoped>\n",
              "    .dataframe tbody tr th:only-of-type {\n",
              "        vertical-align: middle;\n",
              "    }\n",
              "\n",
              "    .dataframe tbody tr th {\n",
              "        vertical-align: top;\n",
              "    }\n",
              "\n",
              "    .dataframe thead th {\n",
              "        text-align: right;\n",
              "    }\n",
              "</style>\n",
              "<table border=\"1\" class=\"dataframe\">\n",
              "  <thead>\n",
              "    <tr style=\"text-align: right;\">\n",
              "      <th></th>\n",
              "      <th>fm_primaryTitle</th>\n",
              "      <th>fm_startYear</th>\n",
              "      <th>fm_genres</th>\n",
              "      <th>fm_act1</th>\n",
              "      <th>fm_act2</th>\n",
              "      <th>fm_act3</th>\n",
              "      <th>fm_act4</th>\n",
              "      <th>fm_dir5</th>\n",
              "      <th>s_primaryTitle</th>\n",
              "      <th>s_startYear</th>\n",
              "      <th>s_genres</th>\n",
              "      <th>s_act1</th>\n",
              "      <th>s_act2</th>\n",
              "      <th>s_act3</th>\n",
              "      <th>s_act4</th>\n",
              "      <th>s_dir5</th>\n",
              "    </tr>\n",
              "  </thead>\n",
              "  <tbody>\n",
              "    <tr>\n",
              "      <th>1</th>\n",
              "      <td>An American in Paris</td>\n",
              "      <td>1951</td>\n",
              "      <td>Drama,Musical,Romance</td>\n",
              "      <td>Gene Kelly</td>\n",
              "      <td>Leslie Caron</td>\n",
              "      <td>Oscar Levant</td>\n",
              "      <td>Georges Guétary</td>\n",
              "      <td>Vincente Minnelli</td>\n",
              "      <td>The Searchers</td>\n",
              "      <td>1956</td>\n",
              "      <td>Adventure,Drama,Western</td>\n",
              "      <td>John Wayne</td>\n",
              "      <td>Jeffrey Hunter</td>\n",
              "      <td>Vera Miles</td>\n",
              "      <td>Ward Bond</td>\n",
              "      <td>John Ford</td>\n",
              "    </tr>\n",
              "    <tr>\n",
              "      <th>6</th>\n",
              "      <td>Little Big Horn</td>\n",
              "      <td>1951</td>\n",
              "      <td>Western</td>\n",
              "      <td>Lloyd Bridges</td>\n",
              "      <td>John Ireland</td>\n",
              "      <td>Marie Windsor</td>\n",
              "      <td>Reed Hadley</td>\n",
              "      <td>Charles Marquis Warren</td>\n",
              "      <td>The Searchers</td>\n",
              "      <td>1956</td>\n",
              "      <td>Adventure,Drama,Western</td>\n",
              "      <td>John Wayne</td>\n",
              "      <td>Jeffrey Hunter</td>\n",
              "      <td>Vera Miles</td>\n",
              "      <td>Ward Bond</td>\n",
              "      <td>John Ford</td>\n",
              "    </tr>\n",
              "    <tr>\n",
              "      <th>10</th>\n",
              "      <td>She Wore a Yellow Ribbon</td>\n",
              "      <td>1949</td>\n",
              "      <td>Western</td>\n",
              "      <td>John Wayne</td>\n",
              "      <td>Joanne Dru</td>\n",
              "      <td>John Agar</td>\n",
              "      <td>Ben Johnson</td>\n",
              "      <td>John Ford</td>\n",
              "      <td>The Searchers</td>\n",
              "      <td>1956</td>\n",
              "      <td>Adventure,Drama,Western</td>\n",
              "      <td>John Wayne</td>\n",
              "      <td>Jeffrey Hunter</td>\n",
              "      <td>Vera Miles</td>\n",
              "      <td>Ward Bond</td>\n",
              "      <td>John Ford</td>\n",
              "    </tr>\n",
              "    <tr>\n",
              "      <th>15</th>\n",
              "      <td>An American in Paris</td>\n",
              "      <td>1951</td>\n",
              "      <td>Drama,Musical,Romance</td>\n",
              "      <td>Gene Kelly</td>\n",
              "      <td>Leslie Caron</td>\n",
              "      <td>Oscar Levant</td>\n",
              "      <td>Georges Guétary</td>\n",
              "      <td>Vincente Minnelli</td>\n",
              "      <td>Chisum</td>\n",
              "      <td>1970</td>\n",
              "      <td>Biography,Western</td>\n",
              "      <td>John Wayne</td>\n",
              "      <td>Forrest Tucker</td>\n",
              "      <td>Christopher George</td>\n",
              "      <td>Ben Johnson</td>\n",
              "      <td>Andrew V. McLaglen</td>\n",
              "    </tr>\n",
              "    <tr>\n",
              "      <th>16</th>\n",
              "      <td>Bonnie and Clyde</td>\n",
              "      <td>1967</td>\n",
              "      <td>Action,Biography,Crime</td>\n",
              "      <td>Warren Beatty</td>\n",
              "      <td>Faye Dunaway</td>\n",
              "      <td>Michael J. Pollard</td>\n",
              "      <td>Gene Hackman</td>\n",
              "      <td>Arthur Penn</td>\n",
              "      <td>Chisum</td>\n",
              "      <td>1970</td>\n",
              "      <td>Biography,Western</td>\n",
              "      <td>John Wayne</td>\n",
              "      <td>Forrest Tucker</td>\n",
              "      <td>Christopher George</td>\n",
              "      <td>Ben Johnson</td>\n",
              "      <td>Andrew V. McLaglen</td>\n",
              "    </tr>\n",
              "  </tbody>\n",
              "</table>\n",
              "</div>"
            ],
            "text/plain": [
              "             fm_primaryTitle  fm_startYear  ...       s_act4              s_dir5\n",
              "1       An American in Paris          1951  ...    Ward Bond           John Ford\n",
              "6            Little Big Horn          1951  ...    Ward Bond           John Ford\n",
              "10  She Wore a Yellow Ribbon          1949  ...    Ward Bond           John Ford\n",
              "15      An American in Paris          1951  ...  Ben Johnson  Andrew V. McLaglen\n",
              "16          Bonnie and Clyde          1967  ...  Ben Johnson  Andrew V. McLaglen\n",
              "\n",
              "[5 rows x 16 columns]"
            ]
          },
          "metadata": {
            "tags": []
          },
          "execution_count": 17
        }
      ]
    },
    {
      "cell_type": "code",
      "metadata": {
        "id": "mHOfNIEgGzab",
        "colab_type": "code",
        "outputId": "e6f28500-35d1-4657-a518-30cccf798608",
        "colab": {
          "base_uri": "https://localhost:8080/",
          "height": 343
        }
      },
      "source": [
        "unlabeled_table = prepare_data(unlabeled_first_movie_list, unlabeled_sequel_movie_list)\n",
        "unlabeled_table.head()"
      ],
      "execution_count": 0,
      "outputs": [
        {
          "output_type": "execute_result",
          "data": {
            "text/html": [
              "<div>\n",
              "<style scoped>\n",
              "    .dataframe tbody tr th:only-of-type {\n",
              "        vertical-align: middle;\n",
              "    }\n",
              "\n",
              "    .dataframe tbody tr th {\n",
              "        vertical-align: top;\n",
              "    }\n",
              "\n",
              "    .dataframe thead th {\n",
              "        text-align: right;\n",
              "    }\n",
              "</style>\n",
              "<table border=\"1\" class=\"dataframe\">\n",
              "  <thead>\n",
              "    <tr style=\"text-align: right;\">\n",
              "      <th></th>\n",
              "      <th>fm_primaryTitle</th>\n",
              "      <th>fm_startYear</th>\n",
              "      <th>fm_genres</th>\n",
              "      <th>fm_act1</th>\n",
              "      <th>fm_act2</th>\n",
              "      <th>fm_act3</th>\n",
              "      <th>fm_act4</th>\n",
              "      <th>fm_dir5</th>\n",
              "      <th>s_primaryTitle</th>\n",
              "      <th>s_startYear</th>\n",
              "      <th>s_genres</th>\n",
              "      <th>s_act1</th>\n",
              "      <th>s_act2</th>\n",
              "      <th>s_act3</th>\n",
              "      <th>s_act4</th>\n",
              "      <th>s_dir5</th>\n",
              "    </tr>\n",
              "  </thead>\n",
              "  <tbody>\n",
              "    <tr>\n",
              "      <th>40</th>\n",
              "      <td>The Sugarland Express</td>\n",
              "      <td>1974</td>\n",
              "      <td>Crime,Drama</td>\n",
              "      <td>Goldie Hawn</td>\n",
              "      <td>Ben Johnson</td>\n",
              "      <td>Michael Sacks</td>\n",
              "      <td>William Atherton</td>\n",
              "      <td>Steven Spielberg</td>\n",
              "      <td>Jaws</td>\n",
              "      <td>1975</td>\n",
              "      <td>Adventure,Drama,Thriller</td>\n",
              "      <td>Roy Scheider</td>\n",
              "      <td>Robert Shaw</td>\n",
              "      <td>Richard Dreyfuss</td>\n",
              "      <td>Lorraine Gary</td>\n",
              "      <td>Steven Spielberg</td>\n",
              "    </tr>\n",
              "    <tr>\n",
              "      <th>53</th>\n",
              "      <td>Jaws</td>\n",
              "      <td>1975</td>\n",
              "      <td>Adventure,Drama,Thriller</td>\n",
              "      <td>Roy Scheider</td>\n",
              "      <td>Robert Shaw</td>\n",
              "      <td>Richard Dreyfuss</td>\n",
              "      <td>Lorraine Gary</td>\n",
              "      <td>Steven Spielberg</td>\n",
              "      <td>Close Encounters of the Third Kind</td>\n",
              "      <td>1977</td>\n",
              "      <td>Drama,Sci-Fi</td>\n",
              "      <td>Richard Dreyfuss</td>\n",
              "      <td>François Truffaut</td>\n",
              "      <td>Teri Garr</td>\n",
              "      <td>Melinda Dillon</td>\n",
              "      <td>Steven Spielberg</td>\n",
              "    </tr>\n",
              "    <tr>\n",
              "      <th>62</th>\n",
              "      <td>The Sugarland Express</td>\n",
              "      <td>1974</td>\n",
              "      <td>Crime,Drama</td>\n",
              "      <td>Goldie Hawn</td>\n",
              "      <td>Ben Johnson</td>\n",
              "      <td>Michael Sacks</td>\n",
              "      <td>William Atherton</td>\n",
              "      <td>Steven Spielberg</td>\n",
              "      <td>Close Encounters of the Third Kind</td>\n",
              "      <td>1977</td>\n",
              "      <td>Drama,Sci-Fi</td>\n",
              "      <td>Richard Dreyfuss</td>\n",
              "      <td>François Truffaut</td>\n",
              "      <td>Teri Garr</td>\n",
              "      <td>Melinda Dillon</td>\n",
              "      <td>Steven Spielberg</td>\n",
              "    </tr>\n",
              "    <tr>\n",
              "      <th>66</th>\n",
              "      <td>1941</td>\n",
              "      <td>1979</td>\n",
              "      <td>Action,Comedy,War</td>\n",
              "      <td>John Belushi</td>\n",
              "      <td>Dan Aykroyd</td>\n",
              "      <td>Treat Williams</td>\n",
              "      <td>Nancy Allen</td>\n",
              "      <td>Steven Spielberg</td>\n",
              "      <td>Raiders of the Lost Ark</td>\n",
              "      <td>1981</td>\n",
              "      <td>Action,Adventure</td>\n",
              "      <td>Harrison Ford</td>\n",
              "      <td>Karen Allen</td>\n",
              "      <td>Paul Freeman</td>\n",
              "      <td>John Rhys-Davies</td>\n",
              "      <td>Steven Spielberg</td>\n",
              "    </tr>\n",
              "    <tr>\n",
              "      <th>70</th>\n",
              "      <td>Close Encounters of the Third Kind</td>\n",
              "      <td>1977</td>\n",
              "      <td>Drama,Sci-Fi</td>\n",
              "      <td>Richard Dreyfuss</td>\n",
              "      <td>François Truffaut</td>\n",
              "      <td>Teri Garr</td>\n",
              "      <td>Melinda Dillon</td>\n",
              "      <td>Steven Spielberg</td>\n",
              "      <td>Raiders of the Lost Ark</td>\n",
              "      <td>1981</td>\n",
              "      <td>Action,Adventure</td>\n",
              "      <td>Harrison Ford</td>\n",
              "      <td>Karen Allen</td>\n",
              "      <td>Paul Freeman</td>\n",
              "      <td>John Rhys-Davies</td>\n",
              "      <td>Steven Spielberg</td>\n",
              "    </tr>\n",
              "  </tbody>\n",
              "</table>\n",
              "</div>"
            ],
            "text/plain": [
              "                       fm_primaryTitle  ...            s_dir5\n",
              "40               The Sugarland Express  ...  Steven Spielberg\n",
              "53                                Jaws  ...  Steven Spielberg\n",
              "62               The Sugarland Express  ...  Steven Spielberg\n",
              "66                                1941  ...  Steven Spielberg\n",
              "70  Close Encounters of the Third Kind  ...  Steven Spielberg\n",
              "\n",
              "[5 rows x 16 columns]"
            ]
          },
          "metadata": {
            "tags": []
          },
          "execution_count": 23
        }
      ]
    },
    {
      "cell_type": "markdown",
      "metadata": {
        "id": "BeVQ19TUM0Cl",
        "colab_type": "text"
      },
      "source": [
        "Finally, let us concatenate these three tables into one data set after labeling them. We assign the arbitrary label -1 when the movie pairs is unlabeled."
      ]
    },
    {
      "cell_type": "code",
      "metadata": {
        "id": "beVrA_euHWoz",
        "colab_type": "code",
        "outputId": "509c7b18-afd3-4a6c-8388-13abda915bbd",
        "colab": {
          "base_uri": "https://localhost:8080/",
          "height": 377
        }
      },
      "source": [
        "sequel_table['sequel'] = 1\n",
        "non_sequel_table['sequel'] = 0\n",
        "unlabeled_table['sequel'] = -1\n",
        "movie_pairs = pd.concat([sequel_table,non_sequel_table,unlabeled_table], axis = 0)\n",
        "movie_pairs.head()"
      ],
      "execution_count": 0,
      "outputs": [
        {
          "output_type": "execute_result",
          "data": {
            "text/html": [
              "<div>\n",
              "<style scoped>\n",
              "    .dataframe tbody tr th:only-of-type {\n",
              "        vertical-align: middle;\n",
              "    }\n",
              "\n",
              "    .dataframe tbody tr th {\n",
              "        vertical-align: top;\n",
              "    }\n",
              "\n",
              "    .dataframe thead th {\n",
              "        text-align: right;\n",
              "    }\n",
              "</style>\n",
              "<table border=\"1\" class=\"dataframe\">\n",
              "  <thead>\n",
              "    <tr style=\"text-align: right;\">\n",
              "      <th></th>\n",
              "      <th>fm_primaryTitle</th>\n",
              "      <th>fm_startYear</th>\n",
              "      <th>fm_genres</th>\n",
              "      <th>fm_act1</th>\n",
              "      <th>fm_act2</th>\n",
              "      <th>fm_act3</th>\n",
              "      <th>fm_act4</th>\n",
              "      <th>fm_dir5</th>\n",
              "      <th>s_primaryTitle</th>\n",
              "      <th>s_startYear</th>\n",
              "      <th>s_genres</th>\n",
              "      <th>s_act1</th>\n",
              "      <th>s_act2</th>\n",
              "      <th>s_act3</th>\n",
              "      <th>s_act4</th>\n",
              "      <th>s_dir5</th>\n",
              "      <th>sequel</th>\n",
              "    </tr>\n",
              "  </thead>\n",
              "  <tbody>\n",
              "    <tr>\n",
              "      <th>1</th>\n",
              "      <td>A Fistful of Dollars</td>\n",
              "      <td>1964</td>\n",
              "      <td>Drama,Western</td>\n",
              "      <td>Clint Eastwood</td>\n",
              "      <td>Gian Maria Volontè</td>\n",
              "      <td>Marianne Koch</td>\n",
              "      <td>Wolfgang Lukschy</td>\n",
              "      <td>Sergio Leone</td>\n",
              "      <td>For a Few Dollars More</td>\n",
              "      <td>1965</td>\n",
              "      <td>Western</td>\n",
              "      <td>Clint Eastwood</td>\n",
              "      <td>Lee Van Cleef</td>\n",
              "      <td>Gian Maria Volontè</td>\n",
              "      <td>Mario Brega</td>\n",
              "      <td>Sergio Leone</td>\n",
              "      <td>1</td>\n",
              "    </tr>\n",
              "    <tr>\n",
              "      <th>2</th>\n",
              "      <td>Ace Ventura: Pet Detective</td>\n",
              "      <td>1994</td>\n",
              "      <td>Comedy</td>\n",
              "      <td>Jim Carrey</td>\n",
              "      <td>Courteney Cox</td>\n",
              "      <td>Sean Young</td>\n",
              "      <td>Tone Loc</td>\n",
              "      <td>Tom Shadyac</td>\n",
              "      <td>Ace Ventura: When Nature Calls</td>\n",
              "      <td>1995</td>\n",
              "      <td>Adventure,Comedy,Crime</td>\n",
              "      <td>Jim Carrey</td>\n",
              "      <td>Ian McNeice</td>\n",
              "      <td>Simon Callow</td>\n",
              "      <td>Maynard Eziashi</td>\n",
              "      <td>Steve Oedekerk</td>\n",
              "      <td>1</td>\n",
              "    </tr>\n",
              "    <tr>\n",
              "      <th>4</th>\n",
              "      <td>Alvin and the Chipmunks</td>\n",
              "      <td>2007</td>\n",
              "      <td>Animation,Comedy,Family</td>\n",
              "      <td>Jason Lee</td>\n",
              "      <td>Ross Bagdasarian Jr.</td>\n",
              "      <td>Janice Karman</td>\n",
              "      <td>David Cross</td>\n",
              "      <td>Tim Hill</td>\n",
              "      <td>Alvin and the Chipmunks: The Squeakquel</td>\n",
              "      <td>2009</td>\n",
              "      <td>Animation,Comedy,Family</td>\n",
              "      <td>Jason Lee</td>\n",
              "      <td>Zachary Levi</td>\n",
              "      <td>David Cross</td>\n",
              "      <td>Justin Long</td>\n",
              "      <td>Betty Thomas</td>\n",
              "      <td>1</td>\n",
              "    </tr>\n",
              "    <tr>\n",
              "      <th>6</th>\n",
              "      <td>Anchorman: The Legend of Ron Burgundy</td>\n",
              "      <td>2004</td>\n",
              "      <td>Comedy</td>\n",
              "      <td>Will Ferrell</td>\n",
              "      <td>Christina Applegate</td>\n",
              "      <td>Steve Carell</td>\n",
              "      <td>Paul Rudd</td>\n",
              "      <td>Adam McKay</td>\n",
              "      <td>Anchorman 2: The Legend Continues</td>\n",
              "      <td>2013</td>\n",
              "      <td>Comedy</td>\n",
              "      <td>Will Ferrell</td>\n",
              "      <td>Christina Applegate</td>\n",
              "      <td>Paul Rudd</td>\n",
              "      <td>Steve Carell</td>\n",
              "      <td>Adam McKay</td>\n",
              "      <td>1</td>\n",
              "    </tr>\n",
              "    <tr>\n",
              "      <th>11</th>\n",
              "      <td>Avengers: Age of Ultron</td>\n",
              "      <td>2015</td>\n",
              "      <td>Action,Adventure,Sci-Fi</td>\n",
              "      <td>Robert Downey Jr.</td>\n",
              "      <td>Chris Evans</td>\n",
              "      <td>Mark Ruffalo</td>\n",
              "      <td>Chris Hemsworth</td>\n",
              "      <td>Joss Whedon</td>\n",
              "      <td>Avengers: Endgame</td>\n",
              "      <td>2019</td>\n",
              "      <td>Action,Adventure,Drama</td>\n",
              "      <td>Robert Downey Jr.</td>\n",
              "      <td>Chris Evans</td>\n",
              "      <td>Mark Ruffalo</td>\n",
              "      <td>Chris Hemsworth</td>\n",
              "      <td>Anthony Russo</td>\n",
              "      <td>1</td>\n",
              "    </tr>\n",
              "  </tbody>\n",
              "</table>\n",
              "</div>"
            ],
            "text/plain": [
              "                          fm_primaryTitle  fm_startYear  ...          s_dir5 sequel\n",
              "1                    A Fistful of Dollars          1964  ...    Sergio Leone      1\n",
              "2              Ace Ventura: Pet Detective          1994  ...  Steve Oedekerk      1\n",
              "4                 Alvin and the Chipmunks          2007  ...    Betty Thomas      1\n",
              "6   Anchorman: The Legend of Ron Burgundy          2004  ...      Adam McKay      1\n",
              "11                Avengers: Age of Ultron          2015  ...   Anthony Russo      1\n",
              "\n",
              "[5 rows x 17 columns]"
            ]
          },
          "metadata": {
            "tags": []
          },
          "execution_count": 24
        }
      ]
    },
    {
      "cell_type": "code",
      "metadata": {
        "id": "ECy9xKL9Iylg",
        "colab_type": "code",
        "outputId": "14983296-4d10-4b3f-d758-89fa8cf07e4f",
        "colab": {
          "base_uri": "https://localhost:8080/",
          "height": 281
        }
      },
      "source": [
        "movie_pairs.sequel.value_counts().plot(kind='bar')\n",
        "plt.title('Label counts in the data')\n",
        "plt.grid()"
      ],
      "execution_count": 0,
      "outputs": [
        {
          "output_type": "display_data",
          "data": {
            "image/png": "[encoded data removed]",
            "text/plain": [
              "<Figure size 432x288 with 1 Axes>"
            ]
          },
          "metadata": {
            "tags": []
          }
        }
      ]
    },
    {
      "cell_type": "markdown",
      "metadata": {
        "id": "tlhEabcZP_hy",
        "colab_type": "text"
      },
      "source": [
        "From this chart, we can see that we have slightly more non-sequels than sequels in our data set now. We obviously have way more unlabeled movie pairs, as we have a virtually unlimited amount of unlabeled movie pairs at our disposal."
      ]
    },
    {
      "cell_type": "markdown",
      "metadata": {
        "id": "AA_iN2SjN6Xi",
        "colab_type": "text"
      },
      "source": [
        "### Getting the movie plots\n",
        "\n",
        "The table above has mostly metadata about each of the movie pairs. This is obviously helpful as you would expect metadata to be similar when a sequel was made. However, it would also be insightful to get the movie plots, which we could then leverage with NLP tools to identify similarities between plots.\n",
        "\n",
        "To get the plots, we can still use the wikipedia API and extract the \"Plot\" section of the movie pages. Note that this terminology is not consistent throughout all wikipedia pages, which is why we need to look for sections such as \"Synopsis\" or \"Plot summary\" in case \"Plot\" was not found."
      ]
    },
    {
      "cell_type": "code",
      "metadata": {
        "id": "xGdQZcewzG3h",
        "colab_type": "code",
        "colab": {}
      },
      "source": [
        "def get_plot(movie_table):\n",
        "    plot_list = {}\n",
        "    plot_not_found = []\n",
        "    movie_list = np.array(pd.concat([movie_table.fm_primaryTitle, movie_table.s_primaryTitle]))\n",
        "    year_list = np.array(pd.concat([movie_table.fm_startYear, movie_table.s_startYear]))\n",
        "    for movie, year in zip(movie_list, year_list):\n",
        "        if movie not in plot_list and movie not in plot_not_found:\n",
        "            movie_y_f, movie_f = movie + ' (' + str(year) + ' film)', movie + ' (film)'\n",
        "            search1 = wikipedia.search(movie_y_f)[0]\n",
        "            search2 = wikipedia.search(movie_f)[0]\n",
        "            if search1 == movie_y_f:\n",
        "                search = movie_y_f\n",
        "            elif search2 == movie_f:\n",
        "                search = movie_f\n",
        "            else:\n",
        "                search = movie\n",
        "            try:\n",
        "                page = wikipedia.page(search)\n",
        "                plot = page.section(\"Plot\")\n",
        "                if not plot:\n",
        "                    plot = page.section(\"Synopsis\")\n",
        "                if not plot:\n",
        "                    plot = page.section(\"Plot summary\")\n",
        "                if not plot:\n",
        "                    plot = page.section(\"Summary\")\n",
        "                if plot:\n",
        "                    plot_list[movie] = plot\n",
        "                else:\n",
        "                    plot_not_found.append(movie)\n",
        "                    print('plot not found: %s' %movie)\n",
        "            except:\n",
        "                print('movie not found: %s' %movie)\n",
        "                plot_not_found.append(movie)\n",
        "                pass\n",
        "\n",
        "    return plot_list"
      ],
      "execution_count": 0,
      "outputs": []
    },
    {
      "cell_type": "code",
      "metadata": {
        "id": "qsP9mQ-xXwsO",
        "colab_type": "code",
        "outputId": "315f8181-7ebf-48be-fb4d-ad124e71ce12",
        "colab": {
          "base_uri": "https://localhost:8080/",
          "height": 1000
        }
      },
      "source": [
        "movie_plots = get_plot(movie_pairs)"
      ],
      "execution_count": 0,
      "outputs": [
        {
          "output_type": "stream",
          "text": [
            "A Fistful of Dollars\n",
            "Ace Ventura: Pet Detective\n",
            "Alvin and the Chipmunks\n",
            "Anchorman: The Legend of Ron Burgundy\n",
            "Avengers: Age of Ultron\n",
            "Avengers: Infinity War\n",
            "Batman Begins\n",
            "Batman Returns\n",
            "Blade Runner\n",
            "Captain America: The First Avenger\n",
            "Captain America: The Winter Soldier\n",
            "Clerks\n",
            "Despicable Me\n",
            "Diary of a Mad Black Woman\n",
            "Die Hard\n",
            "Die Hard 2\n",
            "Toy Story\n",
            "Dirty Harry\n",
            "El Mariachi\n",
            "Evil Dead II\n",
            "Final Destination 2\n",
            "Finding Dory\n",
            "The Incredibles\n",
            "Toy Story 3\n",
            "Finding Nemo\n",
            "Halloween III: Season of the Witch\n",
            "Harold & Kumar Go to White Castle\n",
            "Harry Potter and the Prisoner of Azkaban\n",
            "Hellbound: Hellraiser II\n",
            "House of 1000 Corpses\n",
            "Indiana Jones and the Temple of Doom\n",
            "Iron Man 2\n",
            "Jackass: The Movie\n",
            "The Matrix\n",
            "Lethal Weapon\n",
            "Mad Max\n",
            "Madagascar: Escape 2 Africa\n",
            "Shrek\n",
            "Monsters, Inc.\n",
            "Pirates of the Caribbean: The Curse of the Black Pearl\n",
            "The Lord of the Rings: The Return of the King\n",
            "Pitch Perfect\n",
            "Quantum of Solace\n",
            "Resident Evil: Apocalypse\n",
            "Resident Evil: Extinction\n",
            "Rise of the Planet of the Apes\n",
            "Rocky II\n",
            "Shanghai Noon\n",
            "Star Trek III: The Search for Spock\n",
            "The Boondock Saints\n",
            "The Matrix Reloaded\n",
            "The Terminator\n",
            "The Naked Gun: From the Files of Police Squad!\n",
            "The SpongeBob SquarePants Movie\n",
            "plot not found: The SpongeBob SquarePants Movie\n",
            "The Transporter\n",
            "Thor: The Dark World\n",
            "Toy Story 2\n",
            "An American in Paris\n",
            "Little Big Horn\n",
            "She Wore a Yellow Ribbon\n",
            "Bonnie and Clyde\n",
            "Little Big Man\n",
            "The Searchers\n",
            "American Beauty\n",
            "Chisum\n",
            "Escape from Alcatraz\n",
            "Out of Africa\n",
            "Silkwood\n",
            "The Shawshank Redemption\n",
            "Florence Foster Jenkins\n",
            "There Will Be Blood\n",
            "The Sugarland Express\n",
            "Jaws\n",
            "1941\n",
            "Close Encounters of the Third Kind\n",
            "Raiders of the Lost Ark\n",
            "E.T. the Extra-Terrestrial\n",
            "Twilight Zone: The Movie\n",
            "plot not found: Twilight Zone: The Movie\n",
            "Empire of the Sun\n",
            "Indiana Jones and the Last Crusade\n",
            "Schindler's List\n",
            "The Lost World: Jurassic Park\n",
            "Amistad\n",
            "A.I. Artificial Intelligence\n",
            "Saving Private Ryan\n",
            "Minority Report\n",
            "Munich\n",
            "The Terminal\n",
            "Indiana Jones and the Kingdom of the Crystal Skull\n",
            "Bridge of Spies\n",
            "Ready Player One\n",
            "The Adventures of Tintin\n",
            "The Panic in Needle Park\n",
            "Serpico\n",
            "The Godfather: Part II\n",
            "Dog Day Afternoon\n",
            "Bobby Deerfield\n",
            "And Justice for All\n",
            "Author! Author!\n",
            "The Godfather: Part III\n",
            "The Local Stigmatic\n",
            "plot not found: The Local Stigmatic\n",
            "Glengarry Glen Ross\n",
            "Carlito's Way\n",
            "City Hall\n",
            "Donnie Brasco\n",
            "The Devil's Advocate\n",
            "Chinese Coffee\n",
            "People I Know\n",
            "S1m0ne\n",
            "88 Minutes\n",
            "Righteous Kill\n",
            "The Son of No One\n",
            "Manglehorn\n",
            "Stand Up Guys\n",
            "The Humbling\n",
            "Danny Collins\n",
            "A Beautiful Planet\n",
            "plot not found: A Beautiful Planet\n",
            "American Hustle\n",
            "Dark Phoenix\n",
            "House at the End of the Street\n",
            "Mob Girl\n",
            "plot not found: Mob Girl\n",
            "Mother!\n",
            "Red Sparrow\n",
            "Silver Linings Playbook\n",
            "The Hunger Games\n",
            "The Hunger Games: Catching Fire\n",
            "The Hunger Games: Mockingjay - Part 1\n",
            "The Hunger Games: Mockingjay - Part 2\n",
            "The Poker House\n",
            "Winter's Bone\n",
            "X-Men: Apocalypse\n",
            "X-Men: First Class\n",
            "Untitled Lila Neugebauer Project\n",
            "plot not found: Untitled Lila Neugebauer Project\n",
            "The Cry Baby Killer\n",
            "The Wild Ride\n",
            "Flight to Fury\n",
            "The Broken Land\n",
            "Back Door to Hell\n",
            "plot not found: Back Door to Hell\n",
            "The Shooting\n",
            "plot not found: The Shooting\n",
            "Ride in the Whirlwind\n",
            "Hells Angels on Wheels\n",
            "Psych-Out\n",
            "The Rebel Rousers\n",
            "Five Easy Pieces\n",
            "The King of Marvin Gardens\n",
            "The Last Detail\n",
            "One Flew Over the Cuckoo's Nest\n",
            "The Missouri Breaks\n",
            "The Shining\n",
            "Prizzi's Honor\n",
            "Heartburn\n",
            "The Witches of Eastwick\n",
            "Ironweed\n",
            "A Few Good Men\n",
            "The Two Jakes\n",
            "Hoffa\n",
            "plot not found: Hoffa\n",
            "Mars Attacks!\n",
            "The Crossing Guard\n",
            "plot not found: The Crossing Guard\n",
            "Blood and Wine\n",
            "As Good as It Gets\n",
            "About Schmidt\n",
            "Something's Gotta Give\n",
            "Anger Management\n",
            "The Departed\n",
            "Major Barbara\n",
            "In Which We Serve\n",
            "This Happy Breed\n",
            "Brief Encounter\n",
            "The Sound Barrier\n",
            "plot not found: The Sound Barrier\n",
            "The Bridge on the River Kwai\n",
            "The Greatest Story Ever Told\n",
            "Doctor Zhivago\n",
            "plot not found: Doctor Zhivago\n",
            "Echoes of a Summer\n",
            "Napoleon and Samantha\n",
            "The Little Girl Who Lives Down the Lane\n",
            "Bugsy Malone\n",
            "Stop Calling Me Baby!\n",
            "plot not found: Stop Calling Me Baby!\n",
            "Candleshoe\n",
            "Foxes\n",
            "O'Hara's Wife\n",
            "The Blood of Others\n",
            "The Hotel New Hampshire\n",
            "My Letter to George\n",
            "Five Corners\n",
            "Catchfire\n",
            "The Silence of the Lambs\n",
            "Little Man Tate\n",
            "Sommersby\n",
            "Nell\n",
            "A Very Long Engagement\n",
            "Home for the Holidays\n",
            "Flightplan\n",
            "Inside Man\n",
            "Nim's Island\n",
            "The Beaver\n",
            "Money Monster\n",
            "Ryan's Daughter\n",
            "The Mountain Eagle\n",
            "When Boys Leave Home\n",
            "plot not found: When Boys Leave Home\n",
            "The Lodger: A Story of the London Fog\n",
            "Juno and the Paycock\n",
            "Murder!\n",
            "Elstree Calling\n",
            "East of Shanghai\n",
            "Strauss' Great Waltz\n",
            "plot not found: Strauss' Great Waltz\n",
            "Sanders of the River\n",
            "Jamaica Inn\n",
            "The House Across the Bay\n",
            "Foreign Correspondent\n",
            "Saboteur\n",
            "Shadow of a Doubt\n",
            "The Paradine Case\n",
            "Under Capricorn\n",
            "Dial M for Murder\n",
            "Strangers on a Train\n",
            "Rear Window\n",
            "North by Northwest\n",
            "Marnie\n",
            "Torn Curtain\n",
            "THX 1138\n",
            "Star Wars: Episode I - The Phantom Menace\n",
            "Star Wars: Episode IV - A New Hope\n",
            "Star Wars: Episode II - Attack of the Clones\n",
            "For a Few Dollars More\n",
            "Ace Ventura: When Nature Calls\n",
            "Alvin and the Chipmunks: The Squeakquel\n",
            "Anchorman 2: The Legend Continues\n",
            "Avengers: Endgame\n",
            "The Dark Knight\n",
            "Batman Forever\n",
            "Blade Runner 2049\n",
            "Captain America: Civil War\n",
            "Clerks II\n",
            "Despicable Me 2\n",
            "Madea's Family Reunion\n",
            "Die Hard with a Vengeance\n",
            "Live Free or Die Hard\n",
            "Magnum Force\n",
            "Sudden Impact\n",
            "Once Upon a Time in Mexico\n",
            "Army of Darkness\n",
            "Final Destination 3\n",
            "Incredibles 2\n",
            "Halloween 4: The Return of Michael Myers\n",
            "Harold & Kumar Escape from Guantanamo Bay\n",
            "Harry Potter and the Goblet of Fire\n",
            "Hellraiser III: Hell on Earth\n",
            "The Devil's Rejects\n",
            "Iron Man 3\n",
            "Jackass Number Two\n",
            "John Wick\n",
            "Lethal Weapon 2\n",
            "Mad Max: Fury Road\n",
            "Mad Max Beyond Thunderdome\n",
            "Madagascar 3: Europe's Most Wanted\n",
            "Monsters University\n",
            "Pirates of the Caribbean: Dead Man's Chest\n",
            "Pitch Perfect 2\n",
            "Skyfall\n",
            "Resident Evil: Afterlife\n",
            "Dawn of the Planet of the Apes\n",
            "Rocky III\n",
            "Shanghai Knights\n",
            "Shrek 2\n",
            "Star Trek IV: The Voyage Home\n",
            "The Boondock Saints II: All Saints Day\n",
            "Scary Movie 3\n",
            "Terminator 2: Judgment Day\n",
            "The Naked Gun 2½: The Smell of Fear\n",
            "The SpongeBob Movie: Sponge Out of Water\n",
            "Transporter 2\n",
            "Thor: Ragnarok\n",
            "Phantom Thread\n",
            "Untitled Indiana Jones Project\n",
            "movie not found: Untitled Indiana Jones Project\n",
            "The Pirates of Somalia\n",
            "How Do You Know\n",
            "Hotel Artemis\n",
            "A Passage to India\n",
            "Family Plot\n",
            "Star Wars: Episode III - Revenge of the Sith\n"
          ],
          "name": "stdout"
        }
      ]
    },
    {
      "cell_type": "code",
      "metadata": {
        "id": "WFxrE6IIlLo-",
        "colab_type": "code",
        "colab": {}
      },
      "source": [
        "documents = list(movie_plots.values())\n",
        "doc_titles = list(movie_plots.keys())"
      ],
      "execution_count": 0,
      "outputs": []
    },
    {
      "cell_type": "code",
      "metadata": {
        "id": "WT5_p1E_MTL7",
        "colab_type": "code",
        "colab": {}
      },
      "source": [
        "movie_pairs = movie_pairs[(movie_pairs.fm_primaryTitle.isin(doc_titles)) & (movie_pairs.s_primaryTitle.isin(doc_titles))].copy()"
      ],
      "execution_count": 0,
      "outputs": []
    },
    {
      "cell_type": "markdown",
      "metadata": {
        "id": "wDi4cfFIQpD8",
        "colab_type": "text"
      },
      "source": [
        "## 3. Feature construction"
      ]
    },
    {
      "cell_type": "code",
      "metadata": {
        "id": "QmKrAdQq-_Ab",
        "colab_type": "code",
        "outputId": "daa39771-5db9-4bbc-b75d-1e235dee0da4",
        "colab": {
          "base_uri": "https://localhost:8080/",
          "height": 51
        }
      },
      "source": [
        "import string\n",
        "import nltk\n",
        "nltk.download('stopwords')\n",
        "from nltk.corpus import stopwords"
      ],
      "execution_count": 0,
      "outputs": [
        {
          "output_type": "stream",
          "text": [
            "[nltk_data] Downloading package stopwords to /root/nltk_data...\n",
            "[nltk_data]   Unzipping corpora/stopwords.zip.\n"
          ],
          "name": "stdout"
        }
      ]
    },
    {
      "cell_type": "code",
      "metadata": {
        "id": "MdFWlL43AN6y",
        "colab_type": "code",
        "colab": {}
      },
      "source": [
        "stopwords_set = set(stopwords.words('english'))"
      ],
      "execution_count": 0,
      "outputs": []
    },
    {
      "cell_type": "code",
      "metadata": {
        "id": "gVrA1VSO-ido",
        "colab_type": "code",
        "colab": {}
      },
      "source": [
        "def clean_text(document):\n",
        "    document_lower = document.lower() # set everything to lower case\n",
        "    document_no_punctuation = document_lower.translate(str.maketrans('', '', string.punctuation)) # strip all punctuation\n",
        "    words = document_no_punctuation.split()\n",
        "    words_no_stopwords = [word for word in words if word not in stopwords_set]\n",
        "    return words_no_stopwords[0:100]"
      ],
      "execution_count": 0,
      "outputs": []
    },
    {
      "cell_type": "code",
      "metadata": {
        "id": "93CbE04hzC4I",
        "colab_type": "code",
        "colab": {}
      },
      "source": [
        "documents_text = [clean_text(document) for document in documents]"
      ],
      "execution_count": 0,
      "outputs": []
    },
    {
      "cell_type": "code",
      "metadata": {
        "id": "UoIUkdDYlZAE",
        "colab_type": "code",
        "colab": {}
      },
      "source": [
        "from gensim.models.doc2vec import Doc2Vec, TaggedDocument"
      ],
      "execution_count": 0,
      "outputs": []
    },
    {
      "cell_type": "code",
      "metadata": {
        "id": "Nc2WHS46lcE_",
        "colab_type": "code",
        "colab": {}
      },
      "source": [
        "documents_tagged = [TaggedDocument(doc, [doc_titles[i]]) for i, doc in enumerate(documents_text)]\n",
        "model = Doc2Vec(documents_tagged, vector_size=100, window=2, min_count=1, workers=4)"
      ],
      "execution_count": 0,
      "outputs": []
    },
    {
      "cell_type": "code",
      "metadata": {
        "id": "hdQ81zFokodj",
        "colab_type": "code",
        "outputId": "0b0fccaa-e7e4-4942-ffe4-26264992f0ac",
        "colab": {
          "base_uri": "https://localhost:8080/",
          "height": 105
        }
      },
      "source": [
        "max_epochs = 100\n",
        "vec_size = 100\n",
        "alpha = 0.025\n",
        "\n",
        "model = Doc2Vec(size=vec_size,\n",
        "                alpha=alpha, \n",
        "                min_alpha=0.00025,\n",
        "                min_count=3,\n",
        "                dm =1)\n",
        "  \n",
        "model.build_vocab(documents_tagged)\n",
        "\n",
        "for epoch in range(max_epochs):\n",
        "    model.train(documents_tagged,\n",
        "                total_examples=model.corpus_count,\n",
        "                epochs=model.iter)\n",
        "    # decrease the learning rate\n",
        "    model.alpha -= 0.0005\n",
        "    # fix the learning rate, no decay\n",
        "    model.min_alpha = model.alpha"
      ],
      "execution_count": 0,
      "outputs": [
        {
          "output_type": "stream",
          "text": [
            "/usr/local/lib/python3.6/dist-packages/gensim/models/doc2vec.py:570: UserWarning: The parameter `size` is deprecated, will be removed in 4.0.0, use `vector_size` instead.\n",
            "  warnings.warn(\"The parameter `size` is deprecated, will be removed in 4.0.0, use `vector_size` instead.\")\n",
            "/usr/local/lib/python3.6/dist-packages/ipykernel_launcher.py:16: DeprecationWarning: Call to deprecated `iter` (Attribute will be removed in 4.0.0, use self.epochs instead).\n",
            "  app.launch_new_instance()\n"
          ],
          "name": "stderr"
        }
      ]
    },
    {
      "cell_type": "code",
      "metadata": {
        "id": "OnSJxB1TlfDY",
        "colab_type": "code",
        "outputId": "7520a52b-9f44-4fa5-8b6d-a174fcece4e7",
        "colab": {
          "base_uri": "https://localhost:8080/",
          "height": 374
        }
      },
      "source": [
        "model.docvecs[0]"
      ],
      "execution_count": 0,
      "outputs": [
        {
          "output_type": "execute_result",
          "data": {
            "text/plain": [
              "array([-2.5194614 , -0.0647763 , -0.37928525, -0.46672255, -2.2716916 ,\n",
              "       -0.7800351 ,  0.10549486,  0.29400286, -1.0610323 , -0.5507792 ,\n",
              "       -2.4504576 ,  1.8233545 , -0.3825442 ,  1.3654914 , -1.8708978 ,\n",
              "       -2.765761  , -2.6936297 , -3.5530086 ,  0.06513973, -3.3020015 ,\n",
              "       -2.6017628 ,  3.09313   ,  2.0507262 ,  0.3510441 ,  1.0559995 ,\n",
              "        2.4000027 , -1.9530219 , -1.1620113 , -1.5587314 ,  0.8099251 ,\n",
              "       -3.6329026 ,  1.806493  ,  0.26893082,  2.4783547 ,  0.9705215 ,\n",
              "        0.95041627,  1.4337366 ,  1.1081353 , -1.1428593 , -0.45407194,\n",
              "       -1.3515459 , -3.902148  ,  2.4808922 , -1.0357152 , -0.23069394,\n",
              "        1.5876384 ,  0.18585075, -0.8622152 , -2.3101873 ,  2.0802    ,\n",
              "       -0.05943231, -0.79998773, -0.55250865, -0.16551173, -0.03693012,\n",
              "        1.2194659 , -0.7942102 , -0.9982069 , -1.1533071 ,  0.34318218,\n",
              "        0.16884594, -0.10124138,  0.9000363 , -1.5938396 ,  0.8710779 ,\n",
              "       -0.9091085 ,  0.898878  , -0.29600665,  0.5609815 , -0.29871774,\n",
              "        1.1819751 ,  0.07628042, -0.45217618, -0.67599577,  1.9254953 ,\n",
              "       -0.25482914, -0.8299665 ,  0.66442186,  0.7501798 , -1.23158   ,\n",
              "       -1.4224404 , -0.44125047, -0.10476124, -2.0791395 , -2.9182003 ,\n",
              "        0.16135195,  0.20229098,  0.20438015,  3.2594962 ,  0.0071785 ,\n",
              "       -0.33972168, -2.8425717 ,  2.589688  ,  1.6887724 , -1.0314122 ,\n",
              "       -0.5733563 ,  1.1792308 , -1.3117813 ,  2.0199206 , -0.12193739],\n",
              "      dtype=float32)"
            ]
          },
          "metadata": {
            "tags": []
          },
          "execution_count": 37
        }
      ]
    },
    {
      "cell_type": "code",
      "metadata": {
        "id": "-0EaypX3zuX0",
        "colab_type": "code",
        "outputId": "1d778b92-f2d8-4142-e1ae-f1418de2baf7",
        "colab": {
          "base_uri": "https://localhost:8080/",
          "height": 241
        }
      },
      "source": [
        "model.docvecs.most_similar([model.docvecs[2]])"
      ],
      "execution_count": 0,
      "outputs": [
        {
          "output_type": "stream",
          "text": [
            "/usr/local/lib/python3.6/dist-packages/gensim/matutils.py:737: FutureWarning: Conversion of the second argument of issubdtype from `int` to `np.signedinteger` is deprecated. In future, it will be treated as `np.int64 == np.dtype(int).type`.\n",
            "  if np.issubdtype(vec.dtype, np.int):\n"
          ],
          "name": "stderr"
        },
        {
          "output_type": "execute_result",
          "data": {
            "text/plain": [
              "[('Alvin and the Chipmunks', 0.9999998807907104),\n",
              " ('Alvin and the Chipmunks: The Squeakquel', 0.7370685338973999),\n",
              " ('Anger Management', 0.6557773947715759),\n",
              " (\"Carlito's Way\", 0.6423021554946899),\n",
              " ('The Rebel Rousers', 0.6394031047821045),\n",
              " ('A.I. Artificial Intelligence', 0.6235583424568176),\n",
              " ('Rear Window', 0.5949772596359253),\n",
              " ('Little Man Tate', 0.5935031175613403),\n",
              " ('The Humbling', 0.59269779920578),\n",
              " ('Blade Runner 2049', 0.5873045921325684)]"
            ]
          },
          "metadata": {
            "tags": []
          },
          "execution_count": 38
        }
      ]
    },
    {
      "cell_type": "code",
      "metadata": {
        "id": "TlFG1cDj3MIG",
        "colab_type": "code",
        "outputId": "eb079aff-53a4-4352-ead1-8cd2cf7efec6",
        "colab": {
          "base_uri": "https://localhost:8080/",
          "height": 156
        }
      },
      "source": [
        "model.docvecs.most_similar([model.docvecs['Rear Window']], topn = 5)"
      ],
      "execution_count": 0,
      "outputs": [
        {
          "output_type": "stream",
          "text": [
            "/usr/local/lib/python3.6/dist-packages/gensim/matutils.py:737: FutureWarning: Conversion of the second argument of issubdtype from `int` to `np.signedinteger` is deprecated. In future, it will be treated as `np.int64 == np.dtype(int).type`.\n",
            "  if np.issubdtype(vec.dtype, np.int):\n"
          ],
          "name": "stderr"
        },
        {
          "output_type": "execute_result",
          "data": {
            "text/plain": [
              "[('Rear Window', 0.9999999403953552),\n",
              " (\"One Flew Over the Cuckoo's Nest\", 0.6853747367858887),\n",
              " ('An American in Paris', 0.668846845626831),\n",
              " ('Elstree Calling', 0.6281954050064087),\n",
              " ('The Rebel Rousers', 0.6185281872749329)]"
            ]
          },
          "metadata": {
            "tags": []
          },
          "execution_count": 39
        }
      ]
    },
    {
      "cell_type": "code",
      "metadata": {
        "id": "DmlZ_U8_zL_m",
        "colab_type": "code",
        "outputId": "bab84b83-2296-4292-d7d5-94feead038d4",
        "colab": {
          "base_uri": "https://localhost:8080/",
          "height": 156
        }
      },
      "source": [
        "model.docvecs.most_similar([model.docvecs['Blade Runner']], topn = 5)"
      ],
      "execution_count": 0,
      "outputs": [
        {
          "output_type": "stream",
          "text": [
            "/usr/local/lib/python3.6/dist-packages/gensim/matutils.py:737: FutureWarning: Conversion of the second argument of issubdtype from `int` to `np.signedinteger` is deprecated. In future, it will be treated as `np.int64 == np.dtype(int).type`.\n",
            "  if np.issubdtype(vec.dtype, np.int):\n"
          ],
          "name": "stderr"
        },
        {
          "output_type": "execute_result",
          "data": {
            "text/plain": [
              "[('Blade Runner', 1.0),\n",
              " ('Blade Runner 2049', 0.7617223262786865),\n",
              " ('The Rebel Rousers', 0.674165666103363),\n",
              " ('Despicable Me', 0.6049336194992065),\n",
              " ('Bugsy Malone', 0.5977593064308167)]"
            ]
          },
          "metadata": {
            "tags": []
          },
          "execution_count": 40
        }
      ]
    },
    {
      "cell_type": "code",
      "metadata": {
        "id": "f5XJDVvzPs3Q",
        "colab_type": "code",
        "colab": {}
      },
      "source": [
        "from sklearn.metrics.pairwise import cosine_similarity"
      ],
      "execution_count": 0,
      "outputs": []
    },
    {
      "cell_type": "code",
      "metadata": {
        "id": "rJ--SlyFQMPw",
        "colab_type": "code",
        "outputId": "22e7a968-56e8-4c2e-eaf8-85093e318fe5",
        "colab": {
          "base_uri": "https://localhost:8080/",
          "height": 34
        }
      },
      "source": [
        "cosine_similarity([model.docvecs['Dirty Harry']],[model.docvecs['Magnum Force']])"
      ],
      "execution_count": 0,
      "outputs": [
        {
          "output_type": "execute_result",
          "data": {
            "text/plain": [
              "array([[0.57758594]], dtype=float32)"
            ]
          },
          "metadata": {
            "tags": []
          },
          "execution_count": 42
        }
      ]
    },
    {
      "cell_type": "code",
      "metadata": {
        "id": "t4FNJsDQZQ1A",
        "colab_type": "code",
        "outputId": "80d71b86-4b76-492e-8b6c-f338835dc39e",
        "colab": {
          "base_uri": "https://localhost:8080/",
          "height": 34
        }
      },
      "source": [
        "cosine_similarity(np.array([model.docvecs['Dirty Harry']]),np.array([model.docvecs['Magnum Force'], model.docvecs['Sudden Impact']]))"
      ],
      "execution_count": 0,
      "outputs": [
        {
          "output_type": "execute_result",
          "data": {
            "text/plain": [
              "array([[0.57758594, 0.5155606 ]], dtype=float32)"
            ]
          },
          "metadata": {
            "tags": []
          },
          "execution_count": 43
        }
      ]
    },
    {
      "cell_type": "code",
      "metadata": {
        "id": "Ds50kACQ48YA",
        "colab_type": "code",
        "colab": {}
      },
      "source": [
        "cosine_similarities = cosine_similarity(np.array([model.docvecs[doc_title] for doc_title in doc_titles]))"
      ],
      "execution_count": 0,
      "outputs": []
    },
    {
      "cell_type": "code",
      "metadata": {
        "id": "7rxEQMDL6Hi6",
        "colab_type": "code",
        "outputId": "f6a93447-424b-427a-9fcd-210a37c7b3d7",
        "colab": {
          "base_uri": "https://localhost:8080/",
          "height": 238
        }
      },
      "source": [
        "cosine_similarities"
      ],
      "execution_count": 0,
      "outputs": [
        {
          "output_type": "execute_result",
          "data": {
            "text/plain": [
              "array([[1.0000002 , 0.42951035, 0.3751808 , ..., 0.45826522, 0.3578394 ,\n",
              "        0.385032  ],\n",
              "       [0.42951035, 0.9999997 , 0.45610437, ..., 0.5115312 , 0.45454633,\n",
              "        0.5151878 ],\n",
              "       [0.3751808 , 0.45610437, 0.99999976, ..., 0.4296833 , 0.43968487,\n",
              "        0.36159638],\n",
              "       ...,\n",
              "       [0.45826522, 0.5115312 , 0.4296833 , ..., 1.0000002 , 0.42696398,\n",
              "        0.45930555],\n",
              "       [0.3578394 , 0.45454633, 0.43968487, ..., 0.42696398, 0.99999976,\n",
              "        0.5315406 ],\n",
              "       [0.385032  , 0.5151878 , 0.36159638, ..., 0.45930555, 0.5315406 ,\n",
              "        1.0000001 ]], dtype=float32)"
            ]
          },
          "metadata": {
            "tags": []
          },
          "execution_count": 45
        }
      ]
    },
    {
      "cell_type": "code",
      "metadata": {
        "id": "y7PtMFc2F4CM",
        "colab_type": "code",
        "outputId": "2f762fe8-cf91-4629-9e23-89a0e0c7e7ab",
        "colab": {
          "base_uri": "https://localhost:8080/",
          "height": 377
        }
      },
      "source": [
        "movie_pairs.head()"
      ],
      "execution_count": 0,
      "outputs": [
        {
          "output_type": "execute_result",
          "data": {
            "text/html": [
              "<div>\n",
              "<style scoped>\n",
              "    .dataframe tbody tr th:only-of-type {\n",
              "        vertical-align: middle;\n",
              "    }\n",
              "\n",
              "    .dataframe tbody tr th {\n",
              "        vertical-align: top;\n",
              "    }\n",
              "\n",
              "    .dataframe thead th {\n",
              "        text-align: right;\n",
              "    }\n",
              "</style>\n",
              "<table border=\"1\" class=\"dataframe\">\n",
              "  <thead>\n",
              "    <tr style=\"text-align: right;\">\n",
              "      <th></th>\n",
              "      <th>fm_primaryTitle</th>\n",
              "      <th>fm_startYear</th>\n",
              "      <th>fm_genres</th>\n",
              "      <th>fm_act1</th>\n",
              "      <th>fm_act2</th>\n",
              "      <th>fm_act3</th>\n",
              "      <th>fm_act4</th>\n",
              "      <th>fm_dir5</th>\n",
              "      <th>s_primaryTitle</th>\n",
              "      <th>s_startYear</th>\n",
              "      <th>s_genres</th>\n",
              "      <th>s_act1</th>\n",
              "      <th>s_act2</th>\n",
              "      <th>s_act3</th>\n",
              "      <th>s_act4</th>\n",
              "      <th>s_dir5</th>\n",
              "      <th>sequel</th>\n",
              "    </tr>\n",
              "  </thead>\n",
              "  <tbody>\n",
              "    <tr>\n",
              "      <th>1</th>\n",
              "      <td>A Fistful of Dollars</td>\n",
              "      <td>1964</td>\n",
              "      <td>Drama,Western</td>\n",
              "      <td>Clint Eastwood</td>\n",
              "      <td>Gian Maria Volontè</td>\n",
              "      <td>Marianne Koch</td>\n",
              "      <td>Wolfgang Lukschy</td>\n",
              "      <td>Sergio Leone</td>\n",
              "      <td>For a Few Dollars More</td>\n",
              "      <td>1965</td>\n",
              "      <td>Western</td>\n",
              "      <td>Clint Eastwood</td>\n",
              "      <td>Lee Van Cleef</td>\n",
              "      <td>Gian Maria Volontè</td>\n",
              "      <td>Mario Brega</td>\n",
              "      <td>Sergio Leone</td>\n",
              "      <td>1</td>\n",
              "    </tr>\n",
              "    <tr>\n",
              "      <th>2</th>\n",
              "      <td>Ace Ventura: Pet Detective</td>\n",
              "      <td>1994</td>\n",
              "      <td>Comedy</td>\n",
              "      <td>Jim Carrey</td>\n",
              "      <td>Courteney Cox</td>\n",
              "      <td>Sean Young</td>\n",
              "      <td>Tone Loc</td>\n",
              "      <td>Tom Shadyac</td>\n",
              "      <td>Ace Ventura: When Nature Calls</td>\n",
              "      <td>1995</td>\n",
              "      <td>Adventure,Comedy,Crime</td>\n",
              "      <td>Jim Carrey</td>\n",
              "      <td>Ian McNeice</td>\n",
              "      <td>Simon Callow</td>\n",
              "      <td>Maynard Eziashi</td>\n",
              "      <td>Steve Oedekerk</td>\n",
              "      <td>1</td>\n",
              "    </tr>\n",
              "    <tr>\n",
              "      <th>4</th>\n",
              "      <td>Alvin and the Chipmunks</td>\n",
              "      <td>2007</td>\n",
              "      <td>Animation,Comedy,Family</td>\n",
              "      <td>Jason Lee</td>\n",
              "      <td>Ross Bagdasarian Jr.</td>\n",
              "      <td>Janice Karman</td>\n",
              "      <td>David Cross</td>\n",
              "      <td>Tim Hill</td>\n",
              "      <td>Alvin and the Chipmunks: The Squeakquel</td>\n",
              "      <td>2009</td>\n",
              "      <td>Animation,Comedy,Family</td>\n",
              "      <td>Jason Lee</td>\n",
              "      <td>Zachary Levi</td>\n",
              "      <td>David Cross</td>\n",
              "      <td>Justin Long</td>\n",
              "      <td>Betty Thomas</td>\n",
              "      <td>1</td>\n",
              "    </tr>\n",
              "    <tr>\n",
              "      <th>6</th>\n",
              "      <td>Anchorman: The Legend of Ron Burgundy</td>\n",
              "      <td>2004</td>\n",
              "      <td>Comedy</td>\n",
              "      <td>Will Ferrell</td>\n",
              "      <td>Christina Applegate</td>\n",
              "      <td>Steve Carell</td>\n",
              "      <td>Paul Rudd</td>\n",
              "      <td>Adam McKay</td>\n",
              "      <td>Anchorman 2: The Legend Continues</td>\n",
              "      <td>2013</td>\n",
              "      <td>Comedy</td>\n",
              "      <td>Will Ferrell</td>\n",
              "      <td>Christina Applegate</td>\n",
              "      <td>Paul Rudd</td>\n",
              "      <td>Steve Carell</td>\n",
              "      <td>Adam McKay</td>\n",
              "      <td>1</td>\n",
              "    </tr>\n",
              "    <tr>\n",
              "      <th>11</th>\n",
              "      <td>Avengers: Age of Ultron</td>\n",
              "      <td>2015</td>\n",
              "      <td>Action,Adventure,Sci-Fi</td>\n",
              "      <td>Robert Downey Jr.</td>\n",
              "      <td>Chris Evans</td>\n",
              "      <td>Mark Ruffalo</td>\n",
              "      <td>Chris Hemsworth</td>\n",
              "      <td>Joss Whedon</td>\n",
              "      <td>Avengers: Endgame</td>\n",
              "      <td>2019</td>\n",
              "      <td>Action,Adventure,Drama</td>\n",
              "      <td>Robert Downey Jr.</td>\n",
              "      <td>Chris Evans</td>\n",
              "      <td>Mark Ruffalo</td>\n",
              "      <td>Chris Hemsworth</td>\n",
              "      <td>Anthony Russo</td>\n",
              "      <td>1</td>\n",
              "    </tr>\n",
              "  </tbody>\n",
              "</table>\n",
              "</div>"
            ],
            "text/plain": [
              "                          fm_primaryTitle  fm_startYear  ...          s_dir5 sequel\n",
              "1                    A Fistful of Dollars          1964  ...    Sergio Leone      1\n",
              "2              Ace Ventura: Pet Detective          1994  ...  Steve Oedekerk      1\n",
              "4                 Alvin and the Chipmunks          2007  ...    Betty Thomas      1\n",
              "6   Anchorman: The Legend of Ron Burgundy          2004  ...      Adam McKay      1\n",
              "11                Avengers: Age of Ultron          2015  ...   Anthony Russo      1\n",
              "\n",
              "[5 rows x 17 columns]"
            ]
          },
          "metadata": {
            "tags": []
          },
          "execution_count": 46
        }
      ]
    },
    {
      "cell_type": "code",
      "metadata": {
        "id": "0FUHg5QQD_la",
        "colab_type": "code",
        "colab": {}
      },
      "source": [
        "title_to_index = {}\n",
        "for index, doc_title in enumerate(doc_titles):\n",
        "    title_to_index[doc_title] = index"
      ],
      "execution_count": 0,
      "outputs": []
    },
    {
      "cell_type": "code",
      "metadata": {
        "id": "ei8kgz8rFyLe",
        "colab_type": "code",
        "colab": {}
      },
      "source": [
        "fm_index = np.array(movie_pairs.fm_primaryTitle.map(title_to_index))\n",
        "s_index = np.array(movie_pairs.s_primaryTitle.map(title_to_index))\n",
        "\n",
        "\n",
        "movie_pairs['plot_cosine'] = cosine_similarities[fm_index,s_index]"
      ],
      "execution_count": 0,
      "outputs": []
    },
    {
      "cell_type": "code",
      "metadata": {
        "id": "tCZfm5EcL9IT",
        "colab_type": "code",
        "outputId": "52c8217b-e25d-4c36-9349-3baf1600281c",
        "colab": {
          "base_uri": "https://localhost:8080/",
          "height": 377
        }
      },
      "source": [
        "movie_pairs.head()"
      ],
      "execution_count": 0,
      "outputs": [
        {
          "output_type": "execute_result",
          "data": {
            "text/html": [
              "<div>\n",
              "<style scoped>\n",
              "    .dataframe tbody tr th:only-of-type {\n",
              "        vertical-align: middle;\n",
              "    }\n",
              "\n",
              "    .dataframe tbody tr th {\n",
              "        vertical-align: top;\n",
              "    }\n",
              "\n",
              "    .dataframe thead th {\n",
              "        text-align: right;\n",
              "    }\n",
              "</style>\n",
              "<table border=\"1\" class=\"dataframe\">\n",
              "  <thead>\n",
              "    <tr style=\"text-align: right;\">\n",
              "      <th></th>\n",
              "      <th>fm_primaryTitle</th>\n",
              "      <th>fm_startYear</th>\n",
              "      <th>fm_genres</th>\n",
              "      <th>fm_act1</th>\n",
              "      <th>fm_act2</th>\n",
              "      <th>fm_act3</th>\n",
              "      <th>fm_act4</th>\n",
              "      <th>fm_dir5</th>\n",
              "      <th>s_primaryTitle</th>\n",
              "      <th>s_startYear</th>\n",
              "      <th>s_genres</th>\n",
              "      <th>s_act1</th>\n",
              "      <th>s_act2</th>\n",
              "      <th>s_act3</th>\n",
              "      <th>s_act4</th>\n",
              "      <th>s_dir5</th>\n",
              "      <th>sequel</th>\n",
              "      <th>plot_cosine</th>\n",
              "    </tr>\n",
              "  </thead>\n",
              "  <tbody>\n",
              "    <tr>\n",
              "      <th>1</th>\n",
              "      <td>A Fistful of Dollars</td>\n",
              "      <td>1964</td>\n",
              "      <td>Drama,Western</td>\n",
              "      <td>Clint Eastwood</td>\n",
              "      <td>Gian Maria Volontè</td>\n",
              "      <td>Marianne Koch</td>\n",
              "      <td>Wolfgang Lukschy</td>\n",
              "      <td>Sergio Leone</td>\n",
              "      <td>For a Few Dollars More</td>\n",
              "      <td>1965</td>\n",
              "      <td>Western</td>\n",
              "      <td>Clint Eastwood</td>\n",
              "      <td>Lee Van Cleef</td>\n",
              "      <td>Gian Maria Volontè</td>\n",
              "      <td>Mario Brega</td>\n",
              "      <td>Sergio Leone</td>\n",
              "      <td>1</td>\n",
              "      <td>0.548156</td>\n",
              "    </tr>\n",
              "    <tr>\n",
              "      <th>2</th>\n",
              "      <td>Ace Ventura: Pet Detective</td>\n",
              "      <td>1994</td>\n",
              "      <td>Comedy</td>\n",
              "      <td>Jim Carrey</td>\n",
              "      <td>Courteney Cox</td>\n",
              "      <td>Sean Young</td>\n",
              "      <td>Tone Loc</td>\n",
              "      <td>Tom Shadyac</td>\n",
              "      <td>Ace Ventura: When Nature Calls</td>\n",
              "      <td>1995</td>\n",
              "      <td>Adventure,Comedy,Crime</td>\n",
              "      <td>Jim Carrey</td>\n",
              "      <td>Ian McNeice</td>\n",
              "      <td>Simon Callow</td>\n",
              "      <td>Maynard Eziashi</td>\n",
              "      <td>Steve Oedekerk</td>\n",
              "      <td>1</td>\n",
              "      <td>0.652978</td>\n",
              "    </tr>\n",
              "    <tr>\n",
              "      <th>4</th>\n",
              "      <td>Alvin and the Chipmunks</td>\n",
              "      <td>2007</td>\n",
              "      <td>Animation,Comedy,Family</td>\n",
              "      <td>Jason Lee</td>\n",
              "      <td>Ross Bagdasarian Jr.</td>\n",
              "      <td>Janice Karman</td>\n",
              "      <td>David Cross</td>\n",
              "      <td>Tim Hill</td>\n",
              "      <td>Alvin and the Chipmunks: The Squeakquel</td>\n",
              "      <td>2009</td>\n",
              "      <td>Animation,Comedy,Family</td>\n",
              "      <td>Jason Lee</td>\n",
              "      <td>Zachary Levi</td>\n",
              "      <td>David Cross</td>\n",
              "      <td>Justin Long</td>\n",
              "      <td>Betty Thomas</td>\n",
              "      <td>1</td>\n",
              "      <td>0.737068</td>\n",
              "    </tr>\n",
              "    <tr>\n",
              "      <th>6</th>\n",
              "      <td>Anchorman: The Legend of Ron Burgundy</td>\n",
              "      <td>2004</td>\n",
              "      <td>Comedy</td>\n",
              "      <td>Will Ferrell</td>\n",
              "      <td>Christina Applegate</td>\n",
              "      <td>Steve Carell</td>\n",
              "      <td>Paul Rudd</td>\n",
              "      <td>Adam McKay</td>\n",
              "      <td>Anchorman 2: The Legend Continues</td>\n",
              "      <td>2013</td>\n",
              "      <td>Comedy</td>\n",
              "      <td>Will Ferrell</td>\n",
              "      <td>Christina Applegate</td>\n",
              "      <td>Paul Rudd</td>\n",
              "      <td>Steve Carell</td>\n",
              "      <td>Adam McKay</td>\n",
              "      <td>1</td>\n",
              "      <td>0.797198</td>\n",
              "    </tr>\n",
              "    <tr>\n",
              "      <th>11</th>\n",
              "      <td>Avengers: Age of Ultron</td>\n",
              "      <td>2015</td>\n",
              "      <td>Action,Adventure,Sci-Fi</td>\n",
              "      <td>Robert Downey Jr.</td>\n",
              "      <td>Chris Evans</td>\n",
              "      <td>Mark Ruffalo</td>\n",
              "      <td>Chris Hemsworth</td>\n",
              "      <td>Joss Whedon</td>\n",
              "      <td>Avengers: Endgame</td>\n",
              "      <td>2019</td>\n",
              "      <td>Action,Adventure,Drama</td>\n",
              "      <td>Robert Downey Jr.</td>\n",
              "      <td>Chris Evans</td>\n",
              "      <td>Mark Ruffalo</td>\n",
              "      <td>Chris Hemsworth</td>\n",
              "      <td>Anthony Russo</td>\n",
              "      <td>1</td>\n",
              "      <td>0.717616</td>\n",
              "    </tr>\n",
              "  </tbody>\n",
              "</table>\n",
              "</div>"
            ],
            "text/plain": [
              "                          fm_primaryTitle  fm_startYear  ... sequel plot_cosine\n",
              "1                    A Fistful of Dollars          1964  ...      1    0.548156\n",
              "2              Ace Ventura: Pet Detective          1994  ...      1    0.652978\n",
              "4                 Alvin and the Chipmunks          2007  ...      1    0.737068\n",
              "6   Anchorman: The Legend of Ron Burgundy          2004  ...      1    0.797198\n",
              "11                Avengers: Age of Ultron          2015  ...      1    0.717616\n",
              "\n",
              "[5 rows x 18 columns]"
            ]
          },
          "metadata": {
            "tags": []
          },
          "execution_count": 49
        }
      ]
    },
    {
      "cell_type": "code",
      "metadata": {
        "id": "3m78fKlLWd2s",
        "colab_type": "code",
        "colab": {}
      },
      "source": [
        "def sim_score(l1, l2):\n",
        "    differences = 0\n",
        "    if len(l2)>len(l1):\n",
        "        l1,l2 = l2,l1\n",
        "    for word in l1:\n",
        "        if word in l2:\n",
        "            l2.remove(word)\n",
        "        else:\n",
        "            differences += 1\n",
        "    return (len(l1) - differences)/len(l1)\n",
        "\n",
        "def sim_cast(x):\n",
        "    score = 0\n",
        "    dir1 = x.fm_dir5\n",
        "    dir2 = x.s_dir5\n",
        "    cast1 = [x.fm_act1, x.fm_act2, x.fm_act3, x.fm_act4]\n",
        "    cast2 = [x.s_act1, x.s_act2, x.s_act3, x.s_act4]\n",
        "    if dir1 == dir2:\n",
        "        score += 2\n",
        "    for i, actor in enumerate(cast1):\n",
        "        if actor in cast2:\n",
        "            score += 0.5\n",
        "        if actor == cast2[i]:\n",
        "            score += 0.5\n",
        "    return score"
      ],
      "execution_count": 0,
      "outputs": []
    },
    {
      "cell_type": "code",
      "metadata": {
        "id": "8pv3iNuTZyiy",
        "colab_type": "code",
        "colab": {}
      },
      "source": [
        "movie_pairs['title_sim_score'] = movie_pairs.apply(lambda x: sim_score(x.fm_primaryTitle.lower().split(), x.s_primaryTitle.lower().split()), axis = 1)\n",
        "movie_pairs['genre_sim_score'] = movie_pairs.apply(lambda x: sim_score(x.fm_genres.lower().split(','), x.s_genres.lower().split(',')), axis = 1)\n",
        "movie_pairs['cast_sim_score'] = movie_pairs.apply(lambda x: sim_cast(x), axis = 1)\n",
        "movie_pairs['year_diff'] = movie_pairs.s_startYear - movie_pairs.fm_startYear"
      ],
      "execution_count": 0,
      "outputs": []
    },
    {
      "cell_type": "code",
      "metadata": {
        "id": "eIj1LlXDaX9r",
        "colab_type": "code",
        "outputId": "7d2e5f46-883a-49b3-b4a2-6446e78523b6",
        "colab": {
          "base_uri": "https://localhost:8080/",
          "height": 377
        }
      },
      "source": [
        "movie_pairs.head()"
      ],
      "execution_count": 0,
      "outputs": [
        {
          "output_type": "execute_result",
          "data": {
            "text/html": [
              "<div>\n",
              "<style scoped>\n",
              "    .dataframe tbody tr th:only-of-type {\n",
              "        vertical-align: middle;\n",
              "    }\n",
              "\n",
              "    .dataframe tbody tr th {\n",
              "        vertical-align: top;\n",
              "    }\n",
              "\n",
              "    .dataframe thead th {\n",
              "        text-align: right;\n",
              "    }\n",
              "</style>\n",
              "<table border=\"1\" class=\"dataframe\">\n",
              "  <thead>\n",
              "    <tr style=\"text-align: right;\">\n",
              "      <th></th>\n",
              "      <th>fm_primaryTitle</th>\n",
              "      <th>fm_startYear</th>\n",
              "      <th>fm_genres</th>\n",
              "      <th>fm_act1</th>\n",
              "      <th>fm_act2</th>\n",
              "      <th>fm_act3</th>\n",
              "      <th>fm_act4</th>\n",
              "      <th>fm_dir5</th>\n",
              "      <th>s_primaryTitle</th>\n",
              "      <th>s_startYear</th>\n",
              "      <th>s_genres</th>\n",
              "      <th>s_act1</th>\n",
              "      <th>s_act2</th>\n",
              "      <th>s_act3</th>\n",
              "      <th>s_act4</th>\n",
              "      <th>s_dir5</th>\n",
              "      <th>sequel</th>\n",
              "      <th>plot_cosine</th>\n",
              "      <th>title_sim_score</th>\n",
              "      <th>genre_sim_score</th>\n",
              "      <th>cast_sim_score</th>\n",
              "      <th>year_diff</th>\n",
              "    </tr>\n",
              "  </thead>\n",
              "  <tbody>\n",
              "    <tr>\n",
              "      <th>1</th>\n",
              "      <td>A Fistful of Dollars</td>\n",
              "      <td>1964</td>\n",
              "      <td>Drama,Western</td>\n",
              "      <td>Clint Eastwood</td>\n",
              "      <td>Gian Maria Volontè</td>\n",
              "      <td>Marianne Koch</td>\n",
              "      <td>Wolfgang Lukschy</td>\n",
              "      <td>Sergio Leone</td>\n",
              "      <td>For a Few Dollars More</td>\n",
              "      <td>1965</td>\n",
              "      <td>Western</td>\n",
              "      <td>Clint Eastwood</td>\n",
              "      <td>Lee Van Cleef</td>\n",
              "      <td>Gian Maria Volontè</td>\n",
              "      <td>Mario Brega</td>\n",
              "      <td>Sergio Leone</td>\n",
              "      <td>1</td>\n",
              "      <td>0.548156</td>\n",
              "      <td>0.400000</td>\n",
              "      <td>0.500000</td>\n",
              "      <td>3.5</td>\n",
              "      <td>1</td>\n",
              "    </tr>\n",
              "    <tr>\n",
              "      <th>2</th>\n",
              "      <td>Ace Ventura: Pet Detective</td>\n",
              "      <td>1994</td>\n",
              "      <td>Comedy</td>\n",
              "      <td>Jim Carrey</td>\n",
              "      <td>Courteney Cox</td>\n",
              "      <td>Sean Young</td>\n",
              "      <td>Tone Loc</td>\n",
              "      <td>Tom Shadyac</td>\n",
              "      <td>Ace Ventura: When Nature Calls</td>\n",
              "      <td>1995</td>\n",
              "      <td>Adventure,Comedy,Crime</td>\n",
              "      <td>Jim Carrey</td>\n",
              "      <td>Ian McNeice</td>\n",
              "      <td>Simon Callow</td>\n",
              "      <td>Maynard Eziashi</td>\n",
              "      <td>Steve Oedekerk</td>\n",
              "      <td>1</td>\n",
              "      <td>0.652978</td>\n",
              "      <td>0.400000</td>\n",
              "      <td>0.333333</td>\n",
              "      <td>1.0</td>\n",
              "      <td>1</td>\n",
              "    </tr>\n",
              "    <tr>\n",
              "      <th>4</th>\n",
              "      <td>Alvin and the Chipmunks</td>\n",
              "      <td>2007</td>\n",
              "      <td>Animation,Comedy,Family</td>\n",
              "      <td>Jason Lee</td>\n",
              "      <td>Ross Bagdasarian Jr.</td>\n",
              "      <td>Janice Karman</td>\n",
              "      <td>David Cross</td>\n",
              "      <td>Tim Hill</td>\n",
              "      <td>Alvin and the Chipmunks: The Squeakquel</td>\n",
              "      <td>2009</td>\n",
              "      <td>Animation,Comedy,Family</td>\n",
              "      <td>Jason Lee</td>\n",
              "      <td>Zachary Levi</td>\n",
              "      <td>David Cross</td>\n",
              "      <td>Justin Long</td>\n",
              "      <td>Betty Thomas</td>\n",
              "      <td>1</td>\n",
              "      <td>0.737068</td>\n",
              "      <td>0.500000</td>\n",
              "      <td>1.000000</td>\n",
              "      <td>1.5</td>\n",
              "      <td>2</td>\n",
              "    </tr>\n",
              "    <tr>\n",
              "      <th>6</th>\n",
              "      <td>Anchorman: The Legend of Ron Burgundy</td>\n",
              "      <td>2004</td>\n",
              "      <td>Comedy</td>\n",
              "      <td>Will Ferrell</td>\n",
              "      <td>Christina Applegate</td>\n",
              "      <td>Steve Carell</td>\n",
              "      <td>Paul Rudd</td>\n",
              "      <td>Adam McKay</td>\n",
              "      <td>Anchorman 2: The Legend Continues</td>\n",
              "      <td>2013</td>\n",
              "      <td>Comedy</td>\n",
              "      <td>Will Ferrell</td>\n",
              "      <td>Christina Applegate</td>\n",
              "      <td>Paul Rudd</td>\n",
              "      <td>Steve Carell</td>\n",
              "      <td>Adam McKay</td>\n",
              "      <td>1</td>\n",
              "      <td>0.797198</td>\n",
              "      <td>0.333333</td>\n",
              "      <td>1.000000</td>\n",
              "      <td>5.0</td>\n",
              "      <td>9</td>\n",
              "    </tr>\n",
              "    <tr>\n",
              "      <th>11</th>\n",
              "      <td>Avengers: Age of Ultron</td>\n",
              "      <td>2015</td>\n",
              "      <td>Action,Adventure,Sci-Fi</td>\n",
              "      <td>Robert Downey Jr.</td>\n",
              "      <td>Chris Evans</td>\n",
              "      <td>Mark Ruffalo</td>\n",
              "      <td>Chris Hemsworth</td>\n",
              "      <td>Joss Whedon</td>\n",
              "      <td>Avengers: Endgame</td>\n",
              "      <td>2019</td>\n",
              "      <td>Action,Adventure,Drama</td>\n",
              "      <td>Robert Downey Jr.</td>\n",
              "      <td>Chris Evans</td>\n",
              "      <td>Mark Ruffalo</td>\n",
              "      <td>Chris Hemsworth</td>\n",
              "      <td>Anthony Russo</td>\n",
              "      <td>1</td>\n",
              "      <td>0.717616</td>\n",
              "      <td>0.250000</td>\n",
              "      <td>0.666667</td>\n",
              "      <td>4.0</td>\n",
              "      <td>4</td>\n",
              "    </tr>\n",
              "  </tbody>\n",
              "</table>\n",
              "</div>"
            ],
            "text/plain": [
              "                          fm_primaryTitle  ...  year_diff\n",
              "1                    A Fistful of Dollars  ...          1\n",
              "2              Ace Ventura: Pet Detective  ...          1\n",
              "4                 Alvin and the Chipmunks  ...          2\n",
              "6   Anchorman: The Legend of Ron Burgundy  ...          9\n",
              "11                Avengers: Age of Ultron  ...          4\n",
              "\n",
              "[5 rows x 22 columns]"
            ]
          },
          "metadata": {
            "tags": []
          },
          "execution_count": 52
        }
      ]
    },
    {
      "cell_type": "code",
      "metadata": {
        "id": "Qi1YD2oXwT0z",
        "colab_type": "code",
        "colab": {}
      },
      "source": [
        "import seaborn as sns"
      ],
      "execution_count": 0,
      "outputs": []
    },
    {
      "cell_type": "code",
      "metadata": {
        "id": "02-6g1Bdxc9X",
        "colab_type": "code",
        "outputId": "1240be6f-d87d-40f3-a8a0-fcfb5a22b039",
        "colab": {
          "base_uri": "https://localhost:8080/",
          "height": 902
        }
      },
      "source": [
        "supervised_movie_pairs = movie_pairs[movie_pairs.sequel>=0]\n",
        "model_features = ['title_sim_score','genre_sim_score','cast_sim_score','year_diff','plot_cosine']\n",
        "g = sns.PairGrid(supervised_movie_pairs, hue=\"sequel\", vars = model_features)\n",
        "g = g.map_diag(plt.hist, alpha = 0.6)\n",
        "g = g.map_offdiag(plt.scatter, alpha = 0.6)\n",
        "g = g.add_legend()\n",
        "g.fig.subplots_adjust(top=0.95)\n",
        "g.fig.suptitle('Distribution of the score variables for sequel and non-sequel movies', fontsize=16)\n",
        "plt.show()"
      ],
      "execution_count": 0,
      "outputs": [
        {
          "output_type": "display_data",
          "data": {
            "image/png": "[encoded data removed]",
            "text/plain": [
              "<Figure size 942.375x900 with 30 Axes>"
            ]
          },
          "metadata": {
            "tags": []
          }
        }
      ]
    },
    {
      "cell_type": "code",
      "metadata": {
        "colab_type": "code",
        "id": "0Ycn39D6A2ZX",
        "colab": {}
      },
      "source": [
        "from sklearn.ensemble import RandomForestClassifier\n",
        "from sklearn.model_selection import train_test_split\n",
        "from sklearn.metrics import confusion_matrix, roc_auc_score"
      ],
      "execution_count": 0,
      "outputs": []
    },
    {
      "cell_type": "code",
      "metadata": {
        "id": "LILFyy6EV-Mm",
        "colab_type": "code",
        "colab": {}
      },
      "source": [
        "def balanced_train_test_split(X, y, n_training):\n",
        "  \n",
        "    positive_X = X[y == 1]\n",
        "    negative_X = X[y == 0]\n",
        "    positive_y = y[y == 1]\n",
        "    negative_y = y[y == 0]\n",
        "\n",
        "    if n_training > min(len(positive_y), len(negative_y)):\n",
        "        raise ValueError('n_training larger than number of positives or negatives in the dataset')\n",
        "\n",
        "    positive_train_indices = np.random.choice(len(positive_y), n_training, replace = False)\n",
        "    negative_train_indices = np.random.choice(len(negative_y), n_training, replace = False)\n",
        "    positive_test_indices = np.array([i for i in range(len(positive_y)) if i not in positive_train_indices])\n",
        "    negative_test_indices = np.array([i for i in range(len(negative_y)) if i not in negative_train_indices])\n",
        "\n",
        "    X_train = pd.concat([positive_X.iloc[positive_train_indices], negative_X.iloc[negative_train_indices]], axis = 0)\n",
        "    X_test = pd.concat([positive_X.iloc[positive_test_indices], negative_X.iloc[negative_test_indices]], axis = 0)\n",
        "    y_train = pd.concat([positive_y.iloc[positive_train_indices], negative_y.iloc[negative_train_indices]], axis = 0)\n",
        "    y_test = pd.concat([positive_y.iloc[positive_test_indices], negative_y.iloc[negative_test_indices]], axis = 0)\n",
        "\n",
        "    return X_train, X_test, y_train, y_test"
      ],
      "execution_count": 0,
      "outputs": []
    },
    {
      "cell_type": "code",
      "metadata": {
        "id": "Pyu6kEpWisIC",
        "colab_type": "code",
        "colab": {}
      },
      "source": [
        "from sklearn.metrics.pairwise import check_pairwise_arrays, euclidean_distances\n",
        "from sklearn.semi_supervised import LabelPropagation, LabelSpreading\n",
        "\n",
        "\n",
        "def rbf_kernel_safe(X, Y=None, gamma=None): \n",
        "\n",
        "    X, Y = check_pairwise_arrays(X, Y) \n",
        "    if gamma is None: \n",
        "        gamma = 1.0 / X.shape[1] \n",
        "\n",
        "    K = euclidean_distances(X, Y, squared=True) \n",
        "    K *= -gamma \n",
        "    K -= K.max() # Change to the sklearn implementation\n",
        "    np.exp(K, K)\n",
        "    return K "
      ],
      "execution_count": 0,
      "outputs": []
    },
    {
      "cell_type": "code",
      "metadata": {
        "id": "q40FL7Lsx8dT",
        "colab_type": "code",
        "outputId": "416cdc3f-16ac-494a-bf34-1e7cddb8354f",
        "colab": {
          "base_uri": "https://localhost:8080/",
          "height": 357
        }
      },
      "source": [
        "n_training_list = np.arange(1,11)\n",
        "RFC_score_list = []\n",
        "LP_score_list = []\n",
        "LP_more_unlabeled_score_list = []\n",
        "\n",
        "for n_training in n_training_list:\n",
        "  \n",
        "    RFC_score = []\n",
        "    LP_score = []\n",
        "    LP_more_unlabeled_score = []\n",
        "\n",
        "    for i in range(5):\n",
        "  \n",
        "        X_train, X_test, y_train, y_test = balanced_train_test_split(supervised_movie_pairs[model_features], supervised_movie_pairs.sequel, n_training = n_training)\n",
        "        RFC = RandomForestClassifier(n_estimators = 100)\n",
        "        LP = LabelPropagation(kernel = rbf_kernel_safe, tol = 0.01)\n",
        "\n",
        "\n",
        "        RFC.fit(X_train, y_train)\n",
        "        RFC_score.append(RFC.score(X_test, y_test))\n",
        "\n",
        "        X = np.concatenate([X_train, X_test], axis = 0)\n",
        "        y_unlabel = np.array([-1 for i in range(len(y_test))])\n",
        "        y = np.concatenate([y_train, y_unlabel], axis = 0)\n",
        "\n",
        "        LP.fit(X, y)\n",
        "        LP_score.append(LP.score(X_test, y_test))\n",
        "\n",
        "        X_unlabeled = movie_pairs[model_features][movie_pairs.sequel == -1]\n",
        "        X = np.concatenate([X, X_unlabeled], axis = 0)\n",
        "        y_unlabeled = np.array([-1 for i in range(X_unlabeled.shape[0])])\n",
        "        y = np.concatenate([y, y_unlabeled], axis = 0)\n",
        "\n",
        "        LP.fit(X, y)\n",
        "        LP_more_unlabeled_score.append(LP.score(X_test, y_test))\n",
        "\n",
        "    RFC_score_list.append(np.mean(RFC_score))\n",
        "    LP_score_list.append(np.mean(LP_score))\n",
        "    LP_more_unlabeled_score_list.append(np.mean(LP_more_unlabeled_score))"
      ],
      "execution_count": 0,
      "outputs": [
        {
          "output_type": "stream",
          "text": [
            "/usr/local/lib/python3.6/dist-packages/sklearn/semi_supervised/label_propagation.py:288: ConvergenceWarning: max_iter=2000 was reached without convergence.\n",
            "  category=ConvergenceWarning\n",
            "/usr/local/lib/python3.6/dist-packages/sklearn/semi_supervised/label_propagation.py:277: RuntimeWarning: invalid value encountered in true_divide\n",
            "  self.label_distributions_ /= normalizer\n",
            "/usr/local/lib/python3.6/dist-packages/sklearn/semi_supervised/label_propagation.py:288: ConvergenceWarning: max_iter=2000 was reached without convergence.\n",
            "  category=ConvergenceWarning\n",
            "/usr/local/lib/python3.6/dist-packages/sklearn/semi_supervised/label_propagation.py:277: RuntimeWarning: invalid value encountered in true_divide\n",
            "  self.label_distributions_ /= normalizer\n",
            "/usr/local/lib/python3.6/dist-packages/sklearn/semi_supervised/label_propagation.py:288: ConvergenceWarning: max_iter=2000 was reached without convergence.\n",
            "  category=ConvergenceWarning\n",
            "/usr/local/lib/python3.6/dist-packages/sklearn/semi_supervised/label_propagation.py:288: ConvergenceWarning: max_iter=2000 was reached without convergence.\n",
            "  category=ConvergenceWarning\n",
            "/usr/local/lib/python3.6/dist-packages/sklearn/semi_supervised/label_propagation.py:288: ConvergenceWarning: max_iter=2000 was reached without convergence.\n",
            "  category=ConvergenceWarning\n",
            "/usr/local/lib/python3.6/dist-packages/sklearn/semi_supervised/label_propagation.py:288: ConvergenceWarning: max_iter=2000 was reached without convergence.\n",
            "  category=ConvergenceWarning\n",
            "/usr/local/lib/python3.6/dist-packages/sklearn/semi_supervised/label_propagation.py:288: ConvergenceWarning: max_iter=2000 was reached without convergence.\n",
            "  category=ConvergenceWarning\n",
            "/usr/local/lib/python3.6/dist-packages/sklearn/semi_supervised/label_propagation.py:288: ConvergenceWarning: max_iter=2000 was reached without convergence.\n",
            "  category=ConvergenceWarning\n"
          ],
          "name": "stderr"
        }
      ]
    },
    {
      "cell_type": "code",
      "metadata": {
        "id": "ysL3vscp-jBR",
        "colab_type": "code",
        "outputId": "431f7636-b8b0-477a-d3df-1478daee66a4",
        "colab": {
          "base_uri": "https://localhost:8080/",
          "height": 286
        }
      },
      "source": [
        "plt.plot(n_training_list, RFC_score_list)\n",
        "plt.plot(n_training_list, LP_score_list)\n",
        "plt.plot(n_training_list, LP_more_unlabeled_score_list)"
      ],
      "execution_count": 0,
      "outputs": [
        {
          "output_type": "execute_result",
          "data": {
            "text/plain": [
              "[<matplotlib.lines.Line2D at 0x7f69c5f5f390>]"
            ]
          },
          "metadata": {
            "tags": []
          },
          "execution_count": 70
        },
        {
          "output_type": "display_data",
          "data": {
            "image/png": "[encoded data removed]",
            "text/plain": [
              "<Figure size 432x288 with 1 Axes>"
            ]
          },
          "metadata": {
            "tags": []
          }
        }
      ]
    },
    {
      "cell_type": "code",
      "metadata": {
        "id": "phn10FPr6Jvz",
        "colab_type": "code",
        "outputId": "305c0fa6-9e0b-407b-ee95-0c25199acb98",
        "colab": {
          "base_uri": "https://localhost:8080/",
          "height": 282
        }
      },
      "source": [
        "plt.plot(n_training_list, RFC_score_list)\n",
        "plt.plot(n_training_list, LP_score_list)\n",
        "plt.plot(n_training_list, LP_more_unlabeled_score_list)"
      ],
      "execution_count": 0,
      "outputs": [
        {
          "output_type": "execute_result",
          "data": {
            "text/plain": [
              "[<matplotlib.lines.Line2D at 0x7f69c5cce400>]"
            ]
          },
          "metadata": {
            "tags": []
          },
          "execution_count": 61
        },
        {
          "output_type": "display_data",
          "data": {
            "image/png": "[encoded data removed]",
            "text/plain": [
              "<Figure size 432x288 with 1 Axes>"
            ]
          },
          "metadata": {
            "tags": []
          }
        }
      ]
    },
    {
      "cell_type": "code",
      "metadata": {
        "id": "L-MwTvDYh6eu",
        "colab_type": "code",
        "colab": {}
      },
      "source": [
        ""
      ],
      "execution_count": 0,
      "outputs": []
    }
  ]
}