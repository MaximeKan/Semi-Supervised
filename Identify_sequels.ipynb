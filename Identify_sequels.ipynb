{
  "nbformat": 4,
  "nbformat_minor": 0,
  "metadata": {
    "colab": {
      "name": "Identify_sequels.ipynb",
      "version": "0.3.2",
      "provenance": []
    },
    "kernelspec": {
      "name": "python3",
      "display_name": "Python 3"
    }
  },
  "cells": [
    {
      "cell_type": "code",
      "metadata": {
        "id": "UKTOXPP3T_Px",
        "colab_type": "code",
        "colab": {}
      },
      "source": [
        "%%capture\n",
        "!pip install wikipedia -q\n",
        "import wikipedia\n",
        "import requests\n",
        "import pandas as pd\n",
        "import numpy as np\n",
        "import matplotlib.pyplot as plt"
      ],
      "execution_count": 0,
      "outputs": []
    },
    {
      "cell_type": "code",
      "metadata": {
        "id": "cLs6oQw5jRhe",
        "colab_type": "code",
        "colab": {}
      },
      "source": [
        "S = requests.Session()\n",
        "\n",
        "URL = \"https://en.wikipedia.org/w/api.php\"\n",
        "\n",
        "PARAMS = {\n",
        "    \"action\": \"query\",\n",
        "    \"format\": \"json\",\n",
        "    \"titles\": \"List_of_film_sequels_by_box-office_improvement\",\n",
        "    \"prop\": \"links\",\n",
        "    \"pllimit\": 500\n",
        "}\n",
        "\n",
        "R = S.get(url=URL, params=PARAMS)\n",
        "DATA = R.json()\n",
        "\n",
        "PAGES = DATA[\"query\"][\"pages\"]\n",
        "\n",
        "sequels = []\n",
        "for k, v in PAGES.items():\n",
        "    for l in v[\"links\"]:\n",
        "        sequels.append(l[\"title\"])"
      ],
      "execution_count": 0,
      "outputs": []
    },
    {
      "cell_type": "code",
      "metadata": {
        "id": "1Y3ZWOVv_HGm",
        "colab_type": "code",
        "colab": {}
      },
      "source": [
        "first_movie_list = []\n",
        "sequel_movie_list = []\n",
        "for sequel in sequels:\n",
        "    page = wikipedia.page(sequel)\n",
        "    summary = page.summary\n",
        "    for first_movie in sequels:\n",
        "        if first_movie in summary and first_movie != sequel:\n",
        "            first_movie_list.append(first_movie)\n",
        "            sequel_movie_list.append(sequel)"
      ],
      "execution_count": 0,
      "outputs": []
    },
    {
      "cell_type": "code",
      "metadata": {
        "id": "UINR93CRCFu1",
        "colab_type": "code",
        "colab": {}
      },
      "source": [
        "%%capture\n",
        "! wget \"https://datasets.imdbws.com/title.principals.tsv.gz\"\n",
        "! wget \"https://datasets.imdbws.com/title.basics.tsv.gz\"\n",
        "! wget \"https://datasets.imdbws.com/name.basics.tsv.gz\"\n",
        "\n",
        "! gunzip title.principals.tsv.gz\n",
        "! gunzip title.basics.tsv.gz\n",
        "! gunzip name.basics.tsv.gz"
      ],
      "execution_count": 0,
      "outputs": []
    },
    {
      "cell_type": "code",
      "metadata": {
        "id": "PDVb4cXuln8V",
        "colab_type": "code",
        "colab": {}
      },
      "source": [
        "cast = pd.read_csv('title.principals.tsv', sep='\\t', na_values = \"\\\\N\", keep_default_na = False, \n",
        "                   usecols = ['tconst','ordering','nconst','category'],\n",
        "                   dtype = {'tconst': str, 'ordering': str, 'nconst': str, 'category': str})\n",
        "titles = pd.read_csv('title.basics.tsv', sep='\\t', na_values = \"\\\\N\", keep_default_na = False,\n",
        "                     usecols = ['tconst','primaryTitle','startYear','titleType','genres'],\n",
        "                    dtype = {'tconst': str, 'primaryTitle': str, 'startYear': 'Int64','titleType':str, 'genres': str})\n",
        "names = pd.read_csv('name.basics.tsv', sep='\\t', na_values = \"\\\\N\", keep_default_na = False,\n",
        "                    usecols = ['nconst','primaryName'], \n",
        "                    dtype = {'nconst': str, 'primaryName': str})"
      ],
      "execution_count": 0,
      "outputs": []
    },
    {
      "cell_type": "code",
      "metadata": {
        "id": "4aD7MGfGncWQ",
        "colab_type": "code",
        "colab": {}
      },
      "source": [
        "def remove_film_year(sequel):\n",
        "  if \"(\" in sequel:\n",
        "    i = sequel.index(\"(\")\n",
        "    return sequel[0:i-1]\n",
        "  return sequel"
      ],
      "execution_count": 0,
      "outputs": []
    },
    {
      "cell_type": "code",
      "metadata": {
        "id": "2a2zMvM9tZhM",
        "colab_type": "code",
        "colab": {}
      },
      "source": [
        "first_movie_list = [remove_film_year(first_movie) for first_movie in first_movie_list]\n",
        "sequel_movie_list = [remove_film_year(sequel) for sequel in sequel_movie_list]"
      ],
      "execution_count": 0,
      "outputs": []
    },
    {
      "cell_type": "code",
      "metadata": {
        "id": "mNJ3kBovLtNR",
        "colab_type": "code",
        "colab": {
          "base_uri": "https://localhost:8080/",
          "height": 204
        },
        "outputId": "c4fbb850-5383-46e6-d613-f2de16332493"
      },
      "source": [
        "sequel_pairs = pd.DataFrame({\"first_movie\" : first_movie_list, \"sequel\" : sequel_movie_list})\n",
        "sequel_pairs.head()"
      ],
      "execution_count": 8,
      "outputs": [
        {
          "output_type": "execute_result",
          "data": {
            "text/html": [
              "<div>\n",
              "<style scoped>\n",
              "    .dataframe tbody tr th:only-of-type {\n",
              "        vertical-align: middle;\n",
              "    }\n",
              "\n",
              "    .dataframe tbody tr th {\n",
              "        vertical-align: top;\n",
              "    }\n",
              "\n",
              "    .dataframe thead th {\n",
              "        text-align: right;\n",
              "    }\n",
              "</style>\n",
              "<table border=\"1\" class=\"dataframe\">\n",
              "  <thead>\n",
              "    <tr style=\"text-align: right;\">\n",
              "      <th></th>\n",
              "      <th>first_movie</th>\n",
              "      <th>sequel</th>\n",
              "    </tr>\n",
              "  </thead>\n",
              "  <tbody>\n",
              "    <tr>\n",
              "      <th>0</th>\n",
              "      <td>22 Jump Street</td>\n",
              "      <td>21 Jump Street</td>\n",
              "    </tr>\n",
              "    <tr>\n",
              "      <th>1</th>\n",
              "      <td>For a Few Dollars More</td>\n",
              "      <td>A Fistful of Dollars</td>\n",
              "    </tr>\n",
              "    <tr>\n",
              "      <th>2</th>\n",
              "      <td>A Nightmare on Elm Street 2: Freddy's Revenge</td>\n",
              "      <td>A Nightmare on Elm Street</td>\n",
              "    </tr>\n",
              "    <tr>\n",
              "      <th>3</th>\n",
              "      <td>A Nightmare on Elm Street</td>\n",
              "      <td>A Nightmare on Elm Street 2: Freddy's Revenge</td>\n",
              "    </tr>\n",
              "    <tr>\n",
              "      <th>4</th>\n",
              "      <td>A Nightmare on Elm Street 3: Dream Warriors</td>\n",
              "      <td>A Nightmare on Elm Street 2: Freddy's Revenge</td>\n",
              "    </tr>\n",
              "  </tbody>\n",
              "</table>\n",
              "</div>"
            ],
            "text/plain": [
              "                                     first_movie                                         sequel\n",
              "0                                 22 Jump Street                                 21 Jump Street\n",
              "1                         For a Few Dollars More                           A Fistful of Dollars\n",
              "2  A Nightmare on Elm Street 2: Freddy's Revenge                      A Nightmare on Elm Street\n",
              "3                      A Nightmare on Elm Street  A Nightmare on Elm Street 2: Freddy's Revenge\n",
              "4    A Nightmare on Elm Street 3: Dream Warriors  A Nightmare on Elm Street 2: Freddy's Revenge"
            ]
          },
          "metadata": {
            "tags": []
          },
          "execution_count": 8
        }
      ]
    },
    {
      "cell_type": "code",
      "metadata": {
        "id": "pFKRL9oKXfuR",
        "colab_type": "code",
        "colab": {}
      },
      "source": [
        "titles = titles[titles.titleType == 'movie']\n",
        "cast = cast[cast.category.isin(['director','actor','actress'])]"
      ],
      "execution_count": 0,
      "outputs": []
    },
    {
      "cell_type": "code",
      "metadata": {
        "id": "C4QHHcJPtkyo",
        "colab_type": "code",
        "colab": {}
      },
      "source": [
        "def prepare_data(first_movie_list, sequel_movie_list):\n",
        "  movie_titles = titles[titles.primaryTitle.isin(first_movie_list + sequel_movie_list)].copy()\n",
        "  movie_titles.drop_duplicates(subset = 'primaryTitle', keep = False, inplace = True)\n",
        "  movie_titles = pd.merge(movie_titles, cast, on = 'tconst')\n",
        "  movie_titles = pd.merge(movie_titles, names, on = 'nconst')\n",
        "  movie_titles = movie_titles.drop(columns = ['titleType','tconst','nconst'])\n",
        "  \n",
        "  movie_information = movie_titles.replace(['actor','actress','director'], ['act','act','dir'])\n",
        "  movie_information['role'] = movie_information.category + movie_information.ordering\n",
        "  movie_summary = pd.pivot_table(movie_information, columns = 'role', values = 'primaryName', index = ['primaryTitle','startYear','genres'], aggfunc = 'first') #add genres back\n",
        "  movie_summary = movie_summary[['act1','act2','act3','act4','dir5']].reset_index()\n",
        "  \n",
        "  first_movie_titles = movie_summary[movie_summary.primaryTitle.isin(first_movie_list)]\n",
        "  first_movie_titles = first_movie_titles.add_prefix('fm_')\n",
        "  sequel_movie_titles = movie_summary[movie_summary.primaryTitle.isin(sequel_movie_list)]\n",
        "  sequel_movie_titles = sequel_movie_titles.add_prefix('s_')\n",
        "  \n",
        "  sequel_pairs = pd.DataFrame({\"first_movie\" : first_movie_list, \"sequel\" : sequel_movie_list})\n",
        "  \n",
        "  sequel_table = pd.merge(pd.merge(first_movie_titles, sequel_pairs, left_on = 'fm_primaryTitle', right_on = 'first_movie', how = 'inner'),\n",
        "                        sequel_movie_titles, left_on = 'sequel', right_on = 's_primaryTitle', how = 'inner')\n",
        "  sequel_table = sequel_table[sequel_table.fm_startYear <= sequel_table.s_startYear].copy()\n",
        "  sequel_table.drop(columns = ['first_movie','sequel'], inplace = True)\n",
        "\n",
        "  return sequel_table"
      ],
      "execution_count": 0,
      "outputs": []
    },
    {
      "cell_type": "code",
      "metadata": {
        "id": "1Fd0Ez4eUZFb",
        "colab_type": "code",
        "colab": {}
      },
      "source": [
        "sequel_table = prepare_data(first_movie_list, sequel_movie_list)"
      ],
      "execution_count": 0,
      "outputs": []
    },
    {
      "cell_type": "code",
      "metadata": {
        "id": "4ocGJ6BOV2Sy",
        "colab_type": "code",
        "colab": {
          "base_uri": "https://localhost:8080/",
          "height": 377
        },
        "outputId": "8df96d43-be8d-45d1-85d6-ad4b5e1f5e1b"
      },
      "source": [
        "sequel_table.head()"
      ],
      "execution_count": 12,
      "outputs": [
        {
          "output_type": "execute_result",
          "data": {
            "text/html": [
              "<div>\n",
              "<style scoped>\n",
              "    .dataframe tbody tr th:only-of-type {\n",
              "        vertical-align: middle;\n",
              "    }\n",
              "\n",
              "    .dataframe tbody tr th {\n",
              "        vertical-align: top;\n",
              "    }\n",
              "\n",
              "    .dataframe thead th {\n",
              "        text-align: right;\n",
              "    }\n",
              "</style>\n",
              "<table border=\"1\" class=\"dataframe\">\n",
              "  <thead>\n",
              "    <tr style=\"text-align: right;\">\n",
              "      <th></th>\n",
              "      <th>fm_primaryTitle</th>\n",
              "      <th>fm_startYear</th>\n",
              "      <th>fm_genres</th>\n",
              "      <th>fm_act1</th>\n",
              "      <th>fm_act2</th>\n",
              "      <th>fm_act3</th>\n",
              "      <th>fm_act4</th>\n",
              "      <th>fm_dir5</th>\n",
              "      <th>s_primaryTitle</th>\n",
              "      <th>s_startYear</th>\n",
              "      <th>s_genres</th>\n",
              "      <th>s_act1</th>\n",
              "      <th>s_act2</th>\n",
              "      <th>s_act3</th>\n",
              "      <th>s_act4</th>\n",
              "      <th>s_dir5</th>\n",
              "    </tr>\n",
              "  </thead>\n",
              "  <tbody>\n",
              "    <tr>\n",
              "      <th>1</th>\n",
              "      <td>A Fistful of Dollars</td>\n",
              "      <td>1964</td>\n",
              "      <td>Drama,Western</td>\n",
              "      <td>Clint Eastwood</td>\n",
              "      <td>Gian Maria Volontè</td>\n",
              "      <td>Marianne Koch</td>\n",
              "      <td>Wolfgang Lukschy</td>\n",
              "      <td>Sergio Leone</td>\n",
              "      <td>For a Few Dollars More</td>\n",
              "      <td>1965</td>\n",
              "      <td>Western</td>\n",
              "      <td>Clint Eastwood</td>\n",
              "      <td>Lee Van Cleef</td>\n",
              "      <td>Gian Maria Volontè</td>\n",
              "      <td>Mario Brega</td>\n",
              "      <td>Sergio Leone</td>\n",
              "    </tr>\n",
              "    <tr>\n",
              "      <th>3</th>\n",
              "      <td>A Nightmare on Elm Street 3: Dream Warriors</td>\n",
              "      <td>1987</td>\n",
              "      <td>Fantasy,Horror</td>\n",
              "      <td>Heather Langenkamp</td>\n",
              "      <td>Robert Englund</td>\n",
              "      <td>Craig Wasson</td>\n",
              "      <td>Patricia Arquette</td>\n",
              "      <td>Chuck Russell</td>\n",
              "      <td>A Nightmare on Elm Street 4: The Dream Master</td>\n",
              "      <td>1988</td>\n",
              "      <td>Horror</td>\n",
              "      <td>Robert Englund</td>\n",
              "      <td>Rodney Eastman</td>\n",
              "      <td>John Beckman</td>\n",
              "      <td>Kisha Brackel</td>\n",
              "      <td>Renny Harlin</td>\n",
              "    </tr>\n",
              "    <tr>\n",
              "      <th>5</th>\n",
              "      <td>Ace Ventura: Pet Detective</td>\n",
              "      <td>1994</td>\n",
              "      <td>Comedy</td>\n",
              "      <td>Jim Carrey</td>\n",
              "      <td>Courteney Cox</td>\n",
              "      <td>Sean Young</td>\n",
              "      <td>Tone Loc</td>\n",
              "      <td>Tom Shadyac</td>\n",
              "      <td>Ace Ventura: When Nature Calls</td>\n",
              "      <td>1995</td>\n",
              "      <td>Adventure,Comedy,Crime</td>\n",
              "      <td>Jim Carrey</td>\n",
              "      <td>Ian McNeice</td>\n",
              "      <td>Simon Callow</td>\n",
              "      <td>Maynard Eziashi</td>\n",
              "      <td>Steve Oedekerk</td>\n",
              "    </tr>\n",
              "    <tr>\n",
              "      <th>7</th>\n",
              "      <td>Alvin and the Chipmunks</td>\n",
              "      <td>2007</td>\n",
              "      <td>Animation,Comedy,Family</td>\n",
              "      <td>Jason Lee</td>\n",
              "      <td>Ross Bagdasarian Jr.</td>\n",
              "      <td>Janice Karman</td>\n",
              "      <td>David Cross</td>\n",
              "      <td>Tim Hill</td>\n",
              "      <td>Alvin and the Chipmunks: The Squeakquel</td>\n",
              "      <td>2009</td>\n",
              "      <td>Animation,Comedy,Family</td>\n",
              "      <td>Jason Lee</td>\n",
              "      <td>Zachary Levi</td>\n",
              "      <td>David Cross</td>\n",
              "      <td>Justin Long</td>\n",
              "      <td>Betty Thomas</td>\n",
              "    </tr>\n",
              "    <tr>\n",
              "      <th>9</th>\n",
              "      <td>Anchorman: The Legend of Ron Burgundy</td>\n",
              "      <td>2004</td>\n",
              "      <td>Comedy</td>\n",
              "      <td>Will Ferrell</td>\n",
              "      <td>Christina Applegate</td>\n",
              "      <td>Steve Carell</td>\n",
              "      <td>Paul Rudd</td>\n",
              "      <td>Adam McKay</td>\n",
              "      <td>Anchorman 2: The Legend Continues</td>\n",
              "      <td>2013</td>\n",
              "      <td>Comedy</td>\n",
              "      <td>Will Ferrell</td>\n",
              "      <td>Christina Applegate</td>\n",
              "      <td>Paul Rudd</td>\n",
              "      <td>Steve Carell</td>\n",
              "      <td>Adam McKay</td>\n",
              "    </tr>\n",
              "  </tbody>\n",
              "</table>\n",
              "</div>"
            ],
            "text/plain": [
              "                               fm_primaryTitle  ...          s_dir5\n",
              "1                         A Fistful of Dollars  ...    Sergio Leone\n",
              "3  A Nightmare on Elm Street 3: Dream Warriors  ...    Renny Harlin\n",
              "5                   Ace Ventura: Pet Detective  ...  Steve Oedekerk\n",
              "7                      Alvin and the Chipmunks  ...    Betty Thomas\n",
              "9        Anchorman: The Legend of Ron Burgundy  ...      Adam McKay\n",
              "\n",
              "[5 rows x 16 columns]"
            ]
          },
          "metadata": {
            "tags": []
          },
          "execution_count": 12
        }
      ]
    },
    {
      "cell_type": "code",
      "metadata": {
        "id": "QNOifYKVKQTa",
        "colab_type": "code",
        "colab": {}
      },
      "source": [
        "non_sequel_movies = ['The Searchers','Chisum','She Wore a Yellow Ribbon','There Will Be Blood','Phantom Thread','Little Big Man',\n",
        "                     'Bonnie and Clyde','Out of Africa','Silkwood','Florence Foster Jenkins','The Shawshank Redemption',\n",
        "                     'Escape from Alcatraz','Little Big Horn','American Beauty','An American in Paris']"
      ],
      "execution_count": 0,
      "outputs": []
    },
    {
      "cell_type": "code",
      "metadata": {
        "id": "gfsXu77iOgmp",
        "colab_type": "code",
        "colab": {}
      },
      "source": [
        "ns_first_movie_list = []\n",
        "ns_sequel_movie_list = []\n",
        "for first_movie in non_sequel_movies:\n",
        "  for sequel_movie in non_sequel_movies:\n",
        "    if first_movie != sequel_movie:\n",
        "      ns_first_movie_list.append(first_movie)\n",
        "      ns_sequel_movie_list.append(sequel_movie)"
      ],
      "execution_count": 0,
      "outputs": []
    },
    {
      "cell_type": "code",
      "metadata": {
        "id": "LLUvbEbPJ-78",
        "colab_type": "code",
        "colab": {}
      },
      "source": [
        "non_sequel_table = prepare_data(ns_first_movie_list, ns_sequel_movie_list)"
      ],
      "execution_count": 0,
      "outputs": []
    },
    {
      "cell_type": "code",
      "metadata": {
        "id": "079VhRMlWVFT",
        "colab_type": "code",
        "colab": {
          "base_uri": "https://localhost:8080/",
          "height": 360
        },
        "outputId": "c790e33a-dac7-4e0a-c9f4-5ac343d39d94"
      },
      "source": [
        "non_sequel_table.head()"
      ],
      "execution_count": 16,
      "outputs": [
        {
          "output_type": "execute_result",
          "data": {
            "text/html": [
              "<div>\n",
              "<style scoped>\n",
              "    .dataframe tbody tr th:only-of-type {\n",
              "        vertical-align: middle;\n",
              "    }\n",
              "\n",
              "    .dataframe tbody tr th {\n",
              "        vertical-align: top;\n",
              "    }\n",
              "\n",
              "    .dataframe thead th {\n",
              "        text-align: right;\n",
              "    }\n",
              "</style>\n",
              "<table border=\"1\" class=\"dataframe\">\n",
              "  <thead>\n",
              "    <tr style=\"text-align: right;\">\n",
              "      <th></th>\n",
              "      <th>fm_primaryTitle</th>\n",
              "      <th>fm_startYear</th>\n",
              "      <th>fm_genres</th>\n",
              "      <th>fm_act1</th>\n",
              "      <th>fm_act2</th>\n",
              "      <th>fm_act3</th>\n",
              "      <th>fm_act4</th>\n",
              "      <th>fm_dir5</th>\n",
              "      <th>s_primaryTitle</th>\n",
              "      <th>s_startYear</th>\n",
              "      <th>s_genres</th>\n",
              "      <th>s_act1</th>\n",
              "      <th>s_act2</th>\n",
              "      <th>s_act3</th>\n",
              "      <th>s_act4</th>\n",
              "      <th>s_dir5</th>\n",
              "    </tr>\n",
              "  </thead>\n",
              "  <tbody>\n",
              "    <tr>\n",
              "      <th>1</th>\n",
              "      <td>An American in Paris</td>\n",
              "      <td>1951</td>\n",
              "      <td>Drama,Musical,Romance</td>\n",
              "      <td>Gene Kelly</td>\n",
              "      <td>Leslie Caron</td>\n",
              "      <td>Oscar Levant</td>\n",
              "      <td>Georges Guétary</td>\n",
              "      <td>Vincente Minnelli</td>\n",
              "      <td>The Searchers</td>\n",
              "      <td>1956</td>\n",
              "      <td>Adventure,Drama,Western</td>\n",
              "      <td>John Wayne</td>\n",
              "      <td>Jeffrey Hunter</td>\n",
              "      <td>Vera Miles</td>\n",
              "      <td>Ward Bond</td>\n",
              "      <td>John Ford</td>\n",
              "    </tr>\n",
              "    <tr>\n",
              "      <th>6</th>\n",
              "      <td>Little Big Horn</td>\n",
              "      <td>1951</td>\n",
              "      <td>Western</td>\n",
              "      <td>Lloyd Bridges</td>\n",
              "      <td>John Ireland</td>\n",
              "      <td>Marie Windsor</td>\n",
              "      <td>Reed Hadley</td>\n",
              "      <td>Charles Marquis Warren</td>\n",
              "      <td>The Searchers</td>\n",
              "      <td>1956</td>\n",
              "      <td>Adventure,Drama,Western</td>\n",
              "      <td>John Wayne</td>\n",
              "      <td>Jeffrey Hunter</td>\n",
              "      <td>Vera Miles</td>\n",
              "      <td>Ward Bond</td>\n",
              "      <td>John Ford</td>\n",
              "    </tr>\n",
              "    <tr>\n",
              "      <th>10</th>\n",
              "      <td>She Wore a Yellow Ribbon</td>\n",
              "      <td>1949</td>\n",
              "      <td>Western</td>\n",
              "      <td>John Wayne</td>\n",
              "      <td>Joanne Dru</td>\n",
              "      <td>John Agar</td>\n",
              "      <td>Ben Johnson</td>\n",
              "      <td>John Ford</td>\n",
              "      <td>The Searchers</td>\n",
              "      <td>1956</td>\n",
              "      <td>Adventure,Drama,Western</td>\n",
              "      <td>John Wayne</td>\n",
              "      <td>Jeffrey Hunter</td>\n",
              "      <td>Vera Miles</td>\n",
              "      <td>Ward Bond</td>\n",
              "      <td>John Ford</td>\n",
              "    </tr>\n",
              "    <tr>\n",
              "      <th>15</th>\n",
              "      <td>An American in Paris</td>\n",
              "      <td>1951</td>\n",
              "      <td>Drama,Musical,Romance</td>\n",
              "      <td>Gene Kelly</td>\n",
              "      <td>Leslie Caron</td>\n",
              "      <td>Oscar Levant</td>\n",
              "      <td>Georges Guétary</td>\n",
              "      <td>Vincente Minnelli</td>\n",
              "      <td>Chisum</td>\n",
              "      <td>1970</td>\n",
              "      <td>Biography,Western</td>\n",
              "      <td>John Wayne</td>\n",
              "      <td>Forrest Tucker</td>\n",
              "      <td>Christopher George</td>\n",
              "      <td>Ben Johnson</td>\n",
              "      <td>Andrew V. McLaglen</td>\n",
              "    </tr>\n",
              "    <tr>\n",
              "      <th>16</th>\n",
              "      <td>Bonnie and Clyde</td>\n",
              "      <td>1967</td>\n",
              "      <td>Action,Biography,Crime</td>\n",
              "      <td>Warren Beatty</td>\n",
              "      <td>Faye Dunaway</td>\n",
              "      <td>Michael J. Pollard</td>\n",
              "      <td>Gene Hackman</td>\n",
              "      <td>Arthur Penn</td>\n",
              "      <td>Chisum</td>\n",
              "      <td>1970</td>\n",
              "      <td>Biography,Western</td>\n",
              "      <td>John Wayne</td>\n",
              "      <td>Forrest Tucker</td>\n",
              "      <td>Christopher George</td>\n",
              "      <td>Ben Johnson</td>\n",
              "      <td>Andrew V. McLaglen</td>\n",
              "    </tr>\n",
              "  </tbody>\n",
              "</table>\n",
              "</div>"
            ],
            "text/plain": [
              "             fm_primaryTitle  fm_startYear  ...       s_act4              s_dir5\n",
              "1       An American in Paris          1951  ...    Ward Bond           John Ford\n",
              "6            Little Big Horn          1951  ...    Ward Bond           John Ford\n",
              "10  She Wore a Yellow Ribbon          1949  ...    Ward Bond           John Ford\n",
              "15      An American in Paris          1951  ...  Ben Johnson  Andrew V. McLaglen\n",
              "16          Bonnie and Clyde          1967  ...  Ben Johnson  Andrew V. McLaglen\n",
              "\n",
              "[5 rows x 16 columns]"
            ]
          },
          "metadata": {
            "tags": []
          },
          "execution_count": 16
        }
      ]
    },
    {
      "cell_type": "code",
      "metadata": {
        "id": "YoVq5KdBtHBy",
        "colab_type": "code",
        "colab": {}
      },
      "source": [
        "actors_for_unsupervised = ['Al Pacino','Jack Nicholson','Jennifer Lawrence','Jodie Foster']\n",
        "directors_for_unsupervised = ['Alfred Hitchcock','Steven Spielberg','George Lucas','David Lean']\n",
        "names_for_unsupervised = actors_for_unsupervised + directors_for_unsupervised"
      ],
      "execution_count": 0,
      "outputs": []
    },
    {
      "cell_type": "code",
      "metadata": {
        "id": "ZVl8yBe-t8GQ",
        "colab_type": "code",
        "colab": {}
      },
      "source": [
        "cast_movies = pd.merge(names[names.primaryName.isin(names_for_unsupervised)],cast, on = 'nconst', how = 'inner')"
      ],
      "execution_count": 0,
      "outputs": []
    },
    {
      "cell_type": "code",
      "metadata": {
        "id": "OnUTb7hivzsJ",
        "colab_type": "code",
        "colab": {
          "base_uri": "https://localhost:8080/",
          "height": 204
        },
        "outputId": "df739444-bc05-4aad-9d49-0e88e1548fc2"
      },
      "source": [
        "cast_titles = pd.merge(cast_movies, titles, on = 'tconst', how = 'inner')\n",
        "cast_titles.head()"
      ],
      "execution_count": 19,
      "outputs": [
        {
          "output_type": "execute_result",
          "data": {
            "text/html": [
              "<div>\n",
              "<style scoped>\n",
              "    .dataframe tbody tr th:only-of-type {\n",
              "        vertical-align: middle;\n",
              "    }\n",
              "\n",
              "    .dataframe tbody tr th {\n",
              "        vertical-align: top;\n",
              "    }\n",
              "\n",
              "    .dataframe thead th {\n",
              "        text-align: right;\n",
              "    }\n",
              "</style>\n",
              "<table border=\"1\" class=\"dataframe\">\n",
              "  <thead>\n",
              "    <tr style=\"text-align: right;\">\n",
              "      <th></th>\n",
              "      <th>nconst</th>\n",
              "      <th>primaryName</th>\n",
              "      <th>tconst</th>\n",
              "      <th>ordering</th>\n",
              "      <th>category</th>\n",
              "      <th>titleType</th>\n",
              "      <th>primaryTitle</th>\n",
              "      <th>startYear</th>\n",
              "      <th>genres</th>\n",
              "    </tr>\n",
              "  </thead>\n",
              "  <tbody>\n",
              "    <tr>\n",
              "      <th>0</th>\n",
              "      <td>nm0000033</td>\n",
              "      <td>Alfred Hitchcock</td>\n",
              "      <td>tt0013444</td>\n",
              "      <td>3</td>\n",
              "      <td>director</td>\n",
              "      <td>movie</td>\n",
              "      <td>Number 13</td>\n",
              "      <td>1922</td>\n",
              "      <td>Comedy</td>\n",
              "    </tr>\n",
              "    <tr>\n",
              "      <th>1</th>\n",
              "      <td>nm0000033</td>\n",
              "      <td>Alfred Hitchcock</td>\n",
              "      <td>tt0016127</td>\n",
              "      <td>5</td>\n",
              "      <td>director</td>\n",
              "      <td>movie</td>\n",
              "      <td>The Mountain Eagle</td>\n",
              "      <td>1926</td>\n",
              "      <td>Romance,Thriller</td>\n",
              "    </tr>\n",
              "    <tr>\n",
              "      <th>2</th>\n",
              "      <td>nm0000033</td>\n",
              "      <td>Alfred Hitchcock</td>\n",
              "      <td>tt0016230</td>\n",
              "      <td>5</td>\n",
              "      <td>director</td>\n",
              "      <td>movie</td>\n",
              "      <td>The Pleasure Garden</td>\n",
              "      <td>1925</td>\n",
              "      <td>Drama,Romance</td>\n",
              "    </tr>\n",
              "    <tr>\n",
              "      <th>3</th>\n",
              "      <td>nm0000033</td>\n",
              "      <td>Alfred Hitchcock</td>\n",
              "      <td>tt0017075</td>\n",
              "      <td>5</td>\n",
              "      <td>director</td>\n",
              "      <td>movie</td>\n",
              "      <td>The Lodger: A Story of the London Fog</td>\n",
              "      <td>1927</td>\n",
              "      <td>Crime,Drama,Mystery</td>\n",
              "    </tr>\n",
              "    <tr>\n",
              "      <th>4</th>\n",
              "      <td>nm0000033</td>\n",
              "      <td>Alfred Hitchcock</td>\n",
              "      <td>tt0017825</td>\n",
              "      <td>5</td>\n",
              "      <td>director</td>\n",
              "      <td>movie</td>\n",
              "      <td>When Boys Leave Home</td>\n",
              "      <td>1927</td>\n",
              "      <td>Adventure,Drama,Thriller</td>\n",
              "    </tr>\n",
              "  </tbody>\n",
              "</table>\n",
              "</div>"
            ],
            "text/plain": [
              "      nconst       primaryName  ... startYear                    genres\n",
              "0  nm0000033  Alfred Hitchcock  ...      1922                    Comedy\n",
              "1  nm0000033  Alfred Hitchcock  ...      1926          Romance,Thriller\n",
              "2  nm0000033  Alfred Hitchcock  ...      1925             Drama,Romance\n",
              "3  nm0000033  Alfred Hitchcock  ...      1927       Crime,Drama,Mystery\n",
              "4  nm0000033  Alfred Hitchcock  ...      1927  Adventure,Drama,Thriller\n",
              "\n",
              "[5 rows x 9 columns]"
            ]
          },
          "metadata": {
            "tags": []
          },
          "execution_count": 19
        }
      ]
    },
    {
      "cell_type": "code",
      "metadata": {
        "id": "jmtu07RyxII6",
        "colab_type": "code",
        "colab": {}
      },
      "source": [
        "unlabeled_first_movie_list = []\n",
        "unlabeled_sequel_movie_list = []\n",
        "\n",
        "for name in names_for_unsupervised:\n",
        "  name_movies = cast_titles[cast_titles.primaryName == name].primaryTitle.unique()\n",
        "  for first_movie in name_movies:\n",
        "    for sequel_movie in name_movies:\n",
        "      if first_movie != sequel_movie:\n",
        "        unlabeled_first_movie_list.append(first_movie)\n",
        "        unlabeled_sequel_movie_list.append(sequel_movie)"
      ],
      "execution_count": 0,
      "outputs": []
    },
    {
      "cell_type": "code",
      "metadata": {
        "id": "cXOTfPzNFIiW",
        "colab_type": "code",
        "colab": {}
      },
      "source": [
        "unlabeled_table = prepare_data(unlabeled_first_movie_list, unlabeled_sequel_movie_list)"
      ],
      "execution_count": 0,
      "outputs": []
    },
    {
      "cell_type": "code",
      "metadata": {
        "id": "mHOfNIEgGzab",
        "colab_type": "code",
        "colab": {
          "base_uri": "https://localhost:8080/",
          "height": 360
        },
        "outputId": "9c044bfe-2927-429b-df7f-03370f06d7ac"
      },
      "source": [
        "unlabeled_table.head()"
      ],
      "execution_count": 22,
      "outputs": [
        {
          "output_type": "execute_result",
          "data": {
            "text/html": [
              "<div>\n",
              "<style scoped>\n",
              "    .dataframe tbody tr th:only-of-type {\n",
              "        vertical-align: middle;\n",
              "    }\n",
              "\n",
              "    .dataframe tbody tr th {\n",
              "        vertical-align: top;\n",
              "    }\n",
              "\n",
              "    .dataframe thead th {\n",
              "        text-align: right;\n",
              "    }\n",
              "</style>\n",
              "<table border=\"1\" class=\"dataframe\">\n",
              "  <thead>\n",
              "    <tr style=\"text-align: right;\">\n",
              "      <th></th>\n",
              "      <th>fm_primaryTitle</th>\n",
              "      <th>fm_startYear</th>\n",
              "      <th>fm_genres</th>\n",
              "      <th>fm_act1</th>\n",
              "      <th>fm_act2</th>\n",
              "      <th>fm_act3</th>\n",
              "      <th>fm_act4</th>\n",
              "      <th>fm_dir5</th>\n",
              "      <th>s_primaryTitle</th>\n",
              "      <th>s_startYear</th>\n",
              "      <th>s_genres</th>\n",
              "      <th>s_act1</th>\n",
              "      <th>s_act2</th>\n",
              "      <th>s_act3</th>\n",
              "      <th>s_act4</th>\n",
              "      <th>s_dir5</th>\n",
              "    </tr>\n",
              "  </thead>\n",
              "  <tbody>\n",
              "    <tr>\n",
              "      <th>45</th>\n",
              "      <td>The Panic in Needle Park</td>\n",
              "      <td>1971</td>\n",
              "      <td>Drama</td>\n",
              "      <td>Al Pacino</td>\n",
              "      <td>Kitty Winn</td>\n",
              "      <td>Alan Vint</td>\n",
              "      <td>Richard Bright</td>\n",
              "      <td>Jerry Schatzberg</td>\n",
              "      <td>Serpico</td>\n",
              "      <td>1973</td>\n",
              "      <td>Biography,Crime,Drama</td>\n",
              "      <td>Al Pacino</td>\n",
              "      <td>John Randolph</td>\n",
              "      <td>Jack Kehoe</td>\n",
              "      <td>Biff McGuire</td>\n",
              "      <td>Sidney Lumet</td>\n",
              "    </tr>\n",
              "    <tr>\n",
              "      <th>63</th>\n",
              "      <td>Serpico</td>\n",
              "      <td>1973</td>\n",
              "      <td>Biography,Crime,Drama</td>\n",
              "      <td>Al Pacino</td>\n",
              "      <td>John Randolph</td>\n",
              "      <td>Jack Kehoe</td>\n",
              "      <td>Biff McGuire</td>\n",
              "      <td>Sidney Lumet</td>\n",
              "      <td>The Godfather: Part II</td>\n",
              "      <td>1974</td>\n",
              "      <td>Crime,Drama</td>\n",
              "      <td>Al Pacino</td>\n",
              "      <td>Robert De Niro</td>\n",
              "      <td>Robert Duvall</td>\n",
              "      <td>Diane Keaton</td>\n",
              "      <td>Francis Ford Coppola</td>\n",
              "    </tr>\n",
              "    <tr>\n",
              "      <th>69</th>\n",
              "      <td>The Panic in Needle Park</td>\n",
              "      <td>1971</td>\n",
              "      <td>Drama</td>\n",
              "      <td>Al Pacino</td>\n",
              "      <td>Kitty Winn</td>\n",
              "      <td>Alan Vint</td>\n",
              "      <td>Richard Bright</td>\n",
              "      <td>Jerry Schatzberg</td>\n",
              "      <td>The Godfather: Part II</td>\n",
              "      <td>1974</td>\n",
              "      <td>Crime,Drama</td>\n",
              "      <td>Al Pacino</td>\n",
              "      <td>Robert De Niro</td>\n",
              "      <td>Robert Duvall</td>\n",
              "      <td>Diane Keaton</td>\n",
              "      <td>Francis Ford Coppola</td>\n",
              "    </tr>\n",
              "    <tr>\n",
              "      <th>86</th>\n",
              "      <td>Serpico</td>\n",
              "      <td>1973</td>\n",
              "      <td>Biography,Crime,Drama</td>\n",
              "      <td>Al Pacino</td>\n",
              "      <td>John Randolph</td>\n",
              "      <td>Jack Kehoe</td>\n",
              "      <td>Biff McGuire</td>\n",
              "      <td>Sidney Lumet</td>\n",
              "      <td>Dog Day Afternoon</td>\n",
              "      <td>1975</td>\n",
              "      <td>Biography,Crime,Drama</td>\n",
              "      <td>Al Pacino</td>\n",
              "      <td>John Cazale</td>\n",
              "      <td>Penelope Allen</td>\n",
              "      <td>Sully Boyar</td>\n",
              "      <td>Sidney Lumet</td>\n",
              "    </tr>\n",
              "    <tr>\n",
              "      <th>89</th>\n",
              "      <td>The Godfather: Part II</td>\n",
              "      <td>1974</td>\n",
              "      <td>Crime,Drama</td>\n",
              "      <td>Al Pacino</td>\n",
              "      <td>Robert De Niro</td>\n",
              "      <td>Robert Duvall</td>\n",
              "      <td>Diane Keaton</td>\n",
              "      <td>Francis Ford Coppola</td>\n",
              "      <td>Dog Day Afternoon</td>\n",
              "      <td>1975</td>\n",
              "      <td>Biography,Crime,Drama</td>\n",
              "      <td>Al Pacino</td>\n",
              "      <td>John Cazale</td>\n",
              "      <td>Penelope Allen</td>\n",
              "      <td>Sully Boyar</td>\n",
              "      <td>Sidney Lumet</td>\n",
              "    </tr>\n",
              "  </tbody>\n",
              "</table>\n",
              "</div>"
            ],
            "text/plain": [
              "             fm_primaryTitle  fm_startYear  ...        s_act4                s_dir5\n",
              "45  The Panic in Needle Park          1971  ...  Biff McGuire          Sidney Lumet\n",
              "63                   Serpico          1973  ...  Diane Keaton  Francis Ford Coppola\n",
              "69  The Panic in Needle Park          1971  ...  Diane Keaton  Francis Ford Coppola\n",
              "86                   Serpico          1973  ...   Sully Boyar          Sidney Lumet\n",
              "89    The Godfather: Part II          1974  ...   Sully Boyar          Sidney Lumet\n",
              "\n",
              "[5 rows x 16 columns]"
            ]
          },
          "metadata": {
            "tags": []
          },
          "execution_count": 22
        }
      ]
    },
    {
      "cell_type": "code",
      "metadata": {
        "id": "beVrA_euHWoz",
        "colab_type": "code",
        "colab": {
          "base_uri": "https://localhost:8080/",
          "height": 377
        },
        "outputId": "4cba887d-65cc-4359-d408-9d97a1255c91"
      },
      "source": [
        "sequel_table['sequel'] = 1\n",
        "non_sequel_table['sequel'] = 0\n",
        "unlabeled_table['sequel'] = -1\n",
        "movie_pairs = pd.concat([sequel_table,non_sequel_table,unlabeled_table], axis = 0)\n",
        "movie_pairs.head()"
      ],
      "execution_count": 23,
      "outputs": [
        {
          "output_type": "execute_result",
          "data": {
            "text/html": [
              "<div>\n",
              "<style scoped>\n",
              "    .dataframe tbody tr th:only-of-type {\n",
              "        vertical-align: middle;\n",
              "    }\n",
              "\n",
              "    .dataframe tbody tr th {\n",
              "        vertical-align: top;\n",
              "    }\n",
              "\n",
              "    .dataframe thead th {\n",
              "        text-align: right;\n",
              "    }\n",
              "</style>\n",
              "<table border=\"1\" class=\"dataframe\">\n",
              "  <thead>\n",
              "    <tr style=\"text-align: right;\">\n",
              "      <th></th>\n",
              "      <th>fm_primaryTitle</th>\n",
              "      <th>fm_startYear</th>\n",
              "      <th>fm_genres</th>\n",
              "      <th>fm_act1</th>\n",
              "      <th>fm_act2</th>\n",
              "      <th>fm_act3</th>\n",
              "      <th>fm_act4</th>\n",
              "      <th>fm_dir5</th>\n",
              "      <th>s_primaryTitle</th>\n",
              "      <th>s_startYear</th>\n",
              "      <th>s_genres</th>\n",
              "      <th>s_act1</th>\n",
              "      <th>s_act2</th>\n",
              "      <th>s_act3</th>\n",
              "      <th>s_act4</th>\n",
              "      <th>s_dir5</th>\n",
              "      <th>sequel</th>\n",
              "    </tr>\n",
              "  </thead>\n",
              "  <tbody>\n",
              "    <tr>\n",
              "      <th>1</th>\n",
              "      <td>A Fistful of Dollars</td>\n",
              "      <td>1964</td>\n",
              "      <td>Drama,Western</td>\n",
              "      <td>Clint Eastwood</td>\n",
              "      <td>Gian Maria Volontè</td>\n",
              "      <td>Marianne Koch</td>\n",
              "      <td>Wolfgang Lukschy</td>\n",
              "      <td>Sergio Leone</td>\n",
              "      <td>For a Few Dollars More</td>\n",
              "      <td>1965</td>\n",
              "      <td>Western</td>\n",
              "      <td>Clint Eastwood</td>\n",
              "      <td>Lee Van Cleef</td>\n",
              "      <td>Gian Maria Volontè</td>\n",
              "      <td>Mario Brega</td>\n",
              "      <td>Sergio Leone</td>\n",
              "      <td>1</td>\n",
              "    </tr>\n",
              "    <tr>\n",
              "      <th>3</th>\n",
              "      <td>A Nightmare on Elm Street 3: Dream Warriors</td>\n",
              "      <td>1987</td>\n",
              "      <td>Fantasy,Horror</td>\n",
              "      <td>Heather Langenkamp</td>\n",
              "      <td>Robert Englund</td>\n",
              "      <td>Craig Wasson</td>\n",
              "      <td>Patricia Arquette</td>\n",
              "      <td>Chuck Russell</td>\n",
              "      <td>A Nightmare on Elm Street 4: The Dream Master</td>\n",
              "      <td>1988</td>\n",
              "      <td>Horror</td>\n",
              "      <td>Robert Englund</td>\n",
              "      <td>Rodney Eastman</td>\n",
              "      <td>John Beckman</td>\n",
              "      <td>Kisha Brackel</td>\n",
              "      <td>Renny Harlin</td>\n",
              "      <td>1</td>\n",
              "    </tr>\n",
              "    <tr>\n",
              "      <th>5</th>\n",
              "      <td>Ace Ventura: Pet Detective</td>\n",
              "      <td>1994</td>\n",
              "      <td>Comedy</td>\n",
              "      <td>Jim Carrey</td>\n",
              "      <td>Courteney Cox</td>\n",
              "      <td>Sean Young</td>\n",
              "      <td>Tone Loc</td>\n",
              "      <td>Tom Shadyac</td>\n",
              "      <td>Ace Ventura: When Nature Calls</td>\n",
              "      <td>1995</td>\n",
              "      <td>Adventure,Comedy,Crime</td>\n",
              "      <td>Jim Carrey</td>\n",
              "      <td>Ian McNeice</td>\n",
              "      <td>Simon Callow</td>\n",
              "      <td>Maynard Eziashi</td>\n",
              "      <td>Steve Oedekerk</td>\n",
              "      <td>1</td>\n",
              "    </tr>\n",
              "    <tr>\n",
              "      <th>7</th>\n",
              "      <td>Alvin and the Chipmunks</td>\n",
              "      <td>2007</td>\n",
              "      <td>Animation,Comedy,Family</td>\n",
              "      <td>Jason Lee</td>\n",
              "      <td>Ross Bagdasarian Jr.</td>\n",
              "      <td>Janice Karman</td>\n",
              "      <td>David Cross</td>\n",
              "      <td>Tim Hill</td>\n",
              "      <td>Alvin and the Chipmunks: The Squeakquel</td>\n",
              "      <td>2009</td>\n",
              "      <td>Animation,Comedy,Family</td>\n",
              "      <td>Jason Lee</td>\n",
              "      <td>Zachary Levi</td>\n",
              "      <td>David Cross</td>\n",
              "      <td>Justin Long</td>\n",
              "      <td>Betty Thomas</td>\n",
              "      <td>1</td>\n",
              "    </tr>\n",
              "    <tr>\n",
              "      <th>9</th>\n",
              "      <td>Anchorman: The Legend of Ron Burgundy</td>\n",
              "      <td>2004</td>\n",
              "      <td>Comedy</td>\n",
              "      <td>Will Ferrell</td>\n",
              "      <td>Christina Applegate</td>\n",
              "      <td>Steve Carell</td>\n",
              "      <td>Paul Rudd</td>\n",
              "      <td>Adam McKay</td>\n",
              "      <td>Anchorman 2: The Legend Continues</td>\n",
              "      <td>2013</td>\n",
              "      <td>Comedy</td>\n",
              "      <td>Will Ferrell</td>\n",
              "      <td>Christina Applegate</td>\n",
              "      <td>Paul Rudd</td>\n",
              "      <td>Steve Carell</td>\n",
              "      <td>Adam McKay</td>\n",
              "      <td>1</td>\n",
              "    </tr>\n",
              "  </tbody>\n",
              "</table>\n",
              "</div>"
            ],
            "text/plain": [
              "                               fm_primaryTitle  ...  sequel\n",
              "1                         A Fistful of Dollars  ...       1\n",
              "3  A Nightmare on Elm Street 3: Dream Warriors  ...       1\n",
              "5                   Ace Ventura: Pet Detective  ...       1\n",
              "7                      Alvin and the Chipmunks  ...       1\n",
              "9        Anchorman: The Legend of Ron Burgundy  ...       1\n",
              "\n",
              "[5 rows x 17 columns]"
            ]
          },
          "metadata": {
            "tags": []
          },
          "execution_count": 23
        }
      ]
    },
    {
      "cell_type": "code",
      "metadata": {
        "id": "ECy9xKL9Iylg",
        "colab_type": "code",
        "colab": {
          "base_uri": "https://localhost:8080/",
          "height": 281
        },
        "outputId": "284c6bd2-f0e9-40f1-b3b5-bbac0f66dee1"
      },
      "source": [
        "movie_pairs.sequel.value_counts().plot(kind='bar')\n",
        "plt.title('Label counts in the data')\n",
        "plt.grid()"
      ],
      "execution_count": 24,
      "outputs": [
        {
          "output_type": "display_data",
          "data": {
            "image/png": "[encoded data removed]",
            "text/plain": [
              "<Figure size 432x288 with 1 Axes>"
            ]
          },
          "metadata": {
            "tags": []
          }
        }
      ]
    },
    {
      "cell_type": "code",
      "metadata": {
        "id": "keh8WL0Sx0E9",
        "colab_type": "code",
        "colab": {}
      },
      "source": [
        "def get_plot(movie_table):\n",
        "  plot_list = {}\n",
        "  plot_not_found = []\n",
        "  movie_list = np.array(pd.concat([movie_table.fm_primaryTitle, movie_table.s_primaryTitle]))\n",
        "  year_list = np.array(pd.concat([movie_table.fm_startYear, movie_table.s_startYear]))\n",
        "  for movie, year in zip(movie_list, year_list):\n",
        "    if movie not in plot_list and movie not in plot_not_found:\n",
        "      movie_y_f, movie_f = movie + ' (' + str(year) + ' film)', movie + ' (film)'\n",
        "      search1 = wikipedia.search(movie_y_f)[0]\n",
        "      search2 = wikipedia.search(movie_f)[0]\n",
        "      if search1 == movie_y_f:\n",
        "        search = movie_y_f\n",
        "      elif search2 == movie_f:\n",
        "        search = movie_f\n",
        "      else:\n",
        "        search = movie\n",
        "      try:\n",
        "        page = wikipedia.page(search)\n",
        "        plot = page.section(\"Plot\")\n",
        "        if not plot:\n",
        "          plot = page.section(\"Synopsis\")\n",
        "        if not plot:\n",
        "          plot = page.section(\"Plot summary\")\n",
        "        if not plot:\n",
        "          plot = page.section(\"Summary\")\n",
        "        if plot:\n",
        "          plot_list[movie] = plot\n",
        "        else:\n",
        "          plot_not_found.append(movie)\n",
        "          print('plot not found: %s' %movie)\n",
        "      except:\n",
        "          print('movie not found: %s' %movie)\n",
        "          plot_not_found.append(movie)\n",
        "          pass\n",
        "\n",
        "  return plot_list"
      ],
      "execution_count": 0,
      "outputs": []
    },
    {
      "cell_type": "code",
      "metadata": {
        "id": "qsP9mQ-xXwsO",
        "colab_type": "code",
        "colab": {
          "base_uri": "https://localhost:8080/",
          "height": 289
        },
        "outputId": "cb573b2c-0a67-4267-863b-841634173ae9"
      },
      "source": [
        "movie_plots = get_plot(movie_pairs)"
      ],
      "execution_count": 26,
      "outputs": [
        {
          "output_type": "stream",
          "text": [
            "plot not found: The Local Stigmatic\n",
            "plot not found: Twilight Zone: The Movie\n",
            "plot not found: A Beautiful Planet\n",
            "plot not found: Mob Girl\n",
            "plot not found: X-Men: Apocalypse\n",
            "plot not found: Untitled Lila Neugebauer Project\n",
            "plot not found: Back Door to Hell\n",
            "plot not found: The Shooting\n",
            "plot not found: Hoffa\n",
            "plot not found: The Sound Barrier\n",
            "plot not found: Doctor Zhivago\n",
            "plot not found: Stop Calling Me Baby!\n",
            "plot not found: When Boys Leave Home\n",
            "plot not found: East of Shanghai\n",
            "plot not found: Strauss' Great Waltz\n",
            "movie not found: Untitled Indiana Jones Project\n"
          ],
          "name": "stdout"
        }
      ]
    },
    {
      "cell_type": "code",
      "metadata": {
        "id": "WFxrE6IIlLo-",
        "colab_type": "code",
        "colab": {}
      },
      "source": [
        "documents = list(movie_plots.values())\n",
        "doc_titles = list(movie_plots.keys())"
      ],
      "execution_count": 0,
      "outputs": []
    },
    {
      "cell_type": "code",
      "metadata": {
        "id": "WT5_p1E_MTL7",
        "colab_type": "code",
        "colab": {}
      },
      "source": [
        "movie_pairs = movie_pairs[(movie_pairs.fm_primaryTitle.isin(doc_titles)) & (movie_pairs.s_primaryTitle.isin(doc_titles))].copy()"
      ],
      "execution_count": 0,
      "outputs": []
    },
    {
      "cell_type": "code",
      "metadata": {
        "id": "QmKrAdQq-_Ab",
        "colab_type": "code",
        "colab": {
          "base_uri": "https://localhost:8080/",
          "height": 51
        },
        "outputId": "cca172e1-07e8-4068-e3a8-cfdf32b35367"
      },
      "source": [
        "import string\n",
        "import nltk\n",
        "nltk.download('stopwords')\n",
        "from nltk.corpus import stopwords"
      ],
      "execution_count": 29,
      "outputs": [
        {
          "output_type": "stream",
          "text": [
            "[nltk_data] Downloading package stopwords to /root/nltk_data...\n",
            "[nltk_data]   Unzipping corpora/stopwords.zip.\n"
          ],
          "name": "stdout"
        }
      ]
    },
    {
      "cell_type": "code",
      "metadata": {
        "id": "MdFWlL43AN6y",
        "colab_type": "code",
        "colab": {}
      },
      "source": [
        "stopwords_set = set(stopwords.words('english'))"
      ],
      "execution_count": 0,
      "outputs": []
    },
    {
      "cell_type": "code",
      "metadata": {
        "id": "gVrA1VSO-ido",
        "colab_type": "code",
        "colab": {}
      },
      "source": [
        "def clean_text(document):\n",
        "  document_lower = document.lower() # set everything to lower case\n",
        "  document_no_punctuation = document_lower.translate(str.maketrans('', '', string.punctuation)) # strip all punctuation\n",
        "  words = document_no_punctuation.split()\n",
        "  words_no_stopwords = [word for word in words if word not in stopwords_set]\n",
        "  return words_no_stopwords[0:100]"
      ],
      "execution_count": 0,
      "outputs": []
    },
    {
      "cell_type": "code",
      "metadata": {
        "id": "93CbE04hzC4I",
        "colab_type": "code",
        "colab": {}
      },
      "source": [
        "documents_text = [clean_text(document) for document in documents]"
      ],
      "execution_count": 0,
      "outputs": []
    },
    {
      "cell_type": "code",
      "metadata": {
        "id": "UoIUkdDYlZAE",
        "colab_type": "code",
        "colab": {}
      },
      "source": [
        "from gensim.models.doc2vec import Doc2Vec, TaggedDocument"
      ],
      "execution_count": 0,
      "outputs": []
    },
    {
      "cell_type": "code",
      "metadata": {
        "id": "Nc2WHS46lcE_",
        "colab_type": "code",
        "colab": {}
      },
      "source": [
        "documents_tagged = [TaggedDocument(doc, [doc_titles[i]]) for i, doc in enumerate(documents_text)]\n",
        "model = Doc2Vec(documents_tagged, vector_size=100, window=2, min_count=1, workers=4)"
      ],
      "execution_count": 0,
      "outputs": []
    },
    {
      "cell_type": "code",
      "metadata": {
        "id": "hdQ81zFokodj",
        "colab_type": "code",
        "colab": {
          "base_uri": "https://localhost:8080/",
          "height": 105
        },
        "outputId": "b730a1e2-a39c-4efb-f359-1e261f668849"
      },
      "source": [
        "max_epochs = 100\n",
        "vec_size = 100\n",
        "alpha = 0.025\n",
        "\n",
        "model = Doc2Vec(size=vec_size,\n",
        "                alpha=alpha, \n",
        "                min_alpha=0.00025,\n",
        "                min_count=3,\n",
        "                dm =1)\n",
        "  \n",
        "model.build_vocab(documents_tagged)\n",
        "\n",
        "for epoch in range(max_epochs):\n",
        "    model.train(documents_tagged,\n",
        "                total_examples=model.corpus_count,\n",
        "                epochs=model.iter)\n",
        "    # decrease the learning rate\n",
        "    model.alpha -= 0.0005\n",
        "    # fix the learning rate, no decay\n",
        "    model.min_alpha = model.alpha"
      ],
      "execution_count": 58,
      "outputs": [
        {
          "output_type": "stream",
          "text": [
            "/usr/local/lib/python3.6/dist-packages/gensim/models/doc2vec.py:570: UserWarning: The parameter `size` is deprecated, will be removed in 4.0.0, use `vector_size` instead.\n",
            "  warnings.warn(\"The parameter `size` is deprecated, will be removed in 4.0.0, use `vector_size` instead.\")\n",
            "/usr/local/lib/python3.6/dist-packages/ipykernel_launcher.py:16: DeprecationWarning: Call to deprecated `iter` (Attribute will be removed in 4.0.0, use self.epochs instead).\n",
            "  app.launch_new_instance()\n"
          ],
          "name": "stderr"
        }
      ]
    },
    {
      "cell_type": "code",
      "metadata": {
        "id": "OnSJxB1TlfDY",
        "colab_type": "code",
        "colab": {
          "base_uri": "https://localhost:8080/",
          "height": 374
        },
        "outputId": "ffbcc7ae-2e18-4c2f-f99c-fb50c22b47c3"
      },
      "source": [
        "model.docvecs[0]"
      ],
      "execution_count": 59,
      "outputs": [
        {
          "output_type": "execute_result",
          "data": {
            "text/plain": [
              "array([-1.5162452 , -1.3245159 ,  2.8317058 , -0.926153  , -0.56823236,\n",
              "       -2.4189944 , -0.39031348,  2.333518  ,  0.20199454, -2.8875532 ,\n",
              "       -0.7183012 , -0.48971722, -0.46419805,  2.1728761 ,  1.1817298 ,\n",
              "       -3.0315053 ,  0.8904992 , -1.3804047 , -1.1516266 , -0.16938822,\n",
              "        1.2131718 , -2.207291  , -0.3027782 , -2.321587  ,  1.9116329 ,\n",
              "       -1.070429  ,  1.0257447 ,  1.9955968 ,  3.692451  , -1.5436451 ,\n",
              "       -0.24226557, -3.8465338 , -0.26288173,  1.103457  ,  1.2405957 ,\n",
              "        0.5283471 , -0.65216595, -2.7345216 , -1.8621111 , -0.30897722,\n",
              "        0.5795073 , -1.2912617 , -0.02743726, -1.201114  , -5.4329114 ,\n",
              "       -1.1999431 , -0.16262664,  0.63251776,  1.8625739 ,  1.35898   ,\n",
              "       -2.0995276 ,  0.5172744 ,  2.7745378 , -0.55357856, -1.8565105 ,\n",
              "       -0.33371198, -1.558238  ,  0.42548296, -0.69651353,  1.5336612 ,\n",
              "       -0.33575448,  0.8762719 ,  1.080846  ,  0.07251656, -0.37398678,\n",
              "       -1.7441185 , -2.4833899 , -2.07302   ,  1.6524292 , -0.5209644 ,\n",
              "       -0.07681812, -0.32934186, -0.09226573, -0.02330122, -0.2335594 ,\n",
              "        1.1852561 ,  2.4001126 ,  0.9140524 ,  1.3261424 , -2.0028589 ,\n",
              "       -1.3285185 ,  1.3267229 ,  0.28891638, -2.0209332 ,  1.6200264 ,\n",
              "       -0.90062565,  2.2916896 , -1.0307541 , -1.5838732 , -0.92368656,\n",
              "        0.2772037 ,  2.1249483 ,  2.8894522 , -2.2220829 ,  0.7257856 ,\n",
              "       -0.5405725 ,  2.680707  ,  1.6773264 , -0.16862683,  1.6714457 ],\n",
              "      dtype=float32)"
            ]
          },
          "metadata": {
            "tags": []
          },
          "execution_count": 59
        }
      ]
    },
    {
      "cell_type": "code",
      "metadata": {
        "id": "-0EaypX3zuX0",
        "colab_type": "code",
        "colab": {
          "base_uri": "https://localhost:8080/",
          "height": 241
        },
        "outputId": "7a221980-fcbd-4f9b-8100-a40917aaf597"
      },
      "source": [
        "model.docvecs.most_similar([model.docvecs[2]])"
      ],
      "execution_count": 60,
      "outputs": [
        {
          "output_type": "stream",
          "text": [
            "/usr/local/lib/python3.6/dist-packages/gensim/matutils.py:737: FutureWarning: Conversion of the second argument of issubdtype from `int` to `np.signedinteger` is deprecated. In future, it will be treated as `np.int64 == np.dtype(int).type`.\n",
            "  if np.issubdtype(vec.dtype, np.int):\n"
          ],
          "name": "stderr"
        },
        {
          "output_type": "execute_result",
          "data": {
            "text/plain": [
              "[('Ace Ventura: Pet Detective', 1.0),\n",
              " ('Ace Ventura: When Nature Calls', 0.6774065494537354),\n",
              " ('The Adventures of Tintin', 0.6429077386856079),\n",
              " ('Rear Window', 0.6137799024581909),\n",
              " ('Iron Man 3', 0.6107538938522339),\n",
              " ('Toy Story 2', 0.6027149558067322),\n",
              " ('Rocky III', 0.601454496383667),\n",
              " ('Indiana Jones and the Temple of Doom', 0.6011238098144531),\n",
              " ('Friday the 13th Part 2', 0.6009833216667175),\n",
              " ('An American in Paris', 0.5984813570976257)]"
            ]
          },
          "metadata": {
            "tags": []
          },
          "execution_count": 60
        }
      ]
    },
    {
      "cell_type": "code",
      "metadata": {
        "id": "TlFG1cDj3MIG",
        "colab_type": "code",
        "colab": {
          "base_uri": "https://localhost:8080/",
          "height": 156
        },
        "outputId": "1edee0fe-5333-4542-ab7d-2d3f5b2a0339"
      },
      "source": [
        "model.docvecs.most_similar([model.docvecs['Rear Window']], topn = 5)"
      ],
      "execution_count": 62,
      "outputs": [
        {
          "output_type": "stream",
          "text": [
            "/usr/local/lib/python3.6/dist-packages/gensim/matutils.py:737: FutureWarning: Conversion of the second argument of issubdtype from `int` to `np.signedinteger` is deprecated. In future, it will be treated as `np.int64 == np.dtype(int).type`.\n",
            "  if np.issubdtype(vec.dtype, np.int):\n"
          ],
          "name": "stderr"
        },
        {
          "output_type": "execute_result",
          "data": {
            "text/plain": [
              "[('Rear Window', 1.0),\n",
              " ('North by Northwest', 0.6458191275596619),\n",
              " ('Elstree Calling', 0.6381427049636841),\n",
              " ('An American in Paris', 0.6347113847732544),\n",
              " ('The Rebel Rousers', 0.6242588758468628)]"
            ]
          },
          "metadata": {
            "tags": []
          },
          "execution_count": 62
        }
      ]
    },
    {
      "cell_type": "code",
      "metadata": {
        "id": "DmlZ_U8_zL_m",
        "colab_type": "code",
        "colab": {
          "base_uri": "https://localhost:8080/",
          "height": 156
        },
        "outputId": "5cd42dd2-6f59-4593-ebd3-a4004ae8ff7b"
      },
      "source": [
        "model.docvecs.most_similar([model.docvecs['Blade Runner']], topn = 5)"
      ],
      "execution_count": 166,
      "outputs": [
        {
          "output_type": "stream",
          "text": [
            "/usr/local/lib/python3.6/dist-packages/gensim/matutils.py:737: FutureWarning: Conversion of the second argument of issubdtype from `int` to `np.signedinteger` is deprecated. In future, it will be treated as `np.int64 == np.dtype(int).type`.\n",
            "  if np.issubdtype(vec.dtype, np.int):\n"
          ],
          "name": "stderr"
        },
        {
          "output_type": "execute_result",
          "data": {
            "text/plain": [
              "[('Blade Runner', 0.9999998807907104),\n",
              " ('Blade Runner 2049', 0.7329328060150146),\n",
              " ('Lethal Weapon', 0.6093718409538269),\n",
              " ('Bugsy Malone', 0.6081334352493286),\n",
              " ('Rocky II', 0.5919493436813354)]"
            ]
          },
          "metadata": {
            "tags": []
          },
          "execution_count": 166
        }
      ]
    },
    {
      "cell_type": "code",
      "metadata": {
        "id": "f5XJDVvzPs3Q",
        "colab_type": "code",
        "colab": {}
      },
      "source": [
        "from sklearn.metrics.pairwise import cosine_similarity"
      ],
      "execution_count": 0,
      "outputs": []
    },
    {
      "cell_type": "code",
      "metadata": {
        "id": "rJ--SlyFQMPw",
        "colab_type": "code",
        "colab": {
          "base_uri": "https://localhost:8080/",
          "height": 34
        },
        "outputId": "1e0a9ace-72cf-4f7a-9f90-a8236f9aeee3"
      },
      "source": [
        "cosine_similarity([model.docvecs['Dirty Harry']],[model.docvecs['Magnum Force']])"
      ],
      "execution_count": 57,
      "outputs": [
        {
          "output_type": "execute_result",
          "data": {
            "text/plain": [
              "array([[0.50601196]], dtype=float32)"
            ]
          },
          "metadata": {
            "tags": []
          },
          "execution_count": 57
        }
      ]
    },
    {
      "cell_type": "code",
      "metadata": {
        "id": "t4FNJsDQZQ1A",
        "colab_type": "code",
        "colab": {
          "base_uri": "https://localhost:8080/",
          "height": 34
        },
        "outputId": "309321a2-202c-4209-b76b-43e6431635fd"
      },
      "source": [
        "cosine_similarity(np.array([model.docvecs['Dirty Harry']]),np.array([model.docvecs['Magnum Force'], model.docvecs['Sudden Impact']]))"
      ],
      "execution_count": 67,
      "outputs": [
        {
          "output_type": "execute_result",
          "data": {
            "text/plain": [
              "array([[0.5323664, 0.5389738]], dtype=float32)"
            ]
          },
          "metadata": {
            "tags": []
          },
          "execution_count": 67
        }
      ]
    },
    {
      "cell_type": "code",
      "metadata": {
        "id": "Ds50kACQ48YA",
        "colab_type": "code",
        "colab": {}
      },
      "source": [
        "cosine_similarities = cosine_similarity(np.array([model.docvecs[doc_title] for doc_title in doc_titles]))"
      ],
      "execution_count": 0,
      "outputs": []
    },
    {
      "cell_type": "code",
      "metadata": {
        "id": "7rxEQMDL6Hi6",
        "colab_type": "code",
        "colab": {
          "base_uri": "https://localhost:8080/",
          "height": 238
        },
        "outputId": "ab5dc613-771e-43e5-a776-6da81a88c541"
      },
      "source": [
        "cosine_similarities"
      ],
      "execution_count": 72,
      "outputs": [
        {
          "output_type": "execute_result",
          "data": {
            "text/plain": [
              "array([[0.99999994, 0.44796792, 0.48055655, ..., 0.4478251 , 0.40844256,\n",
              "        0.38677835],\n",
              "       [0.44796792, 0.99999994, 0.43132448, ..., 0.5176721 , 0.4599502 ,\n",
              "        0.4462452 ],\n",
              "       [0.48055655, 0.43132448, 0.9999999 , ..., 0.46596292, 0.53675836,\n",
              "        0.5696179 ],\n",
              "       ...,\n",
              "       [0.4478251 , 0.5176721 , 0.46596292, ..., 1.        , 0.40368557,\n",
              "        0.37121844],\n",
              "       [0.40844256, 0.4599502 , 0.53675836, ..., 0.40368557, 0.99999964,\n",
              "        0.46911326],\n",
              "       [0.38677835, 0.4462452 , 0.5696179 , ..., 0.37121844, 0.46911326,\n",
              "        0.99999964]], dtype=float32)"
            ]
          },
          "metadata": {
            "tags": []
          },
          "execution_count": 72
        }
      ]
    },
    {
      "cell_type": "code",
      "metadata": {
        "id": "y7PtMFc2F4CM",
        "colab_type": "code",
        "colab": {
          "base_uri": "https://localhost:8080/",
          "height": 377
        },
        "outputId": "d883ebcc-2486-4e2c-890a-95bf9dc22bea"
      },
      "source": [
        "movie_pairs.head()"
      ],
      "execution_count": 129,
      "outputs": [
        {
          "output_type": "execute_result",
          "data": {
            "text/html": [
              "<div>\n",
              "<style scoped>\n",
              "    .dataframe tbody tr th:only-of-type {\n",
              "        vertical-align: middle;\n",
              "    }\n",
              "\n",
              "    .dataframe tbody tr th {\n",
              "        vertical-align: top;\n",
              "    }\n",
              "\n",
              "    .dataframe thead th {\n",
              "        text-align: right;\n",
              "    }\n",
              "</style>\n",
              "<table border=\"1\" class=\"dataframe\">\n",
              "  <thead>\n",
              "    <tr style=\"text-align: right;\">\n",
              "      <th></th>\n",
              "      <th>fm_primaryTitle</th>\n",
              "      <th>fm_startYear</th>\n",
              "      <th>fm_genres</th>\n",
              "      <th>fm_act1</th>\n",
              "      <th>fm_act2</th>\n",
              "      <th>fm_act3</th>\n",
              "      <th>fm_act4</th>\n",
              "      <th>fm_dir5</th>\n",
              "      <th>s_primaryTitle</th>\n",
              "      <th>s_startYear</th>\n",
              "      <th>s_genres</th>\n",
              "      <th>s_act1</th>\n",
              "      <th>s_act2</th>\n",
              "      <th>s_act3</th>\n",
              "      <th>s_act4</th>\n",
              "      <th>s_dir5</th>\n",
              "      <th>sequel</th>\n",
              "    </tr>\n",
              "  </thead>\n",
              "  <tbody>\n",
              "    <tr>\n",
              "      <th>1</th>\n",
              "      <td>A Fistful of Dollars</td>\n",
              "      <td>1964</td>\n",
              "      <td>Drama,Western</td>\n",
              "      <td>Clint Eastwood</td>\n",
              "      <td>Gian Maria Volontè</td>\n",
              "      <td>Marianne Koch</td>\n",
              "      <td>Wolfgang Lukschy</td>\n",
              "      <td>Sergio Leone</td>\n",
              "      <td>For a Few Dollars More</td>\n",
              "      <td>1965</td>\n",
              "      <td>Western</td>\n",
              "      <td>Clint Eastwood</td>\n",
              "      <td>Lee Van Cleef</td>\n",
              "      <td>Gian Maria Volontè</td>\n",
              "      <td>Mario Brega</td>\n",
              "      <td>Sergio Leone</td>\n",
              "      <td>1</td>\n",
              "    </tr>\n",
              "    <tr>\n",
              "      <th>3</th>\n",
              "      <td>A Nightmare on Elm Street 3: Dream Warriors</td>\n",
              "      <td>1987</td>\n",
              "      <td>Fantasy,Horror</td>\n",
              "      <td>Heather Langenkamp</td>\n",
              "      <td>Robert Englund</td>\n",
              "      <td>Craig Wasson</td>\n",
              "      <td>Patricia Arquette</td>\n",
              "      <td>Chuck Russell</td>\n",
              "      <td>A Nightmare on Elm Street 4: The Dream Master</td>\n",
              "      <td>1988</td>\n",
              "      <td>Horror</td>\n",
              "      <td>Robert Englund</td>\n",
              "      <td>Rodney Eastman</td>\n",
              "      <td>John Beckman</td>\n",
              "      <td>Kisha Brackel</td>\n",
              "      <td>Renny Harlin</td>\n",
              "      <td>1</td>\n",
              "    </tr>\n",
              "    <tr>\n",
              "      <th>5</th>\n",
              "      <td>Ace Ventura: Pet Detective</td>\n",
              "      <td>1994</td>\n",
              "      <td>Comedy</td>\n",
              "      <td>Jim Carrey</td>\n",
              "      <td>Courteney Cox</td>\n",
              "      <td>Sean Young</td>\n",
              "      <td>Tone Loc</td>\n",
              "      <td>Tom Shadyac</td>\n",
              "      <td>Ace Ventura: When Nature Calls</td>\n",
              "      <td>1995</td>\n",
              "      <td>Adventure,Comedy,Crime</td>\n",
              "      <td>Jim Carrey</td>\n",
              "      <td>Ian McNeice</td>\n",
              "      <td>Simon Callow</td>\n",
              "      <td>Maynard Eziashi</td>\n",
              "      <td>Steve Oedekerk</td>\n",
              "      <td>1</td>\n",
              "    </tr>\n",
              "    <tr>\n",
              "      <th>7</th>\n",
              "      <td>Alvin and the Chipmunks</td>\n",
              "      <td>2007</td>\n",
              "      <td>Animation,Comedy,Family</td>\n",
              "      <td>Jason Lee</td>\n",
              "      <td>Ross Bagdasarian Jr.</td>\n",
              "      <td>Janice Karman</td>\n",
              "      <td>David Cross</td>\n",
              "      <td>Tim Hill</td>\n",
              "      <td>Alvin and the Chipmunks: The Squeakquel</td>\n",
              "      <td>2009</td>\n",
              "      <td>Animation,Comedy,Family</td>\n",
              "      <td>Jason Lee</td>\n",
              "      <td>Zachary Levi</td>\n",
              "      <td>David Cross</td>\n",
              "      <td>Justin Long</td>\n",
              "      <td>Betty Thomas</td>\n",
              "      <td>1</td>\n",
              "    </tr>\n",
              "    <tr>\n",
              "      <th>9</th>\n",
              "      <td>Anchorman: The Legend of Ron Burgundy</td>\n",
              "      <td>2004</td>\n",
              "      <td>Comedy</td>\n",
              "      <td>Will Ferrell</td>\n",
              "      <td>Christina Applegate</td>\n",
              "      <td>Steve Carell</td>\n",
              "      <td>Paul Rudd</td>\n",
              "      <td>Adam McKay</td>\n",
              "      <td>Anchorman 2: The Legend Continues</td>\n",
              "      <td>2013</td>\n",
              "      <td>Comedy</td>\n",
              "      <td>Will Ferrell</td>\n",
              "      <td>Christina Applegate</td>\n",
              "      <td>Paul Rudd</td>\n",
              "      <td>Steve Carell</td>\n",
              "      <td>Adam McKay</td>\n",
              "      <td>1</td>\n",
              "    </tr>\n",
              "  </tbody>\n",
              "</table>\n",
              "</div>"
            ],
            "text/plain": [
              "                               fm_primaryTitle  ...  sequel\n",
              "1                         A Fistful of Dollars  ...       1\n",
              "3  A Nightmare on Elm Street 3: Dream Warriors  ...       1\n",
              "5                   Ace Ventura: Pet Detective  ...       1\n",
              "7                      Alvin and the Chipmunks  ...       1\n",
              "9        Anchorman: The Legend of Ron Burgundy  ...       1\n",
              "\n",
              "[5 rows x 17 columns]"
            ]
          },
          "metadata": {
            "tags": []
          },
          "execution_count": 129
        }
      ]
    },
    {
      "cell_type": "code",
      "metadata": {
        "id": "0FUHg5QQD_la",
        "colab_type": "code",
        "colab": {}
      },
      "source": [
        "title_to_index = {}\n",
        "for index, doc_title in enumerate(doc_titles):\n",
        "  title_to_index[doc_title] = index"
      ],
      "execution_count": 0,
      "outputs": []
    },
    {
      "cell_type": "code",
      "metadata": {
        "id": "ei8kgz8rFyLe",
        "colab_type": "code",
        "colab": {}
      },
      "source": [
        "fm_index = np.array(movie_pairs.fm_primaryTitle.map(title_to_index))\n",
        "s_index = np.array(movie_pairs.s_primaryTitle.map(title_to_index))\n",
        "\n",
        "\n",
        "movie_pairs['plot_cosine'] = cosine_similarities[fm_index,s_index]"
      ],
      "execution_count": 0,
      "outputs": []
    },
    {
      "cell_type": "code",
      "metadata": {
        "id": "tCZfm5EcL9IT",
        "colab_type": "code",
        "colab": {
          "base_uri": "https://localhost:8080/",
          "height": 377
        },
        "outputId": "38559853-ad9e-440f-c2f7-3599cca8a5aa"
      },
      "source": [
        "movie_pairs.head()"
      ],
      "execution_count": 133,
      "outputs": [
        {
          "output_type": "execute_result",
          "data": {
            "text/html": [
              "<div>\n",
              "<style scoped>\n",
              "    .dataframe tbody tr th:only-of-type {\n",
              "        vertical-align: middle;\n",
              "    }\n",
              "\n",
              "    .dataframe tbody tr th {\n",
              "        vertical-align: top;\n",
              "    }\n",
              "\n",
              "    .dataframe thead th {\n",
              "        text-align: right;\n",
              "    }\n",
              "</style>\n",
              "<table border=\"1\" class=\"dataframe\">\n",
              "  <thead>\n",
              "    <tr style=\"text-align: right;\">\n",
              "      <th></th>\n",
              "      <th>fm_primaryTitle</th>\n",
              "      <th>fm_startYear</th>\n",
              "      <th>fm_genres</th>\n",
              "      <th>fm_act1</th>\n",
              "      <th>fm_act2</th>\n",
              "      <th>fm_act3</th>\n",
              "      <th>fm_act4</th>\n",
              "      <th>fm_dir5</th>\n",
              "      <th>s_primaryTitle</th>\n",
              "      <th>s_startYear</th>\n",
              "      <th>s_genres</th>\n",
              "      <th>s_act1</th>\n",
              "      <th>s_act2</th>\n",
              "      <th>s_act3</th>\n",
              "      <th>s_act4</th>\n",
              "      <th>s_dir5</th>\n",
              "      <th>sequel</th>\n",
              "      <th>plot_cosine</th>\n",
              "    </tr>\n",
              "  </thead>\n",
              "  <tbody>\n",
              "    <tr>\n",
              "      <th>1</th>\n",
              "      <td>A Fistful of Dollars</td>\n",
              "      <td>1964</td>\n",
              "      <td>Drama,Western</td>\n",
              "      <td>Clint Eastwood</td>\n",
              "      <td>Gian Maria Volontè</td>\n",
              "      <td>Marianne Koch</td>\n",
              "      <td>Wolfgang Lukschy</td>\n",
              "      <td>Sergio Leone</td>\n",
              "      <td>For a Few Dollars More</td>\n",
              "      <td>1965</td>\n",
              "      <td>Western</td>\n",
              "      <td>Clint Eastwood</td>\n",
              "      <td>Lee Van Cleef</td>\n",
              "      <td>Gian Maria Volontè</td>\n",
              "      <td>Mario Brega</td>\n",
              "      <td>Sergio Leone</td>\n",
              "      <td>1</td>\n",
              "      <td>0.525601</td>\n",
              "    </tr>\n",
              "    <tr>\n",
              "      <th>3</th>\n",
              "      <td>A Nightmare on Elm Street 3: Dream Warriors</td>\n",
              "      <td>1987</td>\n",
              "      <td>Fantasy,Horror</td>\n",
              "      <td>Heather Langenkamp</td>\n",
              "      <td>Robert Englund</td>\n",
              "      <td>Craig Wasson</td>\n",
              "      <td>Patricia Arquette</td>\n",
              "      <td>Chuck Russell</td>\n",
              "      <td>A Nightmare on Elm Street 4: The Dream Master</td>\n",
              "      <td>1988</td>\n",
              "      <td>Horror</td>\n",
              "      <td>Robert Englund</td>\n",
              "      <td>Rodney Eastman</td>\n",
              "      <td>John Beckman</td>\n",
              "      <td>Kisha Brackel</td>\n",
              "      <td>Renny Harlin</td>\n",
              "      <td>1</td>\n",
              "      <td>0.826302</td>\n",
              "    </tr>\n",
              "    <tr>\n",
              "      <th>5</th>\n",
              "      <td>Ace Ventura: Pet Detective</td>\n",
              "      <td>1994</td>\n",
              "      <td>Comedy</td>\n",
              "      <td>Jim Carrey</td>\n",
              "      <td>Courteney Cox</td>\n",
              "      <td>Sean Young</td>\n",
              "      <td>Tone Loc</td>\n",
              "      <td>Tom Shadyac</td>\n",
              "      <td>Ace Ventura: When Nature Calls</td>\n",
              "      <td>1995</td>\n",
              "      <td>Adventure,Comedy,Crime</td>\n",
              "      <td>Jim Carrey</td>\n",
              "      <td>Ian McNeice</td>\n",
              "      <td>Simon Callow</td>\n",
              "      <td>Maynard Eziashi</td>\n",
              "      <td>Steve Oedekerk</td>\n",
              "      <td>1</td>\n",
              "      <td>0.677407</td>\n",
              "    </tr>\n",
              "    <tr>\n",
              "      <th>7</th>\n",
              "      <td>Alvin and the Chipmunks</td>\n",
              "      <td>2007</td>\n",
              "      <td>Animation,Comedy,Family</td>\n",
              "      <td>Jason Lee</td>\n",
              "      <td>Ross Bagdasarian Jr.</td>\n",
              "      <td>Janice Karman</td>\n",
              "      <td>David Cross</td>\n",
              "      <td>Tim Hill</td>\n",
              "      <td>Alvin and the Chipmunks: The Squeakquel</td>\n",
              "      <td>2009</td>\n",
              "      <td>Animation,Comedy,Family</td>\n",
              "      <td>Jason Lee</td>\n",
              "      <td>Zachary Levi</td>\n",
              "      <td>David Cross</td>\n",
              "      <td>Justin Long</td>\n",
              "      <td>Betty Thomas</td>\n",
              "      <td>1</td>\n",
              "      <td>0.766455</td>\n",
              "    </tr>\n",
              "    <tr>\n",
              "      <th>9</th>\n",
              "      <td>Anchorman: The Legend of Ron Burgundy</td>\n",
              "      <td>2004</td>\n",
              "      <td>Comedy</td>\n",
              "      <td>Will Ferrell</td>\n",
              "      <td>Christina Applegate</td>\n",
              "      <td>Steve Carell</td>\n",
              "      <td>Paul Rudd</td>\n",
              "      <td>Adam McKay</td>\n",
              "      <td>Anchorman 2: The Legend Continues</td>\n",
              "      <td>2013</td>\n",
              "      <td>Comedy</td>\n",
              "      <td>Will Ferrell</td>\n",
              "      <td>Christina Applegate</td>\n",
              "      <td>Paul Rudd</td>\n",
              "      <td>Steve Carell</td>\n",
              "      <td>Adam McKay</td>\n",
              "      <td>1</td>\n",
              "      <td>0.801087</td>\n",
              "    </tr>\n",
              "  </tbody>\n",
              "</table>\n",
              "</div>"
            ],
            "text/plain": [
              "                               fm_primaryTitle  ...  plot_cosine\n",
              "1                         A Fistful of Dollars  ...     0.525601\n",
              "3  A Nightmare on Elm Street 3: Dream Warriors  ...     0.826302\n",
              "5                   Ace Ventura: Pet Detective  ...     0.677407\n",
              "7                      Alvin and the Chipmunks  ...     0.766455\n",
              "9        Anchorman: The Legend of Ron Burgundy  ...     0.801087\n",
              "\n",
              "[5 rows x 18 columns]"
            ]
          },
          "metadata": {
            "tags": []
          },
          "execution_count": 133
        }
      ]
    },
    {
      "cell_type": "code",
      "metadata": {
        "id": "3m78fKlLWd2s",
        "colab_type": "code",
        "colab": {}
      },
      "source": [
        "def sim_score(l1, l2):\n",
        "  differences = 0\n",
        "  if len(l2)>len(l1):\n",
        "    l1,l2 = l2,l1\n",
        "  for word in l1:\n",
        "    if word in l2:\n",
        "      l2.remove(word)\n",
        "    else:\n",
        "      differences += 1\n",
        "  return (len(l1) - differences)/len(l1)\n",
        "\n",
        "def sim_cast(x):\n",
        "  score = 0\n",
        "  dir1 = x.fm_dir\n",
        "  dir2 = x.s_dir\n",
        "  cast1 = [x.fm_act1, x.fm_act2, x.fm_act3, x.fm_act4, x.fm_act5]\n",
        "  cast2 = [x.s_act1, x.s_act2, x.s_act3, x.s_act4, x.s_act5]"
      ],
      "execution_count": 0,
      "outputs": []
    },
    {
      "cell_type": "code",
      "metadata": {
        "id": "8pv3iNuTZyiy",
        "colab_type": "code",
        "colab": {}
      },
      "source": [
        "movie_pairs['title_sim_score'] = movie_pairs.apply(lambda x: sim_score(x.fm_primaryTitle.lower().split(), x.s_primaryTitle.lower().split()), axis = 1)\n",
        "movie_pairs['genre_sim_score'] = movie_pairs.apply(lambda x: sim_score(x.fm_genres.lower().split(','), x.s_genres.lower().split(',')), axis = 1)\n",
        "movie_pairs['year_diff'] = movie_pairs.s_startYear - movie_pairs.fm_startYear"
      ],
      "execution_count": 0,
      "outputs": []
    },
    {
      "cell_type": "code",
      "metadata": {
        "id": "eIj1LlXDaX9r",
        "colab_type": "code",
        "colab": {
          "base_uri": "https://localhost:8080/",
          "height": 377
        },
        "outputId": "94650ef0-1dd5-4b06-af36-1aa2f86e6384"
      },
      "source": [
        "movie_pairs.head()"
      ],
      "execution_count": 158,
      "outputs": [
        {
          "output_type": "execute_result",
          "data": {
            "text/html": [
              "<div>\n",
              "<style scoped>\n",
              "    .dataframe tbody tr th:only-of-type {\n",
              "        vertical-align: middle;\n",
              "    }\n",
              "\n",
              "    .dataframe tbody tr th {\n",
              "        vertical-align: top;\n",
              "    }\n",
              "\n",
              "    .dataframe thead th {\n",
              "        text-align: right;\n",
              "    }\n",
              "</style>\n",
              "<table border=\"1\" class=\"dataframe\">\n",
              "  <thead>\n",
              "    <tr style=\"text-align: right;\">\n",
              "      <th></th>\n",
              "      <th>fm_primaryTitle</th>\n",
              "      <th>fm_startYear</th>\n",
              "      <th>fm_genres</th>\n",
              "      <th>fm_act1</th>\n",
              "      <th>fm_act2</th>\n",
              "      <th>fm_act3</th>\n",
              "      <th>fm_act4</th>\n",
              "      <th>fm_dir5</th>\n",
              "      <th>s_primaryTitle</th>\n",
              "      <th>s_startYear</th>\n",
              "      <th>s_genres</th>\n",
              "      <th>s_act1</th>\n",
              "      <th>s_act2</th>\n",
              "      <th>s_act3</th>\n",
              "      <th>s_act4</th>\n",
              "      <th>s_dir5</th>\n",
              "      <th>sequel</th>\n",
              "      <th>plot_cosine</th>\n",
              "      <th>title_sim_score</th>\n",
              "      <th>genre_sim_score</th>\n",
              "      <th>year_diff</th>\n",
              "    </tr>\n",
              "  </thead>\n",
              "  <tbody>\n",
              "    <tr>\n",
              "      <th>1</th>\n",
              "      <td>A Fistful of Dollars</td>\n",
              "      <td>1964</td>\n",
              "      <td>Drama,Western</td>\n",
              "      <td>Clint Eastwood</td>\n",
              "      <td>Gian Maria Volontè</td>\n",
              "      <td>Marianne Koch</td>\n",
              "      <td>Wolfgang Lukschy</td>\n",
              "      <td>Sergio Leone</td>\n",
              "      <td>For a Few Dollars More</td>\n",
              "      <td>1965</td>\n",
              "      <td>Western</td>\n",
              "      <td>Clint Eastwood</td>\n",
              "      <td>Lee Van Cleef</td>\n",
              "      <td>Gian Maria Volontè</td>\n",
              "      <td>Mario Brega</td>\n",
              "      <td>Sergio Leone</td>\n",
              "      <td>1</td>\n",
              "      <td>0.525601</td>\n",
              "      <td>0.400000</td>\n",
              "      <td>0.500000</td>\n",
              "      <td>1</td>\n",
              "    </tr>\n",
              "    <tr>\n",
              "      <th>3</th>\n",
              "      <td>A Nightmare on Elm Street 3: Dream Warriors</td>\n",
              "      <td>1987</td>\n",
              "      <td>Fantasy,Horror</td>\n",
              "      <td>Heather Langenkamp</td>\n",
              "      <td>Robert Englund</td>\n",
              "      <td>Craig Wasson</td>\n",
              "      <td>Patricia Arquette</td>\n",
              "      <td>Chuck Russell</td>\n",
              "      <td>A Nightmare on Elm Street 4: The Dream Master</td>\n",
              "      <td>1988</td>\n",
              "      <td>Horror</td>\n",
              "      <td>Robert Englund</td>\n",
              "      <td>Rodney Eastman</td>\n",
              "      <td>John Beckman</td>\n",
              "      <td>Kisha Brackel</td>\n",
              "      <td>Renny Harlin</td>\n",
              "      <td>1</td>\n",
              "      <td>0.826302</td>\n",
              "      <td>0.666667</td>\n",
              "      <td>0.500000</td>\n",
              "      <td>1</td>\n",
              "    </tr>\n",
              "    <tr>\n",
              "      <th>5</th>\n",
              "      <td>Ace Ventura: Pet Detective</td>\n",
              "      <td>1994</td>\n",
              "      <td>Comedy</td>\n",
              "      <td>Jim Carrey</td>\n",
              "      <td>Courteney Cox</td>\n",
              "      <td>Sean Young</td>\n",
              "      <td>Tone Loc</td>\n",
              "      <td>Tom Shadyac</td>\n",
              "      <td>Ace Ventura: When Nature Calls</td>\n",
              "      <td>1995</td>\n",
              "      <td>Adventure,Comedy,Crime</td>\n",
              "      <td>Jim Carrey</td>\n",
              "      <td>Ian McNeice</td>\n",
              "      <td>Simon Callow</td>\n",
              "      <td>Maynard Eziashi</td>\n",
              "      <td>Steve Oedekerk</td>\n",
              "      <td>1</td>\n",
              "      <td>0.677407</td>\n",
              "      <td>0.400000</td>\n",
              "      <td>0.333333</td>\n",
              "      <td>1</td>\n",
              "    </tr>\n",
              "    <tr>\n",
              "      <th>7</th>\n",
              "      <td>Alvin and the Chipmunks</td>\n",
              "      <td>2007</td>\n",
              "      <td>Animation,Comedy,Family</td>\n",
              "      <td>Jason Lee</td>\n",
              "      <td>Ross Bagdasarian Jr.</td>\n",
              "      <td>Janice Karman</td>\n",
              "      <td>David Cross</td>\n",
              "      <td>Tim Hill</td>\n",
              "      <td>Alvin and the Chipmunks: The Squeakquel</td>\n",
              "      <td>2009</td>\n",
              "      <td>Animation,Comedy,Family</td>\n",
              "      <td>Jason Lee</td>\n",
              "      <td>Zachary Levi</td>\n",
              "      <td>David Cross</td>\n",
              "      <td>Justin Long</td>\n",
              "      <td>Betty Thomas</td>\n",
              "      <td>1</td>\n",
              "      <td>0.766455</td>\n",
              "      <td>0.500000</td>\n",
              "      <td>1.000000</td>\n",
              "      <td>2</td>\n",
              "    </tr>\n",
              "    <tr>\n",
              "      <th>9</th>\n",
              "      <td>Anchorman: The Legend of Ron Burgundy</td>\n",
              "      <td>2004</td>\n",
              "      <td>Comedy</td>\n",
              "      <td>Will Ferrell</td>\n",
              "      <td>Christina Applegate</td>\n",
              "      <td>Steve Carell</td>\n",
              "      <td>Paul Rudd</td>\n",
              "      <td>Adam McKay</td>\n",
              "      <td>Anchorman 2: The Legend Continues</td>\n",
              "      <td>2013</td>\n",
              "      <td>Comedy</td>\n",
              "      <td>Will Ferrell</td>\n",
              "      <td>Christina Applegate</td>\n",
              "      <td>Paul Rudd</td>\n",
              "      <td>Steve Carell</td>\n",
              "      <td>Adam McKay</td>\n",
              "      <td>1</td>\n",
              "      <td>0.801087</td>\n",
              "      <td>0.333333</td>\n",
              "      <td>1.000000</td>\n",
              "      <td>9</td>\n",
              "    </tr>\n",
              "  </tbody>\n",
              "</table>\n",
              "</div>"
            ],
            "text/plain": [
              "                               fm_primaryTitle  ...  year_diff\n",
              "1                         A Fistful of Dollars  ...          1\n",
              "3  A Nightmare on Elm Street 3: Dream Warriors  ...          1\n",
              "5                   Ace Ventura: Pet Detective  ...          1\n",
              "7                      Alvin and the Chipmunks  ...          2\n",
              "9        Anchorman: The Legend of Ron Burgundy  ...          9\n",
              "\n",
              "[5 rows x 21 columns]"
            ]
          },
          "metadata": {
            "tags": []
          },
          "execution_count": 158
        }
      ]
    },
    {
      "cell_type": "code",
      "metadata": {
        "id": "OfHG3jumau1V",
        "colab_type": "code",
        "colab": {}
      },
      "source": [
        ""
      ],
      "execution_count": 0,
      "outputs": []
    }
  ]
}