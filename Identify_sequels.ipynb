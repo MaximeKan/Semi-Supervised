{
  "nbformat": 4,
  "nbformat_minor": 0,
  "metadata": {
    "colab": {
      "name": "Identify_sequels.ipynb",
      "version": "0.3.2",
      "provenance": []
    },
    "kernelspec": {
      "name": "python3",
      "display_name": "Python 3"
    }
  },
  "cells": [
    {
      "cell_type": "code",
      "metadata": {
        "id": "UKTOXPP3T_Px",
        "colab_type": "code",
        "colab": {}
      },
      "source": [
        "%%capture\n",
        "!pip install wikipedia -q\n",
        "import wikipedia\n",
        "import requests\n",
        "import pandas as pd\n",
        "import numpy as np\n",
        "import matplotlib.pyplot as plt"
      ],
      "execution_count": 0,
      "outputs": []
    },
    {
      "cell_type": "code",
      "metadata": {
        "id": "cLs6oQw5jRhe",
        "colab_type": "code",
        "colab": {}
      },
      "source": [
        "S = requests.Session()\n",
        "\n",
        "URL = \"https://en.wikipedia.org/w/api.php\"\n",
        "\n",
        "PARAMS = {\n",
        "    \"action\": \"query\",\n",
        "    \"format\": \"json\",\n",
        "    \"titles\": \"List_of_film_sequels_by_box-office_improvement\",\n",
        "    \"prop\": \"links\",\n",
        "    \"pllimit\": 500\n",
        "}\n",
        "\n",
        "R = S.get(url=URL, params=PARAMS)\n",
        "DATA = R.json()\n",
        "\n",
        "PAGES = DATA[\"query\"][\"pages\"]\n",
        "\n",
        "sequels = []\n",
        "for k, v in PAGES.items():\n",
        "    for l in v[\"links\"]:\n",
        "        sequels.append(l[\"title\"])"
      ],
      "execution_count": 0,
      "outputs": []
    },
    {
      "cell_type": "code",
      "metadata": {
        "id": "1Y3ZWOVv_HGm",
        "colab_type": "code",
        "colab": {}
      },
      "source": [
        "first_movie_list = []\n",
        "sequel_movie_list = []\n",
        "for sequel in sequels:\n",
        "    page = wikipedia.page(sequel)\n",
        "    summary = page.summary\n",
        "    for first_movie in sequels:\n",
        "        if first_movie in summary and first_movie != sequel:\n",
        "            first_movie_list.append(first_movie)\n",
        "            sequel_movie_list.append(sequel)"
      ],
      "execution_count": 0,
      "outputs": []
    },
    {
      "cell_type": "code",
      "metadata": {
        "id": "UINR93CRCFu1",
        "colab_type": "code",
        "colab": {
          "base_uri": "https://localhost:8080/",
          "height": 385
        },
        "outputId": "eddfa5f1-916a-4747-d947-11d267aeb1ad"
      },
      "source": [
        "%%capture\n",
        "! wget \"https://datasets.imdbws.com/title.principals.tsv.gz\"\n",
        "! wget \"https://datasets.imdbws.com/title.basics.tsv.gz\"\n",
        "! wget \"https://datasets.imdbws.com/name.basics.tsv.gz\"\n",
        "\n",
        "! gunzip title.principals.tsv.gz\n",
        "! gunzip title.basics.tsv.gz\n",
        "! gunzip name.basics.tsv.gz"
      ],
      "execution_count": 4,
      "outputs": [
        {
          "output_type": "error",
          "ename": "KeyboardInterrupt",
          "evalue": "ignored",
          "traceback": [
            "\u001b[0;31m---------------------------------------------------------------------------\u001b[0m",
            "\u001b[0;31mKeyboardInterrupt\u001b[0m                         Traceback (most recent call last)",
            "\u001b[0;32m<ipython-input-4-847e38049cc7>\u001b[0m in \u001b[0;36m<module>\u001b[0;34m()\u001b[0m\n\u001b[1;32m      4\u001b[0m \u001b[0;34m\u001b[0m\u001b[0m\n\u001b[1;32m      5\u001b[0m \u001b[0mget_ipython\u001b[0m\u001b[0;34m(\u001b[0m\u001b[0;34m)\u001b[0m\u001b[0;34m.\u001b[0m\u001b[0msystem\u001b[0m\u001b[0;34m(\u001b[0m\u001b[0;34m' gunzip title.principals.tsv.gz'\u001b[0m\u001b[0;34m)\u001b[0m\u001b[0;34m\u001b[0m\u001b[0;34m\u001b[0m\u001b[0m\n\u001b[0;32m----> 6\u001b[0;31m \u001b[0mget_ipython\u001b[0m\u001b[0;34m(\u001b[0m\u001b[0;34m)\u001b[0m\u001b[0;34m.\u001b[0m\u001b[0msystem\u001b[0m\u001b[0;34m(\u001b[0m\u001b[0;34m' gunzip title.basics.tsv.gz'\u001b[0m\u001b[0;34m)\u001b[0m\u001b[0;34m\u001b[0m\u001b[0;34m\u001b[0m\u001b[0m\n\u001b[0m\u001b[1;32m      7\u001b[0m \u001b[0mget_ipython\u001b[0m\u001b[0;34m(\u001b[0m\u001b[0;34m)\u001b[0m\u001b[0;34m.\u001b[0m\u001b[0msystem\u001b[0m\u001b[0;34m(\u001b[0m\u001b[0;34m' gunzip name.basics.tsv.gz'\u001b[0m\u001b[0;34m)\u001b[0m\u001b[0;34m\u001b[0m\u001b[0;34m\u001b[0m\u001b[0m\n",
            "\u001b[0;32m/usr/local/lib/python3.6/dist-packages/google/colab/_shell.py\u001b[0m in \u001b[0;36msystem\u001b[0;34m(self, *args, **kwargs)\u001b[0m\n\u001b[1;32m     82\u001b[0m       \u001b[0mkwargs\u001b[0m\u001b[0;34m.\u001b[0m\u001b[0mupdate\u001b[0m\u001b[0;34m(\u001b[0m\u001b[0;34m{\u001b[0m\u001b[0;34m'also_return_output'\u001b[0m\u001b[0;34m:\u001b[0m \u001b[0;32mTrue\u001b[0m\u001b[0;34m}\u001b[0m\u001b[0;34m)\u001b[0m\u001b[0;34m\u001b[0m\u001b[0;34m\u001b[0m\u001b[0m\n\u001b[1;32m     83\u001b[0m \u001b[0;34m\u001b[0m\u001b[0m\n\u001b[0;32m---> 84\u001b[0;31m     \u001b[0moutput\u001b[0m \u001b[0;34m=\u001b[0m \u001b[0m_system_commands\u001b[0m\u001b[0;34m.\u001b[0m\u001b[0m_system_compat\u001b[0m\u001b[0;34m(\u001b[0m\u001b[0mself\u001b[0m\u001b[0;34m,\u001b[0m \u001b[0;34m*\u001b[0m\u001b[0margs\u001b[0m\u001b[0;34m,\u001b[0m \u001b[0;34m**\u001b[0m\u001b[0mkwargs\u001b[0m\u001b[0;34m)\u001b[0m  \u001b[0;31m# pylint:disable=protected-access\u001b[0m\u001b[0;34m\u001b[0m\u001b[0;34m\u001b[0m\u001b[0m\n\u001b[0m\u001b[1;32m     85\u001b[0m \u001b[0;34m\u001b[0m\u001b[0m\n\u001b[1;32m     86\u001b[0m     \u001b[0;32mif\u001b[0m \u001b[0mpip_warn\u001b[0m\u001b[0;34m:\u001b[0m\u001b[0;34m\u001b[0m\u001b[0;34m\u001b[0m\u001b[0m\n",
            "\u001b[0;32m/usr/local/lib/python3.6/dist-packages/google/colab/_system_commands.py\u001b[0m in \u001b[0;36m_system_compat\u001b[0;34m(shell, cmd, also_return_output)\u001b[0m\n\u001b[1;32m    436\u001b[0m   \u001b[0;31m# stack.\u001b[0m\u001b[0;34m\u001b[0m\u001b[0;34m\u001b[0m\u001b[0;34m\u001b[0m\u001b[0m\n\u001b[1;32m    437\u001b[0m   result = _run_command(\n\u001b[0;32m--> 438\u001b[0;31m       shell.var_expand(cmd, depth=2), clear_streamed_output=False)\n\u001b[0m\u001b[1;32m    439\u001b[0m   \u001b[0mshell\u001b[0m\u001b[0;34m.\u001b[0m\u001b[0muser_ns\u001b[0m\u001b[0;34m[\u001b[0m\u001b[0;34m'_exit_code'\u001b[0m\u001b[0;34m]\u001b[0m \u001b[0;34m=\u001b[0m \u001b[0mresult\u001b[0m\u001b[0;34m.\u001b[0m\u001b[0mreturncode\u001b[0m\u001b[0;34m\u001b[0m\u001b[0;34m\u001b[0m\u001b[0m\n\u001b[1;32m    440\u001b[0m   \u001b[0;32mif\u001b[0m \u001b[0;34m-\u001b[0m\u001b[0mresult\u001b[0m\u001b[0;34m.\u001b[0m\u001b[0mreturncode\u001b[0m \u001b[0;32min\u001b[0m \u001b[0m_INTERRUPTED_SIGNALS\u001b[0m\u001b[0;34m:\u001b[0m\u001b[0;34m\u001b[0m\u001b[0;34m\u001b[0m\u001b[0m\n",
            "\u001b[0;32m/usr/local/lib/python3.6/dist-packages/google/colab/_system_commands.py\u001b[0m in \u001b[0;36m_run_command\u001b[0;34m(cmd, clear_streamed_output)\u001b[0m\n\u001b[1;32m    179\u001b[0m \u001b[0;34m\u001b[0m\u001b[0m\n\u001b[1;32m    180\u001b[0m     with temporary_clearer(), _display_stdin_widget(\n\u001b[0;32m--> 181\u001b[0;31m         delay_millis=500) as update_stdin_widget:\n\u001b[0m\u001b[1;32m    182\u001b[0m       \u001b[0;31m# TODO(b/115531839): Ensure that subprocesses are terminated upon\u001b[0m\u001b[0;34m\u001b[0m\u001b[0;34m\u001b[0m\u001b[0;34m\u001b[0m\u001b[0m\n\u001b[1;32m    183\u001b[0m       \u001b[0;31m# interrupt.\u001b[0m\u001b[0;34m\u001b[0m\u001b[0;34m\u001b[0m\u001b[0;34m\u001b[0m\u001b[0m\n",
            "\u001b[0;32m/usr/lib/python3.6/contextlib.py\u001b[0m in \u001b[0;36m__enter__\u001b[0;34m(self)\u001b[0m\n\u001b[1;32m     79\u001b[0m     \u001b[0;32mdef\u001b[0m \u001b[0m__enter__\u001b[0m\u001b[0;34m(\u001b[0m\u001b[0mself\u001b[0m\u001b[0;34m)\u001b[0m\u001b[0;34m:\u001b[0m\u001b[0;34m\u001b[0m\u001b[0;34m\u001b[0m\u001b[0m\n\u001b[1;32m     80\u001b[0m         \u001b[0;32mtry\u001b[0m\u001b[0;34m:\u001b[0m\u001b[0;34m\u001b[0m\u001b[0;34m\u001b[0m\u001b[0m\n\u001b[0;32m---> 81\u001b[0;31m             \u001b[0;32mreturn\u001b[0m \u001b[0mnext\u001b[0m\u001b[0;34m(\u001b[0m\u001b[0mself\u001b[0m\u001b[0;34m.\u001b[0m\u001b[0mgen\u001b[0m\u001b[0;34m)\u001b[0m\u001b[0;34m\u001b[0m\u001b[0;34m\u001b[0m\u001b[0m\n\u001b[0m\u001b[1;32m     82\u001b[0m         \u001b[0;32mexcept\u001b[0m \u001b[0mStopIteration\u001b[0m\u001b[0;34m:\u001b[0m\u001b[0;34m\u001b[0m\u001b[0;34m\u001b[0m\u001b[0m\n\u001b[1;32m     83\u001b[0m             \u001b[0;32mraise\u001b[0m \u001b[0mRuntimeError\u001b[0m\u001b[0;34m(\u001b[0m\u001b[0;34m\"generator didn't yield\"\u001b[0m\u001b[0;34m)\u001b[0m \u001b[0;32mfrom\u001b[0m \u001b[0;32mNone\u001b[0m\u001b[0;34m\u001b[0m\u001b[0;34m\u001b[0m\u001b[0m\n",
            "\u001b[0;32m/usr/local/lib/python3.6/dist-packages/google/colab/_system_commands.py\u001b[0m in \u001b[0;36m_display_stdin_widget\u001b[0;34m(delay_millis)\u001b[0m\n\u001b[1;32m    339\u001b[0m   \u001b[0mshell\u001b[0m \u001b[0;34m=\u001b[0m \u001b[0m_ipython\u001b[0m\u001b[0;34m.\u001b[0m\u001b[0mget_ipython\u001b[0m\u001b[0;34m(\u001b[0m\u001b[0;34m)\u001b[0m\u001b[0;34m\u001b[0m\u001b[0;34m\u001b[0m\u001b[0m\n\u001b[1;32m    340\u001b[0m   \u001b[0mdisplay_args\u001b[0m \u001b[0;34m=\u001b[0m \u001b[0;34m[\u001b[0m\u001b[0;34m'cell_display_stdin'\u001b[0m\u001b[0;34m,\u001b[0m \u001b[0;34m{\u001b[0m\u001b[0;34m'delayMillis'\u001b[0m\u001b[0;34m:\u001b[0m \u001b[0mdelay_millis\u001b[0m\u001b[0;34m}\u001b[0m\u001b[0;34m]\u001b[0m\u001b[0;34m\u001b[0m\u001b[0;34m\u001b[0m\u001b[0m\n\u001b[0;32m--> 341\u001b[0;31m   \u001b[0m_message\u001b[0m\u001b[0;34m.\u001b[0m\u001b[0mblocking_request\u001b[0m\u001b[0;34m(\u001b[0m\u001b[0;34m*\u001b[0m\u001b[0mdisplay_args\u001b[0m\u001b[0;34m,\u001b[0m \u001b[0mparent\u001b[0m\u001b[0;34m=\u001b[0m\u001b[0mshell\u001b[0m\u001b[0;34m.\u001b[0m\u001b[0mparent_header\u001b[0m\u001b[0;34m)\u001b[0m\u001b[0;34m\u001b[0m\u001b[0;34m\u001b[0m\u001b[0m\n\u001b[0m\u001b[1;32m    342\u001b[0m \u001b[0;34m\u001b[0m\u001b[0m\n\u001b[1;32m    343\u001b[0m   \u001b[0;32mdef\u001b[0m \u001b[0mecho_updater\u001b[0m\u001b[0;34m(\u001b[0m\u001b[0mnew_echo_status\u001b[0m\u001b[0;34m)\u001b[0m\u001b[0;34m:\u001b[0m\u001b[0;34m\u001b[0m\u001b[0;34m\u001b[0m\u001b[0m\n",
            "\u001b[0;32m/usr/local/lib/python3.6/dist-packages/google/colab/_message.py\u001b[0m in \u001b[0;36mblocking_request\u001b[0;34m(request_type, request, timeout_sec, parent)\u001b[0m\n\u001b[1;32m    169\u001b[0m   \u001b[0;31m# unique.\u001b[0m\u001b[0;34m\u001b[0m\u001b[0;34m\u001b[0m\u001b[0;34m\u001b[0m\u001b[0m\n\u001b[1;32m    170\u001b[0m   \u001b[0mrequest_id\u001b[0m \u001b[0;34m=\u001b[0m \u001b[0msend_request\u001b[0m\u001b[0;34m(\u001b[0m\u001b[0mrequest_type\u001b[0m\u001b[0;34m,\u001b[0m \u001b[0mrequest\u001b[0m\u001b[0;34m,\u001b[0m \u001b[0mparent\u001b[0m\u001b[0;34m=\u001b[0m\u001b[0mparent\u001b[0m\u001b[0;34m)\u001b[0m\u001b[0;34m\u001b[0m\u001b[0;34m\u001b[0m\u001b[0m\n\u001b[0;32m--> 171\u001b[0;31m   \u001b[0;32mreturn\u001b[0m \u001b[0mread_reply_from_input\u001b[0m\u001b[0;34m(\u001b[0m\u001b[0mrequest_id\u001b[0m\u001b[0;34m,\u001b[0m \u001b[0mtimeout_sec\u001b[0m\u001b[0;34m)\u001b[0m\u001b[0;34m\u001b[0m\u001b[0;34m\u001b[0m\u001b[0m\n\u001b[0m",
            "\u001b[0;32m/usr/local/lib/python3.6/dist-packages/google/colab/_message.py\u001b[0m in \u001b[0;36mread_reply_from_input\u001b[0;34m(message_id, timeout_sec)\u001b[0m\n\u001b[1;32m     99\u001b[0m     \u001b[0mreply\u001b[0m \u001b[0;34m=\u001b[0m \u001b[0m_read_next_input_message\u001b[0m\u001b[0;34m(\u001b[0m\u001b[0;34m)\u001b[0m\u001b[0;34m\u001b[0m\u001b[0;34m\u001b[0m\u001b[0m\n\u001b[1;32m    100\u001b[0m     \u001b[0;32mif\u001b[0m \u001b[0mreply\u001b[0m \u001b[0;34m==\u001b[0m \u001b[0m_NOT_READY\u001b[0m \u001b[0;32mor\u001b[0m \u001b[0;32mnot\u001b[0m \u001b[0misinstance\u001b[0m\u001b[0;34m(\u001b[0m\u001b[0mreply\u001b[0m\u001b[0;34m,\u001b[0m \u001b[0mdict\u001b[0m\u001b[0;34m)\u001b[0m\u001b[0;34m:\u001b[0m\u001b[0;34m\u001b[0m\u001b[0;34m\u001b[0m\u001b[0m\n\u001b[0;32m--> 101\u001b[0;31m       \u001b[0mtime\u001b[0m\u001b[0;34m.\u001b[0m\u001b[0msleep\u001b[0m\u001b[0;34m(\u001b[0m\u001b[0;36m0.025\u001b[0m\u001b[0;34m)\u001b[0m\u001b[0;34m\u001b[0m\u001b[0;34m\u001b[0m\u001b[0m\n\u001b[0m\u001b[1;32m    102\u001b[0m       \u001b[0;32mcontinue\u001b[0m\u001b[0;34m\u001b[0m\u001b[0;34m\u001b[0m\u001b[0m\n\u001b[1;32m    103\u001b[0m     if (reply.get('type') == 'colab_reply' and\n",
            "\u001b[0;31mKeyboardInterrupt\u001b[0m: "
          ]
        }
      ]
    },
    {
      "cell_type": "code",
      "metadata": {
        "id": "PDVb4cXuln8V",
        "colab_type": "code",
        "colab": {}
      },
      "source": [
        "cast = pd.read_csv('title.principals.tsv', sep='\\t', na_values = \"\\\\N\", keep_default_na = False, \n",
        "                   usecols = ['tconst','ordering','nconst','category'],\n",
        "                   dtype = {'tconst': str, 'ordering': str, 'nconst': str, 'category': str})\n",
        "titles = pd.read_csv('title.basics.tsv', sep='\\t', na_values = \"\\\\N\", keep_default_na = False,\n",
        "                     usecols = ['tconst','primaryTitle','startYear','titleType','genres'],\n",
        "                    dtype = {'tconst': str, 'primaryTitle': str, 'startYear': 'Int64','titleType':str, 'genres': str})\n",
        "names = pd.read_csv('name.basics.tsv', sep='\\t', na_values = \"\\\\N\", keep_default_na = False,\n",
        "                    usecols = ['nconst','primaryName'], \n",
        "                    dtype = {'nconst': str, 'primaryName': str})"
      ],
      "execution_count": 0,
      "outputs": []
    },
    {
      "cell_type": "code",
      "metadata": {
        "id": "4aD7MGfGncWQ",
        "colab_type": "code",
        "colab": {}
      },
      "source": [
        "def remove_film_year(sequel):\n",
        "  if \"(\" in sequel:\n",
        "    i = sequel.index(\"(\")\n",
        "    return sequel[0:i-1]\n",
        "  return sequel"
      ],
      "execution_count": 0,
      "outputs": []
    },
    {
      "cell_type": "code",
      "metadata": {
        "id": "2a2zMvM9tZhM",
        "colab_type": "code",
        "colab": {}
      },
      "source": [
        "first_movie_list = [remove_film_year(first_movie) for first_movie in first_movie_list]\n",
        "sequel_movie_list = [remove_film_year(sequel) for sequel in sequel_movie_list]"
      ],
      "execution_count": 0,
      "outputs": []
    },
    {
      "cell_type": "code",
      "metadata": {
        "id": "mNJ3kBovLtNR",
        "colab_type": "code",
        "colab": {
          "base_uri": "https://localhost:8080/",
          "height": 204
        },
        "outputId": "ca4ff78a-0362-4672-fb45-0e289613a82f"
      },
      "source": [
        "sequel_pairs = pd.DataFrame({\"first_movie\" : first_movie_list, \"sequel\" : sequel_movie_list})\n",
        "sequel_pairs.head()"
      ],
      "execution_count": 9,
      "outputs": [
        {
          "output_type": "execute_result",
          "data": {
            "text/html": [
              "<div>\n",
              "<style scoped>\n",
              "    .dataframe tbody tr th:only-of-type {\n",
              "        vertical-align: middle;\n",
              "    }\n",
              "\n",
              "    .dataframe tbody tr th {\n",
              "        vertical-align: top;\n",
              "    }\n",
              "\n",
              "    .dataframe thead th {\n",
              "        text-align: right;\n",
              "    }\n",
              "</style>\n",
              "<table border=\"1\" class=\"dataframe\">\n",
              "  <thead>\n",
              "    <tr style=\"text-align: right;\">\n",
              "      <th></th>\n",
              "      <th>first_movie</th>\n",
              "      <th>sequel</th>\n",
              "    </tr>\n",
              "  </thead>\n",
              "  <tbody>\n",
              "    <tr>\n",
              "      <th>0</th>\n",
              "      <td>22 Jump Street</td>\n",
              "      <td>21 Jump Street</td>\n",
              "    </tr>\n",
              "    <tr>\n",
              "      <th>1</th>\n",
              "      <td>For a Few Dollars More</td>\n",
              "      <td>A Fistful of Dollars</td>\n",
              "    </tr>\n",
              "    <tr>\n",
              "      <th>2</th>\n",
              "      <td>A Nightmare on Elm Street 2: Freddy's Revenge</td>\n",
              "      <td>A Nightmare on Elm Street</td>\n",
              "    </tr>\n",
              "    <tr>\n",
              "      <th>3</th>\n",
              "      <td>A Nightmare on Elm Street</td>\n",
              "      <td>A Nightmare on Elm Street 2: Freddy's Revenge</td>\n",
              "    </tr>\n",
              "    <tr>\n",
              "      <th>4</th>\n",
              "      <td>A Nightmare on Elm Street 3: Dream Warriors</td>\n",
              "      <td>A Nightmare on Elm Street 2: Freddy's Revenge</td>\n",
              "    </tr>\n",
              "  </tbody>\n",
              "</table>\n",
              "</div>"
            ],
            "text/plain": [
              "                                     first_movie                                         sequel\n",
              "0                                 22 Jump Street                                 21 Jump Street\n",
              "1                         For a Few Dollars More                           A Fistful of Dollars\n",
              "2  A Nightmare on Elm Street 2: Freddy's Revenge                      A Nightmare on Elm Street\n",
              "3                      A Nightmare on Elm Street  A Nightmare on Elm Street 2: Freddy's Revenge\n",
              "4    A Nightmare on Elm Street 3: Dream Warriors  A Nightmare on Elm Street 2: Freddy's Revenge"
            ]
          },
          "metadata": {
            "tags": []
          },
          "execution_count": 9
        }
      ]
    },
    {
      "cell_type": "code",
      "metadata": {
        "id": "pFKRL9oKXfuR",
        "colab_type": "code",
        "colab": {}
      },
      "source": [
        "titles = titles[titles.titleType == 'movie']"
      ],
      "execution_count": 0,
      "outputs": []
    },
    {
      "cell_type": "code",
      "metadata": {
        "id": "C4QHHcJPtkyo",
        "colab_type": "code",
        "colab": {}
      },
      "source": [
        "def prepare_data(first_movie_list, sequel_movie_list):\n",
        "  movie_titles = titles[titles.primaryTitle.isin(first_movie_list + sequel_movie_list)]\n",
        "  movie_titles = pd.merge(movie_titles, cast, on = 'tconst')\n",
        "  movie_titles = pd.merge(movie_titles, names, on = 'nconst')\n",
        "  movie_titles = movie_titles.drop(columns = ['titleType','tconst','nconst'])\n",
        "  \n",
        "  movie_information = movie_titles[movie_titles.category.isin(['actor','actress','director'])].copy()\n",
        "  movie_information.replace(['actor','actress','director'], ['act','act','dir'], inplace = True)\n",
        "  movie_information['role'] = movie_information.category + movie_information.ordering\n",
        "  movie_information.head()\n",
        "  movie_summary = pd.pivot_table(movie_information, columns = 'role', values = 'primaryName', index = ['primaryTitle','startYear','genres'], aggfunc = 'first')\n",
        "  movie_summary = movie_summary[['act1','act2','act3','act4','dir5']].reset_index()\n",
        "  \n",
        "  first_movie_titles = movie_summary[movie_summary.primaryTitle.isin(first_movie_list)]\n",
        "  first_movie_titles.columns = 'fm_' + first_movie_titles.columns\n",
        "  sequel_movie_titles = movie_summary[movie_summary.primaryTitle.isin(sequel_movie_list)]\n",
        "  sequel_movie_titles.columns = 's_' + sequel_movie_titles.columns\n",
        "  \n",
        "  sequel_pairs = pd.DataFrame({\"first_movie\" : first_movie_list, \"sequel\" : sequel_movie_list})\n",
        "  \n",
        "  sequel_table = pd.merge(pd.merge(first_movie_titles, sequel_pairs, left_on = 'fm_primaryTitle', right_on = 'first_movie', how = 'inner'),\n",
        "                        sequel_movie_titles, left_on = 'sequel', right_on = 's_primaryTitle', how = 'inner')\n",
        "  sequel_table = sequel_table[sequel_table.fm_startYear <= sequel_table.s_startYear].copy()\n",
        "  sequel_table.drop(columns = ['first_movie','sequel'], inplace = True)\n",
        "\n",
        "  return sequel_table"
      ],
      "execution_count": 0,
      "outputs": []
    },
    {
      "cell_type": "code",
      "metadata": {
        "id": "1Fd0Ez4eUZFb",
        "colab_type": "code",
        "colab": {}
      },
      "source": [
        "sequel_table = prepare_data(first_movie_list, sequel_movie_list)"
      ],
      "execution_count": 0,
      "outputs": []
    },
    {
      "cell_type": "code",
      "metadata": {
        "id": "4ocGJ6BOV2Sy",
        "colab_type": "code",
        "colab": {
          "base_uri": "https://localhost:8080/",
          "height": 394
        },
        "outputId": "6f053c2e-1dcd-40a5-cfa4-58b2f1c827dc"
      },
      "source": [
        "sequel_table.head()"
      ],
      "execution_count": 13,
      "outputs": [
        {
          "output_type": "execute_result",
          "data": {
            "text/html": [
              "<div>\n",
              "<style scoped>\n",
              "    .dataframe tbody tr th:only-of-type {\n",
              "        vertical-align: middle;\n",
              "    }\n",
              "\n",
              "    .dataframe tbody tr th {\n",
              "        vertical-align: top;\n",
              "    }\n",
              "\n",
              "    .dataframe thead th {\n",
              "        text-align: right;\n",
              "    }\n",
              "</style>\n",
              "<table border=\"1\" class=\"dataframe\">\n",
              "  <thead>\n",
              "    <tr style=\"text-align: right;\">\n",
              "      <th></th>\n",
              "      <th>fm_primaryTitle</th>\n",
              "      <th>fm_startYear</th>\n",
              "      <th>fm_genres</th>\n",
              "      <th>fm_act1</th>\n",
              "      <th>fm_act2</th>\n",
              "      <th>fm_act3</th>\n",
              "      <th>fm_act4</th>\n",
              "      <th>fm_dir5</th>\n",
              "      <th>s_primaryTitle</th>\n",
              "      <th>s_startYear</th>\n",
              "      <th>s_genres</th>\n",
              "      <th>s_act1</th>\n",
              "      <th>s_act2</th>\n",
              "      <th>s_act3</th>\n",
              "      <th>s_act4</th>\n",
              "      <th>s_dir5</th>\n",
              "    </tr>\n",
              "  </thead>\n",
              "  <tbody>\n",
              "    <tr>\n",
              "      <th>1</th>\n",
              "      <td>A Fistful of Dollars</td>\n",
              "      <td>1964</td>\n",
              "      <td>Drama,Western</td>\n",
              "      <td>Clint Eastwood</td>\n",
              "      <td>Gian Maria Volontè</td>\n",
              "      <td>Marianne Koch</td>\n",
              "      <td>Wolfgang Lukschy</td>\n",
              "      <td>Sergio Leone</td>\n",
              "      <td>For a Few Dollars More</td>\n",
              "      <td>1965</td>\n",
              "      <td>Western</td>\n",
              "      <td>Clint Eastwood</td>\n",
              "      <td>Lee Van Cleef</td>\n",
              "      <td>Gian Maria Volontè</td>\n",
              "      <td>Mario Brega</td>\n",
              "      <td>Sergio Leone</td>\n",
              "    </tr>\n",
              "    <tr>\n",
              "      <th>2</th>\n",
              "      <td>A Nightmare on Elm Street</td>\n",
              "      <td>1984</td>\n",
              "      <td>Horror</td>\n",
              "      <td>Heather Langenkamp</td>\n",
              "      <td>Johnny Depp</td>\n",
              "      <td>Robert Englund</td>\n",
              "      <td>John Saxon</td>\n",
              "      <td>Wes Craven</td>\n",
              "      <td>A Nightmare on Elm Street 2: Freddy's Revenge</td>\n",
              "      <td>1985</td>\n",
              "      <td>Horror</td>\n",
              "      <td>Robert Englund</td>\n",
              "      <td>Mark Patton</td>\n",
              "      <td>Kim Myers</td>\n",
              "      <td>Robert Rusler</td>\n",
              "      <td>Jack Sholder</td>\n",
              "    </tr>\n",
              "    <tr>\n",
              "      <th>5</th>\n",
              "      <td>A Nightmare on Elm Street</td>\n",
              "      <td>1984</td>\n",
              "      <td>Horror</td>\n",
              "      <td>Heather Langenkamp</td>\n",
              "      <td>Johnny Depp</td>\n",
              "      <td>Robert Englund</td>\n",
              "      <td>John Saxon</td>\n",
              "      <td>Wes Craven</td>\n",
              "      <td>A Nightmare on Elm Street 3: Dream Warriors</td>\n",
              "      <td>1987</td>\n",
              "      <td>Fantasy,Horror</td>\n",
              "      <td>Heather Langenkamp</td>\n",
              "      <td>Robert Englund</td>\n",
              "      <td>Craig Wasson</td>\n",
              "      <td>Patricia Arquette</td>\n",
              "      <td>Chuck Russell</td>\n",
              "    </tr>\n",
              "    <tr>\n",
              "      <th>8</th>\n",
              "      <td>A Nightmare on Elm Street</td>\n",
              "      <td>1984</td>\n",
              "      <td>Horror</td>\n",
              "      <td>Heather Langenkamp</td>\n",
              "      <td>Johnny Depp</td>\n",
              "      <td>Robert Englund</td>\n",
              "      <td>John Saxon</td>\n",
              "      <td>Wes Craven</td>\n",
              "      <td>A Nightmare on Elm Street 4: The Dream Master</td>\n",
              "      <td>1988</td>\n",
              "      <td>Horror</td>\n",
              "      <td>Robert Englund</td>\n",
              "      <td>Rodney Eastman</td>\n",
              "      <td>John Beckman</td>\n",
              "      <td>Kisha Brackel</td>\n",
              "      <td>Renny Harlin</td>\n",
              "    </tr>\n",
              "    <tr>\n",
              "      <th>10</th>\n",
              "      <td>A Nightmare on Elm Street 3: Dream Warriors</td>\n",
              "      <td>1987</td>\n",
              "      <td>Fantasy,Horror</td>\n",
              "      <td>Heather Langenkamp</td>\n",
              "      <td>Robert Englund</td>\n",
              "      <td>Craig Wasson</td>\n",
              "      <td>Patricia Arquette</td>\n",
              "      <td>Chuck Russell</td>\n",
              "      <td>A Nightmare on Elm Street 4: The Dream Master</td>\n",
              "      <td>1988</td>\n",
              "      <td>Horror</td>\n",
              "      <td>Robert Englund</td>\n",
              "      <td>Rodney Eastman</td>\n",
              "      <td>John Beckman</td>\n",
              "      <td>Kisha Brackel</td>\n",
              "      <td>Renny Harlin</td>\n",
              "    </tr>\n",
              "  </tbody>\n",
              "</table>\n",
              "</div>"
            ],
            "text/plain": [
              "                                fm_primaryTitle  ...         s_dir5\n",
              "1                          A Fistful of Dollars  ...   Sergio Leone\n",
              "2                     A Nightmare on Elm Street  ...   Jack Sholder\n",
              "5                     A Nightmare on Elm Street  ...  Chuck Russell\n",
              "8                     A Nightmare on Elm Street  ...   Renny Harlin\n",
              "10  A Nightmare on Elm Street 3: Dream Warriors  ...   Renny Harlin\n",
              "\n",
              "[5 rows x 16 columns]"
            ]
          },
          "metadata": {
            "tags": []
          },
          "execution_count": 13
        }
      ]
    },
    {
      "cell_type": "code",
      "metadata": {
        "id": "QNOifYKVKQTa",
        "colab_type": "code",
        "colab": {}
      },
      "source": [
        "non_sequel_movies = ['The Searchers','Chisum','She Wore a Yellow Ribbon','There Will Be Blood','Phantom Thread','Little Big Man',\n",
        "                     'Bonnie and Clyde','Out of Africa','Silkwood','Florence Foster Jenkins','The Shawshank Redemption',\n",
        "                     'Escape from Alcatraz','Little Big Horn','American Beauty','An American in Paris']"
      ],
      "execution_count": 0,
      "outputs": []
    },
    {
      "cell_type": "code",
      "metadata": {
        "id": "gfsXu77iOgmp",
        "colab_type": "code",
        "colab": {}
      },
      "source": [
        "ns_first_movie_list = []\n",
        "ns_sequel_movie_list = []\n",
        "for first_movie in non_sequel_movies:\n",
        "  for sequel_movie in non_sequel_movies:\n",
        "    if first_movie != sequel_movie:\n",
        "      ns_first_movie_list.append(first_movie)\n",
        "      ns_sequel_movie_list.append(sequel_movie)"
      ],
      "execution_count": 0,
      "outputs": []
    },
    {
      "cell_type": "code",
      "metadata": {
        "id": "LLUvbEbPJ-78",
        "colab_type": "code",
        "colab": {}
      },
      "source": [
        "non_sequel_table = prepare_data(ns_first_movie_list, ns_sequel_movie_list)"
      ],
      "execution_count": 0,
      "outputs": []
    },
    {
      "cell_type": "code",
      "metadata": {
        "id": "079VhRMlWVFT",
        "colab_type": "code",
        "colab": {
          "base_uri": "https://localhost:8080/",
          "height": 360
        },
        "outputId": "bf42ceff-2c54-4add-a26d-6ed644e74ea6"
      },
      "source": [
        "non_sequel_table.head()"
      ],
      "execution_count": 17,
      "outputs": [
        {
          "output_type": "execute_result",
          "data": {
            "text/html": [
              "<div>\n",
              "<style scoped>\n",
              "    .dataframe tbody tr th:only-of-type {\n",
              "        vertical-align: middle;\n",
              "    }\n",
              "\n",
              "    .dataframe tbody tr th {\n",
              "        vertical-align: top;\n",
              "    }\n",
              "\n",
              "    .dataframe thead th {\n",
              "        text-align: right;\n",
              "    }\n",
              "</style>\n",
              "<table border=\"1\" class=\"dataframe\">\n",
              "  <thead>\n",
              "    <tr style=\"text-align: right;\">\n",
              "      <th></th>\n",
              "      <th>fm_primaryTitle</th>\n",
              "      <th>fm_startYear</th>\n",
              "      <th>fm_genres</th>\n",
              "      <th>fm_act1</th>\n",
              "      <th>fm_act2</th>\n",
              "      <th>fm_act3</th>\n",
              "      <th>fm_act4</th>\n",
              "      <th>fm_dir5</th>\n",
              "      <th>s_primaryTitle</th>\n",
              "      <th>s_startYear</th>\n",
              "      <th>s_genres</th>\n",
              "      <th>s_act1</th>\n",
              "      <th>s_act2</th>\n",
              "      <th>s_act3</th>\n",
              "      <th>s_act4</th>\n",
              "      <th>s_dir5</th>\n",
              "    </tr>\n",
              "  </thead>\n",
              "  <tbody>\n",
              "    <tr>\n",
              "      <th>1</th>\n",
              "      <td>An American in Paris</td>\n",
              "      <td>1951</td>\n",
              "      <td>Drama,Musical,Romance</td>\n",
              "      <td>Gene Kelly</td>\n",
              "      <td>Leslie Caron</td>\n",
              "      <td>Oscar Levant</td>\n",
              "      <td>Georges Guétary</td>\n",
              "      <td>Vincente Minnelli</td>\n",
              "      <td>The Searchers</td>\n",
              "      <td>1956</td>\n",
              "      <td>Adventure,Drama,Western</td>\n",
              "      <td>John Wayne</td>\n",
              "      <td>Jeffrey Hunter</td>\n",
              "      <td>Vera Miles</td>\n",
              "      <td>Ward Bond</td>\n",
              "      <td>John Ford</td>\n",
              "    </tr>\n",
              "    <tr>\n",
              "      <th>6</th>\n",
              "      <td>Little Big Horn</td>\n",
              "      <td>1951</td>\n",
              "      <td>Western</td>\n",
              "      <td>Lloyd Bridges</td>\n",
              "      <td>John Ireland</td>\n",
              "      <td>Marie Windsor</td>\n",
              "      <td>Reed Hadley</td>\n",
              "      <td>Charles Marquis Warren</td>\n",
              "      <td>The Searchers</td>\n",
              "      <td>1956</td>\n",
              "      <td>Adventure,Drama,Western</td>\n",
              "      <td>John Wayne</td>\n",
              "      <td>Jeffrey Hunter</td>\n",
              "      <td>Vera Miles</td>\n",
              "      <td>Ward Bond</td>\n",
              "      <td>John Ford</td>\n",
              "    </tr>\n",
              "    <tr>\n",
              "      <th>10</th>\n",
              "      <td>She Wore a Yellow Ribbon</td>\n",
              "      <td>1949</td>\n",
              "      <td>Western</td>\n",
              "      <td>John Wayne</td>\n",
              "      <td>Joanne Dru</td>\n",
              "      <td>John Agar</td>\n",
              "      <td>Ben Johnson</td>\n",
              "      <td>John Ford</td>\n",
              "      <td>The Searchers</td>\n",
              "      <td>1956</td>\n",
              "      <td>Adventure,Drama,Western</td>\n",
              "      <td>John Wayne</td>\n",
              "      <td>Jeffrey Hunter</td>\n",
              "      <td>Vera Miles</td>\n",
              "      <td>Ward Bond</td>\n",
              "      <td>John Ford</td>\n",
              "    </tr>\n",
              "    <tr>\n",
              "      <th>15</th>\n",
              "      <td>An American in Paris</td>\n",
              "      <td>1951</td>\n",
              "      <td>Drama,Musical,Romance</td>\n",
              "      <td>Gene Kelly</td>\n",
              "      <td>Leslie Caron</td>\n",
              "      <td>Oscar Levant</td>\n",
              "      <td>Georges Guétary</td>\n",
              "      <td>Vincente Minnelli</td>\n",
              "      <td>Chisum</td>\n",
              "      <td>1970</td>\n",
              "      <td>Biography,Western</td>\n",
              "      <td>John Wayne</td>\n",
              "      <td>Forrest Tucker</td>\n",
              "      <td>Christopher George</td>\n",
              "      <td>Ben Johnson</td>\n",
              "      <td>Andrew V. McLaglen</td>\n",
              "    </tr>\n",
              "    <tr>\n",
              "      <th>16</th>\n",
              "      <td>Bonnie and Clyde</td>\n",
              "      <td>1967</td>\n",
              "      <td>Action,Biography,Crime</td>\n",
              "      <td>Warren Beatty</td>\n",
              "      <td>Faye Dunaway</td>\n",
              "      <td>Michael J. Pollard</td>\n",
              "      <td>Gene Hackman</td>\n",
              "      <td>Arthur Penn</td>\n",
              "      <td>Chisum</td>\n",
              "      <td>1970</td>\n",
              "      <td>Biography,Western</td>\n",
              "      <td>John Wayne</td>\n",
              "      <td>Forrest Tucker</td>\n",
              "      <td>Christopher George</td>\n",
              "      <td>Ben Johnson</td>\n",
              "      <td>Andrew V. McLaglen</td>\n",
              "    </tr>\n",
              "  </tbody>\n",
              "</table>\n",
              "</div>"
            ],
            "text/plain": [
              "             fm_primaryTitle  fm_startYear  ...       s_act4              s_dir5\n",
              "1       An American in Paris          1951  ...    Ward Bond           John Ford\n",
              "6            Little Big Horn          1951  ...    Ward Bond           John Ford\n",
              "10  She Wore a Yellow Ribbon          1949  ...    Ward Bond           John Ford\n",
              "15      An American in Paris          1951  ...  Ben Johnson  Andrew V. McLaglen\n",
              "16          Bonnie and Clyde          1967  ...  Ben Johnson  Andrew V. McLaglen\n",
              "\n",
              "[5 rows x 16 columns]"
            ]
          },
          "metadata": {
            "tags": []
          },
          "execution_count": 17
        }
      ]
    },
    {
      "cell_type": "code",
      "metadata": {
        "id": "9iHhY37RYrSW",
        "colab_type": "code",
        "colab": {}
      },
      "source": [
        "page = wikipedia.page(\"She Wore a Yellow Ribbon\")"
      ],
      "execution_count": 0,
      "outputs": []
    },
    {
      "cell_type": "code",
      "metadata": {
        "id": "O1UunxJGxIKH",
        "colab_type": "code",
        "colab": {
          "base_uri": "https://localhost:8080/",
          "height": 54
        },
        "outputId": "2feb3bbf-8ded-434a-e488-d18c5a0db101"
      },
      "source": [
        "page.section(\"Plot\")"
      ],
      "execution_count": 22,
      "outputs": [
        {
          "output_type": "execute_result",
          "data": {
            "text/plain": [
              "'On the verge of his retirement at Fort Starke, a one-troop cavalry post, aging US Cavalry Captain Nathan Cutting Brittles (John Wayne) is given one last mission: to take his troop and deal with a breakout from the reservation by the Cheyenne and Arapaho following the defeat of George Armstrong Custer at the Battle of the Little Big Horn.\\nBrittles\\' task is complicated by being forced at the same time to deliver his commanding officer\\'s wife and niece, Abby Allshard (Mildred Natwick) and Olivia Dandridge (Joanne Dru), to an eastbound stage and by the need to avoid a new Indian war. His troop officers, 1st Lt. Flint Cohill (John Agar) and 2nd Lt. Ross Pennell (Harry Carey, Jr.), meanwhile vie for the affections of Miss Dandridge while uneasily anticipating the retirement of their captain and mentor.\\nAssisting him with his mission is Capt. Brittles\\' chief scout, Sgt. Tyree (Ben Johnson), a one-time Confederate captain of cavalry; his first sergeant, Quincannon (Victor McLaglen); and Maj. Allshard (George O\\'Brien), Brittles\\' long-time friend and commanding officer.\\nAfter apparently failing in both missions, Brittles returns with the troop to Fort Starke to retire. His lieutenants continue the mission in the field, joined by Brittles after \"quitting the post and the Army\". Unwilling to see more lives needlessly taken, Brittles takes it upon himself to try to make peace with his old friend Chief Pony That Walks (Chief John Big Tree). When that too fails, he devises a risky stratagem to avoid a bloody war by stampeding the Indians\\' horses out of their camp, forcing the renegades to return to their reservation.\\nThe film ends with Brittles being recalled to duty as Chief of Scouts with the rank of Lt. Colonel (a U.S. War Department order endorsed, he is pleased to see, by Gens. Phil Sheridan and William Tecumseh Sherman, and by President Ulysses S. Grant).  Miss Dandridge and Lt. Cohill become engaged. The film ends with the troop of cavalry trotting down the road on patrol.'"
            ]
          },
          "metadata": {
            "tags": []
          },
          "execution_count": 22
        }
      ]
    },
    {
      "cell_type": "code",
      "metadata": {
        "id": "keh8WL0Sx0E9",
        "colab_type": "code",
        "colab": {}
      },
      "source": [
        "for movie in non_sequel_movies:\n",
        "  try:\n",
        "    page = wikipedia.page(movie)\n",
        "  except:\n",
        "    try:\n",
        "      page = wikipedia.page(movie + \"(film)\")\n",
        "    except:\n",
        "      print(movie)"
      ],
      "execution_count": 0,
      "outputs": []
    },
    {
      "cell_type": "code",
      "metadata": {
        "id": "d_RVo6_0z5YO",
        "colab_type": "code",
        "colab": {}
      },
      "source": [
        ""
      ],
      "execution_count": 0,
      "outputs": []
    }
  ]
}