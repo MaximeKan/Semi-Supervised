{
  "nbformat": 4,
  "nbformat_minor": 0,
  "metadata": {
    "colab": {
      "name": "Identify_sequels.ipynb",
      "version": "0.3.2",
      "provenance": []
    },
    "kernelspec": {
      "name": "python3",
      "display_name": "Python 3"
    }
  },
  "cells": [
    {
      "cell_type": "code",
      "metadata": {
        "id": "UKTOXPP3T_Px",
        "colab_type": "code",
        "colab": {}
      },
      "source": [
        "%%capture\n",
        "!pip install wikipedia -q\n",
        "import wikipedia\n",
        "import requests\n",
        "import pandas as pd\n",
        "import numpy as np\n",
        "import matplotlib.pyplot as plt"
      ],
      "execution_count": 0,
      "outputs": []
    },
    {
      "cell_type": "code",
      "metadata": {
        "id": "pDnB9ksS7cVA",
        "colab_type": "code",
        "colab": {}
      },
      "source": [
        "%matplotlib inline"
      ],
      "execution_count": 0,
      "outputs": []
    },
    {
      "cell_type": "code",
      "metadata": {
        "id": "cLs6oQw5jRhe",
        "colab_type": "code",
        "colab": {}
      },
      "source": [
        "S = requests.Session()\n",
        "\n",
        "URL = \"https://en.wikipedia.org/w/api.php\"\n",
        "\n",
        "PARAMS = {\n",
        "    \"action\": \"query\",\n",
        "    \"format\": \"json\",\n",
        "    \"titles\": \"List_of_film_sequels_by_box-office_improvement\",\n",
        "    \"prop\": \"links\",\n",
        "    \"pllimit\": 500\n",
        "}\n",
        "\n",
        "R = S.get(url=URL, params=PARAMS)\n",
        "DATA = R.json()\n",
        "\n",
        "PAGES = DATA[\"query\"][\"pages\"]\n",
        "\n",
        "sequels = []\n",
        "for k, v in PAGES.items():\n",
        "    for l in v[\"links\"]:\n",
        "        sequels.append(l[\"title\"])"
      ],
      "execution_count": 0,
      "outputs": []
    },
    {
      "cell_type": "code",
      "metadata": {
        "id": "1Y3ZWOVv_HGm",
        "colab_type": "code",
        "colab": {}
      },
      "source": [
        "first_movie_list = []\n",
        "sequel_movie_list = []\n",
        "for sequel in sequels:\n",
        "    page = wikipedia.page(sequel)\n",
        "    summary = page.summary\n",
        "    for first_movie in sequels:\n",
        "        if first_movie in summary and first_movie != sequel:\n",
        "            first_movie_list.append(first_movie)\n",
        "            sequel_movie_list.append(sequel)"
      ],
      "execution_count": 0,
      "outputs": []
    },
    {
      "cell_type": "code",
      "metadata": {
        "id": "UINR93CRCFu1",
        "colab_type": "code",
        "colab": {}
      },
      "source": [
        "%%capture\n",
        "! wget \"https://datasets.imdbws.com/title.principals.tsv.gz\"\n",
        "! wget \"https://datasets.imdbws.com/title.basics.tsv.gz\"\n",
        "! wget \"https://datasets.imdbws.com/name.basics.tsv.gz\"\n",
        "\n",
        "! gunzip title.principals.tsv.gz\n",
        "! gunzip title.basics.tsv.gz\n",
        "! gunzip name.basics.tsv.gz"
      ],
      "execution_count": 0,
      "outputs": []
    },
    {
      "cell_type": "code",
      "metadata": {
        "id": "PDVb4cXuln8V",
        "colab_type": "code",
        "colab": {}
      },
      "source": [
        "cast = pd.read_csv('title.principals.tsv', sep='\\t', na_values = \"\\\\N\", keep_default_na = False, \n",
        "                   usecols = ['tconst','ordering','nconst','category'],\n",
        "                   dtype = {'tconst': str, 'ordering': str, 'nconst': str, 'category': str})\n",
        "titles = pd.read_csv('title.basics.tsv', sep='\\t', na_values = \"\\\\N\", keep_default_na = False,\n",
        "                     usecols = ['tconst','primaryTitle','startYear','titleType','genres'],\n",
        "                    dtype = {'tconst': str, 'primaryTitle': str, 'startYear': 'Int64','titleType':str, 'genres': str})\n",
        "names = pd.read_csv('name.basics.tsv', sep='\\t', na_values = \"\\\\N\", keep_default_na = False,\n",
        "                    usecols = ['nconst','primaryName'], \n",
        "                    dtype = {'nconst': str, 'primaryName': str})"
      ],
      "execution_count": 0,
      "outputs": []
    },
    {
      "cell_type": "code",
      "metadata": {
        "id": "4aD7MGfGncWQ",
        "colab_type": "code",
        "colab": {}
      },
      "source": [
        "def remove_film_year(sequel):\n",
        "  if \"(\" in sequel:\n",
        "    i = sequel.index(\"(\")\n",
        "    return sequel[0:i-1]\n",
        "  return sequel"
      ],
      "execution_count": 0,
      "outputs": []
    },
    {
      "cell_type": "code",
      "metadata": {
        "id": "2a2zMvM9tZhM",
        "colab_type": "code",
        "colab": {}
      },
      "source": [
        "first_movie_list = [remove_film_year(first_movie) for first_movie in first_movie_list]\n",
        "sequel_movie_list = [remove_film_year(sequel) for sequel in sequel_movie_list]"
      ],
      "execution_count": 0,
      "outputs": []
    },
    {
      "cell_type": "code",
      "metadata": {
        "id": "mNJ3kBovLtNR",
        "colab_type": "code",
        "colab": {
          "base_uri": "https://localhost:8080/",
          "height": 204
        },
        "outputId": "f8843f5e-ebc5-438f-b823-3cfd1cc75bcc"
      },
      "source": [
        "sequel_pairs = pd.DataFrame({\"first_movie\" : first_movie_list, \"sequel\" : sequel_movie_list})\n",
        "sequel_pairs.head()"
      ],
      "execution_count": 8,
      "outputs": [
        {
          "output_type": "execute_result",
          "data": {
            "text/html": [
              "<div>\n",
              "<style scoped>\n",
              "    .dataframe tbody tr th:only-of-type {\n",
              "        vertical-align: middle;\n",
              "    }\n",
              "\n",
              "    .dataframe tbody tr th {\n",
              "        vertical-align: top;\n",
              "    }\n",
              "\n",
              "    .dataframe thead th {\n",
              "        text-align: right;\n",
              "    }\n",
              "</style>\n",
              "<table border=\"1\" class=\"dataframe\">\n",
              "  <thead>\n",
              "    <tr style=\"text-align: right;\">\n",
              "      <th></th>\n",
              "      <th>first_movie</th>\n",
              "      <th>sequel</th>\n",
              "    </tr>\n",
              "  </thead>\n",
              "  <tbody>\n",
              "    <tr>\n",
              "      <th>0</th>\n",
              "      <td>22 Jump Street</td>\n",
              "      <td>21 Jump Street</td>\n",
              "    </tr>\n",
              "    <tr>\n",
              "      <th>1</th>\n",
              "      <td>For a Few Dollars More</td>\n",
              "      <td>A Fistful of Dollars</td>\n",
              "    </tr>\n",
              "    <tr>\n",
              "      <th>2</th>\n",
              "      <td>A Nightmare on Elm Street 2: Freddy's Revenge</td>\n",
              "      <td>A Nightmare on Elm Street</td>\n",
              "    </tr>\n",
              "    <tr>\n",
              "      <th>3</th>\n",
              "      <td>A Nightmare on Elm Street</td>\n",
              "      <td>A Nightmare on Elm Street 2: Freddy's Revenge</td>\n",
              "    </tr>\n",
              "    <tr>\n",
              "      <th>4</th>\n",
              "      <td>A Nightmare on Elm Street 3: Dream Warriors</td>\n",
              "      <td>A Nightmare on Elm Street 2: Freddy's Revenge</td>\n",
              "    </tr>\n",
              "  </tbody>\n",
              "</table>\n",
              "</div>"
            ],
            "text/plain": [
              "                                     first_movie                                         sequel\n",
              "0                                 22 Jump Street                                 21 Jump Street\n",
              "1                         For a Few Dollars More                           A Fistful of Dollars\n",
              "2  A Nightmare on Elm Street 2: Freddy's Revenge                      A Nightmare on Elm Street\n",
              "3                      A Nightmare on Elm Street  A Nightmare on Elm Street 2: Freddy's Revenge\n",
              "4    A Nightmare on Elm Street 3: Dream Warriors  A Nightmare on Elm Street 2: Freddy's Revenge"
            ]
          },
          "metadata": {
            "tags": []
          },
          "execution_count": 8
        }
      ]
    },
    {
      "cell_type": "code",
      "metadata": {
        "id": "pFKRL9oKXfuR",
        "colab_type": "code",
        "colab": {}
      },
      "source": [
        "titles = titles[titles.titleType == 'movie']\n",
        "cast = cast[cast.category.isin(['director','actor','actress'])]"
      ],
      "execution_count": 0,
      "outputs": []
    },
    {
      "cell_type": "code",
      "metadata": {
        "id": "C4QHHcJPtkyo",
        "colab_type": "code",
        "colab": {}
      },
      "source": [
        "def prepare_data(first_movie_list, sequel_movie_list):\n",
        "  movie_titles = titles[titles.primaryTitle.isin(first_movie_list + sequel_movie_list)].copy()\n",
        "  movie_titles.drop_duplicates(subset = 'primaryTitle', keep = False, inplace = True)\n",
        "  movie_titles = pd.merge(movie_titles, cast, on = 'tconst')\n",
        "  movie_titles = pd.merge(movie_titles, names, on = 'nconst')\n",
        "  movie_titles = movie_titles.drop(columns = ['titleType','tconst','nconst'])\n",
        "  \n",
        "  movie_information = movie_titles.replace(['actor','actress','director'], ['act','act','dir'])\n",
        "  movie_information['role'] = movie_information.category + movie_information.ordering\n",
        "  movie_summary = pd.pivot_table(movie_information, columns = 'role', values = 'primaryName', index = ['primaryTitle','startYear','genres'], aggfunc = 'first') #add genres back\n",
        "  movie_summary = movie_summary[['act1','act2','act3','act4','dir5']].reset_index()\n",
        "  \n",
        "  first_movie_titles = movie_summary[movie_summary.primaryTitle.isin(first_movie_list)]\n",
        "  first_movie_titles = first_movie_titles.add_prefix('fm_')\n",
        "  sequel_movie_titles = movie_summary[movie_summary.primaryTitle.isin(sequel_movie_list)]\n",
        "  sequel_movie_titles = sequel_movie_titles.add_prefix('s_')\n",
        "  \n",
        "  sequel_pairs = pd.DataFrame({\"first_movie\" : first_movie_list, \"sequel\" : sequel_movie_list})\n",
        "  \n",
        "  sequel_table = pd.merge(pd.merge(first_movie_titles, sequel_pairs, left_on = 'fm_primaryTitle', right_on = 'first_movie', how = 'inner'),\n",
        "                        sequel_movie_titles, left_on = 'sequel', right_on = 's_primaryTitle', how = 'inner')\n",
        "  sequel_table = sequel_table[sequel_table.fm_startYear <= sequel_table.s_startYear].copy()\n",
        "  sequel_table.drop(columns = ['first_movie','sequel'], inplace = True)\n",
        "\n",
        "  return sequel_table"
      ],
      "execution_count": 0,
      "outputs": []
    },
    {
      "cell_type": "code",
      "metadata": {
        "id": "1Fd0Ez4eUZFb",
        "colab_type": "code",
        "colab": {}
      },
      "source": [
        "sequel_table = prepare_data(first_movie_list, sequel_movie_list)"
      ],
      "execution_count": 0,
      "outputs": []
    },
    {
      "cell_type": "code",
      "metadata": {
        "id": "4ocGJ6BOV2Sy",
        "colab_type": "code",
        "colab": {
          "base_uri": "https://localhost:8080/",
          "height": 377
        },
        "outputId": "82f185ec-57fe-4b99-ed7b-9d6e8f06c65b"
      },
      "source": [
        "sequel_table.head()"
      ],
      "execution_count": 12,
      "outputs": [
        {
          "output_type": "execute_result",
          "data": {
            "text/html": [
              "<div>\n",
              "<style scoped>\n",
              "    .dataframe tbody tr th:only-of-type {\n",
              "        vertical-align: middle;\n",
              "    }\n",
              "\n",
              "    .dataframe tbody tr th {\n",
              "        vertical-align: top;\n",
              "    }\n",
              "\n",
              "    .dataframe thead th {\n",
              "        text-align: right;\n",
              "    }\n",
              "</style>\n",
              "<table border=\"1\" class=\"dataframe\">\n",
              "  <thead>\n",
              "    <tr style=\"text-align: right;\">\n",
              "      <th></th>\n",
              "      <th>fm_primaryTitle</th>\n",
              "      <th>fm_startYear</th>\n",
              "      <th>fm_genres</th>\n",
              "      <th>fm_act1</th>\n",
              "      <th>fm_act2</th>\n",
              "      <th>fm_act3</th>\n",
              "      <th>fm_act4</th>\n",
              "      <th>fm_dir5</th>\n",
              "      <th>s_primaryTitle</th>\n",
              "      <th>s_startYear</th>\n",
              "      <th>s_genres</th>\n",
              "      <th>s_act1</th>\n",
              "      <th>s_act2</th>\n",
              "      <th>s_act3</th>\n",
              "      <th>s_act4</th>\n",
              "      <th>s_dir5</th>\n",
              "    </tr>\n",
              "  </thead>\n",
              "  <tbody>\n",
              "    <tr>\n",
              "      <th>1</th>\n",
              "      <td>A Fistful of Dollars</td>\n",
              "      <td>1964</td>\n",
              "      <td>Drama,Western</td>\n",
              "      <td>Clint Eastwood</td>\n",
              "      <td>Gian Maria Volontè</td>\n",
              "      <td>Marianne Koch</td>\n",
              "      <td>Wolfgang Lukschy</td>\n",
              "      <td>Sergio Leone</td>\n",
              "      <td>For a Few Dollars More</td>\n",
              "      <td>1965</td>\n",
              "      <td>Western</td>\n",
              "      <td>Clint Eastwood</td>\n",
              "      <td>Lee Van Cleef</td>\n",
              "      <td>Gian Maria Volontè</td>\n",
              "      <td>Mario Brega</td>\n",
              "      <td>Sergio Leone</td>\n",
              "    </tr>\n",
              "    <tr>\n",
              "      <th>3</th>\n",
              "      <td>A Nightmare on Elm Street 3: Dream Warriors</td>\n",
              "      <td>1987</td>\n",
              "      <td>Fantasy,Horror</td>\n",
              "      <td>Heather Langenkamp</td>\n",
              "      <td>Robert Englund</td>\n",
              "      <td>Craig Wasson</td>\n",
              "      <td>Patricia Arquette</td>\n",
              "      <td>Chuck Russell</td>\n",
              "      <td>A Nightmare on Elm Street 4: The Dream Master</td>\n",
              "      <td>1988</td>\n",
              "      <td>Horror</td>\n",
              "      <td>Robert Englund</td>\n",
              "      <td>Rodney Eastman</td>\n",
              "      <td>John Beckman</td>\n",
              "      <td>Kisha Brackel</td>\n",
              "      <td>Renny Harlin</td>\n",
              "    </tr>\n",
              "    <tr>\n",
              "      <th>5</th>\n",
              "      <td>Ace Ventura: Pet Detective</td>\n",
              "      <td>1994</td>\n",
              "      <td>Comedy</td>\n",
              "      <td>Jim Carrey</td>\n",
              "      <td>Courteney Cox</td>\n",
              "      <td>Sean Young</td>\n",
              "      <td>Tone Loc</td>\n",
              "      <td>Tom Shadyac</td>\n",
              "      <td>Ace Ventura: When Nature Calls</td>\n",
              "      <td>1995</td>\n",
              "      <td>Adventure,Comedy,Crime</td>\n",
              "      <td>Jim Carrey</td>\n",
              "      <td>Ian McNeice</td>\n",
              "      <td>Simon Callow</td>\n",
              "      <td>Maynard Eziashi</td>\n",
              "      <td>Steve Oedekerk</td>\n",
              "    </tr>\n",
              "    <tr>\n",
              "      <th>7</th>\n",
              "      <td>Alvin and the Chipmunks</td>\n",
              "      <td>2007</td>\n",
              "      <td>Animation,Comedy,Family</td>\n",
              "      <td>Jason Lee</td>\n",
              "      <td>Ross Bagdasarian Jr.</td>\n",
              "      <td>Janice Karman</td>\n",
              "      <td>David Cross</td>\n",
              "      <td>Tim Hill</td>\n",
              "      <td>Alvin and the Chipmunks: The Squeakquel</td>\n",
              "      <td>2009</td>\n",
              "      <td>Animation,Comedy,Family</td>\n",
              "      <td>Jason Lee</td>\n",
              "      <td>Zachary Levi</td>\n",
              "      <td>David Cross</td>\n",
              "      <td>Justin Long</td>\n",
              "      <td>Betty Thomas</td>\n",
              "    </tr>\n",
              "    <tr>\n",
              "      <th>9</th>\n",
              "      <td>Anchorman: The Legend of Ron Burgundy</td>\n",
              "      <td>2004</td>\n",
              "      <td>Comedy</td>\n",
              "      <td>Will Ferrell</td>\n",
              "      <td>Christina Applegate</td>\n",
              "      <td>Steve Carell</td>\n",
              "      <td>Paul Rudd</td>\n",
              "      <td>Adam McKay</td>\n",
              "      <td>Anchorman 2: The Legend Continues</td>\n",
              "      <td>2013</td>\n",
              "      <td>Comedy</td>\n",
              "      <td>Will Ferrell</td>\n",
              "      <td>Christina Applegate</td>\n",
              "      <td>Paul Rudd</td>\n",
              "      <td>Steve Carell</td>\n",
              "      <td>Adam McKay</td>\n",
              "    </tr>\n",
              "  </tbody>\n",
              "</table>\n",
              "</div>"
            ],
            "text/plain": [
              "                               fm_primaryTitle  ...          s_dir5\n",
              "1                         A Fistful of Dollars  ...    Sergio Leone\n",
              "3  A Nightmare on Elm Street 3: Dream Warriors  ...    Renny Harlin\n",
              "5                   Ace Ventura: Pet Detective  ...  Steve Oedekerk\n",
              "7                      Alvin and the Chipmunks  ...    Betty Thomas\n",
              "9        Anchorman: The Legend of Ron Burgundy  ...      Adam McKay\n",
              "\n",
              "[5 rows x 16 columns]"
            ]
          },
          "metadata": {
            "tags": []
          },
          "execution_count": 12
        }
      ]
    },
    {
      "cell_type": "code",
      "metadata": {
        "id": "QNOifYKVKQTa",
        "colab_type": "code",
        "colab": {}
      },
      "source": [
        "non_sequel_movies = ['The Searchers','Chisum','She Wore a Yellow Ribbon','There Will Be Blood','Phantom Thread','Little Big Man',\n",
        "                     'Bonnie and Clyde','Out of Africa','Silkwood','Florence Foster Jenkins','The Shawshank Redemption',\n",
        "                     'Escape from Alcatraz','Little Big Horn','American Beauty','An American in Paris']"
      ],
      "execution_count": 0,
      "outputs": []
    },
    {
      "cell_type": "code",
      "metadata": {
        "id": "gfsXu77iOgmp",
        "colab_type": "code",
        "colab": {}
      },
      "source": [
        "ns_first_movie_list = []\n",
        "ns_sequel_movie_list = []\n",
        "for first_movie in non_sequel_movies:\n",
        "  for sequel_movie in non_sequel_movies:\n",
        "    if first_movie != sequel_movie:\n",
        "      ns_first_movie_list.append(first_movie)\n",
        "      ns_sequel_movie_list.append(sequel_movie)"
      ],
      "execution_count": 0,
      "outputs": []
    },
    {
      "cell_type": "code",
      "metadata": {
        "id": "LLUvbEbPJ-78",
        "colab_type": "code",
        "colab": {}
      },
      "source": [
        "non_sequel_table = prepare_data(ns_first_movie_list, ns_sequel_movie_list)"
      ],
      "execution_count": 0,
      "outputs": []
    },
    {
      "cell_type": "code",
      "metadata": {
        "id": "079VhRMlWVFT",
        "colab_type": "code",
        "colab": {
          "base_uri": "https://localhost:8080/",
          "height": 360
        },
        "outputId": "cbb24fdc-ca0e-4c4a-cf2a-87c91579ea9b"
      },
      "source": [
        "non_sequel_table.head()"
      ],
      "execution_count": 16,
      "outputs": [
        {
          "output_type": "execute_result",
          "data": {
            "text/html": [
              "<div>\n",
              "<style scoped>\n",
              "    .dataframe tbody tr th:only-of-type {\n",
              "        vertical-align: middle;\n",
              "    }\n",
              "\n",
              "    .dataframe tbody tr th {\n",
              "        vertical-align: top;\n",
              "    }\n",
              "\n",
              "    .dataframe thead th {\n",
              "        text-align: right;\n",
              "    }\n",
              "</style>\n",
              "<table border=\"1\" class=\"dataframe\">\n",
              "  <thead>\n",
              "    <tr style=\"text-align: right;\">\n",
              "      <th></th>\n",
              "      <th>fm_primaryTitle</th>\n",
              "      <th>fm_startYear</th>\n",
              "      <th>fm_genres</th>\n",
              "      <th>fm_act1</th>\n",
              "      <th>fm_act2</th>\n",
              "      <th>fm_act3</th>\n",
              "      <th>fm_act4</th>\n",
              "      <th>fm_dir5</th>\n",
              "      <th>s_primaryTitle</th>\n",
              "      <th>s_startYear</th>\n",
              "      <th>s_genres</th>\n",
              "      <th>s_act1</th>\n",
              "      <th>s_act2</th>\n",
              "      <th>s_act3</th>\n",
              "      <th>s_act4</th>\n",
              "      <th>s_dir5</th>\n",
              "    </tr>\n",
              "  </thead>\n",
              "  <tbody>\n",
              "    <tr>\n",
              "      <th>1</th>\n",
              "      <td>An American in Paris</td>\n",
              "      <td>1951</td>\n",
              "      <td>Drama,Musical,Romance</td>\n",
              "      <td>Gene Kelly</td>\n",
              "      <td>Leslie Caron</td>\n",
              "      <td>Oscar Levant</td>\n",
              "      <td>Georges Guétary</td>\n",
              "      <td>Vincente Minnelli</td>\n",
              "      <td>The Searchers</td>\n",
              "      <td>1956</td>\n",
              "      <td>Adventure,Drama,Western</td>\n",
              "      <td>John Wayne</td>\n",
              "      <td>Jeffrey Hunter</td>\n",
              "      <td>Vera Miles</td>\n",
              "      <td>Ward Bond</td>\n",
              "      <td>John Ford</td>\n",
              "    </tr>\n",
              "    <tr>\n",
              "      <th>6</th>\n",
              "      <td>Little Big Horn</td>\n",
              "      <td>1951</td>\n",
              "      <td>Western</td>\n",
              "      <td>Lloyd Bridges</td>\n",
              "      <td>John Ireland</td>\n",
              "      <td>Marie Windsor</td>\n",
              "      <td>Reed Hadley</td>\n",
              "      <td>Charles Marquis Warren</td>\n",
              "      <td>The Searchers</td>\n",
              "      <td>1956</td>\n",
              "      <td>Adventure,Drama,Western</td>\n",
              "      <td>John Wayne</td>\n",
              "      <td>Jeffrey Hunter</td>\n",
              "      <td>Vera Miles</td>\n",
              "      <td>Ward Bond</td>\n",
              "      <td>John Ford</td>\n",
              "    </tr>\n",
              "    <tr>\n",
              "      <th>10</th>\n",
              "      <td>She Wore a Yellow Ribbon</td>\n",
              "      <td>1949</td>\n",
              "      <td>Western</td>\n",
              "      <td>John Wayne</td>\n",
              "      <td>Joanne Dru</td>\n",
              "      <td>John Agar</td>\n",
              "      <td>Ben Johnson</td>\n",
              "      <td>John Ford</td>\n",
              "      <td>The Searchers</td>\n",
              "      <td>1956</td>\n",
              "      <td>Adventure,Drama,Western</td>\n",
              "      <td>John Wayne</td>\n",
              "      <td>Jeffrey Hunter</td>\n",
              "      <td>Vera Miles</td>\n",
              "      <td>Ward Bond</td>\n",
              "      <td>John Ford</td>\n",
              "    </tr>\n",
              "    <tr>\n",
              "      <th>15</th>\n",
              "      <td>An American in Paris</td>\n",
              "      <td>1951</td>\n",
              "      <td>Drama,Musical,Romance</td>\n",
              "      <td>Gene Kelly</td>\n",
              "      <td>Leslie Caron</td>\n",
              "      <td>Oscar Levant</td>\n",
              "      <td>Georges Guétary</td>\n",
              "      <td>Vincente Minnelli</td>\n",
              "      <td>Chisum</td>\n",
              "      <td>1970</td>\n",
              "      <td>Biography,Western</td>\n",
              "      <td>John Wayne</td>\n",
              "      <td>Forrest Tucker</td>\n",
              "      <td>Christopher George</td>\n",
              "      <td>Ben Johnson</td>\n",
              "      <td>Andrew V. McLaglen</td>\n",
              "    </tr>\n",
              "    <tr>\n",
              "      <th>16</th>\n",
              "      <td>Bonnie and Clyde</td>\n",
              "      <td>1967</td>\n",
              "      <td>Action,Biography,Crime</td>\n",
              "      <td>Warren Beatty</td>\n",
              "      <td>Faye Dunaway</td>\n",
              "      <td>Michael J. Pollard</td>\n",
              "      <td>Gene Hackman</td>\n",
              "      <td>Arthur Penn</td>\n",
              "      <td>Chisum</td>\n",
              "      <td>1970</td>\n",
              "      <td>Biography,Western</td>\n",
              "      <td>John Wayne</td>\n",
              "      <td>Forrest Tucker</td>\n",
              "      <td>Christopher George</td>\n",
              "      <td>Ben Johnson</td>\n",
              "      <td>Andrew V. McLaglen</td>\n",
              "    </tr>\n",
              "  </tbody>\n",
              "</table>\n",
              "</div>"
            ],
            "text/plain": [
              "             fm_primaryTitle  fm_startYear  ...       s_act4              s_dir5\n",
              "1       An American in Paris          1951  ...    Ward Bond           John Ford\n",
              "6            Little Big Horn          1951  ...    Ward Bond           John Ford\n",
              "10  She Wore a Yellow Ribbon          1949  ...    Ward Bond           John Ford\n",
              "15      An American in Paris          1951  ...  Ben Johnson  Andrew V. McLaglen\n",
              "16          Bonnie and Clyde          1967  ...  Ben Johnson  Andrew V. McLaglen\n",
              "\n",
              "[5 rows x 16 columns]"
            ]
          },
          "metadata": {
            "tags": []
          },
          "execution_count": 16
        }
      ]
    },
    {
      "cell_type": "code",
      "metadata": {
        "id": "YoVq5KdBtHBy",
        "colab_type": "code",
        "colab": {}
      },
      "source": [
        "actors_for_unsupervised = ['Al Pacino','Jack Nicholson','Jennifer Lawrence','Jodie Foster']\n",
        "directors_for_unsupervised = ['Alfred Hitchcock','Steven Spielberg','George Lucas','David Lean']\n",
        "names_for_unsupervised = actors_for_unsupervised + directors_for_unsupervised"
      ],
      "execution_count": 0,
      "outputs": []
    },
    {
      "cell_type": "code",
      "metadata": {
        "id": "ZVl8yBe-t8GQ",
        "colab_type": "code",
        "colab": {}
      },
      "source": [
        "cast_movies = pd.merge(names[names.primaryName.isin(names_for_unsupervised)],cast, on = 'nconst', how = 'inner')"
      ],
      "execution_count": 0,
      "outputs": []
    },
    {
      "cell_type": "code",
      "metadata": {
        "id": "OnUTb7hivzsJ",
        "colab_type": "code",
        "colab": {
          "base_uri": "https://localhost:8080/",
          "height": 204
        },
        "outputId": "05cb1b89-50e0-4e8a-ee76-516dcc828298"
      },
      "source": [
        "cast_titles = pd.merge(cast_movies, titles, on = 'tconst', how = 'inner')\n",
        "cast_titles.head()"
      ],
      "execution_count": 19,
      "outputs": [
        {
          "output_type": "execute_result",
          "data": {
            "text/html": [
              "<div>\n",
              "<style scoped>\n",
              "    .dataframe tbody tr th:only-of-type {\n",
              "        vertical-align: middle;\n",
              "    }\n",
              "\n",
              "    .dataframe tbody tr th {\n",
              "        vertical-align: top;\n",
              "    }\n",
              "\n",
              "    .dataframe thead th {\n",
              "        text-align: right;\n",
              "    }\n",
              "</style>\n",
              "<table border=\"1\" class=\"dataframe\">\n",
              "  <thead>\n",
              "    <tr style=\"text-align: right;\">\n",
              "      <th></th>\n",
              "      <th>nconst</th>\n",
              "      <th>primaryName</th>\n",
              "      <th>tconst</th>\n",
              "      <th>ordering</th>\n",
              "      <th>category</th>\n",
              "      <th>titleType</th>\n",
              "      <th>primaryTitle</th>\n",
              "      <th>startYear</th>\n",
              "      <th>genres</th>\n",
              "    </tr>\n",
              "  </thead>\n",
              "  <tbody>\n",
              "    <tr>\n",
              "      <th>0</th>\n",
              "      <td>nm0000033</td>\n",
              "      <td>Alfred Hitchcock</td>\n",
              "      <td>tt0013444</td>\n",
              "      <td>3</td>\n",
              "      <td>director</td>\n",
              "      <td>movie</td>\n",
              "      <td>Number 13</td>\n",
              "      <td>1922</td>\n",
              "      <td>Comedy</td>\n",
              "    </tr>\n",
              "    <tr>\n",
              "      <th>1</th>\n",
              "      <td>nm0000033</td>\n",
              "      <td>Alfred Hitchcock</td>\n",
              "      <td>tt0016127</td>\n",
              "      <td>5</td>\n",
              "      <td>director</td>\n",
              "      <td>movie</td>\n",
              "      <td>The Mountain Eagle</td>\n",
              "      <td>1926</td>\n",
              "      <td>Romance,Thriller</td>\n",
              "    </tr>\n",
              "    <tr>\n",
              "      <th>2</th>\n",
              "      <td>nm0000033</td>\n",
              "      <td>Alfred Hitchcock</td>\n",
              "      <td>tt0016230</td>\n",
              "      <td>5</td>\n",
              "      <td>director</td>\n",
              "      <td>movie</td>\n",
              "      <td>The Pleasure Garden</td>\n",
              "      <td>1925</td>\n",
              "      <td>Drama,Romance</td>\n",
              "    </tr>\n",
              "    <tr>\n",
              "      <th>3</th>\n",
              "      <td>nm0000033</td>\n",
              "      <td>Alfred Hitchcock</td>\n",
              "      <td>tt0017075</td>\n",
              "      <td>5</td>\n",
              "      <td>director</td>\n",
              "      <td>movie</td>\n",
              "      <td>The Lodger: A Story of the London Fog</td>\n",
              "      <td>1927</td>\n",
              "      <td>Crime,Drama,Mystery</td>\n",
              "    </tr>\n",
              "    <tr>\n",
              "      <th>4</th>\n",
              "      <td>nm0000033</td>\n",
              "      <td>Alfred Hitchcock</td>\n",
              "      <td>tt0017825</td>\n",
              "      <td>5</td>\n",
              "      <td>director</td>\n",
              "      <td>movie</td>\n",
              "      <td>When Boys Leave Home</td>\n",
              "      <td>1927</td>\n",
              "      <td>Adventure,Drama,Thriller</td>\n",
              "    </tr>\n",
              "  </tbody>\n",
              "</table>\n",
              "</div>"
            ],
            "text/plain": [
              "      nconst       primaryName  ... startYear                    genres\n",
              "0  nm0000033  Alfred Hitchcock  ...      1922                    Comedy\n",
              "1  nm0000033  Alfred Hitchcock  ...      1926          Romance,Thriller\n",
              "2  nm0000033  Alfred Hitchcock  ...      1925             Drama,Romance\n",
              "3  nm0000033  Alfred Hitchcock  ...      1927       Crime,Drama,Mystery\n",
              "4  nm0000033  Alfred Hitchcock  ...      1927  Adventure,Drama,Thriller\n",
              "\n",
              "[5 rows x 9 columns]"
            ]
          },
          "metadata": {
            "tags": []
          },
          "execution_count": 19
        }
      ]
    },
    {
      "cell_type": "code",
      "metadata": {
        "id": "jmtu07RyxII6",
        "colab_type": "code",
        "colab": {}
      },
      "source": [
        "unlabeled_first_movie_list = []\n",
        "unlabeled_sequel_movie_list = []\n",
        "\n",
        "for name in names_for_unsupervised:\n",
        "  name_movies = cast_titles[cast_titles.primaryName == name].primaryTitle.unique()\n",
        "  for first_movie in name_movies:\n",
        "    for sequel_movie in name_movies:\n",
        "      if first_movie != sequel_movie:\n",
        "        unlabeled_first_movie_list.append(first_movie)\n",
        "        unlabeled_sequel_movie_list.append(sequel_movie)"
      ],
      "execution_count": 0,
      "outputs": []
    },
    {
      "cell_type": "code",
      "metadata": {
        "id": "cXOTfPzNFIiW",
        "colab_type": "code",
        "colab": {}
      },
      "source": [
        "unlabeled_table = prepare_data(unlabeled_first_movie_list, unlabeled_sequel_movie_list)"
      ],
      "execution_count": 0,
      "outputs": []
    },
    {
      "cell_type": "code",
      "metadata": {
        "id": "mHOfNIEgGzab",
        "colab_type": "code",
        "colab": {
          "base_uri": "https://localhost:8080/",
          "height": 360
        },
        "outputId": "7f7ff7ac-0fe6-4bc6-d06f-dc45a36bff03"
      },
      "source": [
        "unlabeled_table.head()"
      ],
      "execution_count": 22,
      "outputs": [
        {
          "output_type": "execute_result",
          "data": {
            "text/html": [
              "<div>\n",
              "<style scoped>\n",
              "    .dataframe tbody tr th:only-of-type {\n",
              "        vertical-align: middle;\n",
              "    }\n",
              "\n",
              "    .dataframe tbody tr th {\n",
              "        vertical-align: top;\n",
              "    }\n",
              "\n",
              "    .dataframe thead th {\n",
              "        text-align: right;\n",
              "    }\n",
              "</style>\n",
              "<table border=\"1\" class=\"dataframe\">\n",
              "  <thead>\n",
              "    <tr style=\"text-align: right;\">\n",
              "      <th></th>\n",
              "      <th>fm_primaryTitle</th>\n",
              "      <th>fm_startYear</th>\n",
              "      <th>fm_genres</th>\n",
              "      <th>fm_act1</th>\n",
              "      <th>fm_act2</th>\n",
              "      <th>fm_act3</th>\n",
              "      <th>fm_act4</th>\n",
              "      <th>fm_dir5</th>\n",
              "      <th>s_primaryTitle</th>\n",
              "      <th>s_startYear</th>\n",
              "      <th>s_genres</th>\n",
              "      <th>s_act1</th>\n",
              "      <th>s_act2</th>\n",
              "      <th>s_act3</th>\n",
              "      <th>s_act4</th>\n",
              "      <th>s_dir5</th>\n",
              "    </tr>\n",
              "  </thead>\n",
              "  <tbody>\n",
              "    <tr>\n",
              "      <th>45</th>\n",
              "      <td>The Panic in Needle Park</td>\n",
              "      <td>1971</td>\n",
              "      <td>Drama</td>\n",
              "      <td>Al Pacino</td>\n",
              "      <td>Kitty Winn</td>\n",
              "      <td>Alan Vint</td>\n",
              "      <td>Richard Bright</td>\n",
              "      <td>Jerry Schatzberg</td>\n",
              "      <td>Serpico</td>\n",
              "      <td>1973</td>\n",
              "      <td>Biography,Crime,Drama</td>\n",
              "      <td>Al Pacino</td>\n",
              "      <td>John Randolph</td>\n",
              "      <td>Jack Kehoe</td>\n",
              "      <td>Biff McGuire</td>\n",
              "      <td>Sidney Lumet</td>\n",
              "    </tr>\n",
              "    <tr>\n",
              "      <th>63</th>\n",
              "      <td>Serpico</td>\n",
              "      <td>1973</td>\n",
              "      <td>Biography,Crime,Drama</td>\n",
              "      <td>Al Pacino</td>\n",
              "      <td>John Randolph</td>\n",
              "      <td>Jack Kehoe</td>\n",
              "      <td>Biff McGuire</td>\n",
              "      <td>Sidney Lumet</td>\n",
              "      <td>The Godfather: Part II</td>\n",
              "      <td>1974</td>\n",
              "      <td>Crime,Drama</td>\n",
              "      <td>Al Pacino</td>\n",
              "      <td>Robert De Niro</td>\n",
              "      <td>Robert Duvall</td>\n",
              "      <td>Diane Keaton</td>\n",
              "      <td>Francis Ford Coppola</td>\n",
              "    </tr>\n",
              "    <tr>\n",
              "      <th>69</th>\n",
              "      <td>The Panic in Needle Park</td>\n",
              "      <td>1971</td>\n",
              "      <td>Drama</td>\n",
              "      <td>Al Pacino</td>\n",
              "      <td>Kitty Winn</td>\n",
              "      <td>Alan Vint</td>\n",
              "      <td>Richard Bright</td>\n",
              "      <td>Jerry Schatzberg</td>\n",
              "      <td>The Godfather: Part II</td>\n",
              "      <td>1974</td>\n",
              "      <td>Crime,Drama</td>\n",
              "      <td>Al Pacino</td>\n",
              "      <td>Robert De Niro</td>\n",
              "      <td>Robert Duvall</td>\n",
              "      <td>Diane Keaton</td>\n",
              "      <td>Francis Ford Coppola</td>\n",
              "    </tr>\n",
              "    <tr>\n",
              "      <th>86</th>\n",
              "      <td>Serpico</td>\n",
              "      <td>1973</td>\n",
              "      <td>Biography,Crime,Drama</td>\n",
              "      <td>Al Pacino</td>\n",
              "      <td>John Randolph</td>\n",
              "      <td>Jack Kehoe</td>\n",
              "      <td>Biff McGuire</td>\n",
              "      <td>Sidney Lumet</td>\n",
              "      <td>Dog Day Afternoon</td>\n",
              "      <td>1975</td>\n",
              "      <td>Biography,Crime,Drama</td>\n",
              "      <td>Al Pacino</td>\n",
              "      <td>John Cazale</td>\n",
              "      <td>Penelope Allen</td>\n",
              "      <td>Sully Boyar</td>\n",
              "      <td>Sidney Lumet</td>\n",
              "    </tr>\n",
              "    <tr>\n",
              "      <th>89</th>\n",
              "      <td>The Godfather: Part II</td>\n",
              "      <td>1974</td>\n",
              "      <td>Crime,Drama</td>\n",
              "      <td>Al Pacino</td>\n",
              "      <td>Robert De Niro</td>\n",
              "      <td>Robert Duvall</td>\n",
              "      <td>Diane Keaton</td>\n",
              "      <td>Francis Ford Coppola</td>\n",
              "      <td>Dog Day Afternoon</td>\n",
              "      <td>1975</td>\n",
              "      <td>Biography,Crime,Drama</td>\n",
              "      <td>Al Pacino</td>\n",
              "      <td>John Cazale</td>\n",
              "      <td>Penelope Allen</td>\n",
              "      <td>Sully Boyar</td>\n",
              "      <td>Sidney Lumet</td>\n",
              "    </tr>\n",
              "  </tbody>\n",
              "</table>\n",
              "</div>"
            ],
            "text/plain": [
              "             fm_primaryTitle  fm_startYear  ...        s_act4                s_dir5\n",
              "45  The Panic in Needle Park          1971  ...  Biff McGuire          Sidney Lumet\n",
              "63                   Serpico          1973  ...  Diane Keaton  Francis Ford Coppola\n",
              "69  The Panic in Needle Park          1971  ...  Diane Keaton  Francis Ford Coppola\n",
              "86                   Serpico          1973  ...   Sully Boyar          Sidney Lumet\n",
              "89    The Godfather: Part II          1974  ...   Sully Boyar          Sidney Lumet\n",
              "\n",
              "[5 rows x 16 columns]"
            ]
          },
          "metadata": {
            "tags": []
          },
          "execution_count": 22
        }
      ]
    },
    {
      "cell_type": "code",
      "metadata": {
        "id": "beVrA_euHWoz",
        "colab_type": "code",
        "colab": {
          "base_uri": "https://localhost:8080/",
          "height": 377
        },
        "outputId": "ee84badc-d27c-4321-dcc4-efb7771c4780"
      },
      "source": [
        "sequel_table['sequel'] = 1\n",
        "non_sequel_table['sequel'] = 0\n",
        "unlabeled_table['sequel'] = -1\n",
        "movie_pairs = pd.concat([sequel_table,non_sequel_table,unlabeled_table], axis = 0)\n",
        "movie_pairs.head()"
      ],
      "execution_count": 23,
      "outputs": [
        {
          "output_type": "execute_result",
          "data": {
            "text/html": [
              "<div>\n",
              "<style scoped>\n",
              "    .dataframe tbody tr th:only-of-type {\n",
              "        vertical-align: middle;\n",
              "    }\n",
              "\n",
              "    .dataframe tbody tr th {\n",
              "        vertical-align: top;\n",
              "    }\n",
              "\n",
              "    .dataframe thead th {\n",
              "        text-align: right;\n",
              "    }\n",
              "</style>\n",
              "<table border=\"1\" class=\"dataframe\">\n",
              "  <thead>\n",
              "    <tr style=\"text-align: right;\">\n",
              "      <th></th>\n",
              "      <th>fm_primaryTitle</th>\n",
              "      <th>fm_startYear</th>\n",
              "      <th>fm_genres</th>\n",
              "      <th>fm_act1</th>\n",
              "      <th>fm_act2</th>\n",
              "      <th>fm_act3</th>\n",
              "      <th>fm_act4</th>\n",
              "      <th>fm_dir5</th>\n",
              "      <th>s_primaryTitle</th>\n",
              "      <th>s_startYear</th>\n",
              "      <th>s_genres</th>\n",
              "      <th>s_act1</th>\n",
              "      <th>s_act2</th>\n",
              "      <th>s_act3</th>\n",
              "      <th>s_act4</th>\n",
              "      <th>s_dir5</th>\n",
              "      <th>sequel</th>\n",
              "    </tr>\n",
              "  </thead>\n",
              "  <tbody>\n",
              "    <tr>\n",
              "      <th>1</th>\n",
              "      <td>A Fistful of Dollars</td>\n",
              "      <td>1964</td>\n",
              "      <td>Drama,Western</td>\n",
              "      <td>Clint Eastwood</td>\n",
              "      <td>Gian Maria Volontè</td>\n",
              "      <td>Marianne Koch</td>\n",
              "      <td>Wolfgang Lukschy</td>\n",
              "      <td>Sergio Leone</td>\n",
              "      <td>For a Few Dollars More</td>\n",
              "      <td>1965</td>\n",
              "      <td>Western</td>\n",
              "      <td>Clint Eastwood</td>\n",
              "      <td>Lee Van Cleef</td>\n",
              "      <td>Gian Maria Volontè</td>\n",
              "      <td>Mario Brega</td>\n",
              "      <td>Sergio Leone</td>\n",
              "      <td>1</td>\n",
              "    </tr>\n",
              "    <tr>\n",
              "      <th>3</th>\n",
              "      <td>A Nightmare on Elm Street 3: Dream Warriors</td>\n",
              "      <td>1987</td>\n",
              "      <td>Fantasy,Horror</td>\n",
              "      <td>Heather Langenkamp</td>\n",
              "      <td>Robert Englund</td>\n",
              "      <td>Craig Wasson</td>\n",
              "      <td>Patricia Arquette</td>\n",
              "      <td>Chuck Russell</td>\n",
              "      <td>A Nightmare on Elm Street 4: The Dream Master</td>\n",
              "      <td>1988</td>\n",
              "      <td>Horror</td>\n",
              "      <td>Robert Englund</td>\n",
              "      <td>Rodney Eastman</td>\n",
              "      <td>John Beckman</td>\n",
              "      <td>Kisha Brackel</td>\n",
              "      <td>Renny Harlin</td>\n",
              "      <td>1</td>\n",
              "    </tr>\n",
              "    <tr>\n",
              "      <th>5</th>\n",
              "      <td>Ace Ventura: Pet Detective</td>\n",
              "      <td>1994</td>\n",
              "      <td>Comedy</td>\n",
              "      <td>Jim Carrey</td>\n",
              "      <td>Courteney Cox</td>\n",
              "      <td>Sean Young</td>\n",
              "      <td>Tone Loc</td>\n",
              "      <td>Tom Shadyac</td>\n",
              "      <td>Ace Ventura: When Nature Calls</td>\n",
              "      <td>1995</td>\n",
              "      <td>Adventure,Comedy,Crime</td>\n",
              "      <td>Jim Carrey</td>\n",
              "      <td>Ian McNeice</td>\n",
              "      <td>Simon Callow</td>\n",
              "      <td>Maynard Eziashi</td>\n",
              "      <td>Steve Oedekerk</td>\n",
              "      <td>1</td>\n",
              "    </tr>\n",
              "    <tr>\n",
              "      <th>7</th>\n",
              "      <td>Alvin and the Chipmunks</td>\n",
              "      <td>2007</td>\n",
              "      <td>Animation,Comedy,Family</td>\n",
              "      <td>Jason Lee</td>\n",
              "      <td>Ross Bagdasarian Jr.</td>\n",
              "      <td>Janice Karman</td>\n",
              "      <td>David Cross</td>\n",
              "      <td>Tim Hill</td>\n",
              "      <td>Alvin and the Chipmunks: The Squeakquel</td>\n",
              "      <td>2009</td>\n",
              "      <td>Animation,Comedy,Family</td>\n",
              "      <td>Jason Lee</td>\n",
              "      <td>Zachary Levi</td>\n",
              "      <td>David Cross</td>\n",
              "      <td>Justin Long</td>\n",
              "      <td>Betty Thomas</td>\n",
              "      <td>1</td>\n",
              "    </tr>\n",
              "    <tr>\n",
              "      <th>9</th>\n",
              "      <td>Anchorman: The Legend of Ron Burgundy</td>\n",
              "      <td>2004</td>\n",
              "      <td>Comedy</td>\n",
              "      <td>Will Ferrell</td>\n",
              "      <td>Christina Applegate</td>\n",
              "      <td>Steve Carell</td>\n",
              "      <td>Paul Rudd</td>\n",
              "      <td>Adam McKay</td>\n",
              "      <td>Anchorman 2: The Legend Continues</td>\n",
              "      <td>2013</td>\n",
              "      <td>Comedy</td>\n",
              "      <td>Will Ferrell</td>\n",
              "      <td>Christina Applegate</td>\n",
              "      <td>Paul Rudd</td>\n",
              "      <td>Steve Carell</td>\n",
              "      <td>Adam McKay</td>\n",
              "      <td>1</td>\n",
              "    </tr>\n",
              "  </tbody>\n",
              "</table>\n",
              "</div>"
            ],
            "text/plain": [
              "                               fm_primaryTitle  ...  sequel\n",
              "1                         A Fistful of Dollars  ...       1\n",
              "3  A Nightmare on Elm Street 3: Dream Warriors  ...       1\n",
              "5                   Ace Ventura: Pet Detective  ...       1\n",
              "7                      Alvin and the Chipmunks  ...       1\n",
              "9        Anchorman: The Legend of Ron Burgundy  ...       1\n",
              "\n",
              "[5 rows x 17 columns]"
            ]
          },
          "metadata": {
            "tags": []
          },
          "execution_count": 23
        }
      ]
    },
    {
      "cell_type": "code",
      "metadata": {
        "id": "ECy9xKL9Iylg",
        "colab_type": "code",
        "colab": {
          "base_uri": "https://localhost:8080/",
          "height": 281
        },
        "outputId": "27049325-ea4f-4b2e-fe0a-dd3ef8a8f35d"
      },
      "source": [
        "movie_pairs.sequel.value_counts().plot(kind='bar')\n",
        "plt.title('Label counts in the data')\n",
        "plt.grid()"
      ],
      "execution_count": 24,
      "outputs": [
        {
          "output_type": "display_data",
          "data": {
            "image/png": "[encoded data removed]",
            "text/plain": [
              "<Figure size 432x288 with 1 Axes>"
            ]
          },
          "metadata": {
            "tags": []
          }
        }
      ]
    },
    {
      "cell_type": "code",
      "metadata": {
        "id": "keh8WL0Sx0E9",
        "colab_type": "code",
        "colab": {}
      },
      "source": [
        "def get_plot(movie_table):\n",
        "  plot_list = {}\n",
        "  plot_not_found = []\n",
        "  movie_list = np.array(pd.concat([movie_table.fm_primaryTitle, movie_table.s_primaryTitle]))\n",
        "  year_list = np.array(pd.concat([movie_table.fm_startYear, movie_table.s_startYear]))\n",
        "  for movie, year in zip(movie_list, year_list):\n",
        "    if movie not in plot_list and movie not in plot_not_found:\n",
        "      movie_y_f, movie_f = movie + ' (' + str(year) + ' film)', movie + ' (film)'\n",
        "      search1 = wikipedia.search(movie_y_f)[0]\n",
        "      search2 = wikipedia.search(movie_f)[0]\n",
        "      if search1 == movie_y_f:\n",
        "        search = movie_y_f\n",
        "      elif search2 == movie_f:\n",
        "        search = movie_f\n",
        "      else:\n",
        "        search = movie\n",
        "      try:\n",
        "        page = wikipedia.page(search)\n",
        "        plot = page.section(\"Plot\")\n",
        "        if not plot:\n",
        "          plot = page.section(\"Synopsis\")\n",
        "        if not plot:\n",
        "          plot = page.section(\"Plot summary\")\n",
        "        if not plot:\n",
        "          plot = page.section(\"Summary\")\n",
        "        if plot:\n",
        "          plot_list[movie] = plot\n",
        "        else:\n",
        "          plot_not_found.append(movie)\n",
        "          print('plot not found: %s' %movie)\n",
        "      except:\n",
        "          print('movie not found: %s' %movie)\n",
        "          plot_not_found.append(movie)\n",
        "          pass\n",
        "\n",
        "  return plot_list"
      ],
      "execution_count": 0,
      "outputs": []
    },
    {
      "cell_type": "code",
      "metadata": {
        "id": "qsP9mQ-xXwsO",
        "colab_type": "code",
        "colab": {
          "base_uri": "https://localhost:8080/",
          "height": 255
        },
        "outputId": "10d0a701-86b2-4e9b-ef33-e60baf3e05a1"
      },
      "source": [
        "movie_plots = get_plot(movie_pairs)"
      ],
      "execution_count": 26,
      "outputs": [
        {
          "output_type": "stream",
          "text": [
            "plot not found: The Local Stigmatic\n",
            "plot not found: Twilight Zone: The Movie\n",
            "plot not found: A Beautiful Planet\n",
            "plot not found: Mob Girl\n",
            "plot not found: Untitled Lila Neugebauer Project\n",
            "plot not found: Back Door to Hell\n",
            "plot not found: The Shooting\n",
            "plot not found: Hoffa\n",
            "plot not found: The Sound Barrier\n",
            "plot not found: Doctor Zhivago\n",
            "plot not found: Stop Calling Me Baby!\n",
            "plot not found: When Boys Leave Home\n",
            "plot not found: Strauss' Great Waltz\n",
            "movie not found: Untitled Indiana Jones Project\n"
          ],
          "name": "stdout"
        }
      ]
    },
    {
      "cell_type": "code",
      "metadata": {
        "id": "WFxrE6IIlLo-",
        "colab_type": "code",
        "colab": {}
      },
      "source": [
        "documents = list(movie_plots.values())\n",
        "doc_titles = list(movie_plots.keys())"
      ],
      "execution_count": 0,
      "outputs": []
    },
    {
      "cell_type": "code",
      "metadata": {
        "id": "WT5_p1E_MTL7",
        "colab_type": "code",
        "colab": {}
      },
      "source": [
        "movie_pairs = movie_pairs[(movie_pairs.fm_primaryTitle.isin(doc_titles)) & (movie_pairs.s_primaryTitle.isin(doc_titles))].copy()"
      ],
      "execution_count": 0,
      "outputs": []
    },
    {
      "cell_type": "code",
      "metadata": {
        "id": "QmKrAdQq-_Ab",
        "colab_type": "code",
        "colab": {
          "base_uri": "https://localhost:8080/",
          "height": 51
        },
        "outputId": "2644d099-96e9-4476-ee92-4e953971c27a"
      },
      "source": [
        "import string\n",
        "import nltk\n",
        "nltk.download('stopwords')\n",
        "from nltk.corpus import stopwords"
      ],
      "execution_count": 29,
      "outputs": [
        {
          "output_type": "stream",
          "text": [
            "[nltk_data] Downloading package stopwords to /root/nltk_data...\n",
            "[nltk_data]   Unzipping corpora/stopwords.zip.\n"
          ],
          "name": "stdout"
        }
      ]
    },
    {
      "cell_type": "code",
      "metadata": {
        "id": "MdFWlL43AN6y",
        "colab_type": "code",
        "colab": {}
      },
      "source": [
        "stopwords_set = set(stopwords.words('english'))"
      ],
      "execution_count": 0,
      "outputs": []
    },
    {
      "cell_type": "code",
      "metadata": {
        "id": "gVrA1VSO-ido",
        "colab_type": "code",
        "colab": {}
      },
      "source": [
        "def clean_text(document):\n",
        "  document_lower = document.lower() # set everything to lower case\n",
        "  document_no_punctuation = document_lower.translate(str.maketrans('', '', string.punctuation)) # strip all punctuation\n",
        "  words = document_no_punctuation.split()\n",
        "  words_no_stopwords = [word for word in words if word not in stopwords_set]\n",
        "  return words_no_stopwords[0:100]"
      ],
      "execution_count": 0,
      "outputs": []
    },
    {
      "cell_type": "code",
      "metadata": {
        "id": "93CbE04hzC4I",
        "colab_type": "code",
        "colab": {}
      },
      "source": [
        "documents_text = [clean_text(document) for document in documents]"
      ],
      "execution_count": 0,
      "outputs": []
    },
    {
      "cell_type": "code",
      "metadata": {
        "id": "UoIUkdDYlZAE",
        "colab_type": "code",
        "colab": {}
      },
      "source": [
        "from gensim.models.doc2vec import Doc2Vec, TaggedDocument"
      ],
      "execution_count": 0,
      "outputs": []
    },
    {
      "cell_type": "code",
      "metadata": {
        "id": "Nc2WHS46lcE_",
        "colab_type": "code",
        "colab": {}
      },
      "source": [
        "documents_tagged = [TaggedDocument(doc, [doc_titles[i]]) for i, doc in enumerate(documents_text)]\n",
        "model = Doc2Vec(documents_tagged, vector_size=100, window=2, min_count=1, workers=4)"
      ],
      "execution_count": 0,
      "outputs": []
    },
    {
      "cell_type": "code",
      "metadata": {
        "id": "hdQ81zFokodj",
        "colab_type": "code",
        "colab": {
          "base_uri": "https://localhost:8080/",
          "height": 105
        },
        "outputId": "6903a124-bd5c-440f-b282-5ae5a5a2dfda"
      },
      "source": [
        "max_epochs = 100\n",
        "vec_size = 100\n",
        "alpha = 0.025\n",
        "\n",
        "model = Doc2Vec(size=vec_size,\n",
        "                alpha=alpha, \n",
        "                min_alpha=0.00025,\n",
        "                min_count=3,\n",
        "                dm =1)\n",
        "  \n",
        "model.build_vocab(documents_tagged)\n",
        "\n",
        "for epoch in range(max_epochs):\n",
        "    model.train(documents_tagged,\n",
        "                total_examples=model.corpus_count,\n",
        "                epochs=model.iter)\n",
        "    # decrease the learning rate\n",
        "    model.alpha -= 0.0005\n",
        "    # fix the learning rate, no decay\n",
        "    model.min_alpha = model.alpha"
      ],
      "execution_count": 35,
      "outputs": [
        {
          "output_type": "stream",
          "text": [
            "/usr/local/lib/python3.6/dist-packages/gensim/models/doc2vec.py:570: UserWarning: The parameter `size` is deprecated, will be removed in 4.0.0, use `vector_size` instead.\n",
            "  warnings.warn(\"The parameter `size` is deprecated, will be removed in 4.0.0, use `vector_size` instead.\")\n",
            "/usr/local/lib/python3.6/dist-packages/ipykernel_launcher.py:16: DeprecationWarning: Call to deprecated `iter` (Attribute will be removed in 4.0.0, use self.epochs instead).\n",
            "  app.launch_new_instance()\n"
          ],
          "name": "stderr"
        }
      ]
    },
    {
      "cell_type": "code",
      "metadata": {
        "id": "OnSJxB1TlfDY",
        "colab_type": "code",
        "colab": {
          "base_uri": "https://localhost:8080/",
          "height": 374
        },
        "outputId": "193b9c71-27f0-4d7c-90c4-532e372a4518"
      },
      "source": [
        "model.docvecs[0]"
      ],
      "execution_count": 36,
      "outputs": [
        {
          "output_type": "execute_result",
          "data": {
            "text/plain": [
              "array([ 2.349256  , -0.21988516,  0.23429649, -0.88617307,  1.8517584 ,\n",
              "       -3.0003963 ,  1.5591177 , -1.6906604 ,  1.7222111 , -2.5200503 ,\n",
              "       -0.27366546, -2.3143768 , -1.2894224 , -2.0617416 ,  2.543162  ,\n",
              "       -0.33979362, -0.7751409 , -3.841714  , -0.24864803, -0.43414795,\n",
              "       -1.1615303 , -0.32192856, -0.65157074,  1.5506457 ,  0.37263247,\n",
              "        1.0191157 , -2.5106843 ,  3.137963  , -2.1884959 ,  1.522228  ,\n",
              "       -0.6411736 , -1.0300546 ,  2.8786976 , -1.2808517 ,  0.61387056,\n",
              "       -0.87252474,  0.22941537, -0.17603798,  1.1305938 ,  0.8257691 ,\n",
              "        1.3141798 , -2.2655509 ,  1.4606643 ,  0.35729206,  0.8302044 ,\n",
              "        1.4857186 , -0.1650598 , -2.0659125 ,  2.578751  ,  0.17381473,\n",
              "        3.0065181 , -0.7669491 , -0.42619517, -0.17905028, -0.2778238 ,\n",
              "       -1.1822191 ,  1.568716  , -0.5755649 , -0.6413583 ,  1.0246835 ,\n",
              "        2.825339  , -2.7951584 , -0.43203464,  2.1034544 ,  1.7591351 ,\n",
              "       -1.8986143 , -0.24949832,  0.00466724,  2.6941495 , -0.5381916 ,\n",
              "        3.4290373 , -1.1020356 ,  0.5307374 ,  1.094671  , -0.9008242 ,\n",
              "       -1.9169657 ,  2.4979107 , -3.54645   ,  1.5596398 ,  1.0861536 ,\n",
              "        0.8967618 , -0.27892584,  0.14207324,  1.0326288 , -0.8779551 ,\n",
              "        0.1720927 ,  0.9990082 ,  1.0141158 ,  0.15500443,  3.532989  ,\n",
              "       -1.6078753 , -0.9210279 , -1.0097584 , -1.4572201 ,  0.34110537,\n",
              "       -0.25202897,  0.19526029, -0.87168145,  3.1960714 , -1.9015943 ],\n",
              "      dtype=float32)"
            ]
          },
          "metadata": {
            "tags": []
          },
          "execution_count": 36
        }
      ]
    },
    {
      "cell_type": "code",
      "metadata": {
        "id": "-0EaypX3zuX0",
        "colab_type": "code",
        "colab": {
          "base_uri": "https://localhost:8080/",
          "height": 241
        },
        "outputId": "baee4a1e-4087-4a14-e0fa-540ebe068221"
      },
      "source": [
        "model.docvecs.most_similar([model.docvecs[2]])"
      ],
      "execution_count": 37,
      "outputs": [
        {
          "output_type": "stream",
          "text": [
            "/usr/local/lib/python3.6/dist-packages/gensim/matutils.py:737: FutureWarning: Conversion of the second argument of issubdtype from `int` to `np.signedinteger` is deprecated. In future, it will be treated as `np.int64 == np.dtype(int).type`.\n",
            "  if np.issubdtype(vec.dtype, np.int):\n"
          ],
          "name": "stderr"
        },
        {
          "output_type": "execute_result",
          "data": {
            "text/plain": [
              "[('Ace Ventura: Pet Detective', 1.0),\n",
              " ('Ace Ventura: When Nature Calls', 0.6494665145874023),\n",
              " ('Iron Man 3', 0.6270810961723328),\n",
              " ('Rocky III', 0.6244033575057983),\n",
              " ('Friday the 13th Part 2', 0.6190899610519409),\n",
              " ('Toy Story 2', 0.6141645908355713),\n",
              " ('The Adventures of Tintin', 0.6102718710899353),\n",
              " ('Madagascar: Escape 2 Africa', 0.6046427488327026),\n",
              " ('North by Northwest', 0.5954951047897339),\n",
              " ('Rocky II', 0.5850449204444885)]"
            ]
          },
          "metadata": {
            "tags": []
          },
          "execution_count": 37
        }
      ]
    },
    {
      "cell_type": "code",
      "metadata": {
        "id": "TlFG1cDj3MIG",
        "colab_type": "code",
        "colab": {
          "base_uri": "https://localhost:8080/",
          "height": 156
        },
        "outputId": "056aed23-58d1-45c9-f61c-b53dfbf114f2"
      },
      "source": [
        "model.docvecs.most_similar([model.docvecs['Rear Window']], topn = 5)"
      ],
      "execution_count": 38,
      "outputs": [
        {
          "output_type": "stream",
          "text": [
            "/usr/local/lib/python3.6/dist-packages/gensim/matutils.py:737: FutureWarning: Conversion of the second argument of issubdtype from `int` to `np.signedinteger` is deprecated. In future, it will be treated as `np.int64 == np.dtype(int).type`.\n",
            "  if np.issubdtype(vec.dtype, np.int):\n"
          ],
          "name": "stderr"
        },
        {
          "output_type": "execute_result",
          "data": {
            "text/plain": [
              "[('Rear Window', 1.0),\n",
              " ('Elstree Calling', 0.645744264125824),\n",
              " ('Family Plot', 0.6295235753059387),\n",
              " ('The Rebel Rousers', 0.6228655576705933),\n",
              " ('Rocky III', 0.6218955516815186)]"
            ]
          },
          "metadata": {
            "tags": []
          },
          "execution_count": 38
        }
      ]
    },
    {
      "cell_type": "code",
      "metadata": {
        "id": "DmlZ_U8_zL_m",
        "colab_type": "code",
        "colab": {
          "base_uri": "https://localhost:8080/",
          "height": 156
        },
        "outputId": "7d020ea3-d13e-407a-8aaf-d69391d879cb"
      },
      "source": [
        "model.docvecs.most_similar([model.docvecs['Blade Runner']], topn = 5)"
      ],
      "execution_count": 39,
      "outputs": [
        {
          "output_type": "stream",
          "text": [
            "/usr/local/lib/python3.6/dist-packages/gensim/matutils.py:737: FutureWarning: Conversion of the second argument of issubdtype from `int` to `np.signedinteger` is deprecated. In future, it will be treated as `np.int64 == np.dtype(int).type`.\n",
            "  if np.issubdtype(vec.dtype, np.int):\n"
          ],
          "name": "stderr"
        },
        {
          "output_type": "execute_result",
          "data": {
            "text/plain": [
              "[('Blade Runner', 1.0),\n",
              " ('Blade Runner 2049', 0.7435974478721619),\n",
              " ('The Rebel Rousers', 0.6121273636817932),\n",
              " ('Once Upon a Time in Mexico', 0.6033124923706055),\n",
              " ('Strangers on a Train', 0.6020280718803406)]"
            ]
          },
          "metadata": {
            "tags": []
          },
          "execution_count": 39
        }
      ]
    },
    {
      "cell_type": "code",
      "metadata": {
        "id": "f5XJDVvzPs3Q",
        "colab_type": "code",
        "colab": {}
      },
      "source": [
        "from sklearn.metrics.pairwise import cosine_similarity"
      ],
      "execution_count": 0,
      "outputs": []
    },
    {
      "cell_type": "code",
      "metadata": {
        "id": "rJ--SlyFQMPw",
        "colab_type": "code",
        "colab": {
          "base_uri": "https://localhost:8080/",
          "height": 34
        },
        "outputId": "111d87da-cd45-4188-fc6a-b729c4f11db1"
      },
      "source": [
        "cosine_similarity([model.docvecs['Dirty Harry']],[model.docvecs['Magnum Force']])"
      ],
      "execution_count": 41,
      "outputs": [
        {
          "output_type": "execute_result",
          "data": {
            "text/plain": [
              "array([[0.59779024]], dtype=float32)"
            ]
          },
          "metadata": {
            "tags": []
          },
          "execution_count": 41
        }
      ]
    },
    {
      "cell_type": "code",
      "metadata": {
        "id": "t4FNJsDQZQ1A",
        "colab_type": "code",
        "colab": {
          "base_uri": "https://localhost:8080/",
          "height": 34
        },
        "outputId": "1eb61a97-2b87-4b31-80cb-14e25018f4c6"
      },
      "source": [
        "cosine_similarity(np.array([model.docvecs['Dirty Harry']]),np.array([model.docvecs['Magnum Force'], model.docvecs['Sudden Impact']]))"
      ],
      "execution_count": 42,
      "outputs": [
        {
          "output_type": "execute_result",
          "data": {
            "text/plain": [
              "array([[0.59779024, 0.54313093]], dtype=float32)"
            ]
          },
          "metadata": {
            "tags": []
          },
          "execution_count": 42
        }
      ]
    },
    {
      "cell_type": "code",
      "metadata": {
        "id": "Ds50kACQ48YA",
        "colab_type": "code",
        "colab": {}
      },
      "source": [
        "cosine_similarities = cosine_similarity(np.array([model.docvecs[doc_title] for doc_title in doc_titles]))"
      ],
      "execution_count": 0,
      "outputs": []
    },
    {
      "cell_type": "code",
      "metadata": {
        "id": "7rxEQMDL6Hi6",
        "colab_type": "code",
        "colab": {
          "base_uri": "https://localhost:8080/",
          "height": 238
        },
        "outputId": "01c8811b-da47-4add-b293-dace6d91bdfb"
      },
      "source": [
        "cosine_similarities"
      ],
      "execution_count": 44,
      "outputs": [
        {
          "output_type": "execute_result",
          "data": {
            "text/plain": [
              "array([[1.        , 0.39216137, 0.42991537, ..., 0.4325479 , 0.459209  ,\n",
              "        0.40579727],\n",
              "       [0.39216137, 1.0000002 , 0.41471326, ..., 0.46976966, 0.4247681 ,\n",
              "        0.4462865 ],\n",
              "       [0.42991537, 0.41471326, 1.        , ..., 0.49508753, 0.5211688 ,\n",
              "        0.5174062 ],\n",
              "       ...,\n",
              "       [0.4325479 , 0.46976966, 0.49508753, ..., 0.9999999 , 0.4404988 ,\n",
              "        0.42072305],\n",
              "       [0.459209  , 0.4247681 , 0.5211688 , ..., 0.4404988 , 1.0000001 ,\n",
              "        0.5310486 ],\n",
              "       [0.40579727, 0.4462865 , 0.5174062 , ..., 0.42072305, 0.5310486 ,\n",
              "        0.99999994]], dtype=float32)"
            ]
          },
          "metadata": {
            "tags": []
          },
          "execution_count": 44
        }
      ]
    },
    {
      "cell_type": "code",
      "metadata": {
        "id": "y7PtMFc2F4CM",
        "colab_type": "code",
        "colab": {
          "base_uri": "https://localhost:8080/",
          "height": 377
        },
        "outputId": "b930291e-de32-4a12-a19d-f41b59f3e7c9"
      },
      "source": [
        "movie_pairs.head()"
      ],
      "execution_count": 45,
      "outputs": [
        {
          "output_type": "execute_result",
          "data": {
            "text/html": [
              "<div>\n",
              "<style scoped>\n",
              "    .dataframe tbody tr th:only-of-type {\n",
              "        vertical-align: middle;\n",
              "    }\n",
              "\n",
              "    .dataframe tbody tr th {\n",
              "        vertical-align: top;\n",
              "    }\n",
              "\n",
              "    .dataframe thead th {\n",
              "        text-align: right;\n",
              "    }\n",
              "</style>\n",
              "<table border=\"1\" class=\"dataframe\">\n",
              "  <thead>\n",
              "    <tr style=\"text-align: right;\">\n",
              "      <th></th>\n",
              "      <th>fm_primaryTitle</th>\n",
              "      <th>fm_startYear</th>\n",
              "      <th>fm_genres</th>\n",
              "      <th>fm_act1</th>\n",
              "      <th>fm_act2</th>\n",
              "      <th>fm_act3</th>\n",
              "      <th>fm_act4</th>\n",
              "      <th>fm_dir5</th>\n",
              "      <th>s_primaryTitle</th>\n",
              "      <th>s_startYear</th>\n",
              "      <th>s_genres</th>\n",
              "      <th>s_act1</th>\n",
              "      <th>s_act2</th>\n",
              "      <th>s_act3</th>\n",
              "      <th>s_act4</th>\n",
              "      <th>s_dir5</th>\n",
              "      <th>sequel</th>\n",
              "    </tr>\n",
              "  </thead>\n",
              "  <tbody>\n",
              "    <tr>\n",
              "      <th>1</th>\n",
              "      <td>A Fistful of Dollars</td>\n",
              "      <td>1964</td>\n",
              "      <td>Drama,Western</td>\n",
              "      <td>Clint Eastwood</td>\n",
              "      <td>Gian Maria Volontè</td>\n",
              "      <td>Marianne Koch</td>\n",
              "      <td>Wolfgang Lukschy</td>\n",
              "      <td>Sergio Leone</td>\n",
              "      <td>For a Few Dollars More</td>\n",
              "      <td>1965</td>\n",
              "      <td>Western</td>\n",
              "      <td>Clint Eastwood</td>\n",
              "      <td>Lee Van Cleef</td>\n",
              "      <td>Gian Maria Volontè</td>\n",
              "      <td>Mario Brega</td>\n",
              "      <td>Sergio Leone</td>\n",
              "      <td>1</td>\n",
              "    </tr>\n",
              "    <tr>\n",
              "      <th>3</th>\n",
              "      <td>A Nightmare on Elm Street 3: Dream Warriors</td>\n",
              "      <td>1987</td>\n",
              "      <td>Fantasy,Horror</td>\n",
              "      <td>Heather Langenkamp</td>\n",
              "      <td>Robert Englund</td>\n",
              "      <td>Craig Wasson</td>\n",
              "      <td>Patricia Arquette</td>\n",
              "      <td>Chuck Russell</td>\n",
              "      <td>A Nightmare on Elm Street 4: The Dream Master</td>\n",
              "      <td>1988</td>\n",
              "      <td>Horror</td>\n",
              "      <td>Robert Englund</td>\n",
              "      <td>Rodney Eastman</td>\n",
              "      <td>John Beckman</td>\n",
              "      <td>Kisha Brackel</td>\n",
              "      <td>Renny Harlin</td>\n",
              "      <td>1</td>\n",
              "    </tr>\n",
              "    <tr>\n",
              "      <th>5</th>\n",
              "      <td>Ace Ventura: Pet Detective</td>\n",
              "      <td>1994</td>\n",
              "      <td>Comedy</td>\n",
              "      <td>Jim Carrey</td>\n",
              "      <td>Courteney Cox</td>\n",
              "      <td>Sean Young</td>\n",
              "      <td>Tone Loc</td>\n",
              "      <td>Tom Shadyac</td>\n",
              "      <td>Ace Ventura: When Nature Calls</td>\n",
              "      <td>1995</td>\n",
              "      <td>Adventure,Comedy,Crime</td>\n",
              "      <td>Jim Carrey</td>\n",
              "      <td>Ian McNeice</td>\n",
              "      <td>Simon Callow</td>\n",
              "      <td>Maynard Eziashi</td>\n",
              "      <td>Steve Oedekerk</td>\n",
              "      <td>1</td>\n",
              "    </tr>\n",
              "    <tr>\n",
              "      <th>7</th>\n",
              "      <td>Alvin and the Chipmunks</td>\n",
              "      <td>2007</td>\n",
              "      <td>Animation,Comedy,Family</td>\n",
              "      <td>Jason Lee</td>\n",
              "      <td>Ross Bagdasarian Jr.</td>\n",
              "      <td>Janice Karman</td>\n",
              "      <td>David Cross</td>\n",
              "      <td>Tim Hill</td>\n",
              "      <td>Alvin and the Chipmunks: The Squeakquel</td>\n",
              "      <td>2009</td>\n",
              "      <td>Animation,Comedy,Family</td>\n",
              "      <td>Jason Lee</td>\n",
              "      <td>Zachary Levi</td>\n",
              "      <td>David Cross</td>\n",
              "      <td>Justin Long</td>\n",
              "      <td>Betty Thomas</td>\n",
              "      <td>1</td>\n",
              "    </tr>\n",
              "    <tr>\n",
              "      <th>9</th>\n",
              "      <td>Anchorman: The Legend of Ron Burgundy</td>\n",
              "      <td>2004</td>\n",
              "      <td>Comedy</td>\n",
              "      <td>Will Ferrell</td>\n",
              "      <td>Christina Applegate</td>\n",
              "      <td>Steve Carell</td>\n",
              "      <td>Paul Rudd</td>\n",
              "      <td>Adam McKay</td>\n",
              "      <td>Anchorman 2: The Legend Continues</td>\n",
              "      <td>2013</td>\n",
              "      <td>Comedy</td>\n",
              "      <td>Will Ferrell</td>\n",
              "      <td>Christina Applegate</td>\n",
              "      <td>Paul Rudd</td>\n",
              "      <td>Steve Carell</td>\n",
              "      <td>Adam McKay</td>\n",
              "      <td>1</td>\n",
              "    </tr>\n",
              "  </tbody>\n",
              "</table>\n",
              "</div>"
            ],
            "text/plain": [
              "                               fm_primaryTitle  ...  sequel\n",
              "1                         A Fistful of Dollars  ...       1\n",
              "3  A Nightmare on Elm Street 3: Dream Warriors  ...       1\n",
              "5                   Ace Ventura: Pet Detective  ...       1\n",
              "7                      Alvin and the Chipmunks  ...       1\n",
              "9        Anchorman: The Legend of Ron Burgundy  ...       1\n",
              "\n",
              "[5 rows x 17 columns]"
            ]
          },
          "metadata": {
            "tags": []
          },
          "execution_count": 45
        }
      ]
    },
    {
      "cell_type": "code",
      "metadata": {
        "id": "0FUHg5QQD_la",
        "colab_type": "code",
        "colab": {}
      },
      "source": [
        "title_to_index = {}\n",
        "for index, doc_title in enumerate(doc_titles):\n",
        "  title_to_index[doc_title] = index"
      ],
      "execution_count": 0,
      "outputs": []
    },
    {
      "cell_type": "code",
      "metadata": {
        "id": "ei8kgz8rFyLe",
        "colab_type": "code",
        "colab": {}
      },
      "source": [
        "fm_index = np.array(movie_pairs.fm_primaryTitle.map(title_to_index))\n",
        "s_index = np.array(movie_pairs.s_primaryTitle.map(title_to_index))\n",
        "\n",
        "\n",
        "movie_pairs['plot_cosine'] = cosine_similarities[fm_index,s_index]"
      ],
      "execution_count": 0,
      "outputs": []
    },
    {
      "cell_type": "code",
      "metadata": {
        "id": "tCZfm5EcL9IT",
        "colab_type": "code",
        "colab": {
          "base_uri": "https://localhost:8080/",
          "height": 377
        },
        "outputId": "343476e6-1fdf-481b-dabf-d18bb6c4aeff"
      },
      "source": [
        "movie_pairs.head()"
      ],
      "execution_count": 48,
      "outputs": [
        {
          "output_type": "execute_result",
          "data": {
            "text/html": [
              "<div>\n",
              "<style scoped>\n",
              "    .dataframe tbody tr th:only-of-type {\n",
              "        vertical-align: middle;\n",
              "    }\n",
              "\n",
              "    .dataframe tbody tr th {\n",
              "        vertical-align: top;\n",
              "    }\n",
              "\n",
              "    .dataframe thead th {\n",
              "        text-align: right;\n",
              "    }\n",
              "</style>\n",
              "<table border=\"1\" class=\"dataframe\">\n",
              "  <thead>\n",
              "    <tr style=\"text-align: right;\">\n",
              "      <th></th>\n",
              "      <th>fm_primaryTitle</th>\n",
              "      <th>fm_startYear</th>\n",
              "      <th>fm_genres</th>\n",
              "      <th>fm_act1</th>\n",
              "      <th>fm_act2</th>\n",
              "      <th>fm_act3</th>\n",
              "      <th>fm_act4</th>\n",
              "      <th>fm_dir5</th>\n",
              "      <th>s_primaryTitle</th>\n",
              "      <th>s_startYear</th>\n",
              "      <th>s_genres</th>\n",
              "      <th>s_act1</th>\n",
              "      <th>s_act2</th>\n",
              "      <th>s_act3</th>\n",
              "      <th>s_act4</th>\n",
              "      <th>s_dir5</th>\n",
              "      <th>sequel</th>\n",
              "      <th>plot_cosine</th>\n",
              "    </tr>\n",
              "  </thead>\n",
              "  <tbody>\n",
              "    <tr>\n",
              "      <th>1</th>\n",
              "      <td>A Fistful of Dollars</td>\n",
              "      <td>1964</td>\n",
              "      <td>Drama,Western</td>\n",
              "      <td>Clint Eastwood</td>\n",
              "      <td>Gian Maria Volontè</td>\n",
              "      <td>Marianne Koch</td>\n",
              "      <td>Wolfgang Lukschy</td>\n",
              "      <td>Sergio Leone</td>\n",
              "      <td>For a Few Dollars More</td>\n",
              "      <td>1965</td>\n",
              "      <td>Western</td>\n",
              "      <td>Clint Eastwood</td>\n",
              "      <td>Lee Van Cleef</td>\n",
              "      <td>Gian Maria Volontè</td>\n",
              "      <td>Mario Brega</td>\n",
              "      <td>Sergio Leone</td>\n",
              "      <td>1</td>\n",
              "      <td>0.566204</td>\n",
              "    </tr>\n",
              "    <tr>\n",
              "      <th>3</th>\n",
              "      <td>A Nightmare on Elm Street 3: Dream Warriors</td>\n",
              "      <td>1987</td>\n",
              "      <td>Fantasy,Horror</td>\n",
              "      <td>Heather Langenkamp</td>\n",
              "      <td>Robert Englund</td>\n",
              "      <td>Craig Wasson</td>\n",
              "      <td>Patricia Arquette</td>\n",
              "      <td>Chuck Russell</td>\n",
              "      <td>A Nightmare on Elm Street 4: The Dream Master</td>\n",
              "      <td>1988</td>\n",
              "      <td>Horror</td>\n",
              "      <td>Robert Englund</td>\n",
              "      <td>Rodney Eastman</td>\n",
              "      <td>John Beckman</td>\n",
              "      <td>Kisha Brackel</td>\n",
              "      <td>Renny Harlin</td>\n",
              "      <td>1</td>\n",
              "      <td>0.799719</td>\n",
              "    </tr>\n",
              "    <tr>\n",
              "      <th>5</th>\n",
              "      <td>Ace Ventura: Pet Detective</td>\n",
              "      <td>1994</td>\n",
              "      <td>Comedy</td>\n",
              "      <td>Jim Carrey</td>\n",
              "      <td>Courteney Cox</td>\n",
              "      <td>Sean Young</td>\n",
              "      <td>Tone Loc</td>\n",
              "      <td>Tom Shadyac</td>\n",
              "      <td>Ace Ventura: When Nature Calls</td>\n",
              "      <td>1995</td>\n",
              "      <td>Adventure,Comedy,Crime</td>\n",
              "      <td>Jim Carrey</td>\n",
              "      <td>Ian McNeice</td>\n",
              "      <td>Simon Callow</td>\n",
              "      <td>Maynard Eziashi</td>\n",
              "      <td>Steve Oedekerk</td>\n",
              "      <td>1</td>\n",
              "      <td>0.649466</td>\n",
              "    </tr>\n",
              "    <tr>\n",
              "      <th>7</th>\n",
              "      <td>Alvin and the Chipmunks</td>\n",
              "      <td>2007</td>\n",
              "      <td>Animation,Comedy,Family</td>\n",
              "      <td>Jason Lee</td>\n",
              "      <td>Ross Bagdasarian Jr.</td>\n",
              "      <td>Janice Karman</td>\n",
              "      <td>David Cross</td>\n",
              "      <td>Tim Hill</td>\n",
              "      <td>Alvin and the Chipmunks: The Squeakquel</td>\n",
              "      <td>2009</td>\n",
              "      <td>Animation,Comedy,Family</td>\n",
              "      <td>Jason Lee</td>\n",
              "      <td>Zachary Levi</td>\n",
              "      <td>David Cross</td>\n",
              "      <td>Justin Long</td>\n",
              "      <td>Betty Thomas</td>\n",
              "      <td>1</td>\n",
              "      <td>0.744227</td>\n",
              "    </tr>\n",
              "    <tr>\n",
              "      <th>9</th>\n",
              "      <td>Anchorman: The Legend of Ron Burgundy</td>\n",
              "      <td>2004</td>\n",
              "      <td>Comedy</td>\n",
              "      <td>Will Ferrell</td>\n",
              "      <td>Christina Applegate</td>\n",
              "      <td>Steve Carell</td>\n",
              "      <td>Paul Rudd</td>\n",
              "      <td>Adam McKay</td>\n",
              "      <td>Anchorman 2: The Legend Continues</td>\n",
              "      <td>2013</td>\n",
              "      <td>Comedy</td>\n",
              "      <td>Will Ferrell</td>\n",
              "      <td>Christina Applegate</td>\n",
              "      <td>Paul Rudd</td>\n",
              "      <td>Steve Carell</td>\n",
              "      <td>Adam McKay</td>\n",
              "      <td>1</td>\n",
              "      <td>0.785509</td>\n",
              "    </tr>\n",
              "  </tbody>\n",
              "</table>\n",
              "</div>"
            ],
            "text/plain": [
              "                               fm_primaryTitle  ...  plot_cosine\n",
              "1                         A Fistful of Dollars  ...     0.566204\n",
              "3  A Nightmare on Elm Street 3: Dream Warriors  ...     0.799719\n",
              "5                   Ace Ventura: Pet Detective  ...     0.649466\n",
              "7                      Alvin and the Chipmunks  ...     0.744227\n",
              "9        Anchorman: The Legend of Ron Burgundy  ...     0.785509\n",
              "\n",
              "[5 rows x 18 columns]"
            ]
          },
          "metadata": {
            "tags": []
          },
          "execution_count": 48
        }
      ]
    },
    {
      "cell_type": "code",
      "metadata": {
        "id": "3m78fKlLWd2s",
        "colab_type": "code",
        "colab": {}
      },
      "source": [
        "def sim_score(l1, l2):\n",
        "  differences = 0\n",
        "  if len(l2)>len(l1):\n",
        "    l1,l2 = l2,l1\n",
        "  for word in l1:\n",
        "    if word in l2:\n",
        "      l2.remove(word)\n",
        "    else:\n",
        "      differences += 1\n",
        "  return (len(l1) - differences)/len(l1)\n",
        "\n",
        "def sim_cast(x):\n",
        "  score = 0\n",
        "  dir1 = x.fm_dir5\n",
        "  dir2 = x.s_dir5\n",
        "  cast1 = [x.fm_act1, x.fm_act2, x.fm_act3, x.fm_act4]\n",
        "  cast2 = [x.s_act1, x.s_act2, x.s_act3, x.s_act4]\n",
        "  if dir1 == dir2:\n",
        "    score += 2\n",
        "  for i, actor in enumerate(cast1):\n",
        "    if actor in cast2:\n",
        "      score += 0.5\n",
        "    if actor == cast2[i]:\n",
        "      score += 0.5\n",
        "  return score"
      ],
      "execution_count": 0,
      "outputs": []
    },
    {
      "cell_type": "code",
      "metadata": {
        "id": "8pv3iNuTZyiy",
        "colab_type": "code",
        "colab": {}
      },
      "source": [
        "movie_pairs['title_sim_score'] = movie_pairs.apply(lambda x: sim_score(x.fm_primaryTitle.lower().split(), x.s_primaryTitle.lower().split()), axis = 1)\n",
        "movie_pairs['genre_sim_score'] = movie_pairs.apply(lambda x: sim_score(x.fm_genres.lower().split(','), x.s_genres.lower().split(',')), axis = 1)\n",
        "movie_pairs['cast_sim_score'] = movie_pairs.apply(lambda x: sim_cast(x), axis = 1)\n",
        "movie_pairs['year_diff'] = movie_pairs.s_startYear - movie_pairs.fm_startYear"
      ],
      "execution_count": 0,
      "outputs": []
    },
    {
      "cell_type": "code",
      "metadata": {
        "id": "eIj1LlXDaX9r",
        "colab_type": "code",
        "colab": {
          "base_uri": "https://localhost:8080/",
          "height": 377
        },
        "outputId": "f3e5bdce-e8ad-40b1-b45b-fb7784e3ddfa"
      },
      "source": [
        "movie_pairs.head()"
      ],
      "execution_count": 58,
      "outputs": [
        {
          "output_type": "execute_result",
          "data": {
            "text/html": [
              "<div>\n",
              "<style scoped>\n",
              "    .dataframe tbody tr th:only-of-type {\n",
              "        vertical-align: middle;\n",
              "    }\n",
              "\n",
              "    .dataframe tbody tr th {\n",
              "        vertical-align: top;\n",
              "    }\n",
              "\n",
              "    .dataframe thead th {\n",
              "        text-align: right;\n",
              "    }\n",
              "</style>\n",
              "<table border=\"1\" class=\"dataframe\">\n",
              "  <thead>\n",
              "    <tr style=\"text-align: right;\">\n",
              "      <th></th>\n",
              "      <th>fm_primaryTitle</th>\n",
              "      <th>fm_startYear</th>\n",
              "      <th>fm_genres</th>\n",
              "      <th>fm_act1</th>\n",
              "      <th>fm_act2</th>\n",
              "      <th>fm_act3</th>\n",
              "      <th>fm_act4</th>\n",
              "      <th>fm_dir5</th>\n",
              "      <th>s_primaryTitle</th>\n",
              "      <th>s_startYear</th>\n",
              "      <th>s_genres</th>\n",
              "      <th>s_act1</th>\n",
              "      <th>s_act2</th>\n",
              "      <th>s_act3</th>\n",
              "      <th>s_act4</th>\n",
              "      <th>s_dir5</th>\n",
              "      <th>sequel</th>\n",
              "      <th>plot_cosine</th>\n",
              "      <th>title_sim_score</th>\n",
              "      <th>genre_sim_score</th>\n",
              "      <th>year_diff</th>\n",
              "      <th>cast_sim_score</th>\n",
              "    </tr>\n",
              "  </thead>\n",
              "  <tbody>\n",
              "    <tr>\n",
              "      <th>1</th>\n",
              "      <td>A Fistful of Dollars</td>\n",
              "      <td>1964</td>\n",
              "      <td>Drama,Western</td>\n",
              "      <td>Clint Eastwood</td>\n",
              "      <td>Gian Maria Volontè</td>\n",
              "      <td>Marianne Koch</td>\n",
              "      <td>Wolfgang Lukschy</td>\n",
              "      <td>Sergio Leone</td>\n",
              "      <td>For a Few Dollars More</td>\n",
              "      <td>1965</td>\n",
              "      <td>Western</td>\n",
              "      <td>Clint Eastwood</td>\n",
              "      <td>Lee Van Cleef</td>\n",
              "      <td>Gian Maria Volontè</td>\n",
              "      <td>Mario Brega</td>\n",
              "      <td>Sergio Leone</td>\n",
              "      <td>1</td>\n",
              "      <td>0.566204</td>\n",
              "      <td>0.400000</td>\n",
              "      <td>0.500000</td>\n",
              "      <td>1</td>\n",
              "      <td>3.5</td>\n",
              "    </tr>\n",
              "    <tr>\n",
              "      <th>3</th>\n",
              "      <td>A Nightmare on Elm Street 3: Dream Warriors</td>\n",
              "      <td>1987</td>\n",
              "      <td>Fantasy,Horror</td>\n",
              "      <td>Heather Langenkamp</td>\n",
              "      <td>Robert Englund</td>\n",
              "      <td>Craig Wasson</td>\n",
              "      <td>Patricia Arquette</td>\n",
              "      <td>Chuck Russell</td>\n",
              "      <td>A Nightmare on Elm Street 4: The Dream Master</td>\n",
              "      <td>1988</td>\n",
              "      <td>Horror</td>\n",
              "      <td>Robert Englund</td>\n",
              "      <td>Rodney Eastman</td>\n",
              "      <td>John Beckman</td>\n",
              "      <td>Kisha Brackel</td>\n",
              "      <td>Renny Harlin</td>\n",
              "      <td>1</td>\n",
              "      <td>0.799719</td>\n",
              "      <td>0.666667</td>\n",
              "      <td>0.500000</td>\n",
              "      <td>1</td>\n",
              "      <td>0.5</td>\n",
              "    </tr>\n",
              "    <tr>\n",
              "      <th>5</th>\n",
              "      <td>Ace Ventura: Pet Detective</td>\n",
              "      <td>1994</td>\n",
              "      <td>Comedy</td>\n",
              "      <td>Jim Carrey</td>\n",
              "      <td>Courteney Cox</td>\n",
              "      <td>Sean Young</td>\n",
              "      <td>Tone Loc</td>\n",
              "      <td>Tom Shadyac</td>\n",
              "      <td>Ace Ventura: When Nature Calls</td>\n",
              "      <td>1995</td>\n",
              "      <td>Adventure,Comedy,Crime</td>\n",
              "      <td>Jim Carrey</td>\n",
              "      <td>Ian McNeice</td>\n",
              "      <td>Simon Callow</td>\n",
              "      <td>Maynard Eziashi</td>\n",
              "      <td>Steve Oedekerk</td>\n",
              "      <td>1</td>\n",
              "      <td>0.649466</td>\n",
              "      <td>0.400000</td>\n",
              "      <td>0.333333</td>\n",
              "      <td>1</td>\n",
              "      <td>1.0</td>\n",
              "    </tr>\n",
              "    <tr>\n",
              "      <th>7</th>\n",
              "      <td>Alvin and the Chipmunks</td>\n",
              "      <td>2007</td>\n",
              "      <td>Animation,Comedy,Family</td>\n",
              "      <td>Jason Lee</td>\n",
              "      <td>Ross Bagdasarian Jr.</td>\n",
              "      <td>Janice Karman</td>\n",
              "      <td>David Cross</td>\n",
              "      <td>Tim Hill</td>\n",
              "      <td>Alvin and the Chipmunks: The Squeakquel</td>\n",
              "      <td>2009</td>\n",
              "      <td>Animation,Comedy,Family</td>\n",
              "      <td>Jason Lee</td>\n",
              "      <td>Zachary Levi</td>\n",
              "      <td>David Cross</td>\n",
              "      <td>Justin Long</td>\n",
              "      <td>Betty Thomas</td>\n",
              "      <td>1</td>\n",
              "      <td>0.744227</td>\n",
              "      <td>0.500000</td>\n",
              "      <td>1.000000</td>\n",
              "      <td>2</td>\n",
              "      <td>1.5</td>\n",
              "    </tr>\n",
              "    <tr>\n",
              "      <th>9</th>\n",
              "      <td>Anchorman: The Legend of Ron Burgundy</td>\n",
              "      <td>2004</td>\n",
              "      <td>Comedy</td>\n",
              "      <td>Will Ferrell</td>\n",
              "      <td>Christina Applegate</td>\n",
              "      <td>Steve Carell</td>\n",
              "      <td>Paul Rudd</td>\n",
              "      <td>Adam McKay</td>\n",
              "      <td>Anchorman 2: The Legend Continues</td>\n",
              "      <td>2013</td>\n",
              "      <td>Comedy</td>\n",
              "      <td>Will Ferrell</td>\n",
              "      <td>Christina Applegate</td>\n",
              "      <td>Paul Rudd</td>\n",
              "      <td>Steve Carell</td>\n",
              "      <td>Adam McKay</td>\n",
              "      <td>1</td>\n",
              "      <td>0.785509</td>\n",
              "      <td>0.333333</td>\n",
              "      <td>1.000000</td>\n",
              "      <td>9</td>\n",
              "      <td>5.0</td>\n",
              "    </tr>\n",
              "  </tbody>\n",
              "</table>\n",
              "</div>"
            ],
            "text/plain": [
              "                               fm_primaryTitle  ...  cast_sim_score\n",
              "1                         A Fistful of Dollars  ...             3.5\n",
              "3  A Nightmare on Elm Street 3: Dream Warriors  ...             0.5\n",
              "5                   Ace Ventura: Pet Detective  ...             1.0\n",
              "7                      Alvin and the Chipmunks  ...             1.5\n",
              "9        Anchorman: The Legend of Ron Burgundy  ...             5.0\n",
              "\n",
              "[5 rows x 22 columns]"
            ]
          },
          "metadata": {
            "tags": []
          },
          "execution_count": 58
        }
      ]
    },
    {
      "cell_type": "code",
      "metadata": {
        "id": "Qi1YD2oXwT0z",
        "colab_type": "code",
        "colab": {}
      },
      "source": [
        "import seaborn as sns"
      ],
      "execution_count": 0,
      "outputs": []
    },
    {
      "cell_type": "code",
      "metadata": {
        "id": "02-6g1Bdxc9X",
        "colab_type": "code",
        "colab": {
          "base_uri": "https://localhost:8080/",
          "height": 902
        },
        "outputId": "8ecbc562-f617-4368-ed62-23e38b0054c2"
      },
      "source": [
        "plot_pairs = movie_pairs[movie_pairs.sequel>=0]\n",
        "g = sns.PairGrid(plot_pairs, hue=\"sequel\", vars = ['title_sim_score','genre_sim_score','cast_sim_score','year_diff','plot_cosine'])\n",
        "g = g.map_diag(plt.hist, alpha = 0.7)\n",
        "g = g.map_offdiag(plt.scatter, alpha = 0.7)\n",
        "g = g.add_legend()\n",
        "g.fig.subplots_adjust(top=0.95)\n",
        "g.fig.suptitle('Distribution of the score variables for sequel and non-sequel movies', fontsize=16)\n",
        "plt.show()"
      ],
      "execution_count": 124,
      "outputs": [
        {
          "output_type": "display_data",
          "data": {
            "image/png": "[encoded data removed]",
            "text/plain": [
              "<Figure size 937.305x900 with 30 Axes>"
            ]
          },
          "metadata": {
            "tags": []
          }
        }
      ]
    },
    {
      "cell_type": "code",
      "metadata": {
        "id": "16rOZOtizLx_",
        "colab_type": "code",
        "colab": {}
      },
      "source": [
        ""
      ],
      "execution_count": 0,
      "outputs": []
    }
  ]
}